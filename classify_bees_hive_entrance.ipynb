{
 "cells": [
  {
   "cell_type": "markdown",
   "metadata": {},
   "source": [
    "# Erkennung von Bienen am Ausgang des Bienenstocks"
   ]
  },
  {
   "cell_type": "markdown",
   "metadata": {},
   "source": [
    "### Global Configuration Settings"
   ]
  },
  {
   "cell_type": "code",
   "execution_count": 1,
   "metadata": {
    "ExecuteTime": {
     "end_time": "2019-03-21T15:00:08.143571Z",
     "start_time": "2019-03-21T15:00:08.133611Z"
    },
    "collapsed": true
   },
   "outputs": [],
   "source": [
    "config = dict(\n",
    "    tag_pixel_diameter=50,\n",
    "    n_frames=None,\n",
    "    confidence_filter_detections=0.08,\n",
    "    confidence_filter_tracks=0.20,\n",
    "    coordinate_scale=1.0,\n",
    "    start_time=None,\n",
    "    fps=10.0,\n",
    "    cam_id=0,\n",
    "    videos_dir = \"../videos/videos_tags/\",\n",
    "    left_leaving_area = 0.3, # Prozente vom Bildschirmrand, zB. bei 1000px und 0.15 -> 0-150px\n",
    "    right_leaving_area = 0.3,\n",
    "    px_x_resolution_vid = 1944,\n",
    "    px_y_resolution_vid = 388,\n",
    "    localizer_threshold=\"0.50\"\n",
    ")"
   ]
  },
  {
   "cell_type": "markdown",
   "metadata": {
    "ExecuteTime": {
     "end_time": "2019-03-21T15:09:24.584898Z",
     "start_time": "2019-03-21T15:02:20.725Z"
    }
   },
   "source": [
    "### Import all libraries"
   ]
  },
  {
   "cell_type": "code",
   "execution_count": 2,
   "metadata": {
    "ExecuteTime": {
     "end_time": "2019-03-21T15:00:10.523346Z",
     "start_time": "2019-03-21T15:00:08.145887Z"
    }
   },
   "outputs": [
    {
     "name": "stdout",
     "output_type": "stream",
     "text": [
      "env: KERAS_BACKEND=theano\n",
      "env: THEANO_FLAGS=floatX=float32,device=cpu\n"
     ]
    },
    {
     "name": "stderr",
     "output_type": "stream",
     "text": [
      "Using Theano backend.\n",
      "/home/tscho/anaconda3/lib/python3.6/site-packages/sklearn/ensemble/weight_boosting.py:29: DeprecationWarning: numpy.core.umath_tests is an internal NumPy module and should not be imported. It will be removed in a future NumPy release.\n",
      "  from numpy.core.umath_tests import inner1d\n"
     ]
    }
   ],
   "source": [
    "\n",
    "%env KERAS_BACKEND=theano\n",
    "%env THEANO_FLAGS=floatX=float32,device=cpu\n",
    "\n",
    "%load_ext autoreload\n",
    "%autoreload 1\n",
    "%aimport bb_behavior\n",
    "%aimport bb_behavior.plot\n",
    "%aimport bb_behavior.tracking\n",
    "%aimport bb_behavior.tracking.pipeline\n",
    "\n",
    "import bb_behavior\n",
    "import bb_behavior.plot\n",
    "import bb_behavior.tracking\n",
    "import bb_behavior.tracking.pipeline\n",
    "\n",
    "import time\n",
    "import datetime\n",
    "\n",
    "import os\n",
    "import glob\n",
    "\n",
    "from tqdm import tqdm_notebook # progress bar\n",
    "\n",
    "import sys\n",
    "import math\n",
    "from math import pi\n",
    "import numpy as np\n",
    "import pandas as pd\n",
    "\n",
    "from itertools import chain, combinations\n",
    "import random\n",
    "\n",
    "from bb_tracking.data.constants import DETKEY\n",
    "#from bb_tracking.tracking import score_id_sim_v\n",
    "from bb_tracking.tracking import distance_orientations_v, distance_positions_v\n",
    "from bb_behavior.tracking.pipeline import detect_markers_in_video\n",
    "from bb_behavior.tracking.pipeline import track_detections_dataframe\n",
    "from bb_behavior.tracking.pipeline import display_tracking_results\n",
    "from bb_behavior.tracking.pipeline import get_default_pipeline\n",
    "\n",
    "from sklearn.metrics import confusion_matrix\n",
    "from sklearn.metrics import accuracy_score\n",
    "from sklearn.model_selection import train_test_split\n",
    "from sklearn.ensemble import ExtraTreesClassifier\n",
    "from sklearn.ensemble import RandomForestClassifier\n",
    "from sklearn.linear_model import LogisticRegression\n",
    "from sklearn.feature_selection import SelectKBest\n",
    "from sklearn.feature_selection import chi2\n",
    "from sklearn.feature_selection import f_classif\n",
    "from sklearn.feature_selection import mutual_info_classif\n",
    "from sklearn.preprocessing import normalize as sklearn_normalize\n",
    "\n",
    "import matplotlib.pyplot as plt\n"
   ]
  },
  {
   "cell_type": "markdown",
   "metadata": {},
   "source": [
    "### Helper Functions"
   ]
  },
  {
   "cell_type": "code",
   "execution_count": 3,
   "metadata": {
    "ExecuteTime": {
     "end_time": "2019-03-21T15:00:10.613267Z",
     "start_time": "2019-03-21T15:00:10.526239Z"
    },
    "code_folding": [
     7
    ],
    "collapsed": true
   },
   "outputs": [],
   "source": [
    "def filename_to_datestring(filname):\n",
    "    \"\"\"\n",
    "    filename can be path\n",
    "    \"\"\"\n",
    "    return os.path.split(filname)[-1].split('.')[0].split('_')[1]\n",
    "\n",
    "def datestring_to_filename(datestring, prefix=\"e00_\"):\n",
    "    return config[\"videos_dir\"] + prefix + datestring + \".h264\"\n",
    "\n",
    "def string_to_timestamp(datestring):\n",
    "    \"\"\" \n",
    "    params\n",
    "        string: format 2018-08-19-01-08-13\n",
    "    output\n",
    "        unix timestamp (float)\n",
    "    \"\"\"\n",
    "    \n",
    "    return time.mktime(time.strptime(datestring, \"%Y-%m-%d-%H-%M-%S\"))\n",
    "\n",
    "def timestamp_to_string(timestamp):\n",
    "    return time.strftime(\"%Y-%m-%d-%H-%M-%S\", time.localtime(timestamp))\n",
    "\n",
    "# get all videos between timestamp_in and timestamp_out\n",
    "def get_videos_between(timestamp_in, timestamp_out, all_paths):\n",
    "    \"\"\" returns all video between timestamp_in and timestamp out (inclusive) \"\"\"\n",
    "    \n",
    "    mask = (all_paths['video'] >= timestamp_in) & (all_paths['video'] <= timestamp_out)\n",
    "    return list(all_paths[mask]['video'])\n",
    "\n",
    "def loadGTD(path):\n",
    "    # read in the test data csv\n",
    "    test_data = pd.read_csv(path)\n",
    "\n",
    "    # convert the full filenames to string timestamps, and sort by timestamp_in\n",
    "    test_data['video'] = test_data['video'].apply(lambda x: filename_to_datestring(x))\n",
    "    test_data['video_start_time'] = test_data['timestamp_in'].apply(lambda x: filename_to_datestring(x))\n",
    "    test_data['video_end_time'] = test_data['timestamp_out'].apply(lambda x: filename_to_datestring(x))\n",
    "    test_data.sort_values(['video_start_time'], inplace=True)\n",
    "\n",
    "    test_data.drop('timestamp_in', 1, inplace=True)\n",
    "    test_data.drop('timestamp_out', 1, inplace=True)\n",
    "    test_data.drop('video', 1, inplace=True)\n",
    "    return test_data"
   ]
  },
  {
   "cell_type": "markdown",
   "metadata": {},
   "source": [
    "# 1. Detect Tracks"
   ]
  },
  {
   "cell_type": "code",
   "execution_count": 4,
   "metadata": {
    "ExecuteTime": {
     "end_time": "2019-03-21T15:00:29.002767Z",
     "start_time": "2019-03-21T15:00:10.615409Z"
    },
    "code_folding": [
     0
    ]
   },
   "outputs": [
    {
     "name": "stderr",
     "output_type": "stream",
     "text": [
      "/home/tscho/.local/lib/python3.6/site-packages/keras/backend/theano_backend.py:1032: UserWarning: DEPRECATION: the 'ds' parameter is not going to exist anymore as it is going to be replaced by the parameter 'ws'.\n",
      "  mode='max')\n",
      "/home/tscho/.local/lib/python3.6/site-packages/keras/backend/theano_backend.py:1032: UserWarning: DEPRECATION: the 'st' parameter is not going to exist anymore as it is going to be replaced by the parameter 'stride'.\n",
      "  mode='max')\n",
      "/home/tscho/.local/lib/python3.6/site-packages/keras/backend/theano_backend.py:1032: UserWarning: DEPRECATION: the 'padding' parameter is not going to exist anymore as it is going to be replaced by the parameter 'pad'.\n",
      "  mode='max')\n"
     ]
    }
   ],
   "source": [
    "default_pipeline = None\n",
    "default_pipeline = get_default_pipeline(localizer_threshold=config[\"localizer_threshold\"])\n",
    "\n",
    "def detect_tracks(paths, save_to_csv = False):\n",
    "    # Hier passiert das eigentliche Tracken und speichern der Ergebnisse:\n",
    "    num_processed_videos = 0\n",
    "    video_data = dict()\n",
    "    frame_info = None\n",
    "    detections = None\n",
    "    bad_paths = []\n",
    "\n",
    "    for path in tqdm_notebook(paths):\n",
    "        start_time = config[\"start_time\"]\n",
    "        cam_id = config[\"cam_id\"]\n",
    "        try:\n",
    "            num_processed_videos += 1\n",
    "\n",
    "            frame_info, detections = detect_markers_in_video(path,\n",
    "                                                          decoder_pipeline=default_pipeline,#pipeline=pipelines(),\n",
    "                                                         tag_pixel_diameter=config[\"tag_pixel_diameter\"],\n",
    "                                                          n_frames=config[\"n_frames\"],\n",
    "                                                          fps=config[\"fps\"],\n",
    "                                                         progress=\"tqdm_notebook\"\n",
    "                                                )\n",
    "            # Sonst würden keine Tracks erkannt werden -> Fehlermeldung\n",
    "            if len(detections[detections['confidence']>=config[\"confidence_filter_detections\"]]) == 0:\n",
    "                continue\n",
    "            tracks = track_detections_dataframe(detections,\n",
    "                                                tracker=\"tracker.det_score_fun.frag_score_fun.dill\",\n",
    "                                                confidence_filter_detections=config[\"confidence_filter_detections\"],\n",
    "                                               confidence_filter_tracks=config[\"confidence_filter_tracks\"],\n",
    "                                                coordinate_scale=config[\"coordinate_scale\"],\n",
    "                                               )\n",
    "            date_string = filename_to_datestring(path)\n",
    "            tracks['video'] = date_string\n",
    "            video_data[path] = (frame_info, detections, tracks)\n",
    "        except ValueError as err: #tritt auf, wenn Video leer ist. In diesem Fall: überspringe video\n",
    "            try:\n",
    "                bad_paths.append(path)\n",
    "                # wir arbeiten später nochmal mit paths, daher müssen das leere löschen, weil sonst\n",
    "                # in video_data kein zugehöriger Value zu Key = file zu finden ist.\n",
    "            except KeyError as err:\n",
    "                continue\n",
    "        except Exception as err:\n",
    "            print(err)\n",
    "            raise\n",
    "        # only first vid: break\n",
    "\n",
    "    for bad_path in bad_paths:\n",
    "        paths.remove(bad_path)\n",
    "\n",
    "    #video_data[\"file\"][0] --> frame-info, [1] --> detections, [2] --> tracks\n",
    "    for path in paths:\n",
    "        display_tracking_results(path, video_data[path][0], video_data[path][1], video_data[path][2])\n",
    "\n",
    "    tracks = [video_data[paths[x]][2] for x in range(len(paths))]\n",
    "    tracks = pd.concat(tracks,ignore_index=True)\n",
    "    tracks = tracks.drop(columns=[\"localizerSaliency\", \"beeID\", \"camID\", \"frameIdx\"])\n",
    "\n",
    "    if save_to_csv:\n",
    "        with open(\"tracks.csv\", \"w\") as f:\n",
    "            tracks.to_csv(f)\n",
    "\n",
    "    return tracks"
   ]
  },
  {
   "cell_type": "markdown",
   "metadata": {},
   "source": [
    "## 1.1 Create video path list from all videos in videos_dir"
   ]
  },
  {
   "cell_type": "code",
   "execution_count": 5,
   "metadata": {
    "ExecuteTime": {
     "end_time": "2019-03-21T15:00:29.015137Z",
     "start_time": "2019-03-21T15:00:29.004635Z"
    },
    "code_folding": [],
    "collapsed": true
   },
   "outputs": [],
   "source": [
    "# Einen Iterable speichern, der alle Videos in einem Iterable zur Verfügung stellt\n",
    "# Diesen Iterable können wir dann in der nächsten Zelle mit tqdm schön durchlaufen\n",
    "base_directory = config[\"videos_dir\"]\n",
    "paths = [i for i in os.listdir(base_directory) if i.endswith(\".h264\")]\n",
    "for i in range(len(paths)):\n",
    "    paths[i] = base_directory + paths[i]"
   ]
  },
  {
   "cell_type": "markdown",
   "metadata": {},
   "source": [
    "## 1.2 Create video path list from test set"
   ]
  },
  {
   "cell_type": "code",
   "execution_count": 6,
   "metadata": {
    "ExecuteTime": {
     "end_time": "2019-03-21T15:00:29.302803Z",
     "start_time": "2019-03-21T15:00:29.016899Z"
    },
    "code_folding": [],
    "collapsed": true
   },
   "outputs": [],
   "source": [
    "# read in the test data csv\n",
    "test_data = loadGTD(\"bees_test.csv\")\n",
    "\n",
    "all_videos = []\n",
    "\n",
    "all_paths = pd.DataFrame(glob.glob(os.path.join(config[\"videos_dir\"], '*.h264')), columns=['video'])\n",
    "all_paths['video'] = all_paths['video'].apply(lambda x: filename_to_datestring(x))\n",
    "all_paths.sort_values(['video'])\n",
    "\n",
    "# go through test_data and get all videos between timestamp_in and timestamp_out\n",
    "for index, row in test_data.iterrows():\n",
    "    all_videos += get_videos_between(row['video_start_time'],row['video_end_time'], all_paths)\n",
    "    \n",
    "all_videos = sorted(list(set(all_videos)))\n",
    "paths = [datestring_to_filename(x) for x in all_videos]\n",
    "del all_paths\n",
    "del test_data"
   ]
  },
  {
   "cell_type": "markdown",
   "metadata": {},
   "source": [
    "## 1.3 Run Detection Pipeline"
   ]
  },
  {
   "cell_type": "raw",
   "metadata": {
    "ExecuteTime": {
     "end_time": "2019-03-15T10:35:09.468983Z",
     "start_time": "2019-03-15T10:35:09.453016Z"
    }
   },
   "source": [
    "# this takes long time (1h for 200 videos)\n",
    "tracks = detect_tracks(paths)"
   ]
  },
  {
   "cell_type": "markdown",
   "metadata": {},
   "source": [
    "# 2. Data Preprocessing"
   ]
  },
  {
   "cell_type": "code",
   "execution_count": 7,
   "metadata": {
    "ExecuteTime": {
     "end_time": "2019-03-21T15:00:29.345333Z",
     "start_time": "2019-03-21T15:00:29.304576Z"
    }
   },
   "outputs": [
    {
     "data": {
      "text/html": [
       "<div>\n",
       "<style scoped>\n",
       "    .dataframe tbody tr th:only-of-type {\n",
       "        vertical-align: middle;\n",
       "    }\n",
       "\n",
       "    .dataframe tbody tr th {\n",
       "        vertical-align: top;\n",
       "    }\n",
       "\n",
       "    .dataframe thead th {\n",
       "        text-align: right;\n",
       "    }\n",
       "</style>\n",
       "<table border=\"1\" class=\"dataframe\">\n",
       "  <thead>\n",
       "    <tr style=\"text-align: right;\">\n",
       "      <th></th>\n",
       "      <th>id</th>\n",
       "      <th>xpos</th>\n",
       "      <th>ypos</th>\n",
       "      <th>zrotation</th>\n",
       "      <th>timestamp</th>\n",
       "      <th>confidence</th>\n",
       "      <th>track_id</th>\n",
       "      <th>track_confidence</th>\n",
       "      <th>bee_id</th>\n",
       "      <th>video</th>\n",
       "    </tr>\n",
       "  </thead>\n",
       "  <tbody>\n",
       "    <tr>\n",
       "      <th>0</th>\n",
       "      <td>f16454994143232751227d0c0</td>\n",
       "      <td>477.180838</td>\n",
       "      <td>164.151279</td>\n",
       "      <td>0.270257</td>\n",
       "      <td>8.1</td>\n",
       "      <td>0.183379</td>\n",
       "      <td>0.0</td>\n",
       "      <td>0.831785</td>\n",
       "      <td>433.0</td>\n",
       "      <td>2018-08-19-08-21-08</td>\n",
       "    </tr>\n",
       "    <tr>\n",
       "      <th>1</th>\n",
       "      <td>f16578218940730512316d0c0</td>\n",
       "      <td>564.704552</td>\n",
       "      <td>151.617500</td>\n",
       "      <td>0.245167</td>\n",
       "      <td>8.2</td>\n",
       "      <td>0.964998</td>\n",
       "      <td>0.0</td>\n",
       "      <td>0.831785</td>\n",
       "      <td>433.0</td>\n",
       "      <td>2018-08-19-08-21-08</td>\n",
       "    </tr>\n",
       "    <tr>\n",
       "      <th>2</th>\n",
       "      <td>f17333786135254116214d0c0</td>\n",
       "      <td>640.170750</td>\n",
       "      <td>163.932972</td>\n",
       "      <td>0.335837</td>\n",
       "      <td>8.3</td>\n",
       "      <td>0.325308</td>\n",
       "      <td>0.0</td>\n",
       "      <td>0.831785</td>\n",
       "      <td>433.0</td>\n",
       "      <td>2018-08-19-08-21-08</td>\n",
       "    </tr>\n",
       "    <tr>\n",
       "      <th>3</th>\n",
       "      <td>f17914062438408532176d0c0</td>\n",
       "      <td>712.797358</td>\n",
       "      <td>189.150818</td>\n",
       "      <td>0.458709</td>\n",
       "      <td>8.4</td>\n",
       "      <td>0.994973</td>\n",
       "      <td>0.0</td>\n",
       "      <td>0.831785</td>\n",
       "      <td>433.0</td>\n",
       "      <td>2018-08-19-08-21-08</td>\n",
       "    </tr>\n",
       "    <tr>\n",
       "      <th>4</th>\n",
       "      <td>f12965964851209682910d0c0</td>\n",
       "      <td>788.526833</td>\n",
       "      <td>201.583246</td>\n",
       "      <td>0.462691</td>\n",
       "      <td>8.5</td>\n",
       "      <td>0.980744</td>\n",
       "      <td>0.0</td>\n",
       "      <td>0.831785</td>\n",
       "      <td>433.0</td>\n",
       "      <td>2018-08-19-08-21-08</td>\n",
       "    </tr>\n",
       "  </tbody>\n",
       "</table>\n",
       "</div>"
      ],
      "text/plain": [
       "                          id        xpos        ypos  zrotation  timestamp  \\\n",
       "0  f16454994143232751227d0c0  477.180838  164.151279   0.270257        8.1   \n",
       "1  f16578218940730512316d0c0  564.704552  151.617500   0.245167        8.2   \n",
       "2  f17333786135254116214d0c0  640.170750  163.932972   0.335837        8.3   \n",
       "3  f17914062438408532176d0c0  712.797358  189.150818   0.458709        8.4   \n",
       "4  f12965964851209682910d0c0  788.526833  201.583246   0.462691        8.5   \n",
       "\n",
       "   confidence  track_id  track_confidence  bee_id                video  \n",
       "0    0.183379       0.0          0.831785   433.0  2018-08-19-08-21-08  \n",
       "1    0.964998       0.0          0.831785   433.0  2018-08-19-08-21-08  \n",
       "2    0.325308       0.0          0.831785   433.0  2018-08-19-08-21-08  \n",
       "3    0.994973       0.0          0.831785   433.0  2018-08-19-08-21-08  \n",
       "4    0.980744       0.0          0.831785   433.0  2018-08-19-08-21-08  "
      ]
     },
     "execution_count": 7,
     "metadata": {},
     "output_type": "execute_result"
    }
   ],
   "source": [
    "# load the data from tracking step\n",
    "tracks = pd.read_csv(\"all_tracks.csv\", index_col=0)\n",
    "tracks.head()"
   ]
  },
  {
   "cell_type": "markdown",
   "metadata": {},
   "source": [
    "## 2.1 Convert Tracks format"
   ]
  },
  {
   "cell_type": "code",
   "execution_count": 8,
   "metadata": {
    "ExecuteTime": {
     "end_time": "2019-03-21T15:00:29.398280Z",
     "start_time": "2019-03-21T15:00:29.346997Z"
    },
    "collapsed": true
   },
   "outputs": [],
   "source": [
    "def gather_tracks(tracks):\n",
    "    \"\"\"\n",
    "    transform the tracks df to : bee_id, [list of positions (x,y)], [list of timestamps], timestamp_of video\n",
    "    \"\"\"\n",
    "\n",
    "    #  transform tracks df to : bee_id, [list of positions (x,y)], [list of timestamps], timestamp_of video\n",
    "    grouped = tracks.groupby(['bee_id','track_id','video'],  as_index=False)['xpos','ypos','timestamp','zrotation']\n",
    "\n",
    "    tracks_ml = grouped.aggregate(lambda x: list(x))\n",
    "\n",
    "    # we don't need track_id anymore\n",
    "    tracks_ml = tracks_ml.drop('track_id', 1)\n",
    "\n",
    "    # add a column: convert video name to timestamp\n",
    "    tracks_ml['video_start_time'] = tracks_ml['video'].apply(lambda x: string_to_timestamp(x))\n",
    "    \n",
    "    # we don't need video anymore\n",
    "    tracks_ml = tracks_ml.drop('video', 1)\n",
    "\n",
    "    # because aggregated: now multiple timestamps per row: --> rename\n",
    "    tracks_ml = tracks_ml.rename(columns={'timestamp': 'timestamps'})\n",
    "\n",
    "    # calculate start time of track by adding timestamp of track (seconds since start of video)\n",
    "    # to timestamp of video (date)\n",
    "    tracks_ml['track_start_time'] = tracks_ml['video_start_time'] + tracks_ml['timestamps'].apply(lambda x: x[0])\n",
    "    tracks_ml['track_end_time'] = tracks_ml['video_start_time'] + tracks_ml['timestamps'].apply(lambda x: x[-1])\n",
    "    \n",
    "    # convert back to string\n",
    "    tracks_ml['video_start_time'] = tracks_ml['video_start_time'].apply(lambda x: timestamp_to_string(x))\n",
    "    \n",
    "    all_paths = pd.DataFrame(glob.glob(os.path.join(config[\"videos_dir\"], '*.h264')), columns=['video'])\n",
    "    all_paths['video'] = all_paths['video'].apply(lambda x: filename_to_datestring(x))\n",
    "    all_paths.sort_values(['video'])\n",
    "    # get end video\n",
    "    tracks_ml['video_end_time'] =  tracks_ml['track_end_time'].apply(lambda x: timestamp_to_string(x))\n",
    "    tracks_ml['video_end_time'] =  tracks_ml[['video_start_time','video_end_time']].apply(lambda x: get_videos_between(x[0],x[1],all_paths)[-1], axis=1)\n",
    "\n",
    "    return tracks_ml"
   ]
  },
  {
   "cell_type": "markdown",
   "metadata": {},
   "source": [
    "## 2.2 Merge Tracks\n",
    "\n",
    "Merge tracks that span multiple videos, based on time threshold between the track end and next track start time."
   ]
  },
  {
   "cell_type": "code",
   "execution_count": 9,
   "metadata": {
    "ExecuteTime": {
     "end_time": "2019-03-21T15:00:29.536502Z",
     "start_time": "2019-03-21T15:00:29.399718Z"
    },
    "code_folding": [
     0,
     39
    ],
    "collapsed": true
   },
   "outputs": [],
   "source": [
    "def merge_tracks(tracks_ml, time_threshold=10, verbose = False):\n",
    "    \"\"\"\n",
    "    in: \n",
    "        tracks_ml: output from gather_tracks(tracks)\n",
    "    out:\n",
    "        same df as in, with merged rows\n",
    "        [bee_id:Float, xpos:[Float], ypos:[Float], zrotation:[Float], timestamps:[Float], video_start_time: String,\n",
    "        video_end_time: String, track_start_time:Float, track_end_time:Float]\n",
    "        \n",
    "    merge tracks of same bee where start and end timestamps are close together\n",
    "    assume there can not be overlapping tracks\n",
    "    \"\"\"\n",
    "    \n",
    "    \n",
    "    # 1. sort: bee_id, start_time\n",
    "    tracks_ml = tracks_ml.sort_values(['bee_id', 'track_start_time'])\n",
    "\n",
    "    \n",
    "    # first convert to timestamp\n",
    "    tracks_ml['video_start_time'] = tracks_ml['video_start_time'].apply(lambda x: string_to_timestamp(x))\n",
    "    \n",
    "    index = 0\n",
    "    while(True):\n",
    "        row = tracks_ml.iloc[index]\n",
    "        next_row = tracks_ml.iloc[index+1]\n",
    "\n",
    "        # if the tracks are from same bee and the start time of next row is closer then 10s -> merge the rows\n",
    "        # merge rows means, next_row is deleted\n",
    "        if (row['bee_id'] == next_row['bee_id']) and ((next_row['track_start_time'] - row['track_end_time']) < time_threshold):\n",
    "            \n",
    "            if verbose:\n",
    "                print(timestamp_to_string(row['video_start_time']), row['bee_id'], next_row['track_start_time'] - row['track_end_time'])\n",
    "                print(next_row['video_start_time'] - row['video_start_time'])\n",
    "                print(timestamp_to_string(row['track_start_time']),timestamp_to_string(row['track_end_time']),timestamp_to_string(row['video_start_time']),row['video_end_time'])\n",
    "                print(row['timestamps'])\n",
    "                print(row.name)\n",
    "                print(timestamp_to_string(next_row['track_start_time']))\n",
    "                print('----------------------------------')\n",
    "           \n",
    "            # update the timestamps of nextrow\n",
    "            t = next_row['video_start_time'] - row['video_start_time']\n",
    "            timestamps = list( np.array(next_row['timestamps']) + t)\n",
    "\n",
    "            # merge xpos, ypos, timestamps lists\n",
    "            tracks_ml.at[row.name,'xpos'] = row['xpos']+next_row['xpos']\n",
    "            tracks_ml.at[row.name,'ypos'] = row['ypos']+next_row['ypos']\n",
    "            tracks_ml.at[row.name,'zrotation'] = row['zrotation']+next_row['zrotation']\n",
    "            tracks_ml.at[row.name,'timestamps'] = row['timestamps']+timestamps\n",
    "\n",
    "            # update end_time\n",
    "            tracks_ml.at[row.name,'track_end_time'] = next_row['track_end_time']\n",
    "            tracks_ml.at[row.name,'video_end_time'] = next_row['video_end_time']\n",
    "\n",
    "            # delete the merged row (next_row)\n",
    "            tracks_ml = tracks_ml.drop(next_row.name).copy()\n",
    "            \n",
    "            assert(len(tracks_ml.at[row.name,'xpos']) == len(tracks_ml.at[row.name,'xpos']) == len(tracks_ml.at[row.name,'xpos']) == len(tracks_ml.at[row.name,'zrotation']))\n",
    "\n",
    "        else:\n",
    "            index += 1\n",
    "        \n",
    "        if index == len(tracks_ml) - 1:\n",
    "            break\n",
    "            \n",
    "    # convert back to string\n",
    "    tracks_ml['video_start_time'] = tracks_ml['video_start_time'].apply(lambda x: timestamp_to_string(x))\n",
    "            \n",
    "    return tracks_ml"
   ]
  },
  {
   "cell_type": "code",
   "execution_count": 10,
   "metadata": {
    "ExecuteTime": {
     "end_time": "2019-03-21T15:00:30.339883Z",
     "start_time": "2019-03-21T15:00:29.538273Z"
    },
    "collapsed": true
   },
   "outputs": [],
   "source": [
    "tracks_ml = gather_tracks(tracks)\n",
    "l1 = len(tracks_ml)\n",
    "\n",
    "tracks_ml = merge_tracks(tracks_ml)\n",
    "l2 = len(tracks_ml)\n",
    "\n",
    "tracks_ml = tracks_ml.sort_values(['video_start_time'])"
   ]
  },
  {
   "cell_type": "code",
   "execution_count": 11,
   "metadata": {
    "ExecuteTime": {
     "end_time": "2019-03-21T15:00:30.373048Z",
     "start_time": "2019-03-21T15:00:30.341517Z"
    }
   },
   "outputs": [
    {
     "name": "stdout",
     "output_type": "stream",
     "text": [
      "merged 66 of 238 tracks\n"
     ]
    },
    {
     "data": {
      "text/html": [
       "<div>\n",
       "<style scoped>\n",
       "    .dataframe tbody tr th:only-of-type {\n",
       "        vertical-align: middle;\n",
       "    }\n",
       "\n",
       "    .dataframe tbody tr th {\n",
       "        vertical-align: top;\n",
       "    }\n",
       "\n",
       "    .dataframe thead th {\n",
       "        text-align: right;\n",
       "    }\n",
       "</style>\n",
       "<table border=\"1\" class=\"dataframe\">\n",
       "  <thead>\n",
       "    <tr style=\"text-align: right;\">\n",
       "      <th></th>\n",
       "      <th>bee_id</th>\n",
       "      <th>xpos</th>\n",
       "      <th>ypos</th>\n",
       "      <th>timestamps</th>\n",
       "      <th>zrotation</th>\n",
       "      <th>video_start_time</th>\n",
       "      <th>track_start_time</th>\n",
       "      <th>track_end_time</th>\n",
       "      <th>video_end_time</th>\n",
       "    </tr>\n",
       "  </thead>\n",
       "  <tbody>\n",
       "    <tr>\n",
       "      <th>202</th>\n",
       "      <td>1970.0</td>\n",
       "      <td>[1175.1580028533936, 1275.0042209625246, 1199....</td>\n",
       "      <td>[100.45368194580078, 252.97906684875488, 264.9...</td>\n",
       "      <td>[1.6, 2.3, 2.8, 3.1, 4.0, 4.1, 4.2, 4.3, 4.6, ...</td>\n",
       "      <td>[-1.5437196000000002, 0.18208171, 1.7509313000...</td>\n",
       "      <td>2018-08-19-02-21-37</td>\n",
       "      <td>1.534638e+09</td>\n",
       "      <td>1.534638e+09</td>\n",
       "      <td>2018-08-19-02-22-40</td>\n",
       "    </tr>\n",
       "    <tr>\n",
       "      <th>230</th>\n",
       "      <td>3890.0</td>\n",
       "      <td>[1275.218282699585, 1286.7158908843996]</td>\n",
       "      <td>[164.32666015625, 214.9285774230957]</td>\n",
       "      <td>[9.2, 9.3]</td>\n",
       "      <td>[-0.34192994, 0.24574603]</td>\n",
       "      <td>2018-08-19-02-21-58</td>\n",
       "      <td>1.534638e+09</td>\n",
       "      <td>1.534638e+09</td>\n",
       "      <td>2018-08-19-02-21-58</td>\n",
       "    </tr>\n",
       "    <tr>\n",
       "      <th>197</th>\n",
       "      <td>1697.0</td>\n",
       "      <td>[449.36813163757324, 449.7386884689331, 449.44...</td>\n",
       "      <td>[162.46553993225098, 162.55523109436038, 149.9...</td>\n",
       "      <td>[3.2, 3.3, 3.4, 3.5, 3.6, 3.7, 3.8, 3.9, 4.0, ...</td>\n",
       "      <td>[-2.1262455, -2.0971236, -2.1020923, -2.002343...</td>\n",
       "      <td>2018-08-19-02-22-40</td>\n",
       "      <td>1.534638e+09</td>\n",
       "      <td>1.534638e+09</td>\n",
       "      <td>2018-08-19-02-22-40</td>\n",
       "    </tr>\n",
       "    <tr>\n",
       "      <th>1</th>\n",
       "      <td>220.0</td>\n",
       "      <td>[587.6349468231201, 577.2753982543945, 589.496...</td>\n",
       "      <td>[123.45260810852051, 125.9588794708252, 138.67...</td>\n",
       "      <td>[0.4, 14.0, 14.1, 14.2, 14.3, 14.4, 14.5, 14.6...</td>\n",
       "      <td>[-2.787043, 0.020939333, -0.15247042, 0.053603...</td>\n",
       "      <td>2018-08-19-05-25-51</td>\n",
       "      <td>1.534649e+09</td>\n",
       "      <td>1.534649e+09</td>\n",
       "      <td>2018-08-19-05-25-51</td>\n",
       "    </tr>\n",
       "    <tr>\n",
       "      <th>228</th>\n",
       "      <td>3692.0</td>\n",
       "      <td>[1125.3886528015137, 1075.4727592468264, 1013....</td>\n",
       "      <td>[263.25339698791504, 224.84710693359372, 212.8...</td>\n",
       "      <td>[0.3, 0.4, 0.5, 0.6, 0.7, 0.8, 1.0, 1.3]</td>\n",
       "      <td>[2.9821217, 2.9418721000000003, 2.897287, 3.08...</td>\n",
       "      <td>2018-08-19-06-35-41</td>\n",
       "      <td>1.534653e+09</td>\n",
       "      <td>1.534653e+09</td>\n",
       "      <td>2018-08-19-06-35-41</td>\n",
       "    </tr>\n",
       "  </tbody>\n",
       "</table>\n",
       "</div>"
      ],
      "text/plain": [
       "     bee_id                                               xpos  \\\n",
       "202  1970.0  [1175.1580028533936, 1275.0042209625246, 1199....   \n",
       "230  3890.0            [1275.218282699585, 1286.7158908843996]   \n",
       "197  1697.0  [449.36813163757324, 449.7386884689331, 449.44...   \n",
       "1     220.0  [587.6349468231201, 577.2753982543945, 589.496...   \n",
       "228  3692.0  [1125.3886528015137, 1075.4727592468264, 1013....   \n",
       "\n",
       "                                                  ypos  \\\n",
       "202  [100.45368194580078, 252.97906684875488, 264.9...   \n",
       "230               [164.32666015625, 214.9285774230957]   \n",
       "197  [162.46553993225098, 162.55523109436038, 149.9...   \n",
       "1    [123.45260810852051, 125.9588794708252, 138.67...   \n",
       "228  [263.25339698791504, 224.84710693359372, 212.8...   \n",
       "\n",
       "                                            timestamps  \\\n",
       "202  [1.6, 2.3, 2.8, 3.1, 4.0, 4.1, 4.2, 4.3, 4.6, ...   \n",
       "230                                         [9.2, 9.3]   \n",
       "197  [3.2, 3.3, 3.4, 3.5, 3.6, 3.7, 3.8, 3.9, 4.0, ...   \n",
       "1    [0.4, 14.0, 14.1, 14.2, 14.3, 14.4, 14.5, 14.6...   \n",
       "228           [0.3, 0.4, 0.5, 0.6, 0.7, 0.8, 1.0, 1.3]   \n",
       "\n",
       "                                             zrotation     video_start_time  \\\n",
       "202  [-1.5437196000000002, 0.18208171, 1.7509313000...  2018-08-19-02-21-37   \n",
       "230                          [-0.34192994, 0.24574603]  2018-08-19-02-21-58   \n",
       "197  [-2.1262455, -2.0971236, -2.1020923, -2.002343...  2018-08-19-02-22-40   \n",
       "1    [-2.787043, 0.020939333, -0.15247042, 0.053603...  2018-08-19-05-25-51   \n",
       "228  [2.9821217, 2.9418721000000003, 2.897287, 3.08...  2018-08-19-06-35-41   \n",
       "\n",
       "     track_start_time  track_end_time       video_end_time  \n",
       "202      1.534638e+09    1.534638e+09  2018-08-19-02-22-40  \n",
       "230      1.534638e+09    1.534638e+09  2018-08-19-02-21-58  \n",
       "197      1.534638e+09    1.534638e+09  2018-08-19-02-22-40  \n",
       "1        1.534649e+09    1.534649e+09  2018-08-19-05-25-51  \n",
       "228      1.534653e+09    1.534653e+09  2018-08-19-06-35-41  "
      ]
     },
     "execution_count": 11,
     "metadata": {},
     "output_type": "execute_result"
    }
   ],
   "source": [
    "print(\"merged\", l1-l2, \"of\",l1,\"tracks\")\n",
    "tracks_ml.head()"
   ]
  },
  {
   "cell_type": "markdown",
   "metadata": {},
   "source": [
    "## 2.3 Add labels to tracks data"
   ]
  },
  {
   "cell_type": "code",
   "execution_count": 12,
   "metadata": {
    "ExecuteTime": {
     "end_time": "2019-03-21T15:00:30.403922Z",
     "start_time": "2019-03-21T15:00:30.375371Z"
    }
   },
   "outputs": [
    {
     "data": {
      "text/html": [
       "<div>\n",
       "<style scoped>\n",
       "    .dataframe tbody tr th:only-of-type {\n",
       "        vertical-align: middle;\n",
       "    }\n",
       "\n",
       "    .dataframe tbody tr th {\n",
       "        vertical-align: top;\n",
       "    }\n",
       "\n",
       "    .dataframe thead th {\n",
       "        text-align: right;\n",
       "    }\n",
       "</style>\n",
       "<table border=\"1\" class=\"dataframe\">\n",
       "  <thead>\n",
       "    <tr style=\"text-align: right;\">\n",
       "      <th></th>\n",
       "      <th>bee_id</th>\n",
       "      <th>in_direction</th>\n",
       "      <th>out_direction</th>\n",
       "      <th>video_start_time</th>\n",
       "      <th>video_end_time</th>\n",
       "    </tr>\n",
       "  </thead>\n",
       "  <tbody>\n",
       "    <tr>\n",
       "      <th>102</th>\n",
       "      <td>1970</td>\n",
       "      <td>left</td>\n",
       "      <td>left</td>\n",
       "      <td>2018-08-19-02-21-37</td>\n",
       "      <td>2018-08-19-02-22-40</td>\n",
       "    </tr>\n",
       "    <tr>\n",
       "      <th>0</th>\n",
       "      <td>855</td>\n",
       "      <td>right</td>\n",
       "      <td>left</td>\n",
       "      <td>2018-08-19-05-25-51</td>\n",
       "      <td>2018-08-19-05-25-51</td>\n",
       "    </tr>\n",
       "    <tr>\n",
       "      <th>1</th>\n",
       "      <td>220</td>\n",
       "      <td>left</td>\n",
       "      <td>right</td>\n",
       "      <td>2018-08-19-05-25-51</td>\n",
       "      <td>2018-08-19-05-25-51</td>\n",
       "    </tr>\n",
       "    <tr>\n",
       "      <th>24</th>\n",
       "      <td>8692</td>\n",
       "      <td>left</td>\n",
       "      <td>right</td>\n",
       "      <td>2018-08-19-06-35-41</td>\n",
       "      <td>2018-08-19-06-35-41</td>\n",
       "    </tr>\n",
       "    <tr>\n",
       "      <th>106</th>\n",
       "      <td>1191</td>\n",
       "      <td>right</td>\n",
       "      <td>left</td>\n",
       "      <td>2018-08-19-07-10-38</td>\n",
       "      <td>2018-08-19-07-10-38</td>\n",
       "    </tr>\n",
       "  </tbody>\n",
       "</table>\n",
       "</div>"
      ],
      "text/plain": [
       "     bee_id in_direction out_direction     video_start_time  \\\n",
       "102    1970         left          left  2018-08-19-02-21-37   \n",
       "0       855        right          left  2018-08-19-05-25-51   \n",
       "1       220         left         right  2018-08-19-05-25-51   \n",
       "24     8692         left         right  2018-08-19-06-35-41   \n",
       "106    1191        right          left  2018-08-19-07-10-38   \n",
       "\n",
       "          video_end_time  \n",
       "102  2018-08-19-02-22-40  \n",
       "0    2018-08-19-05-25-51  \n",
       "1    2018-08-19-05-25-51  \n",
       "24   2018-08-19-06-35-41  \n",
       "106  2018-08-19-07-10-38  "
      ]
     },
     "execution_count": 12,
     "metadata": {},
     "output_type": "execute_result"
    }
   ],
   "source": [
    "# read in the test data csv (the manually labeled data)\n",
    "test_data = loadGTD(\"bees_test.csv\")\n",
    "test_data.drop_duplicates(inplace=True)\n",
    "test_data.head()"
   ]
  },
  {
   "cell_type": "code",
   "execution_count": 13,
   "metadata": {
    "ExecuteTime": {
     "end_time": "2019-03-21T15:00:30.448056Z",
     "start_time": "2019-03-21T15:00:30.406176Z"
    }
   },
   "outputs": [
    {
     "name": "stdout",
     "output_type": "stream",
     "text": [
      "62\n"
     ]
    },
    {
     "data": {
      "text/html": [
       "<div>\n",
       "<style scoped>\n",
       "    .dataframe tbody tr th:only-of-type {\n",
       "        vertical-align: middle;\n",
       "    }\n",
       "\n",
       "    .dataframe tbody tr th {\n",
       "        vertical-align: top;\n",
       "    }\n",
       "\n",
       "    .dataframe thead th {\n",
       "        text-align: right;\n",
       "    }\n",
       "</style>\n",
       "<table border=\"1\" class=\"dataframe\">\n",
       "  <thead>\n",
       "    <tr style=\"text-align: right;\">\n",
       "      <th></th>\n",
       "      <th>bee_id</th>\n",
       "      <th>xpos</th>\n",
       "      <th>ypos</th>\n",
       "      <th>timestamps</th>\n",
       "      <th>zrotation</th>\n",
       "      <th>video_start_time</th>\n",
       "      <th>track_start_time</th>\n",
       "      <th>track_end_time</th>\n",
       "      <th>video_end_time</th>\n",
       "      <th>in_direction</th>\n",
       "      <th>out_direction</th>\n",
       "    </tr>\n",
       "  </thead>\n",
       "  <tbody>\n",
       "    <tr>\n",
       "      <th>0</th>\n",
       "      <td>1970.0</td>\n",
       "      <td>[1175.1580028533936, 1275.0042209625246, 1199....</td>\n",
       "      <td>[100.45368194580078, 252.97906684875488, 264.9...</td>\n",
       "      <td>[1.6, 2.3, 2.8, 3.1, 4.0, 4.1, 4.2, 4.3, 4.6, ...</td>\n",
       "      <td>[-1.5437196000000002, 0.18208171, 1.7509313000...</td>\n",
       "      <td>2018-08-19-02-21-37</td>\n",
       "      <td>1.534638e+09</td>\n",
       "      <td>1.534638e+09</td>\n",
       "      <td>2018-08-19-02-22-40</td>\n",
       "      <td>left</td>\n",
       "      <td>left</td>\n",
       "    </tr>\n",
       "    <tr>\n",
       "      <th>1</th>\n",
       "      <td>220.0</td>\n",
       "      <td>[587.6349468231201, 577.2753982543945, 589.496...</td>\n",
       "      <td>[123.45260810852051, 125.9588794708252, 138.67...</td>\n",
       "      <td>[0.4, 14.0, 14.1, 14.2, 14.3, 14.4, 14.5, 14.6...</td>\n",
       "      <td>[-2.787043, 0.020939333, -0.15247042, 0.053603...</td>\n",
       "      <td>2018-08-19-05-25-51</td>\n",
       "      <td>1.534649e+09</td>\n",
       "      <td>1.534649e+09</td>\n",
       "      <td>2018-08-19-05-25-51</td>\n",
       "      <td>left</td>\n",
       "      <td>right</td>\n",
       "    </tr>\n",
       "    <tr>\n",
       "      <th>2</th>\n",
       "      <td>3925.0</td>\n",
       "      <td>[538.5966873168945, 588.3075313568115, 651.012...</td>\n",
       "      <td>[126.37010765075684, 126.80798149108887, 127.0...</td>\n",
       "      <td>[11.9, 12.0, 12.1, 12.2, 12.3, 12.4, 12.5, 12.6]</td>\n",
       "      <td>[-0.48655950000000003, -0.23565856, -0.0598887...</td>\n",
       "      <td>2018-08-19-07-47-52</td>\n",
       "      <td>1.534658e+09</td>\n",
       "      <td>1.534658e+09</td>\n",
       "      <td>2018-08-19-07-47-52</td>\n",
       "      <td>left</td>\n",
       "      <td>right</td>\n",
       "    </tr>\n",
       "    <tr>\n",
       "      <th>3</th>\n",
       "      <td>388.0</td>\n",
       "      <td>[1375.2675552368164, 1313.4858207702634, 1225....</td>\n",
       "      <td>[239.0948257446289, 238.7294406890869, 237.849...</td>\n",
       "      <td>[0.3, 0.4, 0.5, 0.6, 0.7, 0.8, 0.9, 1.0, 1.1]</td>\n",
       "      <td>[2.9390156000000003, 2.9522842999999996, -2.97...</td>\n",
       "      <td>2018-08-19-08-29-06</td>\n",
       "      <td>1.534660e+09</td>\n",
       "      <td>1.534660e+09</td>\n",
       "      <td>2018-08-19-08-29-06</td>\n",
       "      <td>right</td>\n",
       "      <td>left</td>\n",
       "    </tr>\n",
       "    <tr>\n",
       "      <th>4</th>\n",
       "      <td>1066.0</td>\n",
       "      <td>[1413.0752410888672, 1350.3371124267578, 1325....</td>\n",
       "      <td>[251.15822410583496, 238.2443084716797, 188.21...</td>\n",
       "      <td>[1.3, 1.4, 1.5, 1.6, 1.7, 1.8, 1.9, 2.0, 2.1, ...</td>\n",
       "      <td>[2.8809676, 3.0900168, -2.7678201000000002, -3...</td>\n",
       "      <td>2018-08-19-09-28-45</td>\n",
       "      <td>1.534664e+09</td>\n",
       "      <td>1.534664e+09</td>\n",
       "      <td>2018-08-19-09-28-45</td>\n",
       "      <td>right</td>\n",
       "      <td>left</td>\n",
       "    </tr>\n",
       "  </tbody>\n",
       "</table>\n",
       "</div>"
      ],
      "text/plain": [
       "   bee_id                                               xpos  \\\n",
       "0  1970.0  [1175.1580028533936, 1275.0042209625246, 1199....   \n",
       "1   220.0  [587.6349468231201, 577.2753982543945, 589.496...   \n",
       "2  3925.0  [538.5966873168945, 588.3075313568115, 651.012...   \n",
       "3   388.0  [1375.2675552368164, 1313.4858207702634, 1225....   \n",
       "4  1066.0  [1413.0752410888672, 1350.3371124267578, 1325....   \n",
       "\n",
       "                                                ypos  \\\n",
       "0  [100.45368194580078, 252.97906684875488, 264.9...   \n",
       "1  [123.45260810852051, 125.9588794708252, 138.67...   \n",
       "2  [126.37010765075684, 126.80798149108887, 127.0...   \n",
       "3  [239.0948257446289, 238.7294406890869, 237.849...   \n",
       "4  [251.15822410583496, 238.2443084716797, 188.21...   \n",
       "\n",
       "                                          timestamps  \\\n",
       "0  [1.6, 2.3, 2.8, 3.1, 4.0, 4.1, 4.2, 4.3, 4.6, ...   \n",
       "1  [0.4, 14.0, 14.1, 14.2, 14.3, 14.4, 14.5, 14.6...   \n",
       "2   [11.9, 12.0, 12.1, 12.2, 12.3, 12.4, 12.5, 12.6]   \n",
       "3      [0.3, 0.4, 0.5, 0.6, 0.7, 0.8, 0.9, 1.0, 1.1]   \n",
       "4  [1.3, 1.4, 1.5, 1.6, 1.7, 1.8, 1.9, 2.0, 2.1, ...   \n",
       "\n",
       "                                           zrotation     video_start_time  \\\n",
       "0  [-1.5437196000000002, 0.18208171, 1.7509313000...  2018-08-19-02-21-37   \n",
       "1  [-2.787043, 0.020939333, -0.15247042, 0.053603...  2018-08-19-05-25-51   \n",
       "2  [-0.48655950000000003, -0.23565856, -0.0598887...  2018-08-19-07-47-52   \n",
       "3  [2.9390156000000003, 2.9522842999999996, -2.97...  2018-08-19-08-29-06   \n",
       "4  [2.8809676, 3.0900168, -2.7678201000000002, -3...  2018-08-19-09-28-45   \n",
       "\n",
       "   track_start_time  track_end_time       video_end_time in_direction  \\\n",
       "0      1.534638e+09    1.534638e+09  2018-08-19-02-22-40         left   \n",
       "1      1.534649e+09    1.534649e+09  2018-08-19-05-25-51         left   \n",
       "2      1.534658e+09    1.534658e+09  2018-08-19-07-47-52         left   \n",
       "3      1.534660e+09    1.534660e+09  2018-08-19-08-29-06        right   \n",
       "4      1.534664e+09    1.534664e+09  2018-08-19-09-28-45        right   \n",
       "\n",
       "  out_direction  \n",
       "0          left  \n",
       "1         right  \n",
       "2         right  \n",
       "3          left  \n",
       "4          left  "
      ]
     },
     "execution_count": 13,
     "metadata": {},
     "output_type": "execute_result"
    }
   ],
   "source": [
    "# get all tracks where bee_id, video_start_time and video_end_time are the same\n",
    "tracks_ml = pd.merge(tracks_ml,test_data,how='inner',on=['bee_id','video_start_time','video_end_time'])\n",
    "\n",
    "print(len(tracks_ml))\n",
    "tracks_ml.head()"
   ]
  },
  {
   "cell_type": "raw",
   "metadata": {
    "ExecuteTime": {
     "end_time": "2019-03-18T10:00:52.738751Z",
     "start_time": "2019-03-18T10:00:52.391037Z"
    }
   },
   "source": [
    "# we don't use this anymore\n",
    "\n",
    "# we only look at tracks where  in_direction and out_direction are different\n",
    "tracks_ml = tracks_ml[(tracks_ml['in_direction'] != tracks_ml['out_direction'])]\n",
    "\n",
    "# we assign movement based on in_ and out_directoin\n",
    "tracks_ml.loc[(tracks_ml['in_direction'] == 'left') & (tracks_ml['out_direction'] == 'right'),'movement'] = 1\n",
    "tracks_ml.loc[(tracks_ml['in_direction'] == 'right') & (tracks_ml['out_direction'] == 'left'),'movement'] = 0\n",
    "\n",
    "tracks_ml.drop('in_direction', 1, inplace=True)\n",
    "tracks_ml.drop('out_direction', 1, inplace=True)"
   ]
  },
  {
   "cell_type": "markdown",
   "metadata": {},
   "source": [
    "# Interlude Accuracy of Tracking"
   ]
  },
  {
   "cell_type": "code",
   "execution_count": 14,
   "metadata": {
    "ExecuteTime": {
     "end_time": "2019-03-21T15:00:30.507382Z",
     "start_time": "2019-03-21T15:00:30.450899Z"
    }
   },
   "outputs": [
    {
     "name": "stdout",
     "output_type": "stream",
     "text": [
      "bee_id and video_start_time correct: 0.62 (64/104)\n",
      "bee_id and video_end_time correct: 0.62 (64/104)\n",
      "bee_ids and both videos correct: 0.62 (64/104)\n"
     ]
    }
   ],
   "source": [
    "test_data_len = len(test_data)\n",
    "\n",
    "# get the total number of tracks where the start_video and bee_id is correct\n",
    "correct_in_video_start = len(pd.merge(tracks_ml,test_data[['bee_id','in_direction','video_start_time']], on=['bee_id','video_start_time'], how='inner'))\n",
    "\n",
    "# get the total number of tracks where the end video and bee_id is correct\n",
    "correct_in_video_end = len(pd.merge(tracks_ml,test_data[['bee_id','out_direction','video_end_time']], on=['bee_id','video_end_time'], how='inner'))\n",
    "\n",
    "# get all tracks where bee_id, video_start_time and video_end_time are the same\n",
    "total_correct = len(pd.merge(tracks_ml,test_data[['bee_id','in_direction','out_direction','video_end_time','video_start_time']], how='inner',on=['bee_id','video_start_time','video_end_time']))\n",
    "\n",
    "print('bee_id and video_start_time correct: %.2f (%d/%d)' % (correct_in_video_start/test_data_len,correct_in_video_start,test_data_len))\n",
    "print('bee_id and video_end_time correct: %.2f (%d/%d)' % (correct_in_video_end/test_data_len,correct_in_video_end,test_data_len))\n",
    "print('bee_ids and both videos correct: %.2f (%d/%d)' % (total_correct/test_data_len,total_correct,test_data_len))"
   ]
  },
  {
   "cell_type": "markdown",
   "metadata": {},
   "source": [
    "## 2.4 Data Augmentation"
   ]
  },
  {
   "cell_type": "markdown",
   "metadata": {},
   "source": [
    "Optional: Tracks um 180° drehen; Tracks horizontal invertieren; Tracks vertikal invertieren (Funktioniert, abhängig von der Wichtigkeit der Zeit als Feature, vielleicht nicht!)"
   ]
  },
  {
   "cell_type": "code",
   "execution_count": 17,
   "metadata": {
    "ExecuteTime": {
     "end_time": "2019-03-21T15:00:31.570079Z",
     "start_time": "2019-03-21T15:00:30.596663Z"
    },
    "collapsed": true
   },
   "outputs": [],
   "source": [
    "def inc_year(video_time_string):\n",
    "    video_string_parts = video_time_string.split('-')\n",
    "    video_string_parts[0] = str(int(video_string_parts[0]) + 1)\n",
    "    return '-'.join(video_string_parts)\n",
    "\n",
    "def opposite(direction):\n",
    "            if direction == 'left':\n",
    "                return 'right'\n",
    "            else:\n",
    "                return 'left'\n",
    "\n",
    "\"\"\"\n",
    "invertiert einen Track auf der vertikalen Achse. Bei outer ist die Achse die Achse des Videos.\n",
    "\"\"\"\n",
    "def invertVertical_outer(tracks_ml):\n",
    "    inverted_tracks = tracks_ml.copy(deep = True)\n",
    "    center = config['px_y_resolution_vid']/2 #default\n",
    "    for index, row in tracks_ml.iterrows():\n",
    "        inverted_tracks.at[index, 'ypos'] = [abs(y - center) for y in row['ypos']]\n",
    "        inverted_tracks.at[index, 'zrotation'] = [z * -1 for z in row['zrotation']]\n",
    "        inverted_tracks.at[index, 'video_start_time'] = inc_year(row['video_start_time'])\n",
    "        inverted_tracks.at[index, 'track_start_time'] = string_to_timestamp(row['video_start_time']) + row['timestamps'][0]\n",
    "        inverted_tracks.at[index, 'track_end_time'] = string_to_timestamp(row['video_start_time']) + row['timestamps'][-1]\n",
    "        inverted_tracks.at[index, 'video_end_time'] = inc_year(row['video_end_time'])\n",
    "    return inverted_tracks\n",
    "\n",
    "\"\"\"\n",
    "invertiert einen Track auf der vertikalen Achse. Bei inner ist die Achse die Achse des Trackbereichs.\n",
    "\"\"\"\n",
    "def invertVertical_inner(tracks_ml):\n",
    "    inverted_tracks = tracks_ml.copy(deep = True)\n",
    "    for index, row in tracks_ml.iterrows():\n",
    "        center = max(row['ypos']) - (min(row['ypos'])/2)\n",
    "        inverted_tracks.at[index, 'ypos'] = [abs(y - center) for y in row['ypos']]\n",
    "        inverted_tracks.at[index, 'zrotation'] = [z * -1 for z in row['zrotation']]\n",
    "        inverted_tracks.at[index, 'video_start_time'] = inc_year(row['video_start_time'])\n",
    "        inverted_tracks.at[index, 'track_start_time'] = string_to_timestamp(row['video_start_time']) + row['timestamps'][0]\n",
    "        inverted_tracks.at[index, 'track_end_time'] = string_to_timestamp(row['video_start_time']) + row['timestamps'][-1]\n",
    "        inverted_tracks.at[index, 'video_end_time'] = inc_year(row['video_end_time'])\n",
    "    return inverted_tracks\n",
    "\n",
    "def invertHorizontal(tracks_ml):\n",
    "    inverted_tracks = tracks_ml.copy(deep = True)\n",
    "    for index, row in tracks_ml.iterrows():\n",
    "        center = max(row['xpos']) - (min(row['xpos'])/2)\n",
    "        inverted_tracks.at[index, 'xpos'] = [abs(x - center) for x in row['xpos']]\n",
    "        \n",
    "        def zrotation_shifter(z):\n",
    "            cmp = pi/2\n",
    "            if z >= cmp:\n",
    "                return z - cmp\n",
    "            else:\n",
    "                return z + cmp\n",
    "\n",
    "        inverted_tracks.at[index, 'zrotation'] = [zrotation_shifter(z) for z in row['zrotation']]\n",
    "        inverted_tracks.at[index, 'video_start_time'] = inc_year(row['video_start_time'])\n",
    "        inverted_tracks.at[index, 'track_start_time'] = string_to_timestamp(row['video_start_time']) + row['timestamps'][0]\n",
    "        inverted_tracks.at[index, 'track_end_time'] = string_to_timestamp(row['video_start_time']) + row['timestamps'][-1]\n",
    "        inverted_tracks.at[index, 'video_end_time'] = inc_year(row['video_end_time'])\n",
    "        inverted_tracks.at[index, 'in_direction'] = opposite(row['in_direction'])\n",
    "        inverted_tracks.at[index, 'out_direction'] = opposite(row['out_direction'])\n",
    "    return inverted_tracks\n",
    "\n",
    "\"\"\"\n",
    "randomisiert y Koordinaten\n",
    "\"\"\"\n",
    "def randomize_y_coordinates(tracks_ml):\n",
    "    threshold_y = 0.02 # Looking at the original videos, 2% equate to about 7px on the y-axis\n",
    "    inverted_tracks = tracks_ml.copy(deep = True)\n",
    "    for index, row in tracks_ml.iterrows():\n",
    "        lower_bound = -(config['px_y_resolution_vid'] * threshold_y)\n",
    "        upper_bound = config['px_y_resolution_vid'] * threshold_y\n",
    "        inverted_tracks.at[index, 'ypos'] = [y + random.uniform(lower_bound, upper_bound) for y in row['ypos']]\n",
    "        inverted_tracks.at[index, 'video_start_time'] = inc_year(row['video_start_time'])\n",
    "        inverted_tracks.at[index, 'track_start_time'] = string_to_timestamp(row['video_start_time']) + row['timestamps'][0]\n",
    "        inverted_tracks.at[index, 'track_end_time'] = string_to_timestamp(row['video_start_time']) + row['timestamps'][-1]\n",
    "        inverted_tracks.at[index, 'video_end_time'] = inc_year(row['video_end_time'])\n",
    "    return inverted_tracks\n",
    "    \n",
    "\"\"\"\n",
    "randomisiert x Koordinaten\n",
    "\"\"\"\n",
    "def randomize_x_coordinates(tracks_ml):\n",
    "    threshold_x = 0.01 # equates to 19 px\n",
    "    inverted_tracks = tracks_ml.copy(deep = True)\n",
    "    for index, row in tracks_ml.iterrows():\n",
    "        lower_bound = - config['px_x_resolution_vid'] * threshold_x\n",
    "        upper_bound = config['px_x_resolution_vid'] * threshold_x\n",
    "        inverted_tracks.at[index, 'xpos'] = [x + random.uniform(lower_bound, upper_bound) for x in row['xpos']]\n",
    "        inverted_tracks.at[index, 'video_start_time'] = inc_year(row['video_start_time'])\n",
    "        inverted_tracks.at[index, 'track_start_time'] = string_to_timestamp(row['video_start_time']) + row['timestamps'][0]\n",
    "        inverted_tracks.at[index, 'track_end_time'] = string_to_timestamp(row['video_start_time']) + row['timestamps'][-1]\n",
    "        inverted_tracks.at[index, 'video_end_time'] = inc_year(row['video_end_time'])\n",
    "    return inverted_tracks\n",
    "\n",
    "#\n",
    "# Biene geht andersherum -> koordinaten vertauschen, labels vertauschen\n",
    "#\n",
    "def reverse_path(tracks_ml):\n",
    "    reversed_tracks = tracks_ml.copy(deep = True)\n",
    "    for index, row in tracks_ml.iterrows():\n",
    "        reversed_tracks.at[index, 'xpos'] = list(reversed(row['xpos']))\n",
    "        reversed_tracks.at[index, 'ypos'] = list(reversed(row['ypos']))\n",
    "        reversed_tracks.at[index, 'video_start_time'] = inc_year(row['video_start_time'])\n",
    "        reversed_tracks.at[index, 'track_start_time'] = string_to_timestamp(row['video_start_time']) + row['timestamps'][0]\n",
    "        reversed_tracks.at[index, 'track_end_time'] = string_to_timestamp(row['video_start_time']) + row['timestamps'][-1]\n",
    "        reversed_tracks.at[index, 'video_end_time'] = inc_year(row['video_end_time'])\n",
    "        reversed_tracks.at[index, 'in_direction'] = opposite(row['in_direction'])\n",
    "        reversed_tracks.at[index, 'out_direction'] = opposite(row['out_direction'])\n",
    "    return reversed_tracks\n",
    "\n",
    "\"\"\"\n",
    "Using powerset on a list of functions to try all possibilities\n",
    "param: DataFrame containing the standardized columns\n",
    "return: new DataFrame, containing also the original\n",
    "\"\"\"\n",
    "def augment_data(tracks_ml):\n",
    "    # taken from https://docs.python.org/3/library/itertools.html#recipes\n",
    "    # and slightly modified\n",
    "    def powerset(iterable):\n",
    "        \"powerset([1,2,3]) --> () (1,) (2,) (3,) (1,2) (1,3) (2,3) (1,2,3)\"\n",
    "        s = list(iterable)\n",
    "        return list(chain.from_iterable(combinations(s, r) for r in range(len(s)+1)))\n",
    "    functions = [invertVertical_outer, invertVertical_inner, invertHorizontal,\n",
    "                 randomize_y_coordinates, randomize_x_coordinates, reverse_path]\n",
    "    powerset = powerset(functions)\n",
    "    length_powerset = 2**(len(functions))\n",
    "    result = tracks_ml\n",
    "    for i in range(length_powerset):\n",
    "        newDataFrame = tracks_ml.copy(deep = True)\n",
    "        for f in powerset[i]:\n",
    "            newDataFrame = f(newDataFrame)\n",
    "        result = result.append(newDataFrame, ignore_index = True)\n",
    "    return result\n"
   ]
  },
  {
   "cell_type": "markdown",
   "metadata": {},
   "source": [
    "## 2.5 Get Features from data"
   ]
  },
  {
   "cell_type": "code",
   "execution_count": 18,
   "metadata": {
    "ExecuteTime": {
     "end_time": "2019-03-21T15:00:31.747558Z",
     "start_time": "2019-03-21T15:00:31.572025Z"
    },
    "collapsed": true
   },
   "outputs": [],
   "source": [
    "# helper functions\n",
    "\n",
    "def normalize(x, min_x, max_x):\n",
    "    \"\"\" normalize x to 0..1 \"\"\"\n",
    "    return (x-min_x)/(max_x-min_x)\n",
    "\n",
    "def get_time_from_timestamp(timestamp):\n",
    "    \"\"\" return time of day in hours (float) (range 0-23.99) \"\"\"\n",
    "    time_struct = time.localtime(timestamp)\n",
    "    return time_struct.tm_hour+normalize(time_struct.tm_min, 0, 60)\n",
    "\n",
    "def euclidean_distance(p1, p2):\n",
    "    return np.sqrt(np.sum((p1-p2)**2))\n",
    "\n",
    "def get_speed(p1, p2, t1, t2):\n",
    "    d = euclidean_distance(p1, p2)\n",
    "    t = t2-t1\n",
    "    return d/t\n",
    "\n",
    "def get_start_speed(xpos, ypos, timestamps):\n",
    "    \n",
    "    assert(len(xpos) == len(ypos) == len(timestamps))\n",
    "    \n",
    "    if len(xpos) < 2:\n",
    "        return 0\n",
    "    p1 = np.array([xpos[0], ypos[0]])\n",
    "    p2 = np.array([xpos[1], ypos[1]])\n",
    "    \n",
    "    return get_speed(p1,p2,timestamps[0],timestamps[1])\n",
    "\n",
    "def get_end_speed(xpos, ypos, timestamps):\n",
    "    \n",
    "    assert(len(xpos) == len(ypos) == len(timestamps))\n",
    "    \n",
    "    if len(xpos) < 2:\n",
    "        return 0\n",
    "    \n",
    "    p1 = np.array([xpos[-2], ypos[-2]])\n",
    "    p2 = np.array([xpos[-1], ypos[-1]])\n",
    "    return get_speed(p1,p2,timestamps[-2],timestamps[-1])\n",
    "\n",
    "def get_avg_speed(xpos, ypos, timestamps):\n",
    "    \"\"\" returns a list of speeds between the points (x_pos, y_pos) \"\"\"\n",
    "    if len(xpos) <= 1:\n",
    "        return 0\n",
    "    \n",
    "    s = []\n",
    "    for i in range(len(xpos)-1):\n",
    "        p1 = np.array([xpos[i], ypos[i]])\n",
    "        p2 = np.array([xpos[i+1], ypos[i+1]])\n",
    "        \n",
    "        speed = get_speed(p1, p2, timestamps[i], timestamps[i+1])\n",
    "        s.append(speed)\n",
    "        \n",
    "    s = np.array(s)\n",
    "    return np.mean(s)\n",
    "\n",
    "def get_track_distance(xpos, ypos):\n",
    "    points = np.array([xpos, ypos]).T\n",
    "    \n",
    "    dists = []\n",
    "    for i in range(points.shape[0]-1):\n",
    "        d = euclidean_distance(points[i],points[i+1])\n",
    "        dists.append(d)\n",
    "    return np.sum(dists)"
   ]
  },
  {
   "cell_type": "code",
   "execution_count": 19,
   "metadata": {
    "ExecuteTime": {
     "end_time": "2019-03-21T15:00:31.928093Z",
     "start_time": "2019-03-21T15:00:31.749549Z"
    },
    "collapsed": true
   },
   "outputs": [],
   "source": [
    "\n",
    "def get_features(X, include=None, exclude=None, normalize=False):\n",
    "    \"\"\" \n",
    "    if include != None then only include features in include array, ignore exclude. default: include all\n",
    "    if exclude != None then inlcude all except exclude array. default: exclude None\n",
    "    \n",
    "    if normalize = True, normalizes all features to range [0,1]\n",
    "    \n",
    "    'duration',\n",
    "    'day_time',\n",
    "    'num_detections',\n",
    "    'start_xpos',\n",
    "    'end_xpos',\n",
    "    'avg_xpos',\n",
    "    'start_ypos',\n",
    "    'end_ypos',\n",
    "    'start_z_rotation',\n",
    "    'end_z_rotation',\n",
    "    'avg_zrotation',\n",
    "    'start_speed',\n",
    "    'end_speed',\n",
    "    'avg_speed',\n",
    "    'track_length'\n",
    "    \"\"\"\n",
    "    \n",
    "    # duration, start_pos, end_pos, start_z_rotation, end_z_rotation, time_of_day, num_points_in_track, avg_speed_of_bee, start_speed, end_speed\n",
    "    tracks = X.copy()\n",
    "    tracks_features = X.copy()\n",
    "    \n",
    "    tracks_features['duration'] = tracks['track_end_time'] - tracks['track_start_time']\n",
    "    tracks_features['start_xpos'] = tracks['xpos'].apply(lambda x: x[0])\n",
    "    tracks_features['end_xpos'] = tracks['xpos'].apply(lambda x: x[-1])\n",
    "    tracks_features['avg_xpos'] = tracks['xpos'].apply(lambda x: np.mean(x))\n",
    "    tracks_features['start_ypos'] = tracks['ypos'].apply(lambda x: x[0]) # do we need?\n",
    "    tracks_features['end_ypos'] = tracks['ypos'].apply(lambda x: x[-1]) # do we need?\n",
    "\n",
    "\n",
    "    tracks_features['normalized_zrotation'] =  tracks['zrotation'].apply(lambda x: np.abs(x)) #lambda x: np.array(x) + math.pi) # we normalized because pi -pi\n",
    "    tracks_features['start_z_rotation'] = tracks_features['normalized_zrotation'].apply(lambda x: x[0])\n",
    "    tracks_features['end_z_rotation'] = tracks_features['normalized_zrotation'].apply(lambda x: x[-1])\n",
    "    tracks_features['avg_zrotation'] =  tracks_features['normalized_zrotation'].apply(lambda x: np.mean(x))\n",
    "\n",
    "    tracks_features['day_time'] = (tracks['track_start_time'] + tracks['track_end_time']) / 2\n",
    "    tracks_features['day_time'] = tracks_features['day_time'].apply(lambda x: get_time_from_timestamp(x))\n",
    "\n",
    "    tracks_features['num_detections'] = tracks['xpos'].apply(lambda x: len(x))\n",
    "\n",
    "    # speed\n",
    "    tracks_features['start_speed'] = tracks[['xpos','ypos','timestamps']].apply(lambda x: get_start_speed(x[0],x[1],x[2]), axis=1)\n",
    "    tracks_features['end_speed'] = tracks[['xpos','ypos','timestamps']].apply(lambda x: get_end_speed(x[0],x[1],x[2]), axis=1)\n",
    "    tracks_features['avg_speed'] = tracks[['xpos','ypos','timestamps']].apply(lambda x: get_avg_speed(x[0],x[1],x[2]), axis=1)\n",
    "\n",
    "    # total distance traveled\n",
    "    tracks_features['track_length'] = tracks[['xpos','ypos']].apply(lambda x: get_track_distance(x[0],x[1]), axis=1)\n",
    "    \n",
    "    #must_include = ['bee_id','video_start_time','video_end_time','track_start_time','track_end_time','in_direction','out_direction']\n",
    "    all_features = ['duration','day_time','num_detections','start_xpos','end_xpos','avg_xpos','start_ypos','end_ypos','start_z_rotation','end_z_rotation','avg_zrotation','start_speed','end_speed','avg_speed', 'track_length']\n",
    "    if include is None and exclude is None:\n",
    "        columns = all_features\n",
    "    if include is not None:\n",
    "        columns = include\n",
    "    if exclude is not None:\n",
    "        columns = [x for x in all_features if x not in exclude]\n",
    "        \n",
    "    tracks_features = tracks_features[columns]\n",
    "    \n",
    "    if normalize is True:\n",
    "        \n",
    "        tracks_features = pd.DataFrame(sklearn_normalize(tracks_features, axis=0), columns=tracks_features.columns)\n",
    "        \n",
    "    return tracks_features"
   ]
  },
  {
   "cell_type": "code",
   "execution_count": 31,
   "metadata": {
    "ExecuteTime": {
     "end_time": "2019-03-21T15:12:41.440908Z",
     "start_time": "2019-03-21T15:12:41.221425Z"
    }
   },
   "outputs": [
    {
     "data": {
      "text/html": [
       "<div>\n",
       "<style scoped>\n",
       "    .dataframe tbody tr th:only-of-type {\n",
       "        vertical-align: middle;\n",
       "    }\n",
       "\n",
       "    .dataframe tbody tr th {\n",
       "        vertical-align: top;\n",
       "    }\n",
       "\n",
       "    .dataframe thead th {\n",
       "        text-align: right;\n",
       "    }\n",
       "</style>\n",
       "<table border=\"1\" class=\"dataframe\">\n",
       "  <thead>\n",
       "    <tr style=\"text-align: right;\">\n",
       "      <th></th>\n",
       "      <th>duration</th>\n",
       "      <th>day_time</th>\n",
       "      <th>num_detections</th>\n",
       "      <th>start_xpos</th>\n",
       "      <th>end_xpos</th>\n",
       "      <th>avg_xpos</th>\n",
       "      <th>start_ypos</th>\n",
       "      <th>end_ypos</th>\n",
       "      <th>start_z_rotation</th>\n",
       "      <th>end_z_rotation</th>\n",
       "      <th>avg_zrotation</th>\n",
       "      <th>start_speed</th>\n",
       "      <th>end_speed</th>\n",
       "      <th>avg_speed</th>\n",
       "      <th>track_length</th>\n",
       "    </tr>\n",
       "  </thead>\n",
       "  <tbody>\n",
       "    <tr>\n",
       "      <th>0</th>\n",
       "      <td>0.470916</td>\n",
       "      <td>0.021084</td>\n",
       "      <td>0.187864</td>\n",
       "      <td>0.172225</td>\n",
       "      <td>0.077720</td>\n",
       "      <td>0.117777</td>\n",
       "      <td>0.068760</td>\n",
       "      <td>0.152675</td>\n",
       "      <td>0.108949</td>\n",
       "      <td>0.132789</td>\n",
       "      <td>0.113309</td>\n",
       "      <td>0.062576</td>\n",
       "      <td>0.061013</td>\n",
       "      <td>0.064216</td>\n",
       "      <td>0.440940</td>\n",
       "    </tr>\n",
       "    <tr>\n",
       "      <th>1</th>\n",
       "      <td>0.113805</td>\n",
       "      <td>0.048405</td>\n",
       "      <td>0.044341</td>\n",
       "      <td>0.086121</td>\n",
       "      <td>0.172843</td>\n",
       "      <td>0.144013</td>\n",
       "      <td>0.084503</td>\n",
       "      <td>0.074075</td>\n",
       "      <td>0.196697</td>\n",
       "      <td>0.008528</td>\n",
       "      <td>0.026960</td>\n",
       "      <td>0.000188</td>\n",
       "      <td>0.096853</td>\n",
       "      <td>0.067116</td>\n",
       "      <td>0.048993</td>\n",
       "    </tr>\n",
       "    <tr>\n",
       "      <th>2</th>\n",
       "      <td>0.004578</td>\n",
       "      <td>0.069489</td>\n",
       "      <td>0.009335</td>\n",
       "      <td>0.078934</td>\n",
       "      <td>0.128357</td>\n",
       "      <td>0.112585</td>\n",
       "      <td>0.086500</td>\n",
       "      <td>0.066243</td>\n",
       "      <td>0.034339</td>\n",
       "      <td>0.009942</td>\n",
       "      <td>0.012826</td>\n",
       "      <td>0.119450</td>\n",
       "      <td>0.160834</td>\n",
       "      <td>0.166270</td>\n",
       "      <td>0.022548</td>\n",
       "    </tr>\n",
       "    <tr>\n",
       "      <th>3</th>\n",
       "      <td>0.005232</td>\n",
       "      <td>0.075577</td>\n",
       "      <td>0.010502</td>\n",
       "      <td>0.201552</td>\n",
       "      <td>0.082480</td>\n",
       "      <td>0.152650</td>\n",
       "      <td>0.163660</td>\n",
       "      <td>0.160679</td>\n",
       "      <td>0.207422</td>\n",
       "      <td>0.182683</td>\n",
       "      <td>0.240867</td>\n",
       "      <td>0.148452</td>\n",
       "      <td>0.169267</td>\n",
       "      <td>0.221510</td>\n",
       "      <td>0.034331</td>\n",
       "    </tr>\n",
       "    <tr>\n",
       "      <th>4</th>\n",
       "      <td>0.007849</td>\n",
       "      <td>0.084338</td>\n",
       "      <td>0.014002</td>\n",
       "      <td>0.207093</td>\n",
       "      <td>0.077721</td>\n",
       "      <td>0.155141</td>\n",
       "      <td>0.171918</td>\n",
       "      <td>0.080035</td>\n",
       "      <td>0.203326</td>\n",
       "      <td>0.181526</td>\n",
       "      <td>0.237745</td>\n",
       "      <td>0.153908</td>\n",
       "      <td>0.218699</td>\n",
       "      <td>0.179489</td>\n",
       "      <td>0.040611</td>\n",
       "    </tr>\n",
       "  </tbody>\n",
       "</table>\n",
       "</div>"
      ],
      "text/plain": [
       "   duration  day_time  num_detections  start_xpos  end_xpos  avg_xpos  \\\n",
       "0  0.470916  0.021084        0.187864    0.172225  0.077720  0.117777   \n",
       "1  0.113805  0.048405        0.044341    0.086121  0.172843  0.144013   \n",
       "2  0.004578  0.069489        0.009335    0.078934  0.128357  0.112585   \n",
       "3  0.005232  0.075577        0.010502    0.201552  0.082480  0.152650   \n",
       "4  0.007849  0.084338        0.014002    0.207093  0.077721  0.155141   \n",
       "\n",
       "   start_ypos  end_ypos  start_z_rotation  end_z_rotation  avg_zrotation  \\\n",
       "0    0.068760  0.152675          0.108949        0.132789       0.113309   \n",
       "1    0.084503  0.074075          0.196697        0.008528       0.026960   \n",
       "2    0.086500  0.066243          0.034339        0.009942       0.012826   \n",
       "3    0.163660  0.160679          0.207422        0.182683       0.240867   \n",
       "4    0.171918  0.080035          0.203326        0.181526       0.237745   \n",
       "\n",
       "   start_speed  end_speed  avg_speed  track_length  \n",
       "0     0.062576   0.061013   0.064216      0.440940  \n",
       "1     0.000188   0.096853   0.067116      0.048993  \n",
       "2     0.119450   0.160834   0.166270      0.022548  \n",
       "3     0.148452   0.169267   0.221510      0.034331  \n",
       "4     0.153908   0.218699   0.179489      0.040611  "
      ]
     },
     "execution_count": 31,
     "metadata": {},
     "output_type": "execute_result"
    }
   ],
   "source": [
    "X = get_features(tracks_ml, normalize=True)\n",
    "X.head()"
   ]
  },
  {
   "cell_type": "markdown",
   "metadata": {
    "collapsed": true
   },
   "source": [
    "# Interlude: Feature selection"
   ]
  },
  {
   "cell_type": "code",
   "execution_count": 34,
   "metadata": {
    "ExecuteTime": {
     "end_time": "2019-03-21T15:13:26.719853Z",
     "start_time": "2019-03-21T15:13:26.573606Z"
    }
   },
   "outputs": [
    {
     "name": "stdout",
     "output_type": "stream",
     "text": [
      "\n",
      "--- In-Direction ---\n",
      "Important Columns chi2: ['start_xpos', 'start_z_rotation', 'end_z_rotation', 'avg_zrotation', 'start_speed']\n",
      "Important Columns f_classif: ['start_xpos', 'start_ypos', 'start_z_rotation', 'end_z_rotation', 'avg_zrotation']\n",
      "Important Columns mutual info: ['start_xpos', 'start_ypos', 'start_z_rotation', 'avg_zrotation', 'start_speed']\n",
      "\n",
      "\n",
      "--- Out-Direction ---\n",
      "Important Columns chi2: ['start_xpos', 'end_xpos', 'start_z_rotation', 'end_z_rotation', 'avg_zrotation']\n",
      "Important Columns f_classif: ['start_xpos', 'end_xpos', 'start_z_rotation', 'end_z_rotation', 'avg_zrotation']\n",
      "Important Columns mutual info: ['day_time', 'end_xpos', 'end_ypos', 'end_z_rotation', 'avg_zrotation']\n"
     ]
    },
    {
     "name": "stderr",
     "output_type": "stream",
     "text": [
      "/home/tscho/anaconda3/lib/python3.6/site-packages/sklearn/utils/__init__.py:93: FutureWarning: Conversion of the second argument of issubdtype from `int` to `np.signedinteger` is deprecated. In future, it will be treated as `np.int64 == np.dtype(int).type`.\n",
      "  if np.issubdtype(mask.dtype, np.int):\n",
      "/home/tscho/anaconda3/lib/python3.6/site-packages/sklearn/utils/__init__.py:93: FutureWarning: Conversion of the second argument of issubdtype from `int` to `np.signedinteger` is deprecated. In future, it will be treated as `np.int64 == np.dtype(int).type`.\n",
      "  if np.issubdtype(mask.dtype, np.int):\n"
     ]
    }
   ],
   "source": [
    "# select features based on https://scikit-learn.org/stable/modules/feature_selection.html\n",
    "\n",
    "print(\"\\n--- In-Direction ---\")\n",
    "y = tracks_ml['in_direction']\n",
    "\n",
    "selector = SelectKBest(chi2, k=5)\n",
    "selector.fit(X, y)\n",
    "\n",
    "# Get columns to keep\n",
    "cols = selector.get_support(indices=True)\n",
    "\n",
    "print(\"Important Columns chi2:\",list(X.columns[cols]))\n",
    "\n",
    "selector = SelectKBest(f_classif, k=5)\n",
    "selector.fit(X, y)\n",
    "cols = selector.get_support(indices=True)\n",
    "\n",
    "print(\"Important Columns f_classif:\",list(X.columns[cols]))\n",
    "\n",
    "selector = SelectKBest(mutual_info_classif, k=5)\n",
    "selector.fit(X, y)\n",
    "cols = selector.get_support(indices=True)\n",
    "\n",
    "print(\"Important Columns mutual info:\",list(X.columns[cols]))\n",
    "\n",
    "print(\"\\n\\n--- Out-Direction ---\")\n",
    "y = tracks_ml['out_direction']\n",
    "\n",
    "selector = SelectKBest(chi2, k=5)\n",
    "selector.fit(X, y)\n",
    "\n",
    "# Get columns to keep\n",
    "cols = selector.get_support(indices=True)\n",
    "\n",
    "print(\"Important Columns chi2:\",list(X.columns[cols]))\n",
    "\n",
    "selector = SelectKBest(f_classif, k=5)\n",
    "selector.fit(X, y)\n",
    "cols = selector.get_support(indices=True)\n",
    "\n",
    "print(\"Important Columns f_classif:\",list(X.columns[cols]))\n",
    "\n",
    "selector = SelectKBest(mutual_info_classif, k=5)\n",
    "selector.fit(X, y)\n",
    "cols = selector.get_support(indices=True)\n",
    "\n",
    "print(\"Important Columns mutual info:\",list(X.columns[cols]))"
   ]
  },
  {
   "cell_type": "markdown",
   "metadata": {},
   "source": [
    "# 3. Classifiers"
   ]
  },
  {
   "cell_type": "markdown",
   "metadata": {},
   "source": [
    "## 3.1 Baseline - Areas as Decider"
   ]
  },
  {
   "cell_type": "code",
   "execution_count": 15,
   "metadata": {
    "ExecuteTime": {
     "end_time": "2019-03-21T15:00:30.569219Z",
     "start_time": "2019-03-21T15:00:30.508967Z"
    }
   },
   "outputs": [],
   "source": [
    "class baseline_area_clf():\n",
    "    \"\"\" Vorgehen:\n",
    "    Für jedes Bienen-Track Paar\n",
    "    - Prüfe, wo sich die Biene beim ersten erkannten Erscheinen aufhält\n",
    "        - Ordne die Position in left, right oder middle ein\n",
    "    - Prüfe, wo sich die Biene beim letzten erkannten Erscheinen aufhält\n",
    "        - Ordne die Position in left, right oder middle ein\n",
    "    Wenn sich Biene in der Mitte befindet, starte neue Routine, die links oder rechts zuordnet\n",
    "    Daraus kann nun abgeleitet werden, wo die Biene reingekommen ist und wo sie rausgegangen ist.\n",
    "    \"\"\"\n",
    "\n",
    "    def __init__(self, verbose=True, area_percentage=0.30, total_area = 1944):\n",
    "        \n",
    "        self.verbose = verbose\n",
    "        self.area_percentage = area_percentage\n",
    "        self.total_area = total_area\n",
    "\n",
    "    def fit(self, train_x, train_y):\n",
    "        return self\n",
    "\n",
    "    def test(self, test_x, test_y):\n",
    "        \n",
    "        pred_y = self.predict(test_x)\n",
    "        \n",
    "        return classifier_metrics(test_y, pred_y, verbose=self.verbose)\n",
    "        \n",
    "    def predict(self, x):\n",
    "        \n",
    "        #print(x.head())\n",
    "\n",
    "        pred_y = pd.DataFrame(columns=['pred_in_direction','pred_out_direction'])\n",
    "        pred_y['pred_in_direction'] = x[['start_xpos','start_z_rotation']].apply(lambda x1: self._get_direction(x1[0],x1[1]), axis = 1)\n",
    "        pred_y['pred_out_direction'] = x[['end_xpos','end_z_rotation']].apply(lambda x1: self._get_direction(x1[0],x1[1]), axis = 1)\n",
    "        \n",
    "        return pred_y\n",
    "        \n",
    "    def _get_direction(self, xpos, zrotation):\n",
    "            \n",
    "        # Eintrittsseite festlegen\n",
    "        if xpos <= self.area_percentage*self.total_area:\n",
    "            return \"left\"\n",
    "        elif xpos >= self.total_area - self.area_percentage*self.total_area:\n",
    "            return \"right\"\n",
    "        else:\n",
    "            if abs(zrotation) > pi/2:\n",
    "                return \"left\"\n",
    "            else:\n",
    "                return \"right\""
   ]
  },
  {
   "cell_type": "markdown",
   "metadata": {},
   "source": [
    "## 3.2 Baseline - zpos as decider"
   ]
  },
  {
   "cell_type": "code",
   "execution_count": 16,
   "metadata": {
    "ExecuteTime": {
     "end_time": "2019-03-21T15:00:30.593893Z",
     "start_time": "2019-03-21T15:00:30.571060Z"
    },
    "collapsed": true
   },
   "outputs": [],
   "source": [
    "class baseline_zrotation_clf():\n",
    "    \"\"\" Vorgehen:\n",
    "    Unterschied: Hier wird nicht auf die Position abgestellt, sondern ausschließlich auf die\n",
    "    Richtung, in die die Biene schaut\n",
    "    \"\"\"\n",
    "\n",
    "    def __init__(self, verbose=True):\n",
    "        \n",
    "        self.verbose = verbose\n",
    "\n",
    "    def fit(self, train_x, train_y):\n",
    "        return self\n",
    "\n",
    "    def test(self, test_x, test_y):\n",
    "        \n",
    "        pred_y = self.predict(test_x)\n",
    "        \n",
    "        return classifier_metrics(test_y, pred_y, verbose=self.verbose)\n",
    "        \n",
    "    def predict(self, x):\n",
    "        \n",
    "        pred_y = pd.DataFrame(columns=['pred_in_direction','pred_out_direction'])\n",
    "        pred_y['pred_in_direction'] = x['start_z_rotation'].apply(lambda x1: 'left' if x1 < math.pi/2 else 'right')\n",
    "        pred_y['pred_out_direction'] = x['end_z_rotation'].apply(lambda x1: 'right' if x1 < math.pi/2 else 'left')\n",
    "        \n",
    "        return pred_y"
   ]
  },
  {
   "cell_type": "markdown",
   "metadata": {},
   "source": [
    "## 3.3 Logistische Regression"
   ]
  },
  {
   "cell_type": "code",
   "execution_count": 21,
   "metadata": {
    "ExecuteTime": {
     "end_time": "2019-03-21T15:00:32.370717Z",
     "start_time": "2019-03-21T15:00:32.232851Z"
    },
    "collapsed": true
   },
   "outputs": [],
   "source": [
    "class logisic_regression_clf():\n",
    "\n",
    "    def __init__(self, k_features=1, feature_selection_method=\"mutual_info_classif\", normalized=False, verbose=True):\n",
    "        \n",
    "        self.k_features = k_features\n",
    "        self.feature_selection_method = feature_selection_method\n",
    "        self.normalized = normalized\n",
    "        self.verbose = verbose\n",
    "\n",
    "    def fit(self, train_x, train_y):\n",
    "\n",
    "        self.features_in_dir = train_x.columns\n",
    "        self.features_out_dir = train_x.columns\n",
    "\n",
    "        if self.k_features is not None:\n",
    "            selector_in_dir = SelectKBest(\n",
    "                mutual_info_classif, k=self.k_features) if self.feature_selection_method == \"mutual_info_classif\" else SelectKBest(f_classif, k=self.k_features)\n",
    "            selector_in_dir.fit(train_x, train_y['in_direction'])\n",
    "            self.features_in_dir = train_x.columns[selector_in_dir.get_support(\n",
    "                indices=True)]\n",
    "            if self.verbose:\n",
    "                print('Selected Features for in_direction:', self.features_in_dir)\n",
    "\n",
    "            selector_out_dir = SelectKBest(\n",
    "                mutual_info_classif, k=self.k_features) if self.feature_selection_method == \"mutual_info_classif\" else SelectKBest(f_classif, k=self.k_features)\n",
    "            selector_out_dir.fit(train_x, train_y['out_direction'])\n",
    "            self.features_out_dir = train_x.columns[selector_out_dir.get_support(\n",
    "                indices=True)]\n",
    "            if self.verbose:\n",
    "                print('Selected Features for out_direction:', self.features_out_dir)\n",
    "\n",
    "        train_x_in = train_x[self.features_in_dir]\n",
    "        train_x_out = train_x[self.features_out_dir]\n",
    "\n",
    "        # in_dir\n",
    "        self.clf_in = LogisticRegression()\n",
    "        self.clf_in.fit(train_x_in, train_y['in_direction'])\n",
    "\n",
    "        # out_dir\n",
    "        self.clf_out = LogisticRegression()\n",
    "        self.clf_out.fit(train_x_out, train_y['out_direction'])\n",
    "\n",
    "    def test(self, test_x, test_y):\n",
    "        \n",
    "        pred_y = self.predict(test_x)\n",
    "        return classifier_metrics(test_y, pred_y, verbose=self.verbose)\n",
    "        \n",
    "    def predict(self, x):\n",
    "        \n",
    "        test_x_in = x[self.features_in_dir]\n",
    "        pred_y_in = self.clf_in.predict(test_x_in)\n",
    "        \n",
    "        # test\n",
    "        test_x_out = x[self.features_out_dir]\n",
    "        pred_y_out = self.clf_out.predict(test_x_out)\n",
    "        \n",
    "        pred_y = pd.DataFrame(columns=['pred_in_direction','pred_out_direction'])\n",
    "        pred_y['pred_in_direction'] = pred_y_in\n",
    "        pred_y['pred_out_direction'] = pred_y_out\n",
    "        \n",
    "        return pred_y\n",
    "        "
   ]
  },
  {
   "cell_type": "markdown",
   "metadata": {},
   "source": [
    "## 3.4 Random Forest"
   ]
  },
  {
   "cell_type": "code",
   "execution_count": 22,
   "metadata": {
    "ExecuteTime": {
     "end_time": "2019-03-21T15:00:32.405971Z",
     "start_time": "2019-03-21T15:00:32.373337Z"
    },
    "collapsed": true
   },
   "outputs": [],
   "source": [
    "class random_forest_clf():\n",
    "\n",
    "    def __init__(self, n_estimators = 1400, max_features = 'auto', max_depth = 100, verbose=True):\n",
    "        \n",
    "        self.verbose = verbose\n",
    "        self.clf = ExtraTreesClassifier(n_estimators = n_estimators, max_features=max_features)\n",
    "\n",
    "    def fit(self, train_x, train_y):\n",
    "        \n",
    "        train_y = combine_in_out(train_y['in_direction'],train_y['out_direction'])\n",
    "        self.clf.fit(train_x, train_y)\n",
    "\n",
    "    def test(self, test_x, test_y):\n",
    "        \n",
    "        pred_y = self.predict(test_x)\n",
    "        \n",
    "        return classifier_metrics(test_y, pred_y, verbose=self.verbose)\n",
    "        \n",
    "    def predict(self, x):\n",
    "        \n",
    "        pred_y = self.clf.predict(x)\n",
    "        pred_y = split_in_out(pd.DataFrame(pred_y), prefix='pred')\n",
    "        return pred_y"
   ]
  },
  {
   "cell_type": "markdown",
   "metadata": {},
   "source": [
    "# 4. Evaluation"
   ]
  },
  {
   "cell_type": "code",
   "execution_count": 23,
   "metadata": {
    "ExecuteTime": {
     "end_time": "2019-03-21T15:00:33.515153Z",
     "start_time": "2019-03-21T15:00:32.408244Z"
    },
    "collapsed": true
   },
   "outputs": [],
   "source": [
    "def combine_in_out(y_in, y_out):\n",
    "    \"\"\" convert in_direction, out_direction to ll, lr, rr, rl \"\"\"\n",
    "    \n",
    "    in_label = y_in.copy()\n",
    "    in_label[y_in == 'left'] = 'L'\n",
    "    in_label[y_in == 'right'] = 'R'\n",
    "    \n",
    "    out_label = y_out.copy()\n",
    "    out_label[y_out == 'left'] = 'L'\n",
    "    out_label[y_out == 'right'] = 'R'\n",
    "\n",
    "    return in_label + out_label\n",
    "\n",
    "def split_in_out(y_in_out, prefix=''):\n",
    "    \"\"\" convert ll, lr, rr, rl to in_direction, out_direction \n",
    "    or pred_in_direction if prefix = 'pred'\n",
    "    \"\"\"\n",
    "    \n",
    "    if len(prefix) > 0:\n",
    "        prefix = prefix + '_'\n",
    "    \n",
    "    in_dir = y_in_out[0].apply(lambda x: 'left' if list(x)[0] == 'L' else 'right')\n",
    "    out_dir = y_in_out[0].apply(lambda x: 'left' if list(x)[1] == 'L' else 'right')\n",
    "    \n",
    "    res = pd.DataFrame(columns = [prefix + 'in_direction',prefix + 'out_direction'])\n",
    "    res[prefix + 'in_direction'] = in_dir\n",
    "    res[prefix + 'out_direction'] = out_dir\n",
    "    return res\n",
    "    \n",
    "\n",
    "def classifier_metrics(y, ypred, verbose = False):\n",
    "    \"\"\" \n",
    "    y.columns = ['in_direction','out_direction']\n",
    "    y_pred.columns = ['pred_in_direction','pred_out_direction']\n",
    "    \n",
    "    returns: \n",
    "        (in_accuracy, out_accuracy, total_accuracy)\n",
    "    \"\"\"\n",
    "        \n",
    "    y_combined = combine_in_out(y['in_direction'], y['out_direction'])\n",
    "    y_pred_combined = combine_in_out(ypred['pred_in_direction'], ypred['pred_out_direction'])\n",
    "\n",
    "    in_accuracy = accuracy_score(y['in_direction'], ypred['pred_in_direction'])\n",
    "    out_accuracy = accuracy_score(y['out_direction'], ypred['pred_out_direction'])\n",
    "    total_accuracy =  accuracy_score(y_combined, y_pred_combined)\n",
    "\n",
    "    if verbose:\n",
    "        print('Confusion Matrix In-Direction:')\n",
    "        print(pd.DataFrame(confusion_matrix(y['in_direction'], ypred['pred_in_direction']), columns=['L','R'], index=['L','R']))\n",
    "        print('Accuracy In-Direction:',in_accuracy)\n",
    "        print('\\n')\n",
    "        print('Confusion Matrix Out-Direction:')\n",
    "        print(pd.DataFrame(confusion_matrix(y['out_direction'], ypred['pred_out_direction']), columns=['L','R'], index=['L','R']))\n",
    "        print('Accuracy Out-Direction:',accuracy_score(y['out_direction'], ypred['pred_out_direction']))\n",
    "        print('\\n')\n",
    "        print('Confusion Matrix Combined:')\n",
    "        print(pd.DataFrame(confusion_matrix(y_combined,y_pred_combined, labels=['LL', 'LR', 'RL', 'RR']), columns=['LL', 'LR', 'RL', 'RR'], index=['LL', 'LR', 'RL', 'RR']))\n",
    "        print('Total Accuracy:', total_accuracy)\n",
    "\n",
    "    return (in_accuracy, out_accuracy, total_accuracy)\n",
    "\n",
    "# taken from: https://stackoverflow.com/questions/783897/truncating-floats-in-python\n",
    "def truncate(f, n):\n",
    "    '''Truncates/pads a float f to n decimal places (after .) without rounding'''\n",
    "    s = '{}'.format(f)\n",
    "    if 'e' in s or 'E' in s:\n",
    "        return '{0:.{1}f}'.format(f, n)\n",
    "    i, p, d = s.partition('.')\n",
    "    return '.'.join([i, (d+'0'*n)[:n]])\n",
    "\n",
    "def test_classifier(clf, data, n_bootstraps = 10, test_size = 0.25, data_augmentation = True, verbose = True, plot = True):\n",
    "    accuracies = []\n",
    "    for counter in range(n_bootstraps): \n",
    "        sys.stdout.write('.')\n",
    "        sys.stdout.flush()\n",
    "\n",
    "        train_x, test_x = train_test_split(data, test_size = test_size, random_state=random.randint(0,2**32-1))\n",
    "\n",
    "        # increase training set\n",
    "        if data_augmentation:\n",
    "            train_x = augment_data(train_x)\n",
    "\n",
    "        # get training labels\n",
    "        train_y = train_x[['in_direction','out_direction']]\n",
    "\n",
    "        # get training features\n",
    "        train_x = get_features(train_x)\n",
    "\n",
    "        # get test labels\n",
    "        test_y = test_x[['in_direction','out_direction']]\n",
    "\n",
    "        # get test features\n",
    "        test_x = get_features(test_x)\n",
    "\n",
    "        # train\n",
    "        clf.fit(train_x, train_y)\n",
    "\n",
    "        # test\n",
    "        accuracies.append(clf.test(test_x, test_y))\n",
    "        \n",
    "    if plot:\n",
    "        \n",
    "        f = plt.figure(figsize=(12,3))\n",
    "        y = np.array(accuracies)[:,0]*100\n",
    "        x = range(1,len(y)+1,1)\n",
    "        min_y = (np.min(accuracies)*100//10)*10-10\n",
    "        avg = np.mean(y)\n",
    "        yticks = np.arange(min_y, 105, 10.0)\n",
    "        \n",
    "        plt.subplot(131)\n",
    "        plt.plot(x, y,'bo')\n",
    "        plt.axhline(y=avg, color='r', linestyle='-')\n",
    "        plt.ylabel(\"Accuracy in %\")\n",
    "        plt.yticks(yticks)\n",
    "        plt.title('In Direction')\n",
    "        plt.ylim(min_y,105)\n",
    "        plt.xticks([])\n",
    "        plt.annotate('avg. = '+ str(truncate(avg,1)), xy=(2/3*len(x),avg+2))\n",
    "        \n",
    "        \n",
    "        plt.subplot(132)\n",
    "        y = np.array(accuracies)[:,1]*100\n",
    "        x = range(1,len(y)+1,1)\n",
    "        plt.plot(x, y,'bo')\n",
    "        avg = np.mean(y)\n",
    "        plt.axhline(y=avg, color='r', linestyle='-')\n",
    "        plt.ylabel(\"\")\n",
    "        plt.yticks(yticks)\n",
    "        plt.xticks([])\n",
    "        plt.title('Out Direction')\n",
    "        plt.ylim(min_y,105)\n",
    "        plt.annotate('avg. = '+ str(truncate(avg,1)), xy=(2/3*len(x),avg+2))\n",
    "        \n",
    "        plt.subplot(133)\n",
    "        y = np.array(accuracies)[:,2]*100\n",
    "        x = range(1,len(y)+1,1)\n",
    "        plt.plot(x, y,'bo')\n",
    "        avg = np.mean(y)\n",
    "        plt.axhline(y=avg, color='r', linestyle='-')\n",
    "        plt.ylabel(\"\")\n",
    "        plt.yticks(yticks)\n",
    "        plt.xticks([])\n",
    "        plt.title('Combined')\n",
    "        plt.ylim(min_y,105)\n",
    "        plt.annotate('avg. = '+ str(truncate(avg,1)), xy=(2/3*len(x),avg+2))\n",
    "        #plt.savefig('accuracy_basic_features.jpg', dpi=150)\n",
    "        \n",
    "        plt.show()\n",
    "        \n",
    "    if verbose:\n",
    "        accuracy = np.mean(np.array(accuracies), axis=0)\n",
    "        print('\\n')\n",
    "        print('In-Accuracy: ', accuracy[0])\n",
    "        print('Out-Accuracy: ', accuracy[1])\n",
    "        print('Total-Accuracy: ', accuracy[2])\n",
    "        print('\\n\\n-----------------------\\n')\n",
    "        print('Confusion matrices of last loop')\n",
    "        print('\\n')\n",
    "        pred_y = clf.predict(test_x)\n",
    "        classifier_metrics(test_y, pred_y, verbose=True)\n",
    "                \n",
    "    return accuracies"
   ]
  },
  {
   "cell_type": "markdown",
   "metadata": {},
   "source": [
    "## 4.1 Baseline Area Classifier"
   ]
  },
  {
   "cell_type": "code",
   "execution_count": 24,
   "metadata": {
    "ExecuteTime": {
     "end_time": "2019-03-21T15:00:36.372514Z",
     "start_time": "2019-03-21T15:00:33.517369Z"
    }
   },
   "outputs": [
    {
     "name": "stdout",
     "output_type": "stream",
     "text": [
      ".........."
     ]
    },
    {
     "data": {
      "image/png": "[encoded data removed]",
      "text/plain": [
       "<Figure size 864x216 with 3 Axes>"
      ]
     },
     "metadata": {},
     "output_type": "display_data"
    },
    {
     "name": "stdout",
     "output_type": "stream",
     "text": [
      "\n",
      "\n",
      "In-Accuracy:  0.775\n",
      "Out-Accuracy:  0.91875\n",
      "Total-Accuracy:  0.71875\n",
      "\n",
      "\n",
      "-----------------------\n",
      "\n",
      "Confusion matrices of last loop\n",
      "\n",
      "\n",
      "Confusion Matrix In-Direction:\n",
      "   L  R\n",
      "L  9  1\n",
      "R  2  4\n",
      "Accuracy In-Direction: 0.8125\n",
      "\n",
      "\n",
      "Confusion Matrix Out-Direction:\n",
      "   L  R\n",
      "L  8  0\n",
      "R  2  6\n",
      "Accuracy Out-Direction: 0.875\n",
      "\n",
      "\n",
      "Confusion Matrix Combined:\n",
      "    LL  LR  RL  RR\n",
      "LL   3   0   0   0\n",
      "LR   1   5   1   0\n",
      "RL   1   0   4   0\n",
      "RR   0   1   0   0\n",
      "Total Accuracy: 0.75\n"
     ]
    }
   ],
   "source": [
    "clf = baseline_area_clf(area_percentage=0.3,total_area=1944, verbose=False)\n",
    "accuracies = test_classifier(clf, tracks_ml, data_augmentation=False, n_bootstraps=10)"
   ]
  },
  {
   "cell_type": "markdown",
   "metadata": {},
   "source": [
    "## 4.2 Baseline Zrotation Classifier"
   ]
  },
  {
   "cell_type": "code",
   "execution_count": 25,
   "metadata": {
    "ExecuteTime": {
     "end_time": "2019-03-21T15:00:39.130471Z",
     "start_time": "2019-03-21T15:00:36.374902Z"
    }
   },
   "outputs": [
    {
     "name": "stdout",
     "output_type": "stream",
     "text": [
      ".........."
     ]
    },
    {
     "data": {
      "image/png": "[encoded data removed]",
      "text/plain": [
       "<Figure size 864x216 with 3 Axes>"
      ]
     },
     "metadata": {},
     "output_type": "display_data"
    },
    {
     "name": "stdout",
     "output_type": "stream",
     "text": [
      "\n",
      "\n",
      "In-Accuracy:  0.9125\n",
      "Out-Accuracy:  0.91875\n",
      "Total-Accuracy:  0.83125\n",
      "\n",
      "\n",
      "-----------------------\n",
      "\n",
      "Confusion matrices of last loop\n",
      "\n",
      "\n",
      "Confusion Matrix In-Direction:\n",
      "   L  R\n",
      "L  9  0\n",
      "R  1  6\n",
      "Accuracy In-Direction: 0.9375\n",
      "\n",
      "\n",
      "Confusion Matrix Out-Direction:\n",
      "   L  R\n",
      "L  8  1\n",
      "R  1  6\n",
      "Accuracy Out-Direction: 0.875\n",
      "\n",
      "\n",
      "Confusion Matrix Combined:\n",
      "    LL  LR  RL  RR\n",
      "LL   3   1   0   0\n",
      "LR   0   5   0   0\n",
      "RL   1   0   4   0\n",
      "RR   0   0   1   1\n",
      "Total Accuracy: 0.8125\n"
     ]
    }
   ],
   "source": [
    "clf = baseline_zrotation_clf(verbose=False)\n",
    "accuracies = test_classifier(clf, tracks_ml, data_augmentation=False, n_bootstraps=10)"
   ]
  },
  {
   "cell_type": "markdown",
   "metadata": {
    "ExecuteTime": {
     "end_time": "2019-03-21T10:27:04.749927Z",
     "start_time": "2019-03-21T10:27:04.746190Z"
    }
   },
   "source": [
    "## 4.3 Logistic Regression"
   ]
  },
  {
   "cell_type": "code",
   "execution_count": 26,
   "metadata": {
    "ExecuteTime": {
     "end_time": "2019-03-21T15:00:39.515701Z",
     "start_time": "2019-03-21T15:00:39.133526Z"
    }
   },
   "outputs": [
    {
     "name": "stdout",
     "output_type": "stream",
     "text": [
      "Selected Features for in_direction: Index(['day_time', 'start_xpos', 'start_z_rotation', 'avg_zrotation'], dtype='object')\n",
      "Selected Features for out_direction: Index(['duration', 'end_xpos', 'end_z_rotation', 'avg_zrotation'], dtype='object')\n",
      "Confusion Matrix In-Direction:\n",
      "    L  R\n",
      "L  22  1\n",
      "R   1  7\n",
      "Accuracy In-Direction: 0.9354838709677419\n",
      "\n",
      "\n",
      "Confusion Matrix Out-Direction:\n",
      "    L   R\n",
      "L  11   0\n",
      "R   3  17\n",
      "Accuracy Out-Direction: 0.9032258064516129\n",
      "\n",
      "\n",
      "Confusion Matrix Combined:\n",
      "    LL  LR  RL  RR\n",
      "LL   6   0   0   0\n",
      "LR   2  14   1   0\n",
      "RL   0   0   5   0\n",
      "RR   0   1   0   2\n",
      "Total Accuracy: 0.8709677419354839\n"
     ]
    },
    {
     "data": {
      "text/plain": [
       "(0.9354838709677419, 0.9032258064516129, 0.8709677419354839)"
      ]
     },
     "execution_count": 26,
     "metadata": {},
     "output_type": "execute_result"
    }
   ],
   "source": [
    "train_x, test_x = train_test_split(tracks_ml, test_size = 0.5, random_state=random.randint(0,2**32-1))\n",
    "\n",
    "# get training labels\n",
    "train_y = train_x[['in_direction','out_direction']]\n",
    "\n",
    "# get training features\n",
    "train_x = get_features(train_x)\n",
    "\n",
    "# get test labels\n",
    "test_y = test_x[['in_direction','out_direction']]\n",
    "\n",
    "# get test features\n",
    "test_x = get_features(test_x)\n",
    "\n",
    "clf = logisic_regression_clf(k_features = 4, feature_selection_method=\"mutual_info_classif\", normalized=False, verbose=True)\n",
    "\n",
    "# train\n",
    "clf.fit(train_x, train_y)\n",
    "\n",
    "# test\n",
    "clf.test(test_x, test_y)"
   ]
  },
  {
   "cell_type": "code",
   "execution_count": 27,
   "metadata": {
    "ExecuteTime": {
     "end_time": "2019-03-21T15:02:55.217309Z",
     "start_time": "2019-03-21T15:00:39.518286Z"
    }
   },
   "outputs": [
    {
     "name": "stdout",
     "output_type": "stream",
     "text": [
      ".........."
     ]
    },
    {
     "data": {
      "image/png": "[encoded data removed]",
      "text/plain": [
       "<Figure size 864x216 with 3 Axes>"
      ]
     },
     "metadata": {},
     "output_type": "display_data"
    },
    {
     "name": "stdout",
     "output_type": "stream",
     "text": [
      "\n",
      "\n",
      "In-Accuracy:  0.875\n",
      "Out-Accuracy:  0.78125\n",
      "Total-Accuracy:  0.6625\n",
      "\n",
      "\n",
      "-----------------------\n",
      "\n",
      "Confusion matrices of last loop\n",
      "\n",
      "\n",
      "Confusion Matrix In-Direction:\n",
      "   L  R\n",
      "L  9  2\n",
      "R  0  5\n",
      "Accuracy In-Direction: 0.875\n",
      "\n",
      "\n",
      "Confusion Matrix Out-Direction:\n",
      "   L  R\n",
      "L  3  2\n",
      "R  4  7\n",
      "Accuracy Out-Direction: 0.625\n",
      "\n",
      "\n",
      "Confusion Matrix Combined:\n",
      "    LL  LR  RL  RR\n",
      "LL   0   2   1   0\n",
      "LR   0   7   1   0\n",
      "RL   0   0   2   0\n",
      "RR   0   0   3   0\n",
      "Total Accuracy: 0.5625\n"
     ]
    }
   ],
   "source": [
    "clf = logisic_regression_clf(k_features = 4, feature_selection_method=\"mutual_info_classif\", normalized=False, verbose=False)\n",
    "accuracies = test_classifier(clf, tracks_ml, n_bootstraps=10)"
   ]
  },
  {
   "cell_type": "markdown",
   "metadata": {},
   "source": [
    "## 4.4 Random Forest"
   ]
  },
  {
   "cell_type": "code",
   "execution_count": 28,
   "metadata": {
    "ExecuteTime": {
     "end_time": "2019-03-21T15:05:03.135892Z",
     "start_time": "2019-03-21T15:02:55.219553Z"
    }
   },
   "outputs": [
    {
     "name": "stdout",
     "output_type": "stream",
     "text": [
      ".........."
     ]
    },
    {
     "data": {
      "image/png": "[encoded data removed]",
      "text/plain": [
       "<Figure size 864x216 with 3 Axes>"
      ]
     },
     "metadata": {},
     "output_type": "display_data"
    },
    {
     "name": "stdout",
     "output_type": "stream",
     "text": [
      "\n",
      "\n",
      "In-Accuracy:  0.7875\n",
      "Out-Accuracy:  0.80625\n",
      "Total-Accuracy:  0.74375\n",
      "\n",
      "\n",
      "-----------------------\n",
      "\n",
      "Confusion matrices of last loop\n",
      "\n",
      "\n",
      "Confusion Matrix In-Direction:\n",
      "   L  R\n",
      "L  9  4\n",
      "R  1  2\n",
      "Accuracy In-Direction: 0.6875\n",
      "\n",
      "\n",
      "Confusion Matrix Out-Direction:\n",
      "   L  R\n",
      "L  7  2\n",
      "R  1  6\n",
      "Accuracy Out-Direction: 0.8125\n",
      "\n",
      "\n",
      "Confusion Matrix Combined:\n",
      "    LL  LR  RL  RR\n",
      "LL   4   0   0   2\n",
      "LR   0   5   1   1\n",
      "RL   1   0   2   0\n",
      "RR   0   0   0   0\n",
      "Total Accuracy: 0.6875\n"
     ]
    }
   ],
   "source": [
    "clf = random_forest_clf(n_estimators = 32, max_depth=5, verbose=False)\n",
    "accuracies = test_classifier(clf, tracks_ml)"
   ]
  },
  {
   "cell_type": "code",
   "execution_count": 29,
   "metadata": {
    "ExecuteTime": {
     "end_time": "2019-03-21T15:07:14.055103Z",
     "start_time": "2019-03-21T15:05:03.139610Z"
    }
   },
   "outputs": [
    {
     "name": "stdout",
     "output_type": "stream",
     "text": [
      ".........."
     ]
    },
    {
     "data": {
      "image/png": "[encoded data removed]",
      "text/plain": [
       "<Figure size 864x216 with 3 Axes>"
      ]
     },
     "metadata": {},
     "output_type": "display_data"
    },
    {
     "name": "stdout",
     "output_type": "stream",
     "text": [
      "\n",
      "\n",
      "In-Accuracy:  0.7875\n",
      "Out-Accuracy:  0.775\n",
      "Total-Accuracy:  0.70625\n",
      "\n",
      "\n",
      "-----------------------\n",
      "\n",
      "Confusion matrices of last loop\n",
      "\n",
      "\n",
      "Confusion Matrix In-Direction:\n",
      "    L  R\n",
      "L  10  2\n",
      "R   2  2\n",
      "Accuracy In-Direction: 0.75\n",
      "\n",
      "\n",
      "Confusion Matrix Out-Direction:\n",
      "   L  R\n",
      "L  3  2\n",
      "R  2  9\n",
      "Accuracy Out-Direction: 0.75\n",
      "\n",
      "\n",
      "Confusion Matrix Combined:\n",
      "    LL  LR  RL  RR\n",
      "LL   1   1   0   1\n",
      "LR   0   8   1   0\n",
      "RL   0   0   2   0\n",
      "RR   1   1   0   0\n",
      "Total Accuracy: 0.6875\n"
     ]
    }
   ],
   "source": [
    "clf = random_forest_clf(n_estimators = 32, max_depth=10, verbose=False)\n",
    "accuracies = test_classifier(clf, tracks_ml)"
   ]
  },
  {
   "cell_type": "code",
   "execution_count": 30,
   "metadata": {
    "ExecuteTime": {
     "end_time": "2019-03-21T15:09:24.076338Z",
     "start_time": "2019-03-21T15:07:14.061094Z"
    }
   },
   "outputs": [
    {
     "name": "stdout",
     "output_type": "stream",
     "text": [
      ".........."
     ]
    },
    {
     "data": {
      "image/png": "[encoded data removed]",
      "text/plain": [
       "<Figure size 864x216 with 3 Axes>"
      ]
     },
     "metadata": {},
     "output_type": "display_data"
    },
    {
     "name": "stdout",
     "output_type": "stream",
     "text": [
      "\n",
      "\n",
      "In-Accuracy:  0.76875\n",
      "Out-Accuracy:  0.80625\n",
      "Total-Accuracy:  0.725\n",
      "\n",
      "\n",
      "-----------------------\n",
      "\n",
      "Confusion matrices of last loop\n",
      "\n",
      "\n",
      "Confusion Matrix In-Direction:\n",
      "   L  R\n",
      "L  9  2\n",
      "R  1  4\n",
      "Accuracy In-Direction: 0.8125\n",
      "\n",
      "\n",
      "Confusion Matrix Out-Direction:\n",
      "   L  R\n",
      "L  5  2\n",
      "R  0  9\n",
      "Accuracy Out-Direction: 0.875\n",
      "\n",
      "\n",
      "Confusion Matrix Combined:\n",
      "    LL  LR  RL  RR\n",
      "LL   1   1   1   1\n",
      "LR   0   7   0   0\n",
      "RL   0   0   3   0\n",
      "RR   0   1   0   1\n",
      "Total Accuracy: 0.75\n"
     ]
    }
   ],
   "source": [
    "clf = random_forest_clf(n_estimators = 32, max_features=4, verbose=False)\n",
    "accuracies = test_classifier(clf, tracks_ml)"
   ]
  },
  {
   "cell_type": "code",
   "execution_count": null,
   "metadata": {
    "collapsed": true
   },
   "outputs": [],
   "source": []
  }
 ],
 "metadata": {
  "kernelspec": {
   "display_name": "Python 3",
   "language": "python",
   "name": "python3"
  },
  "language_info": {
   "codemirror_mode": {
    "name": "ipython",
    "version": 3
   },
   "file_extension": ".py",
   "mimetype": "text/x-python",
   "name": "python",
   "nbconvert_exporter": "python",
   "pygments_lexer": "ipython3",
   "version": "3.6.8"
  },
  "toc": {
   "nav_menu": {},
   "number_sections": true,
   "sideBar": true,
   "skip_h1_title": false,
   "title_cell": "Table of Contents",
   "title_sidebar": "Contents",
   "toc_cell": false,
   "toc_position": {},
   "toc_section_display": true,
   "toc_window_display": true
  },
  "varInspector": {
   "cols": {
    "lenName": 16,
    "lenType": 16,
    "lenVar": 40
   },
   "kernels_config": {
    "python": {
     "delete_cmd_postfix": "",
     "delete_cmd_prefix": "del ",
     "library": "var_list.py",
     "varRefreshCmd": "print(var_dic_list())"
    },
    "r": {
     "delete_cmd_postfix": ") ",
     "delete_cmd_prefix": "rm(",
     "library": "var_list.r",
     "varRefreshCmd": "cat(var_dic_list()) "
    }
   },
   "types_to_exclude": [
    "module",
    "function",
    "builtin_function_or_method",
    "instance",
    "_Feature"
   ],
   "window_display": false
  }
 },
 "nbformat": 4,
 "nbformat_minor": 2
}
