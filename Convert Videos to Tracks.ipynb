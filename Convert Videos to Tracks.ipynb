{
 "cells": [
  {
   "cell_type": "code",
   "execution_count": 1,
   "metadata": {
    "ExecuteTime": {
     "end_time": "2019-03-06T16:06:07.341758Z",
     "start_time": "2019-03-06T16:06:04.418427Z"
    }
   },
   "outputs": [
    {
     "name": "stderr",
     "output_type": "stream",
     "text": [
      "Using Theano backend.\n"
     ]
    }
   ],
   "source": [
    "import glob\n",
    "import os\n",
    "import subprocess\n",
    "import numpy as np\n",
    "import time\n",
    "import datetime\n",
    "\n",
    "%load_ext autoreload\n",
    "%autoreload 1\n",
    "%aimport bb_behavior\n",
    "%aimport bb_behavior.plot\n",
    "%aimport bb_behavior.tracking\n",
    "%aimport bb_behavior.tracking.pipeline\n",
    "\n",
    "import bb_behavior\n",
    "import bb_behavior.plot\n",
    "import bb_behavior.tracking\n",
    "import bb_behavior.tracking.pipeline\n",
    "\n",
    "from bb_behavior.tracking.pipeline import get_default_pipeline\n",
    "from tqdm import tqdm_notebook # progress bar\n",
    "import math\n",
    "from bb_tracking.data.constants import DETKEY\n",
    "#from bb_tracking.tracking import score_id_sim_v\n",
    "from bb_tracking.tracking import distance_orientations_v, distance_positions_v\n",
    "\n",
    "from bb_behavior.tracking.pipeline import detect_markers_in_video\n",
    "from bb_behavior.tracking.pipeline import track_detections_dataframe\n",
    "from bb_behavior.tracking.pipeline import display_tracking_results"
   ]
  },
  {
   "cell_type": "code",
   "execution_count": 62,
   "metadata": {
    "ExecuteTime": {
     "end_time": "2019-03-06T16:48:01.748372Z",
     "start_time": "2019-03-06T16:47:07.780594Z"
    }
   },
   "outputs": [
    {
     "name": "stderr",
     "output_type": "stream",
     "text": [
      "/home/tscho/.local/lib/python3.6/site-packages/keras/backend/theano_backend.py:1032: UserWarning: DEPRECATION: the 'ds' parameter is not going to exist anymore as it is going to be replaced by the parameter 'ws'.\n",
      "  mode='max')\n",
      "/home/tscho/.local/lib/python3.6/site-packages/keras/backend/theano_backend.py:1032: UserWarning: DEPRECATION: the 'st' parameter is not going to exist anymore as it is going to be replaced by the parameter 'stride'.\n",
      "  mode='max')\n",
      "/home/tscho/.local/lib/python3.6/site-packages/keras/backend/theano_backend.py:1032: UserWarning: DEPRECATION: the 'padding' parameter is not going to exist anymore as it is going to be replaced by the parameter 'pad'.\n",
      "  mode='max')\n",
      "Widget Javascript not detected.  It may not be installed or enabled properly.\n"
     ]
    },
    {
     "data": {
      "application/vnd.jupyter.widget-view+json": {
       "model_id": "af806160200b4e92a43e396c923e76fd"
      }
     },
     "metadata": {},
     "output_type": "display_data"
    },
    {
     "name": "stderr",
     "output_type": "stream",
     "text": [
      "/home/tscho/anaconda3/lib/python3.6/site-packages/sklearn/base.py:312: UserWarning: Trying to unpickle estimator StandardScaler from version 0.20.0 when using version 0.19.0. This might lead to breaking code or invalid results. Use at your own risk.\n",
      "  UserWarning)\n",
      "/home/tscho/anaconda3/lib/python3.6/site-packages/sklearn/base.py:312: UserWarning: Trying to unpickle estimator LinearSVC from version 0.20.0 when using version 0.19.0. This might lead to breaking code or invalid results. Use at your own risk.\n",
      "  UserWarning)\n",
      "/home/tscho/anaconda3/lib/python3.6/site-packages/sklearn/base.py:312: UserWarning: Trying to unpickle estimator Pipeline from version 0.20.0 when using version 0.19.0. This might lead to breaking code or invalid results. Use at your own risk.\n",
      "  UserWarning)\n",
      "/home/tscho/anaconda3/lib/python3.6/site-packages/sklearn/base.py:312: UserWarning: Trying to unpickle estimator DecisionTreeClassifier from version 0.20.0 when using version 0.19.0. This might lead to breaking code or invalid results. Use at your own risk.\n",
      "  UserWarning)\n",
      "/home/tscho/anaconda3/lib/python3.6/site-packages/sklearn/base.py:312: UserWarning: Trying to unpickle estimator RandomForestClassifier from version 0.20.0 when using version 0.19.0. This might lead to breaking code or invalid results. Use at your own risk.\n",
      "  UserWarning)\n"
     ]
    }
   ],
   "source": [
    "# hyperparameters\n",
    "\n",
    "tag_pixel_diameter = 50\n",
    "n_frames = None\n",
    "fps = 10.0\n",
    "progress = \"tqdm_notebook\"\n",
    "tracker = \"../tracker.det_score_fun.frag_score_fun.dill\"\n",
    "confidence_filter_detections = 0.0\n",
    "confidence_filter_tracks = 0.2\n",
    "coordinate_scale = 1.0\n",
    "localizer_threshold=\"0.65\"\n",
    "\n",
    "\n",
    "default_pipeline = get_default_pipeline(localizer_threshold=localizer_threshold)\n",
    "\n",
    "df_list = []\n",
    "\n",
    "for path in glob.glob(os.path.join('../videos/videos_tags/', '*.h264')):  \n",
    "\n",
    "\n",
    "    frame_info, detections = detect_markers_in_video(path,\n",
    "                                            pipeline=default_pipeline,\n",
    "                                            tag_pixel_diameter=tag_pixel_diameter,\n",
    "                                            n_frames=n_frames,\n",
    "                                            fps=fps,\n",
    "                                            progress=progress\n",
    "                                               )\n",
    "    tracks = track_detections_dataframe(detections,\n",
    "                                        tracker=tracker,\n",
    "                                        confidence_filter_detections=confidence_filter_detections,\n",
    "                                        confidence_filter_tracks=confidence_filter_tracks,\n",
    "                                        coordinate_scale=coordinate_scale)\n",
    "      \n",
    "    # get date from filename\n",
    "    date_string = os.path.split(path)[1].split('.')[0].split('_')[1]\n",
    "    timestamp = time.mktime(datetime.datetime.strptime(date_string, \"%Y-%m-%d-%H-%M-%S\").timetuple())\n",
    "    \n",
    "    \n",
    "    #  transform tracks df to : bee_id, [list of positions (x,y)], [list of timestamps], timestamp_of video\n",
    "    grouped = tracks.groupby('track_id',  as_index=False)['xpos','ypos','timestamp']\n",
    "    df = grouped.aggregate(lambda x: list(x))\n",
    "    df = df.drop('track_id', 1)\n",
    "    \n",
    "    df['timestamp_video'] = timestamp\n",
    "    df = df.rename(columns={'timestamp': 'timestamps'})\n",
    "\n",
    "    df_list.append(df)\n",
    "    # ma\n",
    "    \n",
    "    break\n",
    "    \n",
    "# TODO: bind dataframes together"
   ]
  },
  {
   "cell_type": "code",
   "execution_count": 65,
   "metadata": {
    "ExecuteTime": {
     "end_time": "2019-03-06T16:49:40.173924Z",
     "start_time": "2019-03-06T16:49:40.139492Z"
    }
   },
   "outputs": [
    {
     "data": {
      "text/html": [
       "<div>\n",
       "<style scoped>\n",
       "    .dataframe tbody tr th:only-of-type {\n",
       "        vertical-align: middle;\n",
       "    }\n",
       "\n",
       "    .dataframe tbody tr th {\n",
       "        vertical-align: top;\n",
       "    }\n",
       "\n",
       "    .dataframe thead th {\n",
       "        text-align: right;\n",
       "    }\n",
       "</style>\n",
       "<table border=\"1\" class=\"dataframe\">\n",
       "  <thead>\n",
       "    <tr style=\"text-align: right;\">\n",
       "      <th></th>\n",
       "      <th>xpos</th>\n",
       "      <th>ypos</th>\n",
       "      <th>timestamps</th>\n",
       "      <th>timestamp_video</th>\n",
       "    </tr>\n",
       "  </thead>\n",
       "  <tbody>\n",
       "    <tr>\n",
       "      <th>0</th>\n",
       "      <td>[912.4305286407471, 974.5363636016846, 1087.55...</td>\n",
       "      <td>[126.9986743927002, 126.95895576477051, 127.15...</td>\n",
       "      <td>[0.0, 0.1, 0.3, 0.7, 1.5, 2.3, 6.8, 7.5]</td>\n",
       "      <td>1.534634e+09</td>\n",
       "    </tr>\n",
       "    <tr>\n",
       "      <th>1</th>\n",
       "      <td>[549.8731517791748, 512.5459098815918, 462.318...</td>\n",
       "      <td>[186.49464416503906, 173.8266544342041, 123.78...</td>\n",
       "      <td>[3.8, 3.9, 4.0, 4.1, 4.2, 4.3, 4.8, 5.2, 5.3, ...</td>\n",
       "      <td>1.534634e+09</td>\n",
       "    </tr>\n",
       "    <tr>\n",
       "      <th>2</th>\n",
       "      <td>[500.4758186340332, 499.3327169418335, 512.776...</td>\n",
       "      <td>[149.63544845581055, 201.98738861083984, 213.8...</td>\n",
       "      <td>[8.3, 10.1, 10.2, 10.3, 10.4, 10.5, 10.7, 10.8...</td>\n",
       "      <td>1.534634e+09</td>\n",
       "    </tr>\n",
       "    <tr>\n",
       "      <th>3</th>\n",
       "      <td>[1337.3061771392822, 1374.0617427825928, 1362....</td>\n",
       "      <td>[264.9521064758301, 152.6708221435547, 139.647...</td>\n",
       "      <td>[11.9, 12.1, 12.2, 12.3, 12.4, 13.9, 14.0, 14....</td>\n",
       "      <td>1.534634e+09</td>\n",
       "    </tr>\n",
       "    <tr>\n",
       "      <th>4</th>\n",
       "      <td>[1324.5931148529053, 1361.885241508484, 1387.1...</td>\n",
       "      <td>[202.4510498046875, 102.17984199523926, 140.10...</td>\n",
       "      <td>[19.6, 19.8, 20.0]</td>\n",
       "      <td>1.534634e+09</td>\n",
       "    </tr>\n",
       "  </tbody>\n",
       "</table>\n",
       "</div>"
      ],
      "text/plain": [
       "                                                xpos  \\\n",
       "0  [912.4305286407471, 974.5363636016846, 1087.55...   \n",
       "1  [549.8731517791748, 512.5459098815918, 462.318...   \n",
       "2  [500.4758186340332, 499.3327169418335, 512.776...   \n",
       "3  [1337.3061771392822, 1374.0617427825928, 1362....   \n",
       "4  [1324.5931148529053, 1361.885241508484, 1387.1...   \n",
       "\n",
       "                                                ypos  \\\n",
       "0  [126.9986743927002, 126.95895576477051, 127.15...   \n",
       "1  [186.49464416503906, 173.8266544342041, 123.78...   \n",
       "2  [149.63544845581055, 201.98738861083984, 213.8...   \n",
       "3  [264.9521064758301, 152.6708221435547, 139.647...   \n",
       "4  [202.4510498046875, 102.17984199523926, 140.10...   \n",
       "\n",
       "                                          timestamps  timestamp_video  \n",
       "0           [0.0, 0.1, 0.3, 0.7, 1.5, 2.3, 6.8, 7.5]     1.534634e+09  \n",
       "1  [3.8, 3.9, 4.0, 4.1, 4.2, 4.3, 4.8, 5.2, 5.3, ...     1.534634e+09  \n",
       "2  [8.3, 10.1, 10.2, 10.3, 10.4, 10.5, 10.7, 10.8...     1.534634e+09  \n",
       "3  [11.9, 12.1, 12.2, 12.3, 12.4, 13.9, 14.0, 14....     1.534634e+09  \n",
       "4                                 [19.6, 19.8, 20.0]     1.534634e+09  "
      ]
     },
     "execution_count": 65,
     "metadata": {},
     "output_type": "execute_result"
    }
   ],
   "source": [
    "df"
   ]
  }
 ],
 "metadata": {
  "kernelspec": {
   "display_name": "Python 3",
   "language": "python",
   "name": "python3"
  },
  "language_info": {
   "codemirror_mode": {
    "name": "ipython",
    "version": 3
   },
   "file_extension": ".py",
   "mimetype": "text/x-python",
   "name": "python",
   "nbconvert_exporter": "python",
   "pygments_lexer": "ipython3",
   "version": "3.6.8"
  },
  "varInspector": {
   "cols": {
    "lenName": 16,
    "lenType": 16,
    "lenVar": 40
   },
   "kernels_config": {
    "python": {
     "delete_cmd_postfix": "",
     "delete_cmd_prefix": "del ",
     "library": "var_list.py",
     "varRefreshCmd": "print(var_dic_list())"
    },
    "r": {
     "delete_cmd_postfix": ") ",
     "delete_cmd_prefix": "rm(",
     "library": "var_list.r",
     "varRefreshCmd": "cat(var_dic_list()) "
    }
   },
   "types_to_exclude": [
    "module",
    "function",
    "builtin_function_or_method",
    "instance",
    "_Feature"
   ],
   "window_display": false
  }
 },
 "nbformat": 4,
 "nbformat_minor": 2
}
