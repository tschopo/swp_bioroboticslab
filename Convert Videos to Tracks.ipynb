{
 "cells": [
  {
   "cell_type": "code",
   "execution_count": 26,
   "metadata": {
    "ExecuteTime": {
     "end_time": "2019-03-07T12:44:24.497584Z",
     "start_time": "2019-03-07T12:44:24.460509Z"
    }
   },
   "outputs": [
    {
     "name": "stdout",
     "output_type": "stream",
     "text": [
      "The autoreload extension is already loaded. To reload it, use:\n",
      "  %reload_ext autoreload\n"
     ]
    }
   ],
   "source": [
    "import glob\n",
    "import os\n",
    "import subprocess\n",
    "import numpy as np\n",
    "import pandas as pd\n",
    "import time\n",
    "import datetime\n",
    "\n",
    "%load_ext autoreload\n",
    "%autoreload 1\n",
    "%aimport bb_behavior\n",
    "%aimport bb_behavior.plot\n",
    "%aimport bb_behavior.tracking\n",
    "%aimport bb_behavior.tracking.pipeline\n",
    "\n",
    "import bb_behavior\n",
    "import bb_behavior.plot\n",
    "import bb_behavior.tracking\n",
    "import bb_behavior.tracking.pipeline\n",
    "\n",
    "from bb_behavior.tracking.pipeline import get_default_pipeline\n",
    "from tqdm import tqdm_notebook # progress bar\n",
    "import math\n",
    "from bb_tracking.data.constants import DETKEY\n",
    "#from bb_tracking.tracking import score_id_sim_v\n",
    "from bb_tracking.tracking import distance_orientations_v, distance_positions_v\n",
    "\n",
    "from bb_behavior.tracking.pipeline import detect_markers_in_video\n",
    "from bb_behavior.tracking.pipeline import track_detections_dataframe\n",
    "from bb_behavior.tracking.pipeline import display_tracking_results"
   ]
  },
  {
   "cell_type": "code",
   "execution_count": 221,
   "metadata": {
    "ExecuteTime": {
     "end_time": "2019-03-07T16:54:27.802192Z",
     "start_time": "2019-03-07T16:50:27.755150Z"
    }
   },
   "outputs": [
    {
     "name": "stderr",
     "output_type": "stream",
     "text": [
      "/home/tscho/.local/lib/python3.6/site-packages/keras/backend/theano_backend.py:1032: UserWarning: DEPRECATION: the 'ds' parameter is not going to exist anymore as it is going to be replaced by the parameter 'ws'.\n",
      "  mode='max')\n",
      "/home/tscho/.local/lib/python3.6/site-packages/keras/backend/theano_backend.py:1032: UserWarning: DEPRECATION: the 'st' parameter is not going to exist anymore as it is going to be replaced by the parameter 'stride'.\n",
      "  mode='max')\n",
      "/home/tscho/.local/lib/python3.6/site-packages/keras/backend/theano_backend.py:1032: UserWarning: DEPRECATION: the 'padding' parameter is not going to exist anymore as it is going to be replaced by the parameter 'pad'.\n",
      "  mode='max')\n"
     ]
    },
    {
     "name": "stdout",
     "output_type": "stream",
     "text": [
      "0 :  ../videos/videos_tags/e00_2018-08-19-01-08-13.h264\n"
     ]
    },
    {
     "name": "stderr",
     "output_type": "stream",
     "text": [
      "Widget Javascript not detected.  It may not be installed or enabled properly.\n"
     ]
    },
    {
     "data": {
      "application/vnd.jupyter.widget-view+json": {
       "model_id": "3aa18dc5e84841a08782ce11b737f264"
      }
     },
     "metadata": {},
     "output_type": "display_data"
    },
    {
     "name": "stdout",
     "output_type": "stream",
     "text": [
      "122\n"
     ]
    },
    {
     "name": "stderr",
     "output_type": "stream",
     "text": [
      "/home/tscho/anaconda3/lib/python3.6/site-packages/sklearn/base.py:312: UserWarning: Trying to unpickle estimator StandardScaler from version 0.20.0 when using version 0.19.0. This might lead to breaking code or invalid results. Use at your own risk.\n",
      "  UserWarning)\n",
      "/home/tscho/anaconda3/lib/python3.6/site-packages/sklearn/base.py:312: UserWarning: Trying to unpickle estimator LinearSVC from version 0.20.0 when using version 0.19.0. This might lead to breaking code or invalid results. Use at your own risk.\n",
      "  UserWarning)\n",
      "/home/tscho/anaconda3/lib/python3.6/site-packages/sklearn/base.py:312: UserWarning: Trying to unpickle estimator Pipeline from version 0.20.0 when using version 0.19.0. This might lead to breaking code or invalid results. Use at your own risk.\n",
      "  UserWarning)\n",
      "/home/tscho/anaconda3/lib/python3.6/site-packages/sklearn/base.py:312: UserWarning: Trying to unpickle estimator DecisionTreeClassifier from version 0.20.0 when using version 0.19.0. This might lead to breaking code or invalid results. Use at your own risk.\n",
      "  UserWarning)\n",
      "/home/tscho/anaconda3/lib/python3.6/site-packages/sklearn/base.py:312: UserWarning: Trying to unpickle estimator RandomForestClassifier from version 0.20.0 when using version 0.19.0. This might lead to breaking code or invalid results. Use at your own risk.\n",
      "  UserWarning)\n"
     ]
    },
    {
     "name": "stdout",
     "output_type": "stream",
     "text": [
      "1 :  ../videos/videos_tags/e00_2018-08-19-01-08-33.h264\n"
     ]
    },
    {
     "name": "stderr",
     "output_type": "stream",
     "text": [
      "Widget Javascript not detected.  It may not be installed or enabled properly.\n"
     ]
    },
    {
     "data": {
      "application/vnd.jupyter.widget-view+json": {
       "model_id": "65c2d6bc1dab40c4a2a3f91fa25d1abe"
      }
     },
     "metadata": {},
     "output_type": "display_data"
    },
    {
     "name": "stdout",
     "output_type": "stream",
     "text": [
      "12\n",
      "2 :  ../videos/videos_tags/e00_2018-08-19-01-08-54.h264\n"
     ]
    },
    {
     "name": "stderr",
     "output_type": "stream",
     "text": [
      "/home/tscho/anaconda3/lib/python3.6/site-packages/sklearn/base.py:312: UserWarning: Trying to unpickle estimator StandardScaler from version 0.20.0 when using version 0.19.0. This might lead to breaking code or invalid results. Use at your own risk.\n",
      "  UserWarning)\n",
      "/home/tscho/anaconda3/lib/python3.6/site-packages/sklearn/base.py:312: UserWarning: Trying to unpickle estimator LinearSVC from version 0.20.0 when using version 0.19.0. This might lead to breaking code or invalid results. Use at your own risk.\n",
      "  UserWarning)\n",
      "/home/tscho/anaconda3/lib/python3.6/site-packages/sklearn/base.py:312: UserWarning: Trying to unpickle estimator Pipeline from version 0.20.0 when using version 0.19.0. This might lead to breaking code or invalid results. Use at your own risk.\n",
      "  UserWarning)\n",
      "/home/tscho/anaconda3/lib/python3.6/site-packages/sklearn/base.py:312: UserWarning: Trying to unpickle estimator DecisionTreeClassifier from version 0.20.0 when using version 0.19.0. This might lead to breaking code or invalid results. Use at your own risk.\n",
      "  UserWarning)\n",
      "/home/tscho/anaconda3/lib/python3.6/site-packages/sklearn/base.py:312: UserWarning: Trying to unpickle estimator RandomForestClassifier from version 0.20.0 when using version 0.19.0. This might lead to breaking code or invalid results. Use at your own risk.\n",
      "  UserWarning)\n",
      "Widget Javascript not detected.  It may not be installed or enabled properly.\n"
     ]
    },
    {
     "data": {
      "application/vnd.jupyter.widget-view+json": {
       "model_id": "6aff8202a19843bbb06bc3658ba31029"
      }
     },
     "metadata": {},
     "output_type": "display_data"
    },
    {
     "name": "stdout",
     "output_type": "stream",
     "text": [
      "No objects to concatenate\n",
      "2 :  ../videos/videos_tags/e00_2018-08-19-02-20-55.h264\n"
     ]
    },
    {
     "name": "stderr",
     "output_type": "stream",
     "text": [
      "Widget Javascript not detected.  It may not be installed or enabled properly.\n"
     ]
    },
    {
     "data": {
      "application/vnd.jupyter.widget-view+json": {
       "model_id": "cae5b4d7dfbe4dd685fcde94fe83bd6c"
      }
     },
     "metadata": {},
     "output_type": "display_data"
    },
    {
     "name": "stdout",
     "output_type": "stream",
     "text": [
      "22\n",
      "3 :  ../videos/videos_tags/e00_2018-08-19-02-21-16.h264\n"
     ]
    },
    {
     "name": "stderr",
     "output_type": "stream",
     "text": [
      "/home/tscho/anaconda3/lib/python3.6/site-packages/sklearn/base.py:312: UserWarning: Trying to unpickle estimator StandardScaler from version 0.20.0 when using version 0.19.0. This might lead to breaking code or invalid results. Use at your own risk.\n",
      "  UserWarning)\n",
      "/home/tscho/anaconda3/lib/python3.6/site-packages/sklearn/base.py:312: UserWarning: Trying to unpickle estimator LinearSVC from version 0.20.0 when using version 0.19.0. This might lead to breaking code or invalid results. Use at your own risk.\n",
      "  UserWarning)\n",
      "/home/tscho/anaconda3/lib/python3.6/site-packages/sklearn/base.py:312: UserWarning: Trying to unpickle estimator Pipeline from version 0.20.0 when using version 0.19.0. This might lead to breaking code or invalid results. Use at your own risk.\n",
      "  UserWarning)\n",
      "/home/tscho/anaconda3/lib/python3.6/site-packages/sklearn/base.py:312: UserWarning: Trying to unpickle estimator DecisionTreeClassifier from version 0.20.0 when using version 0.19.0. This might lead to breaking code or invalid results. Use at your own risk.\n",
      "  UserWarning)\n",
      "/home/tscho/anaconda3/lib/python3.6/site-packages/sklearn/base.py:312: UserWarning: Trying to unpickle estimator RandomForestClassifier from version 0.20.0 when using version 0.19.0. This might lead to breaking code or invalid results. Use at your own risk.\n",
      "  UserWarning)\n",
      "Widget Javascript not detected.  It may not be installed or enabled properly.\n"
     ]
    },
    {
     "data": {
      "application/vnd.jupyter.widget-view+json": {
       "model_id": "5c7ce978256d442a81f9a2cb5bd333fb"
      }
     },
     "metadata": {},
     "output_type": "display_data"
    },
    {
     "name": "stdout",
     "output_type": "stream",
     "text": [
      "32\n",
      "4 :  ../videos/videos_tags/e00_2018-08-19-02-21-37.h264\n"
     ]
    },
    {
     "name": "stderr",
     "output_type": "stream",
     "text": [
      "/home/tscho/anaconda3/lib/python3.6/site-packages/sklearn/base.py:312: UserWarning: Trying to unpickle estimator StandardScaler from version 0.20.0 when using version 0.19.0. This might lead to breaking code or invalid results. Use at your own risk.\n",
      "  UserWarning)\n",
      "/home/tscho/anaconda3/lib/python3.6/site-packages/sklearn/base.py:312: UserWarning: Trying to unpickle estimator LinearSVC from version 0.20.0 when using version 0.19.0. This might lead to breaking code or invalid results. Use at your own risk.\n",
      "  UserWarning)\n",
      "/home/tscho/anaconda3/lib/python3.6/site-packages/sklearn/base.py:312: UserWarning: Trying to unpickle estimator Pipeline from version 0.20.0 when using version 0.19.0. This might lead to breaking code or invalid results. Use at your own risk.\n",
      "  UserWarning)\n",
      "/home/tscho/anaconda3/lib/python3.6/site-packages/sklearn/base.py:312: UserWarning: Trying to unpickle estimator DecisionTreeClassifier from version 0.20.0 when using version 0.19.0. This might lead to breaking code or invalid results. Use at your own risk.\n",
      "  UserWarning)\n",
      "/home/tscho/anaconda3/lib/python3.6/site-packages/sklearn/base.py:312: UserWarning: Trying to unpickle estimator RandomForestClassifier from version 0.20.0 when using version 0.19.0. This might lead to breaking code or invalid results. Use at your own risk.\n",
      "  UserWarning)\n",
      "Widget Javascript not detected.  It may not be installed or enabled properly.\n"
     ]
    },
    {
     "data": {
      "application/vnd.jupyter.widget-view+json": {
       "model_id": "421165504763497fa2f7d133ed699ef4"
      }
     },
     "metadata": {},
     "output_type": "display_data"
    },
    {
     "name": "stdout",
     "output_type": "stream",
     "text": [
      "94\n"
     ]
    },
    {
     "name": "stderr",
     "output_type": "stream",
     "text": [
      "/home/tscho/anaconda3/lib/python3.6/site-packages/sklearn/base.py:312: UserWarning: Trying to unpickle estimator StandardScaler from version 0.20.0 when using version 0.19.0. This might lead to breaking code or invalid results. Use at your own risk.\n",
      "  UserWarning)\n",
      "/home/tscho/anaconda3/lib/python3.6/site-packages/sklearn/base.py:312: UserWarning: Trying to unpickle estimator LinearSVC from version 0.20.0 when using version 0.19.0. This might lead to breaking code or invalid results. Use at your own risk.\n",
      "  UserWarning)\n",
      "/home/tscho/anaconda3/lib/python3.6/site-packages/sklearn/base.py:312: UserWarning: Trying to unpickle estimator Pipeline from version 0.20.0 when using version 0.19.0. This might lead to breaking code or invalid results. Use at your own risk.\n",
      "  UserWarning)\n",
      "/home/tscho/anaconda3/lib/python3.6/site-packages/sklearn/base.py:312: UserWarning: Trying to unpickle estimator DecisionTreeClassifier from version 0.20.0 when using version 0.19.0. This might lead to breaking code or invalid results. Use at your own risk.\n",
      "  UserWarning)\n",
      "/home/tscho/anaconda3/lib/python3.6/site-packages/sklearn/base.py:312: UserWarning: Trying to unpickle estimator RandomForestClassifier from version 0.20.0 when using version 0.19.0. This might lead to breaking code or invalid results. Use at your own risk.\n",
      "  UserWarning)\n"
     ]
    }
   ],
   "source": [
    "# hyperparameters\n",
    "\n",
    "tag_pixel_diameter = 50\n",
    "n_frames = None\n",
    "fps = 10.0\n",
    "progress = \"tqdm_notebook\"\n",
    "tracker = \"../tracker.det_score_fun.frag_score_fun.dill\"\n",
    "confidence_filter_detections = 0.08\n",
    "confidence_filter_tracks = 0.2\n",
    "coordinate_scale = 1.0\n",
    "localizer_threshold=\"0.55\"\n",
    "\n",
    "#1944\n",
    "\n",
    "\n",
    "default_pipeline = get_default_pipeline(localizer_threshold=localizer_threshold)\n",
    "\n",
    "track_dfs = []\n",
    "\n",
    "counter = 0\n",
    "for path in glob.glob(os.path.join('../videos/videos_tags/', '*.h264')):  \n",
    "\n",
    "    print(counter, \": \", path)\n",
    "    \n",
    "    try:\n",
    "\n",
    "        # get the detections\n",
    "        frame_info, detections = detect_markers_in_video(path,\n",
    "                                                decoder_pipeline=default_pipeline,\n",
    "                                                tag_pixel_diameter=tag_pixel_diameter,\n",
    "                                                n_frames=n_frames,\n",
    "                                                fps=fps,\n",
    "                                                progress=progress)\n",
    "\n",
    "        print(len(detections))\n",
    "        # get the tracks                                           \n",
    "        tracks = track_detections_dataframe(detections,\n",
    "                                            tracker=tracker,\n",
    "                                            confidence_filter_detections=confidence_filter_detections,\n",
    "                                            confidence_filter_tracks=confidence_filter_tracks,\n",
    "                                            coordinate_scale=coordinate_scale)\n",
    "        # get date from filename\n",
    "        date_string = os.path.split(path)[-1].split('.')[0].split('_')[1]\n",
    "        timestamp = time.mktime(datetime.datetime.strptime(date_string, \"%Y-%m-%d-%H-%M-%S\").timetuple())\n",
    "\n",
    "\n",
    "        #  transform tracks df to : bee_id, [list of positions (x,y)], [list of timestamps], timestamp_of video\n",
    "        grouped = tracks.groupby('track_id',  as_index=False)['bee_id','xpos','ypos','timestamp']\n",
    "        df = grouped.aggregate(lambda x: list(x))\n",
    "        df = df.drop('track_id', 1)\n",
    "\n",
    "        df['timestamp_video'] = timestamp\n",
    "        df = df.rename(columns={'timestamp': 'timestamps'})\n",
    "\n",
    "        # convert bee_id list to single value\n",
    "        df['bee_id'] = df['bee_id'].apply(lambda x: x[0])\n",
    "\n",
    "        #if \n",
    "        track_dfs.append(df)\n",
    "\n",
    "        if counter == 4: \n",
    "            break\n",
    "        counter += 1\n",
    "    \n",
    "    except ValueError as err: #tritt auf, wenn Video leer ist. In diesem Fall: überspringe video\n",
    "        print(err)\n",
    "    except Exception as err:\n",
    "        print(err)\n",
    "        raise\n",
    "    \n",
    "# bind dataframes together\n",
    "tracks = pd.concat(track_dfs,ignore_index=True)"
   ]
  },
  {
   "cell_type": "code",
   "execution_count": 222,
   "metadata": {
    "ExecuteTime": {
     "end_time": "2019-03-07T16:54:28.054453Z",
     "start_time": "2019-03-07T16:54:28.039493Z"
    }
   },
   "outputs": [],
   "source": [
    "# merge tracks of same bee where start and end timestamps are close together\n",
    "# assume there can not be overlapping tracks\n",
    "# 1. sort: bee_id, start_time\n",
    "\n",
    "tracks['start_time'] = tracks['timestamp_video'] + tracks['timestamps'].apply(lambda x: x[0])\n",
    "tracks['end_time'] = tracks['timestamp_video'] + tracks['timestamps'].apply(lambda x: x[-1])"
   ]
  },
  {
   "cell_type": "code",
   "execution_count": 223,
   "metadata": {
    "ExecuteTime": {
     "end_time": "2019-03-07T16:54:28.362788Z",
     "start_time": "2019-03-07T16:54:28.356525Z"
    },
    "collapsed": true
   },
   "outputs": [],
   "source": [
    "tracks3 = tracks.copy()"
   ]
  },
  {
   "cell_type": "code",
   "execution_count": 224,
   "metadata": {
    "ExecuteTime": {
     "end_time": "2019-03-07T16:54:28.649038Z",
     "start_time": "2019-03-07T16:54:28.639894Z"
    }
   },
   "outputs": [
    {
     "data": {
      "text/plain": [
       "0     0.0\n",
       "1    17.8\n",
       "2     0.0\n",
       "3    18.1\n",
       "4     1.6\n",
       "5     4.0\n",
       "6    19.8\n",
       "Name: timestamps, dtype: float64"
      ]
     },
     "execution_count": 224,
     "metadata": {},
     "output_type": "execute_result"
    }
   ],
   "source": [
    "tracks['timestamps'].apply(lambda x: x[0])"
   ]
  },
  {
   "cell_type": "code",
   "execution_count": 225,
   "metadata": {
    "ExecuteTime": {
     "end_time": "2019-03-07T16:54:28.959604Z",
     "start_time": "2019-03-07T16:54:28.947169Z"
    }
   },
   "outputs": [
    {
     "data": {
      "text/plain": [
       "0     0.0\n",
       "1    17.8\n",
       "2     0.0\n",
       "3    18.1\n",
       "4     1.6\n",
       "5     4.0\n",
       "6    19.8\n",
       "Name: timestamps, dtype: float64"
      ]
     },
     "execution_count": 225,
     "metadata": {},
     "output_type": "execute_result"
    }
   ],
   "source": [
    "tracks['timestamps'].apply(lambda x: x[0])"
   ]
  },
  {
   "cell_type": "code",
   "execution_count": 226,
   "metadata": {
    "ExecuteTime": {
     "end_time": "2019-03-07T16:54:29.443198Z",
     "start_time": "2019-03-07T16:54:29.389093Z"
    }
   },
   "outputs": [
    {
     "data": {
      "text/html": [
       "<div>\n",
       "<style scoped>\n",
       "    .dataframe tbody tr th:only-of-type {\n",
       "        vertical-align: middle;\n",
       "    }\n",
       "\n",
       "    .dataframe tbody tr th {\n",
       "        vertical-align: top;\n",
       "    }\n",
       "\n",
       "    .dataframe thead th {\n",
       "        text-align: right;\n",
       "    }\n",
       "</style>\n",
       "<table border=\"1\" class=\"dataframe\">\n",
       "  <thead>\n",
       "    <tr style=\"text-align: right;\">\n",
       "      <th></th>\n",
       "      <th>bee_id</th>\n",
       "      <th>xpos</th>\n",
       "      <th>ypos</th>\n",
       "      <th>timestamps</th>\n",
       "      <th>timestamp_video</th>\n",
       "      <th>start_time</th>\n",
       "      <th>end_time</th>\n",
       "    </tr>\n",
       "  </thead>\n",
       "  <tbody>\n",
       "    <tr>\n",
       "      <th>0</th>\n",
       "      <td>1926.0</td>\n",
       "      <td>[912.4305286407471, 974.5363636016846, 1037.02...</td>\n",
       "      <td>[126.9986743927002, 126.95895576477051, 101.19...</td>\n",
       "      <td>[0.0, 0.1, 0.2, 0.3, 0.8, 0.9, 1.2, 1.3, 1.4, ...</td>\n",
       "      <td>1.534634e+09</td>\n",
       "      <td>1.534634e+09</td>\n",
       "      <td>1.534634e+09</td>\n",
       "    </tr>\n",
       "    <tr>\n",
       "      <th>1</th>\n",
       "      <td>1926.0</td>\n",
       "      <td>[463.6847324371338, 513.7263240814209, 576.042...</td>\n",
       "      <td>[151.41355323791504, 151.84414291381836, 139.2...</td>\n",
       "      <td>[17.8, 17.9, 18.0, 18.1, 18.2, 18.3, 18.4, 18....</td>\n",
       "      <td>1.534634e+09</td>\n",
       "      <td>1.534634e+09</td>\n",
       "      <td>1.534634e+09</td>\n",
       "    </tr>\n",
       "    <tr>\n",
       "      <th>2</th>\n",
       "      <td>1926.0</td>\n",
       "      <td>[1200.4261093139648, 1012.0221309661865, 961.8...</td>\n",
       "      <td>[262.57673835754395, 136.45391273498535, 112.3...</td>\n",
       "      <td>[0.0, 0.4, 0.5, 0.9, 1.0, 1.1, 1.2, 1.7]</td>\n",
       "      <td>1.534634e+09</td>\n",
       "      <td>1.534634e+09</td>\n",
       "      <td>1.534634e+09</td>\n",
       "    </tr>\n",
       "    <tr>\n",
       "      <th>3</th>\n",
       "      <td>1970.0</td>\n",
       "      <td>[574.7958679199219, 611.9921283721924, 636.866...</td>\n",
       "      <td>[201.45031547546387, 213.5040740966797, 201.48...</td>\n",
       "      <td>[18.1, 18.2, 18.3, 18.4, 18.5, 18.6, 18.7, 18....</td>\n",
       "      <td>1.534638e+09</td>\n",
       "      <td>1.534638e+09</td>\n",
       "      <td>1.534638e+09</td>\n",
       "    </tr>\n",
       "    <tr>\n",
       "      <th>4</th>\n",
       "      <td>1970.0</td>\n",
       "      <td>[1175.1580028533936, 1275.0042209625244, 1199....</td>\n",
       "      <td>[100.45368194580078, 252.97906684875488, 264.9...</td>\n",
       "      <td>[1.6, 2.3, 2.8, 3.1]</td>\n",
       "      <td>1.534638e+09</td>\n",
       "      <td>1.534638e+09</td>\n",
       "      <td>1.534638e+09</td>\n",
       "    </tr>\n",
       "    <tr>\n",
       "      <th>5</th>\n",
       "      <td>1970.0</td>\n",
       "      <td>[812.58274269104, 762.6650428771973, 738.07292...</td>\n",
       "      <td>[111.47340106964111, 175.45004081726074, 224.9...</td>\n",
       "      <td>[4.0, 4.1, 4.2, 4.3, 4.6, 4.8, 5.7, 9.7, 10.1,...</td>\n",
       "      <td>1.534638e+09</td>\n",
       "      <td>1.534638e+09</td>\n",
       "      <td>1.534638e+09</td>\n",
       "    </tr>\n",
       "    <tr>\n",
       "      <th>6</th>\n",
       "      <td>1970.0</td>\n",
       "      <td>[1186.8357887268066, 1236.4013862609863, 1273....</td>\n",
       "      <td>[139.63128471374512, 113.99038124084473, 127.3...</td>\n",
       "      <td>[19.8, 19.9, 20.0, 20.1, 20.2, 20.7]</td>\n",
       "      <td>1.534638e+09</td>\n",
       "      <td>1.534638e+09</td>\n",
       "      <td>1.534638e+09</td>\n",
       "    </tr>\n",
       "  </tbody>\n",
       "</table>\n",
       "</div>"
      ],
      "text/plain": [
       "   bee_id                                               xpos  \\\n",
       "0  1926.0  [912.4305286407471, 974.5363636016846, 1037.02...   \n",
       "1  1926.0  [463.6847324371338, 513.7263240814209, 576.042...   \n",
       "2  1926.0  [1200.4261093139648, 1012.0221309661865, 961.8...   \n",
       "3  1970.0  [574.7958679199219, 611.9921283721924, 636.866...   \n",
       "4  1970.0  [1175.1580028533936, 1275.0042209625244, 1199....   \n",
       "5  1970.0  [812.58274269104, 762.6650428771973, 738.07292...   \n",
       "6  1970.0  [1186.8357887268066, 1236.4013862609863, 1273....   \n",
       "\n",
       "                                                ypos  \\\n",
       "0  [126.9986743927002, 126.95895576477051, 101.19...   \n",
       "1  [151.41355323791504, 151.84414291381836, 139.2...   \n",
       "2  [262.57673835754395, 136.45391273498535, 112.3...   \n",
       "3  [201.45031547546387, 213.5040740966797, 201.48...   \n",
       "4  [100.45368194580078, 252.97906684875488, 264.9...   \n",
       "5  [111.47340106964111, 175.45004081726074, 224.9...   \n",
       "6  [139.63128471374512, 113.99038124084473, 127.3...   \n",
       "\n",
       "                                          timestamps  timestamp_video  \\\n",
       "0  [0.0, 0.1, 0.2, 0.3, 0.8, 0.9, 1.2, 1.3, 1.4, ...     1.534634e+09   \n",
       "1  [17.8, 17.9, 18.0, 18.1, 18.2, 18.3, 18.4, 18....     1.534634e+09   \n",
       "2           [0.0, 0.4, 0.5, 0.9, 1.0, 1.1, 1.2, 1.7]     1.534634e+09   \n",
       "3  [18.1, 18.2, 18.3, 18.4, 18.5, 18.6, 18.7, 18....     1.534638e+09   \n",
       "4                               [1.6, 2.3, 2.8, 3.1]     1.534638e+09   \n",
       "5  [4.0, 4.1, 4.2, 4.3, 4.6, 4.8, 5.7, 9.7, 10.1,...     1.534638e+09   \n",
       "6               [19.8, 19.9, 20.0, 20.1, 20.2, 20.7]     1.534638e+09   \n",
       "\n",
       "     start_time      end_time  \n",
       "0  1.534634e+09  1.534634e+09  \n",
       "1  1.534634e+09  1.534634e+09  \n",
       "2  1.534634e+09  1.534634e+09  \n",
       "3  1.534638e+09  1.534638e+09  \n",
       "4  1.534638e+09  1.534638e+09  \n",
       "5  1.534638e+09  1.534638e+09  \n",
       "6  1.534638e+09  1.534638e+09  "
      ]
     },
     "execution_count": 226,
     "metadata": {},
     "output_type": "execute_result"
    }
   ],
   "source": [
    "tracks"
   ]
  },
  {
   "cell_type": "code",
   "execution_count": 230,
   "metadata": {
    "ExecuteTime": {
     "end_time": "2019-03-07T16:56:49.012836Z",
     "start_time": "2019-03-07T16:56:48.948221Z"
    }
   },
   "outputs": [
    {
     "name": "stdout",
     "output_type": "stream",
     "text": [
      "4.0 1926.0 1926.0\n",
      "-0.5999999046325684 1926.0 1926.0\n",
      "1.6999998092651367 1970.0 1970.0\n",
      "0.9000000953674316 1970.0 1970.0\n",
      "1.2000000476837158 1970.0 1970.0\n"
     ]
    }
   ],
   "source": [
    "tracks = tracks3.copy()\n",
    "tracks = tracks.sort_values(['bee_id', 'start_time'])\n",
    "\n",
    "index = 0\n",
    "tracks2 = tracks.copy()\n",
    "while(True):\n",
    "    row = tracks.iloc[index]\n",
    "    next_row = tracks.iloc[index+1]\n",
    "    \n",
    "    # if the tracks are from same bee and the start time of next row is closer then 10s -> merge the rows\n",
    "    # merge rows means, next_row is deleted\n",
    "    if row['bee_id'] == next_row['bee_id'] and next_row['start_time'] - row['end_time'] < 10:\n",
    "        print(next_row['start_time'] - row['end_time'], row['bee_id'], next_row['bee_id'])\n",
    "\n",
    "        # update the timestamps of nextrow\n",
    "        t = next_row['start_time'] - row['start_time']\n",
    "        timestamps = list(np.array(next_row['timestamps']) + t)\n",
    "        \n",
    "        tracks.at[row.name,'xpos'] = row['xpos']+next_row['xpos']\n",
    "        tracks.at[row.name,'ypos'] = row['ypos']+next_row['ypos']\n",
    "        tracks.at[row.name,'timestamps'] = row['timestamps']+timestamps\n",
    "        tracks.at[row.name,'end_time'] = next_row['end_time']\n",
    "        \n",
    "        tracks.drop(tracks.index[index+1], inplace=True)\n",
    "\n",
    "    else:\n",
    "        index += 1\n",
    "    \n",
    "    if index == len(tracks) - 1:\n",
    "        break"
   ]
  },
  {
   "cell_type": "code",
   "execution_count": 232,
   "metadata": {
    "ExecuteTime": {
     "end_time": "2019-03-07T16:57:16.392268Z",
     "start_time": "2019-03-07T16:57:16.381530Z"
    }
   },
   "outputs": [
    {
     "data": {
      "text/plain": [
       "[0.0,\n",
       " 0.1,\n",
       " 0.2,\n",
       " 0.3,\n",
       " 0.8,\n",
       " 0.9,\n",
       " 1.2,\n",
       " 1.3,\n",
       " 1.4,\n",
       " 1.5,\n",
       " 1.9,\n",
       " 2.0,\n",
       " 2.3,\n",
       " 2.9,\n",
       " 3.1,\n",
       " 3.2,\n",
       " 3.9,\n",
       " 4.0,\n",
       " 4.1,\n",
       " 4.2,\n",
       " 4.4,\n",
       " 5.2,\n",
       " 5.3,\n",
       " 5.4,\n",
       " 5.6,\n",
       " 5.7,\n",
       " 5.8,\n",
       " 5.9,\n",
       " 6.0,\n",
       " 6.3,\n",
       " 6.7,\n",
       " 6.8,\n",
       " 7.0,\n",
       " 7.2,\n",
       " 7.4,\n",
       " 7.5,\n",
       " 7.9,\n",
       " 8.0,\n",
       " 8.1,\n",
       " 10.1,\n",
       " 10.2,\n",
       " 10.3,\n",
       " 10.6,\n",
       " 10.7,\n",
       " 10.8,\n",
       " 10.9,\n",
       " 11.0,\n",
       " 11.2,\n",
       " 11.3,\n",
       " 12.4,\n",
       " 12.9,\n",
       " 13.3,\n",
       " 13.4,\n",
       " 13.5,\n",
       " 13.6,\n",
       " 13.7,\n",
       " 13.8,\n",
       " 35.59999995231628,\n",
       " 35.69999995231628,\n",
       " 35.799999952316284,\n",
       " 35.899999952316286,\n",
       " 35.99999995231629,\n",
       " 36.09999995231628,\n",
       " 36.19999995231628,\n",
       " 36.299999952316284,\n",
       " 36.399999952316286,\n",
       " 36.49999995231629,\n",
       " 36.59999995231628,\n",
       " 36.69999995231628,\n",
       " 37.19999995231628,\n",
       " 37.299999952316284,\n",
       " 37.59999995231628,\n",
       " 38.399999952316286,\n",
       " 20.0,\n",
       " 20.4,\n",
       " 20.5,\n",
       " 20.9,\n",
       " 21.0,\n",
       " 21.1,\n",
       " 21.2,\n",
       " 21.7]"
      ]
     },
     "execution_count": 232,
     "metadata": {},
     "output_type": "execute_result"
    }
   ],
   "source": [
    "tracks.iloc[0][\"timestamps\"]"
   ]
  },
  {
   "cell_type": "code",
   "execution_count": 233,
   "metadata": {
    "ExecuteTime": {
     "end_time": "2019-03-07T16:57:51.814496Z",
     "start_time": "2019-03-07T16:57:51.772192Z"
    }
   },
   "outputs": [
    {
     "name": "stdout",
     "output_type": "stream",
     "text": [
      "4.0 1926.0 1926.0\n",
      "-0.5999999046325684 1926.0 1926.0\n",
      "4379.399999856949 1926.0 1970.0\n",
      "1.6999998092651367 1970.0 1970.0\n",
      "0.9000000953674316 1970.0 1970.0\n",
      "1.2000000476837158 1970.0 1970.0\n"
     ]
    },
    {
     "ename": "IndexError",
     "evalue": "single positional indexer is out-of-bounds",
     "output_type": "error",
     "traceback": [
      "\u001b[0;31m---------------------------------------------------------------------------\u001b[0m",
      "\u001b[0;31mIndexError\u001b[0m                                Traceback (most recent call last)",
      "\u001b[0;32m<ipython-input-233-ba6c50cb2478>\u001b[0m in \u001b[0;36m<module>\u001b[0;34m()\u001b[0m\n\u001b[1;32m      3\u001b[0m \u001b[0;32mfor\u001b[0m \u001b[0mindex\u001b[0m\u001b[0;34m,\u001b[0m \u001b[0mrows\u001b[0m \u001b[0;32min\u001b[0m \u001b[0mtracks\u001b[0m\u001b[0;34m.\u001b[0m\u001b[0miterrows\u001b[0m\u001b[0;34m(\u001b[0m\u001b[0;34m)\u001b[0m\u001b[0;34m:\u001b[0m\u001b[0;34m\u001b[0m\u001b[0;34m\u001b[0m\u001b[0m\n\u001b[1;32m      4\u001b[0m     \u001b[0mrow\u001b[0m \u001b[0;34m=\u001b[0m \u001b[0mtracks\u001b[0m\u001b[0;34m.\u001b[0m\u001b[0miloc\u001b[0m\u001b[0;34m[\u001b[0m\u001b[0mindex\u001b[0m\u001b[0;34m]\u001b[0m\u001b[0;34m\u001b[0m\u001b[0;34m\u001b[0m\u001b[0m\n\u001b[0;32m----> 5\u001b[0;31m     \u001b[0mnext_row\u001b[0m \u001b[0;34m=\u001b[0m \u001b[0mtracks\u001b[0m\u001b[0;34m.\u001b[0m\u001b[0miloc\u001b[0m\u001b[0;34m[\u001b[0m\u001b[0mindex\u001b[0m\u001b[0;34m+\u001b[0m\u001b[0;36m1\u001b[0m\u001b[0;34m]\u001b[0m\u001b[0;34m\u001b[0m\u001b[0;34m\u001b[0m\u001b[0m\n\u001b[0m\u001b[1;32m      6\u001b[0m     \u001b[0mprint\u001b[0m\u001b[0;34m(\u001b[0m\u001b[0mnext_row\u001b[0m\u001b[0;34m[\u001b[0m\u001b[0;34m'start_time'\u001b[0m\u001b[0;34m]\u001b[0m \u001b[0;34m-\u001b[0m \u001b[0mrow\u001b[0m\u001b[0;34m[\u001b[0m\u001b[0;34m'end_time'\u001b[0m\u001b[0;34m]\u001b[0m\u001b[0;34m,\u001b[0m \u001b[0mrow\u001b[0m\u001b[0;34m[\u001b[0m\u001b[0;34m'bee_id'\u001b[0m\u001b[0;34m]\u001b[0m\u001b[0;34m,\u001b[0m \u001b[0mnext_row\u001b[0m\u001b[0;34m[\u001b[0m\u001b[0;34m'bee_id'\u001b[0m\u001b[0;34m]\u001b[0m\u001b[0;34m)\u001b[0m\u001b[0;34m\u001b[0m\u001b[0;34m\u001b[0m\u001b[0m\n",
      "\u001b[0;32m~/anaconda3/lib/python3.6/site-packages/pandas/core/indexing.py\u001b[0m in \u001b[0;36m__getitem__\u001b[0;34m(self, key)\u001b[0m\n\u001b[1;32m   1498\u001b[0m \u001b[0;34m\u001b[0m\u001b[0m\n\u001b[1;32m   1499\u001b[0m             \u001b[0mmaybe_callable\u001b[0m \u001b[0;34m=\u001b[0m \u001b[0mcom\u001b[0m\u001b[0;34m.\u001b[0m\u001b[0mapply_if_callable\u001b[0m\u001b[0;34m(\u001b[0m\u001b[0mkey\u001b[0m\u001b[0;34m,\u001b[0m \u001b[0mself\u001b[0m\u001b[0;34m.\u001b[0m\u001b[0mobj\u001b[0m\u001b[0;34m)\u001b[0m\u001b[0;34m\u001b[0m\u001b[0;34m\u001b[0m\u001b[0m\n\u001b[0;32m-> 1500\u001b[0;31m             \u001b[0;32mreturn\u001b[0m \u001b[0mself\u001b[0m\u001b[0;34m.\u001b[0m\u001b[0m_getitem_axis\u001b[0m\u001b[0;34m(\u001b[0m\u001b[0mmaybe_callable\u001b[0m\u001b[0;34m,\u001b[0m \u001b[0maxis\u001b[0m\u001b[0;34m=\u001b[0m\u001b[0maxis\u001b[0m\u001b[0;34m)\u001b[0m\u001b[0;34m\u001b[0m\u001b[0;34m\u001b[0m\u001b[0m\n\u001b[0m\u001b[1;32m   1501\u001b[0m \u001b[0;34m\u001b[0m\u001b[0m\n\u001b[1;32m   1502\u001b[0m     \u001b[0;32mdef\u001b[0m \u001b[0m_is_scalar_access\u001b[0m\u001b[0;34m(\u001b[0m\u001b[0mself\u001b[0m\u001b[0;34m,\u001b[0m \u001b[0mkey\u001b[0m\u001b[0;34m)\u001b[0m\u001b[0;34m:\u001b[0m\u001b[0;34m\u001b[0m\u001b[0;34m\u001b[0m\u001b[0m\n",
      "\u001b[0;32m~/anaconda3/lib/python3.6/site-packages/pandas/core/indexing.py\u001b[0m in \u001b[0;36m_getitem_axis\u001b[0;34m(self, key, axis)\u001b[0m\n\u001b[1;32m   2228\u001b[0m \u001b[0;34m\u001b[0m\u001b[0m\n\u001b[1;32m   2229\u001b[0m             \u001b[0;31m# validate the location\u001b[0m\u001b[0;34m\u001b[0m\u001b[0;34m\u001b[0m\u001b[0;34m\u001b[0m\u001b[0m\n\u001b[0;32m-> 2230\u001b[0;31m             \u001b[0mself\u001b[0m\u001b[0;34m.\u001b[0m\u001b[0m_validate_integer\u001b[0m\u001b[0;34m(\u001b[0m\u001b[0mkey\u001b[0m\u001b[0;34m,\u001b[0m \u001b[0maxis\u001b[0m\u001b[0;34m)\u001b[0m\u001b[0;34m\u001b[0m\u001b[0;34m\u001b[0m\u001b[0m\n\u001b[0m\u001b[1;32m   2231\u001b[0m \u001b[0;34m\u001b[0m\u001b[0m\n\u001b[1;32m   2232\u001b[0m             \u001b[0;32mreturn\u001b[0m \u001b[0mself\u001b[0m\u001b[0;34m.\u001b[0m\u001b[0m_get_loc\u001b[0m\u001b[0;34m(\u001b[0m\u001b[0mkey\u001b[0m\u001b[0;34m,\u001b[0m \u001b[0maxis\u001b[0m\u001b[0;34m=\u001b[0m\u001b[0maxis\u001b[0m\u001b[0;34m)\u001b[0m\u001b[0;34m\u001b[0m\u001b[0;34m\u001b[0m\u001b[0m\n",
      "\u001b[0;32m~/anaconda3/lib/python3.6/site-packages/pandas/core/indexing.py\u001b[0m in \u001b[0;36m_validate_integer\u001b[0;34m(self, key, axis)\u001b[0m\n\u001b[1;32m   2137\u001b[0m         \u001b[0mlen_axis\u001b[0m \u001b[0;34m=\u001b[0m \u001b[0mlen\u001b[0m\u001b[0;34m(\u001b[0m\u001b[0mself\u001b[0m\u001b[0;34m.\u001b[0m\u001b[0mobj\u001b[0m\u001b[0;34m.\u001b[0m\u001b[0m_get_axis\u001b[0m\u001b[0;34m(\u001b[0m\u001b[0maxis\u001b[0m\u001b[0;34m)\u001b[0m\u001b[0;34m)\u001b[0m\u001b[0;34m\u001b[0m\u001b[0;34m\u001b[0m\u001b[0m\n\u001b[1;32m   2138\u001b[0m         \u001b[0;32mif\u001b[0m \u001b[0mkey\u001b[0m \u001b[0;34m>=\u001b[0m \u001b[0mlen_axis\u001b[0m \u001b[0;32mor\u001b[0m \u001b[0mkey\u001b[0m \u001b[0;34m<\u001b[0m \u001b[0;34m-\u001b[0m\u001b[0mlen_axis\u001b[0m\u001b[0;34m:\u001b[0m\u001b[0;34m\u001b[0m\u001b[0;34m\u001b[0m\u001b[0m\n\u001b[0;32m-> 2139\u001b[0;31m             \u001b[0;32mraise\u001b[0m \u001b[0mIndexError\u001b[0m\u001b[0;34m(\u001b[0m\u001b[0;34m\"single positional indexer is out-of-bounds\"\u001b[0m\u001b[0;34m)\u001b[0m\u001b[0;34m\u001b[0m\u001b[0;34m\u001b[0m\u001b[0m\n\u001b[0m\u001b[1;32m   2140\u001b[0m \u001b[0;34m\u001b[0m\u001b[0m\n\u001b[1;32m   2141\u001b[0m     \u001b[0;32mdef\u001b[0m \u001b[0m_getitem_tuple\u001b[0m\u001b[0;34m(\u001b[0m\u001b[0mself\u001b[0m\u001b[0;34m,\u001b[0m \u001b[0mtup\u001b[0m\u001b[0;34m)\u001b[0m\u001b[0;34m:\u001b[0m\u001b[0;34m\u001b[0m\u001b[0;34m\u001b[0m\u001b[0m\n",
      "\u001b[0;31mIndexError\u001b[0m: single positional indexer is out-of-bounds"
     ]
    }
   ],
   "source": [
    "tracks = tracks3.copy()\n",
    "tracks = tracks.sort_values(['bee_id', 'start_time'])\n",
    "for index, rows in tracks.iterrows():\n",
    "    row = tracks.iloc[index]\n",
    "    next_row = tracks.iloc[index+1]\n",
    "    print(next_row['start_time'] - row['end_time'], row['bee_id'], next_row['bee_id'])"
   ]
  },
  {
   "cell_type": "code",
   "execution_count": 205,
   "metadata": {
    "ExecuteTime": {
     "end_time": "2019-03-07T16:02:11.305591Z",
     "start_time": "2019-03-07T16:02:11.264647Z"
    }
   },
   "outputs": [
    {
     "data": {
      "text/html": [
       "<div>\n",
       "<style scoped>\n",
       "    .dataframe tbody tr th:only-of-type {\n",
       "        vertical-align: middle;\n",
       "    }\n",
       "\n",
       "    .dataframe tbody tr th {\n",
       "        vertical-align: top;\n",
       "    }\n",
       "\n",
       "    .dataframe thead th {\n",
       "        text-align: right;\n",
       "    }\n",
       "</style>\n",
       "<table border=\"1\" class=\"dataframe\">\n",
       "  <thead>\n",
       "    <tr style=\"text-align: right;\">\n",
       "      <th></th>\n",
       "      <th>bee_id</th>\n",
       "      <th>xpos</th>\n",
       "      <th>ypos</th>\n",
       "      <th>timestamps</th>\n",
       "      <th>timestamp_video</th>\n",
       "      <th>start_time</th>\n",
       "      <th>end_time</th>\n",
       "    </tr>\n",
       "  </thead>\n",
       "  <tbody>\n",
       "    <tr>\n",
       "      <th>0</th>\n",
       "      <td>1926.0</td>\n",
       "      <td>[912.4305286407471, 974.5363636016846, 1037.02...</td>\n",
       "      <td>[126.9986743927002, 126.95895576477051, 101.19...</td>\n",
       "      <td>[0.0, 0.1, 0.2, 0.3, 0.4, 0.5, 0.6, 0.7, 0.8, ...</td>\n",
       "      <td>1.534634e+09</td>\n",
       "      <td>1.534634e+09</td>\n",
       "      <td>1.534634e+09</td>\n",
       "    </tr>\n",
       "    <tr>\n",
       "      <th>1</th>\n",
       "      <td>1926.0</td>\n",
       "      <td>[612.2233085632324, 689.0336799621582, 675.910...</td>\n",
       "      <td>[163.55703163146973, 152.10690116882324, 175.3...</td>\n",
       "      <td>[4.6, 4.7, 4.8, 5.0, 5.2, 5.3, 5.4, 5.6, 5.7, ...</td>\n",
       "      <td>1.534634e+09</td>\n",
       "      <td>1.534634e+09</td>\n",
       "      <td>1.534634e+09</td>\n",
       "    </tr>\n",
       "    <tr>\n",
       "      <th>2</th>\n",
       "      <td>1926.0</td>\n",
       "      <td>[1337.3061771392822, 1374.0617427825928, 1362....</td>\n",
       "      <td>[264.9521064758301, 152.6708221435547, 139.647...</td>\n",
       "      <td>[11.9, 12.1, 12.2, 12.3, 12.4, 12.5, 12.7, 12.9]</td>\n",
       "      <td>1.534634e+09</td>\n",
       "      <td>1.534634e+09</td>\n",
       "      <td>1.534634e+09</td>\n",
       "    </tr>\n",
       "    <tr>\n",
       "      <th>3</th>\n",
       "      <td>1926.0</td>\n",
       "      <td>[1200.4261093139648, 1012.0221309661865, 961.8...</td>\n",
       "      <td>[262.57673835754395, 136.45391273498535, 112.3...</td>\n",
       "      <td>[0.0, 0.4, 0.5, 0.6, 0.8, 0.9, 1.0, 1.1, 1.2]</td>\n",
       "      <td>1.534634e+09</td>\n",
       "      <td>1.534634e+09</td>\n",
       "      <td>1.534634e+09</td>\n",
       "    </tr>\n",
       "    <tr>\n",
       "      <th>4</th>\n",
       "      <td>1926.0</td>\n",
       "      <td>[475.63280868530273, 449.9865837097168, 400.06...</td>\n",
       "      <td>[235.84949111938477, 211.26516914367676, 211.6...</td>\n",
       "      <td>[1.6, 1.7, 1.8]</td>\n",
       "      <td>1.534634e+09</td>\n",
       "      <td>1.534634e+09</td>\n",
       "      <td>1.534634e+09</td>\n",
       "    </tr>\n",
       "    <tr>\n",
       "      <th>5</th>\n",
       "      <td>1970.0</td>\n",
       "      <td>[374.40132999420166, 412.2779064178467, 449.67...</td>\n",
       "      <td>[250.45712661743164, 237.53064727783203, 223.9...</td>\n",
       "      <td>[17.4, 17.5, 17.6, 17.7, 17.8, 17.9, 18.0, 18....</td>\n",
       "      <td>1.534638e+09</td>\n",
       "      <td>1.534638e+09</td>\n",
       "      <td>1.534638e+09</td>\n",
       "    </tr>\n",
       "    <tr>\n",
       "      <th>6</th>\n",
       "      <td>1970.0</td>\n",
       "      <td>[1100.5606575012207, 1125.3751583099365, 1137....</td>\n",
       "      <td>[137.89874267578125, 113.70353126525879, 100.5...</td>\n",
       "      <td>[0.7, 0.8, 1.5, 1.6]</td>\n",
       "      <td>1.534638e+09</td>\n",
       "      <td>1.534638e+09</td>\n",
       "      <td>1.534638e+09</td>\n",
       "    </tr>\n",
       "    <tr>\n",
       "      <th>7</th>\n",
       "      <td>1970.0</td>\n",
       "      <td>[1275.0042209625244, 1248.782943725586, 1188.0...</td>\n",
       "      <td>[252.97906684875488, 265.38332176208496, 263.9...</td>\n",
       "      <td>[2.3, 2.5, 2.6, 2.7, 2.8, 3.1, 3.2]</td>\n",
       "      <td>1.534638e+09</td>\n",
       "      <td>1.534638e+09</td>\n",
       "      <td>1.534638e+09</td>\n",
       "    </tr>\n",
       "    <tr>\n",
       "      <th>8</th>\n",
       "      <td>1970.0</td>\n",
       "      <td>[812.58274269104, 762.6650428771973, 738.07292...</td>\n",
       "      <td>[111.47340106964111, 175.45004081726074, 224.9...</td>\n",
       "      <td>[4.0, 4.1, 4.2, 4.3, 4.6, 4.7, 4.8, 4.9, 5.0, ...</td>\n",
       "      <td>1.534638e+09</td>\n",
       "      <td>1.534638e+09</td>\n",
       "      <td>1.534638e+09</td>\n",
       "    </tr>\n",
       "    <tr>\n",
       "      <th>9</th>\n",
       "      <td>1970.0</td>\n",
       "      <td>[1124.3389263153076, 1186.8357887268066, 1236....</td>\n",
       "      <td>[213.9572525024414, 139.63128471374512, 113.99...</td>\n",
       "      <td>[19.6, 19.8, 19.9, 20.0, 20.1, 20.2, 20.7]</td>\n",
       "      <td>1.534638e+09</td>\n",
       "      <td>1.534638e+09</td>\n",
       "      <td>1.534638e+09</td>\n",
       "    </tr>\n",
       "  </tbody>\n",
       "</table>\n",
       "</div>"
      ],
      "text/plain": [
       "   bee_id                                               xpos  \\\n",
       "0  1926.0  [912.4305286407471, 974.5363636016846, 1037.02...   \n",
       "1  1926.0  [612.2233085632324, 689.0336799621582, 675.910...   \n",
       "2  1926.0  [1337.3061771392822, 1374.0617427825928, 1362....   \n",
       "3  1926.0  [1200.4261093139648, 1012.0221309661865, 961.8...   \n",
       "4  1926.0  [475.63280868530273, 449.9865837097168, 400.06...   \n",
       "5  1970.0  [374.40132999420166, 412.2779064178467, 449.67...   \n",
       "6  1970.0  [1100.5606575012207, 1125.3751583099365, 1137....   \n",
       "7  1970.0  [1275.0042209625244, 1248.782943725586, 1188.0...   \n",
       "8  1970.0  [812.58274269104, 762.6650428771973, 738.07292...   \n",
       "9  1970.0  [1124.3389263153076, 1186.8357887268066, 1236....   \n",
       "\n",
       "                                                ypos  \\\n",
       "0  [126.9986743927002, 126.95895576477051, 101.19...   \n",
       "1  [163.55703163146973, 152.10690116882324, 175.3...   \n",
       "2  [264.9521064758301, 152.6708221435547, 139.647...   \n",
       "3  [262.57673835754395, 136.45391273498535, 112.3...   \n",
       "4  [235.84949111938477, 211.26516914367676, 211.6...   \n",
       "5  [250.45712661743164, 237.53064727783203, 223.9...   \n",
       "6  [137.89874267578125, 113.70353126525879, 100.5...   \n",
       "7  [252.97906684875488, 265.38332176208496, 263.9...   \n",
       "8  [111.47340106964111, 175.45004081726074, 224.9...   \n",
       "9  [213.9572525024414, 139.63128471374512, 113.99...   \n",
       "\n",
       "                                          timestamps  timestamp_video  \\\n",
       "0  [0.0, 0.1, 0.2, 0.3, 0.4, 0.5, 0.6, 0.7, 0.8, ...     1.534634e+09   \n",
       "1  [4.6, 4.7, 4.8, 5.0, 5.2, 5.3, 5.4, 5.6, 5.7, ...     1.534634e+09   \n",
       "2   [11.9, 12.1, 12.2, 12.3, 12.4, 12.5, 12.7, 12.9]     1.534634e+09   \n",
       "3      [0.0, 0.4, 0.5, 0.6, 0.8, 0.9, 1.0, 1.1, 1.2]     1.534634e+09   \n",
       "4                                    [1.6, 1.7, 1.8]     1.534634e+09   \n",
       "5  [17.4, 17.5, 17.6, 17.7, 17.8, 17.9, 18.0, 18....     1.534638e+09   \n",
       "6                               [0.7, 0.8, 1.5, 1.6]     1.534638e+09   \n",
       "7                [2.3, 2.5, 2.6, 2.7, 2.8, 3.1, 3.2]     1.534638e+09   \n",
       "8  [4.0, 4.1, 4.2, 4.3, 4.6, 4.7, 4.8, 4.9, 5.0, ...     1.534638e+09   \n",
       "9         [19.6, 19.8, 19.9, 20.0, 20.1, 20.2, 20.7]     1.534638e+09   \n",
       "\n",
       "     start_time      end_time  \n",
       "0  1.534634e+09  1.534634e+09  \n",
       "1  1.534634e+09  1.534634e+09  \n",
       "2  1.534634e+09  1.534634e+09  \n",
       "3  1.534634e+09  1.534634e+09  \n",
       "4  1.534634e+09  1.534634e+09  \n",
       "5  1.534638e+09  1.534638e+09  \n",
       "6  1.534638e+09  1.534638e+09  \n",
       "7  1.534638e+09  1.534638e+09  \n",
       "8  1.534638e+09  1.534638e+09  \n",
       "9  1.534638e+09  1.534638e+09  "
      ]
     },
     "execution_count": 205,
     "metadata": {},
     "output_type": "execute_result"
    }
   ],
   "source": [
    "tracks3"
   ]
  },
  {
   "cell_type": "code",
   "execution_count": 192,
   "metadata": {
    "ExecuteTime": {
     "end_time": "2019-03-07T15:54:36.859111Z",
     "start_time": "2019-03-07T15:54:36.808602Z"
    }
   },
   "outputs": [
    {
     "data": {
      "text/html": [
       "<div>\n",
       "<style scoped>\n",
       "    .dataframe tbody tr th:only-of-type {\n",
       "        vertical-align: middle;\n",
       "    }\n",
       "\n",
       "    .dataframe tbody tr th {\n",
       "        vertical-align: top;\n",
       "    }\n",
       "\n",
       "    .dataframe thead th {\n",
       "        text-align: right;\n",
       "    }\n",
       "</style>\n",
       "<table border=\"1\" class=\"dataframe\">\n",
       "  <thead>\n",
       "    <tr style=\"text-align: right;\">\n",
       "      <th></th>\n",
       "      <th>bee_id</th>\n",
       "      <th>xpos</th>\n",
       "      <th>ypos</th>\n",
       "      <th>timestamps</th>\n",
       "      <th>timestamp_video</th>\n",
       "      <th>start_time</th>\n",
       "      <th>end_time</th>\n",
       "    </tr>\n",
       "  </thead>\n",
       "  <tbody>\n",
       "    <tr>\n",
       "      <th>0</th>\n",
       "      <td>1926.0</td>\n",
       "      <td>[912.4305286407471, 974.5363636016846, 1037.02...</td>\n",
       "      <td>[126.9986743927002, 126.95895576477051, 101.19...</td>\n",
       "      <td>[0.0, 0.1, 0.2, 0.3, 0.4, 0.5, 0.6, 0.7, 0.8, ...</td>\n",
       "      <td>1.534634e+09</td>\n",
       "      <td>1.534634e+09</td>\n",
       "      <td>1.534634e+09</td>\n",
       "    </tr>\n",
       "    <tr>\n",
       "      <th>1</th>\n",
       "      <td>1926.0</td>\n",
       "      <td>[612.2233085632324, 689.0336799621582, 675.910...</td>\n",
       "      <td>[163.55703163146973, 152.10690116882324, 175.3...</td>\n",
       "      <td>[4.6, 4.7, 4.8, 5.0, 5.2, 5.3, 5.4, 5.6, 5.7, ...</td>\n",
       "      <td>1.534634e+09</td>\n",
       "      <td>1.534634e+09</td>\n",
       "      <td>1.534634e+09</td>\n",
       "    </tr>\n",
       "    <tr>\n",
       "      <th>2</th>\n",
       "      <td>1926.0</td>\n",
       "      <td>[1337.3061771392822, 1374.0617427825928, 1362....</td>\n",
       "      <td>[264.9521064758301, 152.6708221435547, 139.647...</td>\n",
       "      <td>[11.9, 12.1, 12.2, 12.3, 12.4, 12.5, 12.7, 12.9]</td>\n",
       "      <td>1.534634e+09</td>\n",
       "      <td>1.534634e+09</td>\n",
       "      <td>1.534634e+09</td>\n",
       "    </tr>\n",
       "    <tr>\n",
       "      <th>3</th>\n",
       "      <td>1926.0</td>\n",
       "      <td>[1200.4261093139648, 1012.0221309661865, 961.8...</td>\n",
       "      <td>[262.57673835754395, 136.45391273498535, 112.3...</td>\n",
       "      <td>[0.0, 0.4, 0.5, 0.6, 0.8, 0.9, 1.0, 1.1, 1.2]</td>\n",
       "      <td>1.534634e+09</td>\n",
       "      <td>1.534634e+09</td>\n",
       "      <td>1.534634e+09</td>\n",
       "    </tr>\n",
       "    <tr>\n",
       "      <th>4</th>\n",
       "      <td>1926.0</td>\n",
       "      <td>[475.63280868530273, 449.9865837097168, 400.06...</td>\n",
       "      <td>[235.84949111938477, 211.26516914367676, 211.6...</td>\n",
       "      <td>[1.6, 1.7, 1.8]</td>\n",
       "      <td>1.534634e+09</td>\n",
       "      <td>1.534634e+09</td>\n",
       "      <td>1.534634e+09</td>\n",
       "    </tr>\n",
       "    <tr>\n",
       "      <th>5</th>\n",
       "      <td>1970.0</td>\n",
       "      <td>[374.40132999420166, 412.2779064178467, 449.67...</td>\n",
       "      <td>[250.45712661743164, 237.53064727783203, 223.9...</td>\n",
       "      <td>[17.4, 17.5, 17.6, 17.7, 17.8, 17.9, 18.0, 18....</td>\n",
       "      <td>1.534638e+09</td>\n",
       "      <td>1.534638e+09</td>\n",
       "      <td>1.534638e+09</td>\n",
       "    </tr>\n",
       "    <tr>\n",
       "      <th>6</th>\n",
       "      <td>1970.0</td>\n",
       "      <td>[1100.5606575012207, 1125.3751583099365, 1137....</td>\n",
       "      <td>[137.89874267578125, 113.70353126525879, 100.5...</td>\n",
       "      <td>[0.7, 0.8, 1.5, 1.6]</td>\n",
       "      <td>1.534638e+09</td>\n",
       "      <td>1.534638e+09</td>\n",
       "      <td>1.534638e+09</td>\n",
       "    </tr>\n",
       "    <tr>\n",
       "      <th>7</th>\n",
       "      <td>1970.0</td>\n",
       "      <td>[1275.0042209625244, 1248.782943725586, 1188.0...</td>\n",
       "      <td>[252.97906684875488, 265.38332176208496, 263.9...</td>\n",
       "      <td>[2.3, 2.5, 2.6, 2.7, 2.8, 3.1, 3.2]</td>\n",
       "      <td>1.534638e+09</td>\n",
       "      <td>1.534638e+09</td>\n",
       "      <td>1.534638e+09</td>\n",
       "    </tr>\n",
       "    <tr>\n",
       "      <th>8</th>\n",
       "      <td>1970.0</td>\n",
       "      <td>[812.58274269104, 762.6650428771973, 738.07292...</td>\n",
       "      <td>[111.47340106964111, 175.45004081726074, 224.9...</td>\n",
       "      <td>[4.0, 4.1, 4.2, 4.3, 4.6, 4.7, 4.8, 4.9, 5.0, ...</td>\n",
       "      <td>1.534638e+09</td>\n",
       "      <td>1.534638e+09</td>\n",
       "      <td>1.534638e+09</td>\n",
       "    </tr>\n",
       "    <tr>\n",
       "      <th>9</th>\n",
       "      <td>1970.0</td>\n",
       "      <td>[1124.3389263153076, 1186.8357887268066, 1236....</td>\n",
       "      <td>[213.9572525024414, 139.63128471374512, 113.99...</td>\n",
       "      <td>[19.6, 19.8, 19.9, 20.0, 20.1, 20.2, 20.7]</td>\n",
       "      <td>1.534638e+09</td>\n",
       "      <td>1.534638e+09</td>\n",
       "      <td>1.534638e+09</td>\n",
       "    </tr>\n",
       "  </tbody>\n",
       "</table>\n",
       "</div>"
      ],
      "text/plain": [
       "   bee_id                                               xpos  \\\n",
       "0  1926.0  [912.4305286407471, 974.5363636016846, 1037.02...   \n",
       "1  1926.0  [612.2233085632324, 689.0336799621582, 675.910...   \n",
       "2  1926.0  [1337.3061771392822, 1374.0617427825928, 1362....   \n",
       "3  1926.0  [1200.4261093139648, 1012.0221309661865, 961.8...   \n",
       "4  1926.0  [475.63280868530273, 449.9865837097168, 400.06...   \n",
       "5  1970.0  [374.40132999420166, 412.2779064178467, 449.67...   \n",
       "6  1970.0  [1100.5606575012207, 1125.3751583099365, 1137....   \n",
       "7  1970.0  [1275.0042209625244, 1248.782943725586, 1188.0...   \n",
       "8  1970.0  [812.58274269104, 762.6650428771973, 738.07292...   \n",
       "9  1970.0  [1124.3389263153076, 1186.8357887268066, 1236....   \n",
       "\n",
       "                                                ypos  \\\n",
       "0  [126.9986743927002, 126.95895576477051, 101.19...   \n",
       "1  [163.55703163146973, 152.10690116882324, 175.3...   \n",
       "2  [264.9521064758301, 152.6708221435547, 139.647...   \n",
       "3  [262.57673835754395, 136.45391273498535, 112.3...   \n",
       "4  [235.84949111938477, 211.26516914367676, 211.6...   \n",
       "5  [250.45712661743164, 237.53064727783203, 223.9...   \n",
       "6  [137.89874267578125, 113.70353126525879, 100.5...   \n",
       "7  [252.97906684875488, 265.38332176208496, 263.9...   \n",
       "8  [111.47340106964111, 175.45004081726074, 224.9...   \n",
       "9  [213.9572525024414, 139.63128471374512, 113.99...   \n",
       "\n",
       "                                          timestamps  timestamp_video  \\\n",
       "0  [0.0, 0.1, 0.2, 0.3, 0.4, 0.5, 0.6, 0.7, 0.8, ...     1.534634e+09   \n",
       "1  [4.6, 4.7, 4.8, 5.0, 5.2, 5.3, 5.4, 5.6, 5.7, ...     1.534634e+09   \n",
       "2   [11.9, 12.1, 12.2, 12.3, 12.4, 12.5, 12.7, 12.9]     1.534634e+09   \n",
       "3      [0.0, 0.4, 0.5, 0.6, 0.8, 0.9, 1.0, 1.1, 1.2]     1.534634e+09   \n",
       "4                                    [1.6, 1.7, 1.8]     1.534634e+09   \n",
       "5  [17.4, 17.5, 17.6, 17.7, 17.8, 17.9, 18.0, 18....     1.534638e+09   \n",
       "6                               [0.7, 0.8, 1.5, 1.6]     1.534638e+09   \n",
       "7                [2.3, 2.5, 2.6, 2.7, 2.8, 3.1, 3.2]     1.534638e+09   \n",
       "8  [4.0, 4.1, 4.2, 4.3, 4.6, 4.7, 4.8, 4.9, 5.0, ...     1.534638e+09   \n",
       "9         [19.6, 19.8, 19.9, 20.0, 20.1, 20.2, 20.7]     1.534638e+09   \n",
       "\n",
       "     start_time      end_time  \n",
       "0  1.534634e+09  1.534634e+09  \n",
       "1  1.534634e+09  1.534634e+09  \n",
       "2  1.534634e+09  1.534634e+09  \n",
       "3  1.534634e+09  1.534634e+09  \n",
       "4  1.534634e+09  1.534634e+09  \n",
       "5  1.534638e+09  1.534638e+09  \n",
       "6  1.534638e+09  1.534638e+09  \n",
       "7  1.534638e+09  1.534638e+09  \n",
       "8  1.534638e+09  1.534638e+09  \n",
       "9  1.534638e+09  1.534638e+09  "
      ]
     },
     "execution_count": 192,
     "metadata": {},
     "output_type": "execute_result"
    }
   ],
   "source": [
    "tracks2"
   ]
  },
  {
   "cell_type": "code",
   "execution_count": 168,
   "metadata": {
    "ExecuteTime": {
     "end_time": "2019-03-07T15:38:01.102291Z",
     "start_time": "2019-03-07T15:38:01.053333Z"
    }
   },
   "outputs": [
    {
     "data": {
      "text/html": [
       "<div>\n",
       "<style scoped>\n",
       "    .dataframe tbody tr th:only-of-type {\n",
       "        vertical-align: middle;\n",
       "    }\n",
       "\n",
       "    .dataframe tbody tr th {\n",
       "        vertical-align: top;\n",
       "    }\n",
       "\n",
       "    .dataframe thead th {\n",
       "        text-align: right;\n",
       "    }\n",
       "</style>\n",
       "<table border=\"1\" class=\"dataframe\">\n",
       "  <thead>\n",
       "    <tr style=\"text-align: right;\">\n",
       "      <th></th>\n",
       "      <th>bee_id</th>\n",
       "      <th>xpos</th>\n",
       "      <th>ypos</th>\n",
       "      <th>timestamps</th>\n",
       "      <th>timestamp_video</th>\n",
       "      <th>start_time</th>\n",
       "      <th>end_time</th>\n",
       "    </tr>\n",
       "  </thead>\n",
       "  <tbody>\n",
       "    <tr>\n",
       "      <th>0</th>\n",
       "      <td>1926.0</td>\n",
       "      <td>[912.4305286407471, 974.5363636016846, 1037.02...</td>\n",
       "      <td>[126.9986743927002, 126.95895576477051, 101.19...</td>\n",
       "      <td>[0.0, 0.1, 0.2, 0.3, 0.4, 0.5, 0.6, 0.7, 0.8, ...</td>\n",
       "      <td>1.534634e+09</td>\n",
       "      <td>1.534634e+09</td>\n",
       "      <td>1.534634e+09</td>\n",
       "    </tr>\n",
       "    <tr>\n",
       "      <th>1</th>\n",
       "      <td>1926.0</td>\n",
       "      <td>[612.2233085632324, 689.0336799621582, 675.910...</td>\n",
       "      <td>[163.55703163146973, 152.10690116882324, 175.3...</td>\n",
       "      <td>[4.6, 4.7, 4.8, 5.0, 5.2, 5.3, 5.4, 5.6, 5.7, ...</td>\n",
       "      <td>1.534634e+09</td>\n",
       "      <td>1.534634e+09</td>\n",
       "      <td>1.534634e+09</td>\n",
       "    </tr>\n",
       "    <tr>\n",
       "      <th>2</th>\n",
       "      <td>1926.0</td>\n",
       "      <td>[1337.3061771392822, 1374.0617427825928, 1362....</td>\n",
       "      <td>[264.9521064758301, 152.6708221435547, 139.647...</td>\n",
       "      <td>[11.9, 12.1, 12.2, 12.3, 12.4, 12.5, 12.7, 12.9]</td>\n",
       "      <td>1.534634e+09</td>\n",
       "      <td>1.534634e+09</td>\n",
       "      <td>1.534634e+09</td>\n",
       "    </tr>\n",
       "    <tr>\n",
       "      <th>3</th>\n",
       "      <td>1926.0</td>\n",
       "      <td>[1200.4261093139648, 1012.0221309661865, 961.8...</td>\n",
       "      <td>[262.57673835754395, 136.45391273498535, 112.3...</td>\n",
       "      <td>[0.0, 0.4, 0.5, 0.6, 0.8, 0.9, 1.0, 1.1, 1.2]</td>\n",
       "      <td>1.534634e+09</td>\n",
       "      <td>1.534634e+09</td>\n",
       "      <td>1.534634e+09</td>\n",
       "    </tr>\n",
       "    <tr>\n",
       "      <th>4</th>\n",
       "      <td>1926.0</td>\n",
       "      <td>[475.63280868530273, 449.9865837097168, 400.06...</td>\n",
       "      <td>[235.84949111938477, 211.26516914367676, 211.6...</td>\n",
       "      <td>[1.6, 1.7, 1.8]</td>\n",
       "      <td>1.534634e+09</td>\n",
       "      <td>1.534634e+09</td>\n",
       "      <td>1.534634e+09</td>\n",
       "    </tr>\n",
       "    <tr>\n",
       "      <th>5</th>\n",
       "      <td>0.0</td>\n",
       "      <td>[2]</td>\n",
       "      <td>[2]</td>\n",
       "      <td>[2]</td>\n",
       "      <td>1.000000e+00</td>\n",
       "      <td>1.000000e+00</td>\n",
       "      <td>NaN</td>\n",
       "    </tr>\n",
       "    <tr>\n",
       "      <th>6</th>\n",
       "      <td>1970.0</td>\n",
       "      <td>[1100.5606575012207, 1125.3751583099365, 1137....</td>\n",
       "      <td>[137.89874267578125, 113.70353126525879, 100.5...</td>\n",
       "      <td>[0.7, 0.8, 1.5, 1.6]</td>\n",
       "      <td>1.534638e+09</td>\n",
       "      <td>1.534638e+09</td>\n",
       "      <td>1.534638e+09</td>\n",
       "    </tr>\n",
       "    <tr>\n",
       "      <th>7</th>\n",
       "      <td>1970.0</td>\n",
       "      <td>[1275.0042209625244, 1248.782943725586, 1188.0...</td>\n",
       "      <td>[252.97906684875488, 265.38332176208496, 263.9...</td>\n",
       "      <td>[2.3, 2.5, 2.6, 2.7, 2.8, 3.1, 3.2]</td>\n",
       "      <td>1.534638e+09</td>\n",
       "      <td>1.534638e+09</td>\n",
       "      <td>1.534638e+09</td>\n",
       "    </tr>\n",
       "    <tr>\n",
       "      <th>8</th>\n",
       "      <td>1970.0</td>\n",
       "      <td>[812.58274269104, 762.6650428771973, 738.07292...</td>\n",
       "      <td>[111.47340106964111, 175.45004081726074, 224.9...</td>\n",
       "      <td>[4.0, 4.1, 4.2, 4.3, 4.6, 4.7, 4.8, 4.9, 5.0, ...</td>\n",
       "      <td>1.534638e+09</td>\n",
       "      <td>1.534638e+09</td>\n",
       "      <td>1.534638e+09</td>\n",
       "    </tr>\n",
       "    <tr>\n",
       "      <th>9</th>\n",
       "      <td>1970.0</td>\n",
       "      <td>[1124.3389263153076, 1186.8357887268066, 1236....</td>\n",
       "      <td>[213.9572525024414, 139.63128471374512, 113.99...</td>\n",
       "      <td>[19.6, 19.8, 19.9, 20.0, 20.1, 20.2, 20.7]</td>\n",
       "      <td>1.534638e+09</td>\n",
       "      <td>1.534638e+09</td>\n",
       "      <td>1.534638e+09</td>\n",
       "    </tr>\n",
       "  </tbody>\n",
       "</table>\n",
       "</div>"
      ],
      "text/plain": [
       "   bee_id                                               xpos  \\\n",
       "0  1926.0  [912.4305286407471, 974.5363636016846, 1037.02...   \n",
       "1  1926.0  [612.2233085632324, 689.0336799621582, 675.910...   \n",
       "2  1926.0  [1337.3061771392822, 1374.0617427825928, 1362....   \n",
       "3  1926.0  [1200.4261093139648, 1012.0221309661865, 961.8...   \n",
       "4  1926.0  [475.63280868530273, 449.9865837097168, 400.06...   \n",
       "5     0.0                                                [2]   \n",
       "6  1970.0  [1100.5606575012207, 1125.3751583099365, 1137....   \n",
       "7  1970.0  [1275.0042209625244, 1248.782943725586, 1188.0...   \n",
       "8  1970.0  [812.58274269104, 762.6650428771973, 738.07292...   \n",
       "9  1970.0  [1124.3389263153076, 1186.8357887268066, 1236....   \n",
       "\n",
       "                                                ypos  \\\n",
       "0  [126.9986743927002, 126.95895576477051, 101.19...   \n",
       "1  [163.55703163146973, 152.10690116882324, 175.3...   \n",
       "2  [264.9521064758301, 152.6708221435547, 139.647...   \n",
       "3  [262.57673835754395, 136.45391273498535, 112.3...   \n",
       "4  [235.84949111938477, 211.26516914367676, 211.6...   \n",
       "5                                                [2]   \n",
       "6  [137.89874267578125, 113.70353126525879, 100.5...   \n",
       "7  [252.97906684875488, 265.38332176208496, 263.9...   \n",
       "8  [111.47340106964111, 175.45004081726074, 224.9...   \n",
       "9  [213.9572525024414, 139.63128471374512, 113.99...   \n",
       "\n",
       "                                          timestamps  timestamp_video  \\\n",
       "0  [0.0, 0.1, 0.2, 0.3, 0.4, 0.5, 0.6, 0.7, 0.8, ...     1.534634e+09   \n",
       "1  [4.6, 4.7, 4.8, 5.0, 5.2, 5.3, 5.4, 5.6, 5.7, ...     1.534634e+09   \n",
       "2   [11.9, 12.1, 12.2, 12.3, 12.4, 12.5, 12.7, 12.9]     1.534634e+09   \n",
       "3      [0.0, 0.4, 0.5, 0.6, 0.8, 0.9, 1.0, 1.1, 1.2]     1.534634e+09   \n",
       "4                                    [1.6, 1.7, 1.8]     1.534634e+09   \n",
       "5                                                [2]     1.000000e+00   \n",
       "6                               [0.7, 0.8, 1.5, 1.6]     1.534638e+09   \n",
       "7                [2.3, 2.5, 2.6, 2.7, 2.8, 3.1, 3.2]     1.534638e+09   \n",
       "8  [4.0, 4.1, 4.2, 4.3, 4.6, 4.7, 4.8, 4.9, 5.0, ...     1.534638e+09   \n",
       "9         [19.6, 19.8, 19.9, 20.0, 20.1, 20.2, 20.7]     1.534638e+09   \n",
       "\n",
       "     start_time      end_time  \n",
       "0  1.534634e+09  1.534634e+09  \n",
       "1  1.534634e+09  1.534634e+09  \n",
       "2  1.534634e+09  1.534634e+09  \n",
       "3  1.534634e+09  1.534634e+09  \n",
       "4  1.534634e+09  1.534634e+09  \n",
       "5  1.000000e+00           NaN  \n",
       "6  1.534638e+09  1.534638e+09  \n",
       "7  1.534638e+09  1.534638e+09  \n",
       "8  1.534638e+09  1.534638e+09  \n",
       "9  1.534638e+09  1.534638e+09  "
      ]
     },
     "execution_count": 168,
     "metadata": {},
     "output_type": "execute_result"
    }
   ],
   "source": [
    "tracks2"
   ]
  },
  {
   "cell_type": "code",
   "execution_count": 80,
   "metadata": {
    "ExecuteTime": {
     "end_time": "2019-03-07T14:04:06.280776Z",
     "start_time": "2019-03-07T14:04:06.272034Z"
    }
   },
   "outputs": [
    {
     "data": {
      "text/plain": [
       "[1, 2, 3, 4, 5]"
      ]
     },
     "execution_count": 80,
     "metadata": {},
     "output_type": "execute_result"
    }
   ],
   "source": [
    "list(np.array([1,2,3,4,5]))"
   ]
  },
  {
   "cell_type": "code",
   "execution_count": 83,
   "metadata": {
    "ExecuteTime": {
     "end_time": "2019-03-07T14:07:03.665652Z",
     "start_time": "2019-03-07T14:07:03.654029Z"
    }
   },
   "outputs": [
    {
     "data": {
      "text/plain": [
       "{'bee_id': 1926.0,\n",
       " 'end_time': 1534633697.6,\n",
       " 'start_time': 1534633693.0,\n",
       " 'timestamp_video': 1534633693.0,\n",
       " 'timestamps': [0.0,\n",
       "  0.1,\n",
       "  0.2,\n",
       "  0.3,\n",
       "  0.4,\n",
       "  0.5,\n",
       "  0.6,\n",
       "  0.7,\n",
       "  0.8,\n",
       "  0.9,\n",
       "  1.1,\n",
       "  1.2,\n",
       "  1.3,\n",
       "  1.4,\n",
       "  1.5,\n",
       "  1.8,\n",
       "  1.9,\n",
       "  2.0,\n",
       "  2.3,\n",
       "  2.9,\n",
       "  3.1,\n",
       "  3.2,\n",
       "  3.6,\n",
       "  3.7,\n",
       "  3.8,\n",
       "  3.9,\n",
       "  4.0,\n",
       "  4.1,\n",
       "  4.2,\n",
       "  4.3,\n",
       "  4.4,\n",
       "  4.5,\n",
       "  4.6],\n",
       " 'xpos': [912.4305286407471,\n",
       "  974.5363636016846,\n",
       "  1037.021481513977,\n",
       "  1087.5526504516602,\n",
       "  1163.181447982788,\n",
       "  1224.8404331207275,\n",
       "  1261.1492958068848,\n",
       "  1311.8746147155762,\n",
       "  1338.4249248504639,\n",
       "  1350.450511932373,\n",
       "  1311.5949172973633,\n",
       "  1288.5000610351562,\n",
       "  1251.5833129882812,\n",
       "  1225.3430042266846,\n",
       "  1199.7938346862793,\n",
       "  1214.6225757598877,\n",
       "  1237.0027284622192,\n",
       "  1249.7519283294678,\n",
       "  1212.5856132507324,\n",
       "  1100.21462059021,\n",
       "  974.7979393005371,\n",
       "  899.9079761505127,\n",
       "  649.9666709899902,\n",
       "  599.9539699554443,\n",
       "  549.8731517791748,\n",
       "  512.5459098815918,\n",
       "  462.3189392089844,\n",
       "  475.3288269042969,\n",
       "  500.0378932952881,\n",
       "  512.4009780883789,\n",
       "  550.2842960357666,\n",
       "  512.3014183044434,\n",
       "  563.6673736572266],\n",
       " 'ypos': [126.9986743927002,\n",
       "  126.95895576477051,\n",
       "  101.19268798828125,\n",
       "  127.15192794799805,\n",
       "  89.01172637939453,\n",
       "  89.53942489624023,\n",
       "  102.38545799255371,\n",
       "  115.24805068969727,\n",
       "  164.5365810394287,\n",
       "  251.51137924194336,\n",
       "  264.9671268463135,\n",
       "  264.3340759277344,\n",
       "  276.58216285705566,\n",
       "  262.7490940093994,\n",
       "  262.58789253234863,\n",
       "  262.87493324279785,\n",
       "  252.24614143371582,\n",
       "  252.31661796569824,\n",
       "  251.04610633850098,\n",
       "  137.02075481414795,\n",
       "  186.8759994506836,\n",
       "  224.79453659057617,\n",
       "  236.96456813812256,\n",
       "  223.5510597229004,\n",
       "  186.49464416503906,\n",
       "  173.8266544342041,\n",
       "  123.7801513671875,\n",
       "  124.56137657165527,\n",
       "  100.37021446228027,\n",
       "  112.98265075683594,\n",
       "  125.81842994689941,\n",
       "  139.08562660217285,\n",
       "  100.64486694335938]}"
      ]
     },
     "execution_count": 83,
     "metadata": {},
     "output_type": "execute_result"
    }
   ],
   "source": [
    "tracks.iloc[0]"
   ]
  },
  {
   "cell_type": "code",
   "execution_count": 66,
   "metadata": {
    "ExecuteTime": {
     "end_time": "2019-03-07T13:47:14.112413Z",
     "start_time": "2019-03-07T13:47:14.099296Z"
    },
    "collapsed": true
   },
   "outputs": [],
   "source": []
  },
  {
   "cell_type": "code",
   "execution_count": 67,
   "metadata": {
    "ExecuteTime": {
     "end_time": "2019-03-07T13:47:23.088561Z",
     "start_time": "2019-03-07T13:47:23.057232Z"
    }
   },
   "outputs": [
    {
     "ename": "IndexError",
     "evalue": "single positional indexer is out-of-bounds",
     "output_type": "error",
     "traceback": [
      "\u001b[0;31m---------------------------------------------------------------------------\u001b[0m",
      "\u001b[0;31mIndexError\u001b[0m                                Traceback (most recent call last)",
      "\u001b[0;32m<ipython-input-67-aa3f83728ae0>\u001b[0m in \u001b[0;36m<module>\u001b[0;34m()\u001b[0m\n\u001b[0;32m----> 1\u001b[0;31m \u001b[0mdf\u001b[0m\u001b[0;34m.\u001b[0m\u001b[0miloc\u001b[0m\u001b[0;34m[\u001b[0m\u001b[0;36m0\u001b[0m\u001b[0;34m]\u001b[0m\u001b[0;34m=\u001b[0m\u001b[0;34m[\u001b[0m\u001b[0;36m1\u001b[0m\u001b[0;34m,\u001b[0m\u001b[0;36m2\u001b[0m\u001b[0;34m,\u001b[0m\u001b[0;36m3\u001b[0m\u001b[0;34m]\u001b[0m\u001b[0;34m\u001b[0m\u001b[0;34m\u001b[0m\u001b[0m\n\u001b[0m",
      "\u001b[0;32m~/anaconda3/lib/python3.6/site-packages/pandas/core/indexing.py\u001b[0m in \u001b[0;36m__setitem__\u001b[0;34m(self, key, value)\u001b[0m\n\u001b[1;32m    187\u001b[0m         \u001b[0;32melse\u001b[0m\u001b[0;34m:\u001b[0m\u001b[0;34m\u001b[0m\u001b[0;34m\u001b[0m\u001b[0m\n\u001b[1;32m    188\u001b[0m             \u001b[0mkey\u001b[0m \u001b[0;34m=\u001b[0m \u001b[0mcom\u001b[0m\u001b[0;34m.\u001b[0m\u001b[0mapply_if_callable\u001b[0m\u001b[0;34m(\u001b[0m\u001b[0mkey\u001b[0m\u001b[0;34m,\u001b[0m \u001b[0mself\u001b[0m\u001b[0;34m.\u001b[0m\u001b[0mobj\u001b[0m\u001b[0;34m)\u001b[0m\u001b[0;34m\u001b[0m\u001b[0;34m\u001b[0m\u001b[0m\n\u001b[0;32m--> 189\u001b[0;31m         \u001b[0mindexer\u001b[0m \u001b[0;34m=\u001b[0m \u001b[0mself\u001b[0m\u001b[0;34m.\u001b[0m\u001b[0m_get_setitem_indexer\u001b[0m\u001b[0;34m(\u001b[0m\u001b[0mkey\u001b[0m\u001b[0;34m)\u001b[0m\u001b[0;34m\u001b[0m\u001b[0;34m\u001b[0m\u001b[0m\n\u001b[0m\u001b[1;32m    190\u001b[0m         \u001b[0mself\u001b[0m\u001b[0;34m.\u001b[0m\u001b[0m_setitem_with_indexer\u001b[0m\u001b[0;34m(\u001b[0m\u001b[0mindexer\u001b[0m\u001b[0;34m,\u001b[0m \u001b[0mvalue\u001b[0m\u001b[0;34m)\u001b[0m\u001b[0;34m\u001b[0m\u001b[0;34m\u001b[0m\u001b[0m\n\u001b[1;32m    191\u001b[0m \u001b[0;34m\u001b[0m\u001b[0m\n",
      "\u001b[0;32m~/anaconda3/lib/python3.6/site-packages/pandas/core/indexing.py\u001b[0m in \u001b[0;36m_get_setitem_indexer\u001b[0;34m(self, key)\u001b[0m\n\u001b[1;32m    173\u001b[0m \u001b[0;34m\u001b[0m\u001b[0m\n\u001b[1;32m    174\u001b[0m         \u001b[0;32mtry\u001b[0m\u001b[0;34m:\u001b[0m\u001b[0;34m\u001b[0m\u001b[0;34m\u001b[0m\u001b[0m\n\u001b[0;32m--> 175\u001b[0;31m             \u001b[0;32mreturn\u001b[0m \u001b[0mself\u001b[0m\u001b[0;34m.\u001b[0m\u001b[0m_convert_to_indexer\u001b[0m\u001b[0;34m(\u001b[0m\u001b[0mkey\u001b[0m\u001b[0;34m,\u001b[0m \u001b[0mis_setter\u001b[0m\u001b[0;34m=\u001b[0m\u001b[0;32mTrue\u001b[0m\u001b[0;34m)\u001b[0m\u001b[0;34m\u001b[0m\u001b[0;34m\u001b[0m\u001b[0m\n\u001b[0m\u001b[1;32m    176\u001b[0m         \u001b[0;32mexcept\u001b[0m \u001b[0mTypeError\u001b[0m \u001b[0;32mas\u001b[0m \u001b[0me\u001b[0m\u001b[0;34m:\u001b[0m\u001b[0;34m\u001b[0m\u001b[0;34m\u001b[0m\u001b[0m\n\u001b[1;32m    177\u001b[0m \u001b[0;34m\u001b[0m\u001b[0m\n",
      "\u001b[0;32m~/anaconda3/lib/python3.6/site-packages/pandas/core/indexing.py\u001b[0m in \u001b[0;36m_convert_to_indexer\u001b[0;34m(self, obj, axis, is_setter)\u001b[0m\n\u001b[1;32m   2245\u001b[0m \u001b[0;34m\u001b[0m\u001b[0m\n\u001b[1;32m   2246\u001b[0m         \u001b[0;32mtry\u001b[0m\u001b[0;34m:\u001b[0m\u001b[0;34m\u001b[0m\u001b[0;34m\u001b[0m\u001b[0m\n\u001b[0;32m-> 2247\u001b[0;31m             \u001b[0mself\u001b[0m\u001b[0;34m.\u001b[0m\u001b[0m_validate_key\u001b[0m\u001b[0;34m(\u001b[0m\u001b[0mobj\u001b[0m\u001b[0;34m,\u001b[0m \u001b[0maxis\u001b[0m\u001b[0;34m)\u001b[0m\u001b[0;34m\u001b[0m\u001b[0;34m\u001b[0m\u001b[0m\n\u001b[0m\u001b[1;32m   2248\u001b[0m             \u001b[0;32mreturn\u001b[0m \u001b[0mobj\u001b[0m\u001b[0;34m\u001b[0m\u001b[0;34m\u001b[0m\u001b[0m\n\u001b[1;32m   2249\u001b[0m         \u001b[0;32mexcept\u001b[0m \u001b[0mValueError\u001b[0m\u001b[0;34m:\u001b[0m\u001b[0;34m\u001b[0m\u001b[0;34m\u001b[0m\u001b[0m\n",
      "\u001b[0;32m~/anaconda3/lib/python3.6/site-packages/pandas/core/indexing.py\u001b[0m in \u001b[0;36m_validate_key\u001b[0;34m(self, key, axis)\u001b[0m\n\u001b[1;32m   2068\u001b[0m             \u001b[0;32mreturn\u001b[0m\u001b[0;34m\u001b[0m\u001b[0;34m\u001b[0m\u001b[0m\n\u001b[1;32m   2069\u001b[0m         \u001b[0;32melif\u001b[0m \u001b[0mis_integer\u001b[0m\u001b[0;34m(\u001b[0m\u001b[0mkey\u001b[0m\u001b[0;34m)\u001b[0m\u001b[0;34m:\u001b[0m\u001b[0;34m\u001b[0m\u001b[0;34m\u001b[0m\u001b[0m\n\u001b[0;32m-> 2070\u001b[0;31m             \u001b[0mself\u001b[0m\u001b[0;34m.\u001b[0m\u001b[0m_validate_integer\u001b[0m\u001b[0;34m(\u001b[0m\u001b[0mkey\u001b[0m\u001b[0;34m,\u001b[0m \u001b[0maxis\u001b[0m\u001b[0;34m)\u001b[0m\u001b[0;34m\u001b[0m\u001b[0;34m\u001b[0m\u001b[0m\n\u001b[0m\u001b[1;32m   2071\u001b[0m         \u001b[0;32melif\u001b[0m \u001b[0misinstance\u001b[0m\u001b[0;34m(\u001b[0m\u001b[0mkey\u001b[0m\u001b[0;34m,\u001b[0m \u001b[0mtuple\u001b[0m\u001b[0;34m)\u001b[0m\u001b[0;34m:\u001b[0m\u001b[0;34m\u001b[0m\u001b[0;34m\u001b[0m\u001b[0m\n\u001b[1;32m   2072\u001b[0m             \u001b[0;31m# a tuple should already have been caught by this point\u001b[0m\u001b[0;34m\u001b[0m\u001b[0;34m\u001b[0m\u001b[0;34m\u001b[0m\u001b[0m\n",
      "\u001b[0;32m~/anaconda3/lib/python3.6/site-packages/pandas/core/indexing.py\u001b[0m in \u001b[0;36m_validate_integer\u001b[0;34m(self, key, axis)\u001b[0m\n\u001b[1;32m   2137\u001b[0m         \u001b[0mlen_axis\u001b[0m \u001b[0;34m=\u001b[0m \u001b[0mlen\u001b[0m\u001b[0;34m(\u001b[0m\u001b[0mself\u001b[0m\u001b[0;34m.\u001b[0m\u001b[0mobj\u001b[0m\u001b[0;34m.\u001b[0m\u001b[0m_get_axis\u001b[0m\u001b[0;34m(\u001b[0m\u001b[0maxis\u001b[0m\u001b[0;34m)\u001b[0m\u001b[0;34m)\u001b[0m\u001b[0;34m\u001b[0m\u001b[0;34m\u001b[0m\u001b[0m\n\u001b[1;32m   2138\u001b[0m         \u001b[0;32mif\u001b[0m \u001b[0mkey\u001b[0m \u001b[0;34m>=\u001b[0m \u001b[0mlen_axis\u001b[0m \u001b[0;32mor\u001b[0m \u001b[0mkey\u001b[0m \u001b[0;34m<\u001b[0m \u001b[0;34m-\u001b[0m\u001b[0mlen_axis\u001b[0m\u001b[0;34m:\u001b[0m\u001b[0;34m\u001b[0m\u001b[0;34m\u001b[0m\u001b[0m\n\u001b[0;32m-> 2139\u001b[0;31m             \u001b[0;32mraise\u001b[0m \u001b[0mIndexError\u001b[0m\u001b[0;34m(\u001b[0m\u001b[0;34m\"single positional indexer is out-of-bounds\"\u001b[0m\u001b[0;34m)\u001b[0m\u001b[0;34m\u001b[0m\u001b[0;34m\u001b[0m\u001b[0m\n\u001b[0m\u001b[1;32m   2140\u001b[0m \u001b[0;34m\u001b[0m\u001b[0m\n\u001b[1;32m   2141\u001b[0m     \u001b[0;32mdef\u001b[0m \u001b[0m_getitem_tuple\u001b[0m\u001b[0;34m(\u001b[0m\u001b[0mself\u001b[0m\u001b[0;34m,\u001b[0m \u001b[0mtup\u001b[0m\u001b[0;34m)\u001b[0m\u001b[0;34m:\u001b[0m\u001b[0;34m\u001b[0m\u001b[0;34m\u001b[0m\u001b[0m\n",
      "\u001b[0;31mIndexError\u001b[0m: single positional indexer is out-of-bounds"
     ]
    }
   ],
   "source": []
  },
  {
   "cell_type": "code",
   "execution_count": 220,
   "metadata": {
    "ExecuteTime": {
     "end_time": "2019-03-07T16:47:45.182494Z",
     "start_time": "2019-03-07T16:46:43.768889Z"
    }
   },
   "outputs": [
    {
     "name": "stderr",
     "output_type": "stream",
     "text": [
      "/home/tscho/.local/lib/python3.6/site-packages/keras/backend/theano_backend.py:1032: UserWarning: DEPRECATION: the 'ds' parameter is not going to exist anymore as it is going to be replaced by the parameter 'ws'.\n",
      "  mode='max')\n",
      "/home/tscho/.local/lib/python3.6/site-packages/keras/backend/theano_backend.py:1032: UserWarning: DEPRECATION: the 'st' parameter is not going to exist anymore as it is going to be replaced by the parameter 'stride'.\n",
      "  mode='max')\n",
      "/home/tscho/.local/lib/python3.6/site-packages/keras/backend/theano_backend.py:1032: UserWarning: DEPRECATION: the 'padding' parameter is not going to exist anymore as it is going to be replaced by the parameter 'pad'.\n",
      "  mode='max')\n"
     ]
    },
    {
     "name": "stdout",
     "output_type": "stream",
     "text": [
      "0 :  ../videos/videos_tags/e00_2018-08-19-01-08-13.h264\n"
     ]
    },
    {
     "name": "stderr",
     "output_type": "stream",
     "text": [
      "Widget Javascript not detected.  It may not be installed or enabled properly.\n"
     ]
    },
    {
     "data": {
      "application/vnd.jupyter.widget-view+json": {
       "model_id": "75514a201dc24435adda30669e1a6d45"
      }
     },
     "metadata": {},
     "output_type": "display_data"
    },
    {
     "name": "stdout",
     "output_type": "stream",
     "text": [
      "138\n"
     ]
    },
    {
     "name": "stderr",
     "output_type": "stream",
     "text": [
      "/home/tscho/anaconda3/lib/python3.6/site-packages/sklearn/base.py:312: UserWarning: Trying to unpickle estimator StandardScaler from version 0.20.0 when using version 0.19.0. This might lead to breaking code or invalid results. Use at your own risk.\n",
      "  UserWarning)\n",
      "/home/tscho/anaconda3/lib/python3.6/site-packages/sklearn/base.py:312: UserWarning: Trying to unpickle estimator LinearSVC from version 0.20.0 when using version 0.19.0. This might lead to breaking code or invalid results. Use at your own risk.\n",
      "  UserWarning)\n",
      "/home/tscho/anaconda3/lib/python3.6/site-packages/sklearn/base.py:312: UserWarning: Trying to unpickle estimator Pipeline from version 0.20.0 when using version 0.19.0. This might lead to breaking code or invalid results. Use at your own risk.\n",
      "  UserWarning)\n",
      "/home/tscho/anaconda3/lib/python3.6/site-packages/sklearn/base.py:312: UserWarning: Trying to unpickle estimator DecisionTreeClassifier from version 0.20.0 when using version 0.19.0. This might lead to breaking code or invalid results. Use at your own risk.\n",
      "  UserWarning)\n",
      "/home/tscho/anaconda3/lib/python3.6/site-packages/sklearn/base.py:312: UserWarning: Trying to unpickle estimator RandomForestClassifier from version 0.20.0 when using version 0.19.0. This might lead to breaking code or invalid results. Use at your own risk.\n",
      "  UserWarning)\n",
      "'c' argument looks like a single numeric RGB or RGBA sequence, which should be avoided as value-mapping will have precedence in case its length matches with 'x' & 'y'.  Please use a 2-D array with a single row if you really want to specify the same RGB or RGBA value for all points.\n",
      "'c' argument looks like a single numeric RGB or RGBA sequence, which should be avoided as value-mapping will have precedence in case its length matches with 'x' & 'y'.  Please use a 2-D array with a single row if you really want to specify the same RGB or RGBA value for all points.\n"
     ]
    },
    {
     "name": "stdout",
     "output_type": "stream",
     "text": [
      "Found 138 detections belonging to 2 unique tracks and 1 individuals.\n"
     ]
    },
    {
     "data": {
      "image/png": "[encoded data removed]",
      "text/plain": [
       "<Figure size 864x864 with 1 Axes>"
      ]
     },
     "metadata": {},
     "output_type": "display_data"
    },
    {
     "name": "stdout",
     "output_type": "stream",
     "text": [
      "Detection/track statistics:\n"
     ]
    },
    {
     "data": {
      "image/png": "[encoded data removed]",
      "text/plain": [
       "<Figure size 864x144 with 1 Axes>"
      ]
     },
     "metadata": {},
     "output_type": "display_data"
    },
    {
     "data": {
      "image/png": "[encoded data removed]",
      "text/plain": [
       "<Figure size 864x144 with 1 Axes>"
      ]
     },
     "metadata": {},
     "output_type": "display_data"
    },
    {
     "data": {
      "image/png": "[encoded data removed]",
      "text/plain": [
       "<Figure size 864x144 with 1 Axes>"
      ]
     },
     "metadata": {},
     "output_type": "display_data"
    },
    {
     "data": {
      "image/png": "[encoded data removed]",
      "text/plain": [
       "<Figure size 864x144 with 2 Axes>"
      ]
     },
     "metadata": {},
     "output_type": "display_data"
    },
    {
     "name": "stdout",
     "output_type": "stream",
     "text": [
      "Individual statistics:\n"
     ]
    },
    {
     "data": {
      "image/png": "[encoded data removed]",
      "text/plain": [
       "<Figure size 864x144 with 3 Axes>"
      ]
     },
     "metadata": {},
     "output_type": "display_data"
    }
   ],
   "source": [
    "# hyperparameters\n",
    "\n",
    "#e00_2018-08-19-02-20-55\n",
    "\n",
    "tag_pixel_diameter = 50\n",
    "n_frames = None\n",
    "fps = 10.0\n",
    "progress = \"tqdm_notebook\"\n",
    "tracker = \"../tracker.det_score_fun.frag_score_fun.dill\"\n",
    "confidence_filter_detections = 0.08 # 0.08\n",
    "confidence_filter_tracks = 0.2 #.2\n",
    "coordinate_scale = 1.0\n",
    "localizer_threshold=\"0.50\" # 50\n",
    "\n",
    "#1944\n",
    "\n",
    "\n",
    "default_pipeline = get_default_pipeline(localizer_threshold=localizer_threshold)\n",
    "\n",
    "track_dfs = []\n",
    "counter = 0\n",
    "for path in ['../videos/videos_tags/e00_2018-08-19-01-08-13.h264']:  \n",
    "\n",
    "    print(counter, \": \", path)\n",
    "    \n",
    "    try:\n",
    "\n",
    "        # get the detections\n",
    "        frame_info, detections = detect_markers_in_video(path,\n",
    "                                                decoder_pipeline=default_pipeline,\n",
    "                                                tag_pixel_diameter=tag_pixel_diameter,\n",
    "                                                n_frames=n_frames,\n",
    "                                                fps=fps,\n",
    "                                                progress=progress)\n",
    "\n",
    "        print(len(detections))\n",
    "        # get the tracks                                           \n",
    "        tracks = track_detections_dataframe(detections,\n",
    "                                            tracker=tracker,\n",
    "                                            confidence_filter_detections=confidence_filter_detections,\n",
    "                                            confidence_filter_tracks=confidence_filter_tracks,\n",
    "                                            coordinate_scale=coordinate_scale)\n",
    "        \n",
    "        display_tracking_results(path, frame_info, detections, tracks)\n",
    "\n",
    "    \n",
    "    except ValueError as err: #tritt auf, wenn Video leer ist. In diesem Fall: überspringe video\n",
    "        print(err)\n",
    "    except Exception as err:\n",
    "        print(err)\n",
    "        raise"
   ]
  },
  {
   "cell_type": "code",
   "execution_count": null,
   "metadata": {
    "collapsed": true
   },
   "outputs": [],
   "source": []
  }
 ],
 "metadata": {
  "kernelspec": {
   "display_name": "Python 3",
   "language": "python",
   "name": "python3"
  },
  "language_info": {
   "codemirror_mode": {
    "name": "ipython",
    "version": 3
   },
   "file_extension": ".py",
   "mimetype": "text/x-python",
   "name": "python",
   "nbconvert_exporter": "python",
   "pygments_lexer": "ipython3",
   "version": "3.6.8"
  },
  "varInspector": {
   "cols": {
    "lenName": 16,
    "lenType": 16,
    "lenVar": 40
   },
   "kernels_config": {
    "python": {
     "delete_cmd_postfix": "",
     "delete_cmd_prefix": "del ",
     "library": "var_list.py",
     "varRefreshCmd": "print(var_dic_list())"
    },
    "r": {
     "delete_cmd_postfix": ") ",
     "delete_cmd_prefix": "rm(",
     "library": "var_list.r",
     "varRefreshCmd": "cat(var_dic_list()) "
    }
   },
   "types_to_exclude": [
    "module",
    "function",
    "builtin_function_or_method",
    "instance",
    "_Feature"
   ],
   "window_display": false
  }
 },
 "nbformat": 4,
 "nbformat_minor": 2
}
