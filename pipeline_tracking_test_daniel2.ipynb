{
 "cells": [
  {
   "cell_type": "markdown",
   "metadata": {},
   "source": [
    "# Vorbereitung"
   ]
  },
  {
   "cell_type": "code",
   "execution_count": 1,
   "metadata": {
    "ExecuteTime": {
     "end_time": "2019-03-18T09:46:48.044297Z",
     "start_time": "2019-03-18T09:46:48.036077Z"
    }
   },
   "outputs": [
    {
     "name": "stdout",
     "output_type": "stream",
     "text": [
      "env: KERAS_BACKEND=theano\n",
      "env: THEANO_FLAGS=floatX=float32,device=cpu\n"
     ]
    }
   ],
   "source": [
    "%env KERAS_BACKEND=theano\n",
    "%env THEANO_FLAGS=floatX=float32,device=cpu"
   ]
  },
  {
   "cell_type": "code",
   "execution_count": 2,
   "metadata": {
    "ExecuteTime": {
     "end_time": "2019-03-18T09:46:52.704840Z",
     "start_time": "2019-03-18T09:46:49.041936Z"
    }
   },
   "outputs": [
    {
     "name": "stderr",
     "output_type": "stream",
     "text": [
      "Using Theano backend.\n"
     ]
    }
   ],
   "source": [
    "%load_ext autoreload\n",
    "%autoreload 1\n",
    "%aimport bb_behavior\n",
    "%aimport bb_behavior.plot\n",
    "%aimport bb_behavior.tracking\n",
    "%aimport bb_behavior.tracking.pipeline\n",
    "\n",
    "import bb_behavior\n",
    "import bb_behavior.plot\n",
    "import bb_behavior.tracking\n",
    "import bb_behavior.tracking.pipeline\n",
    "\n",
    "import pandas as pd\n",
    "import time\n",
    "import datetime"
   ]
  },
  {
   "cell_type": "markdown",
   "metadata": {},
   "source": [
    "# Preprocessing"
   ]
  },
  {
   "cell_type": "markdown",
   "metadata": {},
   "source": [
    "## Preprocessing step 1: convert the h264 to mp4\n",
    "\n",
    "For examining videos"
   ]
  },
  {
   "cell_type": "code",
   "execution_count": 3,
   "metadata": {
    "ExecuteTime": {
     "end_time": "2019-03-18T09:46:57.797748Z",
     "start_time": "2019-03-18T09:46:57.789168Z"
    },
    "collapsed": true
   },
   "outputs": [],
   "source": [
    "import glob\n",
    "import os\n",
    "import subprocess\n",
    "\n",
    "videos = \"../videos/videos_tags/videos_tags_mp4\"\n",
    "\n",
    "if not os.path.exists(videos):\n",
    "    os.mkdir(videos)"
   ]
  },
  {
   "cell_type": "code",
   "execution_count": 5,
   "metadata": {
    "ExecuteTime": {
     "end_time": "2019-03-15T13:51:56.454308Z",
     "start_time": "2019-03-15T13:51:52.630453Z"
    }
   },
   "outputs": [
    {
     "name": "stdout",
     "output_type": "stream",
     "text": [
      "../videos/videos_tags/videos_tags_mp4/e00_2018-08-19-01-08-13.mp4\n",
      "../videos/videos_tags/videos_tags_mp4/e00_2018-08-19-01-08-33.mp4\n",
      "../videos/videos_tags/videos_tags_mp4/e00_2018-08-19-01-08-54.mp4\n",
      "../videos/videos_tags/videos_tags_mp4/e00_2018-08-19-02-20-55.mp4\n",
      "../videos/videos_tags/videos_tags_mp4/e00_2018-08-19-02-21-16.mp4\n",
      "../videos/videos_tags/videos_tags_mp4/e00_2018-08-19-02-21-37.mp4\n",
      "../videos/videos_tags/videos_tags_mp4/e00_2018-08-19-02-21-58.mp4\n",
      "../videos/videos_tags/videos_tags_mp4/e00_2018-08-19-02-22-19.mp4\n",
      "../videos/videos_tags/videos_tags_mp4/e00_2018-08-19-02-22-40.mp4\n",
      "../videos/videos_tags/videos_tags_mp4/e00_2018-08-19-02-23-01.mp4\n",
      "../videos/videos_tags/videos_tags_mp4/e00_2018-08-19-02-23-22.mp4\n",
      "../videos/videos_tags/videos_tags_mp4/e00_2018-08-19-02-23-43.mp4\n",
      "../videos/videos_tags/videos_tags_mp4/e00_2018-08-19-02-24-04.mp4\n",
      "../videos/videos_tags/videos_tags_mp4/e00_2018-08-19-02-24-25.mp4\n",
      "../videos/videos_tags/videos_tags_mp4/e00_2018-08-19-02-25-33.mp4\n",
      "../videos/videos_tags/videos_tags_mp4/e00_2018-08-19-02-25-54.mp4\n",
      "../videos/videos_tags/videos_tags_mp4/e00_2018-08-19-02-26-05.mp4\n",
      "../videos/videos_tags/videos_tags_mp4/e00_2018-08-19-02-26-26.mp4\n",
      "../videos/videos_tags/videos_tags_mp4/e00_2018-08-19-02-26-43.mp4\n",
      "../videos/videos_tags/videos_tags_mp4/e00_2018-08-19-02-27-04.mp4\n",
      "../videos/videos_tags/videos_tags_mp4/e00_2018-08-19-02-27-36.mp4\n",
      "../videos/videos_tags/videos_tags_mp4/e00_2018-08-19-02-27-57.mp4\n",
      "../videos/videos_tags/videos_tags_mp4/e00_2018-08-19-02-28-10.mp4\n",
      "../videos/videos_tags/videos_tags_mp4/e00_2018-08-19-02-28-31.mp4\n",
      "../videos/videos_tags/videos_tags_mp4/e00_2018-08-19-02-29-12.mp4\n",
      "../videos/videos_tags/videos_tags_mp4/e00_2018-08-19-02-29-33.mp4\n",
      "../videos/videos_tags/videos_tags_mp4/e00_2018-08-19-03-19-43.mp4\n",
      "../videos/videos_tags/videos_tags_mp4/e00_2018-08-19-03-20-03.mp4\n",
      "../videos/videos_tags/videos_tags_mp4/e00_2018-08-19-03-20-45.mp4\n",
      "../videos/videos_tags/videos_tags_mp4/e00_2018-08-19-03-21-06.mp4\n",
      "../videos/videos_tags/videos_tags_mp4/e00_2018-08-19-03-21-27.mp4\n",
      "../videos/videos_tags/videos_tags_mp4/e00_2018-08-19-03-21-48.mp4\n",
      "../videos/videos_tags/videos_tags_mp4/e00_2018-08-19-03-22-09.mp4\n",
      "../videos/videos_tags/videos_tags_mp4/e00_2018-08-19-03-22-30.mp4\n",
      "../videos/videos_tags/videos_tags_mp4/e00_2018-08-19-03-22-51.mp4\n"
     ]
    },
    {
     "ename": "KeyboardInterrupt",
     "evalue": "",
     "output_type": "error",
     "traceback": [
      "\u001b[0;31m---------------------------------------------------------------------------\u001b[0m",
      "\u001b[0;31mKeyboardInterrupt\u001b[0m                         Traceback (most recent call last)",
      "\u001b[0;32m<ipython-input-5-37dd43369b75>\u001b[0m in \u001b[0;36m<module>\u001b[0;34m()\u001b[0m\n\u001b[1;32m      4\u001b[0m \u001b[0;34m\u001b[0m\u001b[0m\n\u001b[1;32m      5\u001b[0m     \u001b[0mprint\u001b[0m\u001b[0;34m(\u001b[0m\u001b[0mvideo_mp4\u001b[0m\u001b[0;34m)\u001b[0m\u001b[0;34m\u001b[0m\u001b[0;34m\u001b[0m\u001b[0m\n\u001b[0;32m----> 6\u001b[0;31m     \u001b[0msubprocess\u001b[0m\u001b[0;34m.\u001b[0m\u001b[0mcall\u001b[0m\u001b[0;34m(\u001b[0m\u001b[0;34m[\u001b[0m\u001b[0;34m'ffmpeg'\u001b[0m\u001b[0;34m,\u001b[0m \u001b[0;34m'-framerate'\u001b[0m\u001b[0;34m,\u001b[0m \u001b[0;34m'10'\u001b[0m\u001b[0;34m,\u001b[0m \u001b[0;34m'-fflags'\u001b[0m\u001b[0;34m,\u001b[0m \u001b[0;34m'+genpts'\u001b[0m\u001b[0;34m,\u001b[0m \u001b[0;34m'-i'\u001b[0m\u001b[0;34m,\u001b[0m \u001b[0mvideo\u001b[0m\u001b[0;34m,\u001b[0m \u001b[0;34m'-c'\u001b[0m\u001b[0;34m,\u001b[0m \u001b[0;34m'copy'\u001b[0m\u001b[0;34m,\u001b[0m \u001b[0mvideo_mp4\u001b[0m\u001b[0;34m]\u001b[0m\u001b[0;34m)\u001b[0m\u001b[0;34m\u001b[0m\u001b[0;34m\u001b[0m\u001b[0m\n\u001b[0m",
      "\u001b[0;32m~/anaconda3/lib/python3.6/subprocess.py\u001b[0m in \u001b[0;36mcall\u001b[0;34m(timeout, *popenargs, **kwargs)\u001b[0m\n\u001b[1;32m    287\u001b[0m     \u001b[0;32mwith\u001b[0m \u001b[0mPopen\u001b[0m\u001b[0;34m(\u001b[0m\u001b[0;34m*\u001b[0m\u001b[0mpopenargs\u001b[0m\u001b[0;34m,\u001b[0m \u001b[0;34m**\u001b[0m\u001b[0mkwargs\u001b[0m\u001b[0;34m)\u001b[0m \u001b[0;32mas\u001b[0m \u001b[0mp\u001b[0m\u001b[0;34m:\u001b[0m\u001b[0;34m\u001b[0m\u001b[0;34m\u001b[0m\u001b[0m\n\u001b[1;32m    288\u001b[0m         \u001b[0;32mtry\u001b[0m\u001b[0;34m:\u001b[0m\u001b[0;34m\u001b[0m\u001b[0;34m\u001b[0m\u001b[0m\n\u001b[0;32m--> 289\u001b[0;31m             \u001b[0;32mreturn\u001b[0m \u001b[0mp\u001b[0m\u001b[0;34m.\u001b[0m\u001b[0mwait\u001b[0m\u001b[0;34m(\u001b[0m\u001b[0mtimeout\u001b[0m\u001b[0;34m=\u001b[0m\u001b[0mtimeout\u001b[0m\u001b[0;34m)\u001b[0m\u001b[0;34m\u001b[0m\u001b[0;34m\u001b[0m\u001b[0m\n\u001b[0m\u001b[1;32m    290\u001b[0m         \u001b[0;32mexcept\u001b[0m\u001b[0;34m:\u001b[0m\u001b[0;34m\u001b[0m\u001b[0;34m\u001b[0m\u001b[0m\n\u001b[1;32m    291\u001b[0m             \u001b[0mp\u001b[0m\u001b[0;34m.\u001b[0m\u001b[0mkill\u001b[0m\u001b[0;34m(\u001b[0m\u001b[0;34m)\u001b[0m\u001b[0;34m\u001b[0m\u001b[0;34m\u001b[0m\u001b[0m\n",
      "\u001b[0;32m~/anaconda3/lib/python3.6/subprocess.py\u001b[0m in \u001b[0;36mwait\u001b[0;34m(self, timeout, endtime)\u001b[0m\n\u001b[1;32m   1475\u001b[0m                         \u001b[0;32mif\u001b[0m \u001b[0mself\u001b[0m\u001b[0;34m.\u001b[0m\u001b[0mreturncode\u001b[0m \u001b[0;32mis\u001b[0m \u001b[0;32mnot\u001b[0m \u001b[0;32mNone\u001b[0m\u001b[0;34m:\u001b[0m\u001b[0;34m\u001b[0m\u001b[0;34m\u001b[0m\u001b[0m\n\u001b[1;32m   1476\u001b[0m                             \u001b[0;32mbreak\u001b[0m  \u001b[0;31m# Another thread waited.\u001b[0m\u001b[0;34m\u001b[0m\u001b[0;34m\u001b[0m\u001b[0m\n\u001b[0;32m-> 1477\u001b[0;31m                         \u001b[0;34m(\u001b[0m\u001b[0mpid\u001b[0m\u001b[0;34m,\u001b[0m \u001b[0msts\u001b[0m\u001b[0;34m)\u001b[0m \u001b[0;34m=\u001b[0m \u001b[0mself\u001b[0m\u001b[0;34m.\u001b[0m\u001b[0m_try_wait\u001b[0m\u001b[0;34m(\u001b[0m\u001b[0;36m0\u001b[0m\u001b[0;34m)\u001b[0m\u001b[0;34m\u001b[0m\u001b[0;34m\u001b[0m\u001b[0m\n\u001b[0m\u001b[1;32m   1478\u001b[0m                         \u001b[0;31m# Check the pid and loop as waitpid has been known to\u001b[0m\u001b[0;34m\u001b[0m\u001b[0;34m\u001b[0m\u001b[0;34m\u001b[0m\u001b[0m\n\u001b[1;32m   1479\u001b[0m                         \u001b[0;31m# return 0 even without WNOHANG in odd situations.\u001b[0m\u001b[0;34m\u001b[0m\u001b[0;34m\u001b[0m\u001b[0;34m\u001b[0m\u001b[0m\n",
      "\u001b[0;32m~/anaconda3/lib/python3.6/subprocess.py\u001b[0m in \u001b[0;36m_try_wait\u001b[0;34m(self, wait_flags)\u001b[0m\n\u001b[1;32m   1422\u001b[0m             \u001b[0;34m\"\"\"All callers to this function MUST hold self._waitpid_lock.\"\"\"\u001b[0m\u001b[0;34m\u001b[0m\u001b[0;34m\u001b[0m\u001b[0m\n\u001b[1;32m   1423\u001b[0m             \u001b[0;32mtry\u001b[0m\u001b[0;34m:\u001b[0m\u001b[0;34m\u001b[0m\u001b[0;34m\u001b[0m\u001b[0m\n\u001b[0;32m-> 1424\u001b[0;31m                 \u001b[0;34m(\u001b[0m\u001b[0mpid\u001b[0m\u001b[0;34m,\u001b[0m \u001b[0msts\u001b[0m\u001b[0;34m)\u001b[0m \u001b[0;34m=\u001b[0m \u001b[0mos\u001b[0m\u001b[0;34m.\u001b[0m\u001b[0mwaitpid\u001b[0m\u001b[0;34m(\u001b[0m\u001b[0mself\u001b[0m\u001b[0;34m.\u001b[0m\u001b[0mpid\u001b[0m\u001b[0;34m,\u001b[0m \u001b[0mwait_flags\u001b[0m\u001b[0;34m)\u001b[0m\u001b[0;34m\u001b[0m\u001b[0;34m\u001b[0m\u001b[0m\n\u001b[0m\u001b[1;32m   1425\u001b[0m             \u001b[0;32mexcept\u001b[0m \u001b[0mChildProcessError\u001b[0m\u001b[0;34m:\u001b[0m\u001b[0;34m\u001b[0m\u001b[0;34m\u001b[0m\u001b[0m\n\u001b[1;32m   1426\u001b[0m                 \u001b[0;31m# This happens if SIGCLD is set to be ignored or waiting\u001b[0m\u001b[0;34m\u001b[0m\u001b[0;34m\u001b[0m\u001b[0;34m\u001b[0m\u001b[0m\n",
      "\u001b[0;31mKeyboardInterrupt\u001b[0m: "
     ]
    }
   ],
   "source": [
    "for video in glob.glob(os.path.join('../videos/videos_tags/', '*.h264')):  \n",
    "    path = os.path.split(video)   \n",
    "    video_mp4 = os.path.join(path[0],\"videos_tags_mp4\",os.path.splitext(path[1])[0] + '.mp4')\n",
    "\n",
    "    print(video_mp4)\n",
    "    subprocess.call(['ffmpeg', '-framerate', '10', '-fflags', '+genpts', '-i', video, '-c', 'copy', video_mp4])"
   ]
  },
  {
   "cell_type": "markdown",
   "metadata": {},
   "source": [
    "## Run"
   ]
  },
  {
   "cell_type": "code",
   "execution_count": 4,
   "metadata": {
    "ExecuteTime": {
     "end_time": "2019-03-18T09:47:22.137891Z",
     "start_time": "2019-03-18T09:47:03.755840Z"
    }
   },
   "outputs": [
    {
     "name": "stderr",
     "output_type": "stream",
     "text": [
      "/home/tscho/.local/lib/python3.6/site-packages/keras/backend/theano_backend.py:1032: UserWarning: DEPRECATION: the 'ds' parameter is not going to exist anymore as it is going to be replaced by the parameter 'ws'.\n",
      "  mode='max')\n",
      "/home/tscho/.local/lib/python3.6/site-packages/keras/backend/theano_backend.py:1032: UserWarning: DEPRECATION: the 'st' parameter is not going to exist anymore as it is going to be replaced by the parameter 'stride'.\n",
      "  mode='max')\n",
      "/home/tscho/.local/lib/python3.6/site-packages/keras/backend/theano_backend.py:1032: UserWarning: DEPRECATION: the 'padding' parameter is not going to exist anymore as it is going to be replaced by the parameter 'pad'.\n",
      "  mode='max')\n"
     ]
    }
   ],
   "source": [
    "from bb_behavior.tracking.pipeline import get_default_pipeline\n",
    "default_pipeline = None\n",
    "default_pipeline = get_default_pipeline(localizer_threshold=\"0.50\")"
   ]
  },
  {
   "cell_type": "code",
   "execution_count": 5,
   "metadata": {
    "ExecuteTime": {
     "end_time": "2019-03-18T09:47:22.185015Z",
     "start_time": "2019-03-18T09:47:22.152422Z"
    },
    "collapsed": true
   },
   "outputs": [],
   "source": [
    "from tqdm import tqdm_notebook # progress bar\n",
    "\n",
    "import math\n",
    "import numpy as np\n",
    "from bb_tracking.data.constants import DETKEY\n",
    "#from bb_tracking.tracking import score_id_sim_v\n",
    "from bb_tracking.tracking import distance_orientations_v, distance_positions_v\n",
    "\n",
    "from bb_behavior.tracking.pipeline import detect_markers_in_video\n",
    "from bb_behavior.tracking.pipeline import track_detections_dataframe\n",
    "from bb_behavior.tracking.pipeline import display_tracking_results"
   ]
  },
  {
   "cell_type": "code",
   "execution_count": 6,
   "metadata": {
    "ExecuteTime": {
     "end_time": "2019-03-18T09:47:22.224030Z",
     "start_time": "2019-03-18T09:47:22.205808Z"
    },
    "collapsed": true
   },
   "outputs": [],
   "source": [
    "config = dict(tag_pixel_diameter=50,\n",
    "              n_frames=None,\n",
    "              confidence_filter_detections=0.08,\n",
    "              confidence_filter_tracks=0.20,\n",
    "              coordinate_scale=1.0,\n",
    "              start_time=None,\n",
    "              fps=10.0,\n",
    "              cam_id=0,\n",
    "              left_leaving_area = 0.30, # Prozente vom Bildschirmrand, zB. bei 1000px und 0.15 -> 0-150px\n",
    "              right_leaving_area = 0.30,\n",
    "              px_x_resolution_vid = 1944)"
   ]
  },
  {
   "cell_type": "code",
   "execution_count": 9,
   "metadata": {
    "ExecuteTime": {
     "end_time": "2019-03-15T13:52:19.545461Z",
     "start_time": "2019-03-15T13:52:19.529413Z"
    },
    "collapsed": true
   },
   "outputs": [],
   "source": [
    "import time\n",
    "import os\n",
    "\n",
    "def filename_to_datestring(filname):\n",
    "    \"\"\"\n",
    "    filename can be path\n",
    "    \"\"\"\n",
    "    return os.path.split(filname)[-1].split('.')[0].split('_')[-1]\n",
    "\n",
    "\n",
    "def string_to_timestamp(datestring):\n",
    "    \"\"\" \n",
    "    params\n",
    "        string: format 2018-08-19-01-08-13\n",
    "    output\n",
    "        unix timestamp (float)\n",
    "    \"\"\"\n",
    "    \n",
    "    return time.mktime(time.strptime(datestring, \"%Y-%m-%d-%H-%M-%S\"))\n",
    "\n",
    "def timestamp_to_string(timestamp):\n",
    "    return time.strftime(\"%Y-%m-%d-%H-%M-%S\", time.localtime(timestamp))"
   ]
  },
  {
   "cell_type": "markdown",
   "metadata": {
    "ExecuteTime": {
     "end_time": "2019-03-12T12:39:17.510175Z",
     "start_time": "2019-03-12T12:39:17.502918Z"
    }
   },
   "source": [
    "# Get all videos from test set"
   ]
  },
  {
   "cell_type": "code",
   "execution_count": 10,
   "metadata": {
    "ExecuteTime": {
     "end_time": "2019-03-15T13:52:26.604293Z",
     "start_time": "2019-03-15T13:52:26.519087Z"
    }
   },
   "outputs": [
    {
     "data": {
      "text/html": [
       "<div>\n",
       "<style scoped>\n",
       "    .dataframe tbody tr th:only-of-type {\n",
       "        vertical-align: middle;\n",
       "    }\n",
       "\n",
       "    .dataframe tbody tr th {\n",
       "        vertical-align: top;\n",
       "    }\n",
       "\n",
       "    .dataframe thead th {\n",
       "        text-align: right;\n",
       "    }\n",
       "</style>\n",
       "<table border=\"1\" class=\"dataframe\">\n",
       "  <thead>\n",
       "    <tr style=\"text-align: right;\">\n",
       "      <th></th>\n",
       "      <th>bee_id</th>\n",
       "      <th>in_direction</th>\n",
       "      <th>out_direction</th>\n",
       "      <th>video</th>\n",
       "      <th>timestamp_in</th>\n",
       "      <th>timestamp_out</th>\n",
       "    </tr>\n",
       "  </thead>\n",
       "  <tbody>\n",
       "    <tr>\n",
       "      <th>0</th>\n",
       "      <td>855</td>\n",
       "      <td>right</td>\n",
       "      <td>left</td>\n",
       "      <td>2018-08-19-05-25-51</td>\n",
       "      <td>2018-08-19-05-25-51</td>\n",
       "      <td>2018-08-19-05-25-51</td>\n",
       "    </tr>\n",
       "    <tr>\n",
       "      <th>1</th>\n",
       "      <td>220</td>\n",
       "      <td>left</td>\n",
       "      <td>right</td>\n",
       "      <td>2018-08-19-05-25-51</td>\n",
       "      <td>2018-08-19-05-25-51</td>\n",
       "      <td>2018-08-19-05-25-51</td>\n",
       "    </tr>\n",
       "    <tr>\n",
       "      <th>2</th>\n",
       "      <td>1301</td>\n",
       "      <td>left</td>\n",
       "      <td>left</td>\n",
       "      <td>2018-08-19-18-33-03</td>\n",
       "      <td>2018-08-19-18-32-42</td>\n",
       "      <td>2018-08-19-18-33-03</td>\n",
       "    </tr>\n",
       "    <tr>\n",
       "      <th>3</th>\n",
       "      <td>951</td>\n",
       "      <td>left</td>\n",
       "      <td>left</td>\n",
       "      <td>2018-08-19-18-33-03</td>\n",
       "      <td>2018-08-19-18-33-03</td>\n",
       "      <td>2018-08-19-18-33-03</td>\n",
       "    </tr>\n",
       "    <tr>\n",
       "      <th>4</th>\n",
       "      <td>1520</td>\n",
       "      <td>left</td>\n",
       "      <td>left</td>\n",
       "      <td>2018-08-19-18-33-03</td>\n",
       "      <td>2018-08-19-18-33-03</td>\n",
       "      <td>2018-08-19-18-33-03</td>\n",
       "    </tr>\n",
       "  </tbody>\n",
       "</table>\n",
       "</div>"
      ],
      "text/plain": [
       "   bee_id in_direction out_direction                video  \\\n",
       "0     855        right          left  2018-08-19-05-25-51   \n",
       "1     220         left         right  2018-08-19-05-25-51   \n",
       "2    1301         left          left  2018-08-19-18-33-03   \n",
       "3     951         left          left  2018-08-19-18-33-03   \n",
       "4    1520         left          left  2018-08-19-18-33-03   \n",
       "\n",
       "          timestamp_in        timestamp_out  \n",
       "0  2018-08-19-05-25-51  2018-08-19-05-25-51  \n",
       "1  2018-08-19-05-25-51  2018-08-19-05-25-51  \n",
       "2  2018-08-19-18-32-42  2018-08-19-18-33-03  \n",
       "3  2018-08-19-18-33-03  2018-08-19-18-33-03  \n",
       "4  2018-08-19-18-33-03  2018-08-19-18-33-03  "
      ]
     },
     "execution_count": 10,
     "metadata": {},
     "output_type": "execute_result"
    }
   ],
   "source": [
    "# read in the test data csv\n",
    "test_data = pd.read_csv('bees_test.csv')\n",
    "\n",
    "# convert the full filenames to string timestamps, and sort by timestamp_in\n",
    "test_data['video'] = test_data['video'].apply(lambda x: filename_to_datestring(x))\n",
    "test_data['timestamp_in'] = test_data['timestamp_in'].apply(lambda x: filename_to_datestring(x))\n",
    "test_data['timestamp_out'] = test_data['timestamp_out'].apply(lambda x: filename_to_datestring(x))\n",
    "test_data.sort_values(['timestamp_in'])\n",
    "\n",
    "test_data.head()"
   ]
  },
  {
   "cell_type": "code",
   "execution_count": 11,
   "metadata": {
    "ExecuteTime": {
     "end_time": "2019-03-15T13:52:38.164568Z",
     "start_time": "2019-03-15T13:52:38.123505Z"
    }
   },
   "outputs": [
    {
     "data": {
      "text/html": [
       "<div>\n",
       "<style scoped>\n",
       "    .dataframe tbody tr th:only-of-type {\n",
       "        vertical-align: middle;\n",
       "    }\n",
       "\n",
       "    .dataframe tbody tr th {\n",
       "        vertical-align: top;\n",
       "    }\n",
       "\n",
       "    .dataframe thead th {\n",
       "        text-align: right;\n",
       "    }\n",
       "</style>\n",
       "<table border=\"1\" class=\"dataframe\">\n",
       "  <thead>\n",
       "    <tr style=\"text-align: right;\">\n",
       "      <th></th>\n",
       "      <th>video</th>\n",
       "    </tr>\n",
       "  </thead>\n",
       "  <tbody>\n",
       "    <tr>\n",
       "      <th>0</th>\n",
       "      <td>2018-08-19-01-08-13</td>\n",
       "    </tr>\n",
       "    <tr>\n",
       "      <th>1</th>\n",
       "      <td>2018-08-19-01-08-33</td>\n",
       "    </tr>\n",
       "    <tr>\n",
       "      <th>2</th>\n",
       "      <td>2018-08-19-01-08-54</td>\n",
       "    </tr>\n",
       "    <tr>\n",
       "      <th>3</th>\n",
       "      <td>2018-08-19-02-20-55</td>\n",
       "    </tr>\n",
       "    <tr>\n",
       "      <th>4</th>\n",
       "      <td>2018-08-19-02-21-16</td>\n",
       "    </tr>\n",
       "  </tbody>\n",
       "</table>\n",
       "</div>"
      ],
      "text/plain": [
       "                 video\n",
       "0  2018-08-19-01-08-13\n",
       "1  2018-08-19-01-08-33\n",
       "2  2018-08-19-01-08-54\n",
       "3  2018-08-19-02-20-55\n",
       "4  2018-08-19-02-21-16"
      ]
     },
     "execution_count": 11,
     "metadata": {},
     "output_type": "execute_result"
    }
   ],
   "source": [
    "# get all videos between timestamp_in and timestamp_out\n",
    "\n",
    "all_paths = pd.DataFrame(glob.glob(os.path.join('../videos/videos_tags/', '*.h264')), columns=['video'])\n",
    "\n",
    "all_paths['video'] = all_paths['video'].apply(lambda x: filename_to_datestring(x))\n",
    "all_paths.sort_values(['video'])\n",
    "\n",
    "def get_videos_between(timestamp_in, timestamp_out):\n",
    "    \"\"\" returns all video between timestamp_in and timestamp out (inclusive) \n",
    "    timestamps are string timestamps\n",
    "    \"\"\"\n",
    "    \n",
    "    mask = (all_paths['video'] >= timestamp_in) & (all_paths['video'] <= timestamp_out)\n",
    "    return list(all_paths[mask]['video'])\n",
    "\n",
    "all_paths.head()"
   ]
  },
  {
   "cell_type": "code",
   "execution_count": 12,
   "metadata": {
    "ExecuteTime": {
     "end_time": "2019-03-15T13:52:44.759179Z",
     "start_time": "2019-03-15T13:52:44.651416Z"
    }
   },
   "outputs": [
    {
     "ename": "KeyError",
     "evalue": "'video_start_time'",
     "output_type": "error",
     "traceback": [
      "\u001b[0;31m---------------------------------------------------------------------------\u001b[0m",
      "\u001b[0;31mTypeError\u001b[0m                                 Traceback (most recent call last)",
      "\u001b[0;32m~/anaconda3/lib/python3.6/site-packages/pandas/core/indexes/base.py\u001b[0m in \u001b[0;36mget_value\u001b[0;34m(self, series, key)\u001b[0m\n\u001b[1;32m   4325\u001b[0m             \u001b[0;32mtry\u001b[0m\u001b[0;34m:\u001b[0m\u001b[0;34m\u001b[0m\u001b[0;34m\u001b[0m\u001b[0m\n\u001b[0;32m-> 4326\u001b[0;31m                 \u001b[0;32mreturn\u001b[0m \u001b[0mlibindex\u001b[0m\u001b[0;34m.\u001b[0m\u001b[0mget_value_box\u001b[0m\u001b[0;34m(\u001b[0m\u001b[0ms\u001b[0m\u001b[0;34m,\u001b[0m \u001b[0mkey\u001b[0m\u001b[0;34m)\u001b[0m\u001b[0;34m\u001b[0m\u001b[0;34m\u001b[0m\u001b[0m\n\u001b[0m\u001b[1;32m   4327\u001b[0m             \u001b[0;32mexcept\u001b[0m \u001b[0mIndexError\u001b[0m\u001b[0;34m:\u001b[0m\u001b[0;34m\u001b[0m\u001b[0;34m\u001b[0m\u001b[0m\n",
      "\u001b[0;32mpandas/_libs/index.pyx\u001b[0m in \u001b[0;36mpandas._libs.index.get_value_box\u001b[0;34m()\u001b[0m\n",
      "\u001b[0;32mpandas/_libs/index.pyx\u001b[0m in \u001b[0;36mpandas._libs.index.get_value_at\u001b[0;34m()\u001b[0m\n",
      "\u001b[0;32mpandas/_libs/util.pxd\u001b[0m in \u001b[0;36mpandas._libs.util.get_value_at\u001b[0;34m()\u001b[0m\n",
      "\u001b[0;32mpandas/_libs/util.pxd\u001b[0m in \u001b[0;36mpandas._libs.util.validate_indexer\u001b[0;34m()\u001b[0m\n",
      "\u001b[0;31mTypeError\u001b[0m: 'str' object cannot be interpreted as an integer",
      "\nDuring handling of the above exception, another exception occurred:\n",
      "\u001b[0;31mKeyError\u001b[0m                                  Traceback (most recent call last)",
      "\u001b[0;32m<ipython-input-12-68b8cc853c05>\u001b[0m in \u001b[0;36m<module>\u001b[0;34m()\u001b[0m\n\u001b[1;32m      4\u001b[0m \u001b[0;32mfor\u001b[0m \u001b[0mindex\u001b[0m\u001b[0;34m,\u001b[0m \u001b[0mrow\u001b[0m \u001b[0;32min\u001b[0m \u001b[0mtest_data\u001b[0m\u001b[0;34m.\u001b[0m\u001b[0miterrows\u001b[0m\u001b[0;34m(\u001b[0m\u001b[0;34m)\u001b[0m\u001b[0;34m:\u001b[0m\u001b[0;34m\u001b[0m\u001b[0;34m\u001b[0m\u001b[0m\n\u001b[1;32m      5\u001b[0m \u001b[0;34m\u001b[0m\u001b[0m\n\u001b[0;32m----> 6\u001b[0;31m     \u001b[0mvids\u001b[0m \u001b[0;34m=\u001b[0m \u001b[0mget_videos_between\u001b[0m\u001b[0;34m(\u001b[0m\u001b[0mrow\u001b[0m\u001b[0;34m[\u001b[0m\u001b[0;34m'video_start_time'\u001b[0m\u001b[0;34m]\u001b[0m\u001b[0;34m,\u001b[0m\u001b[0mrow\u001b[0m\u001b[0;34m[\u001b[0m\u001b[0;34m'video_end_time'\u001b[0m\u001b[0;34m]\u001b[0m\u001b[0;34m)\u001b[0m\u001b[0;34m\u001b[0m\u001b[0;34m\u001b[0m\u001b[0m\n\u001b[0m\u001b[1;32m      7\u001b[0m     \u001b[0;32mif\u001b[0m \u001b[0mlen\u001b[0m\u001b[0;34m(\u001b[0m\u001b[0mvids\u001b[0m\u001b[0;34m)\u001b[0m \u001b[0;34m<\u001b[0m \u001b[0;36m6\u001b[0m\u001b[0;34m:\u001b[0m\u001b[0;34m\u001b[0m\u001b[0;34m\u001b[0m\u001b[0m\n\u001b[1;32m      8\u001b[0m         \u001b[0mall_videos\u001b[0m \u001b[0;34m+=\u001b[0m \u001b[0mvids\u001b[0m\u001b[0;34m\u001b[0m\u001b[0;34m\u001b[0m\u001b[0m\n",
      "\u001b[0;32m~/anaconda3/lib/python3.6/site-packages/pandas/core/series.py\u001b[0m in \u001b[0;36m__getitem__\u001b[0;34m(self, key)\u001b[0m\n\u001b[1;32m    866\u001b[0m         \u001b[0mkey\u001b[0m \u001b[0;34m=\u001b[0m \u001b[0mcom\u001b[0m\u001b[0;34m.\u001b[0m\u001b[0mapply_if_callable\u001b[0m\u001b[0;34m(\u001b[0m\u001b[0mkey\u001b[0m\u001b[0;34m,\u001b[0m \u001b[0mself\u001b[0m\u001b[0;34m)\u001b[0m\u001b[0;34m\u001b[0m\u001b[0;34m\u001b[0m\u001b[0m\n\u001b[1;32m    867\u001b[0m         \u001b[0;32mtry\u001b[0m\u001b[0;34m:\u001b[0m\u001b[0;34m\u001b[0m\u001b[0;34m\u001b[0m\u001b[0m\n\u001b[0;32m--> 868\u001b[0;31m             \u001b[0mresult\u001b[0m \u001b[0;34m=\u001b[0m \u001b[0mself\u001b[0m\u001b[0;34m.\u001b[0m\u001b[0mindex\u001b[0m\u001b[0;34m.\u001b[0m\u001b[0mget_value\u001b[0m\u001b[0;34m(\u001b[0m\u001b[0mself\u001b[0m\u001b[0;34m,\u001b[0m \u001b[0mkey\u001b[0m\u001b[0;34m)\u001b[0m\u001b[0;34m\u001b[0m\u001b[0;34m\u001b[0m\u001b[0m\n\u001b[0m\u001b[1;32m    869\u001b[0m \u001b[0;34m\u001b[0m\u001b[0m\n\u001b[1;32m    870\u001b[0m             \u001b[0;32mif\u001b[0m \u001b[0;32mnot\u001b[0m \u001b[0mis_scalar\u001b[0m\u001b[0;34m(\u001b[0m\u001b[0mresult\u001b[0m\u001b[0;34m)\u001b[0m\u001b[0;34m:\u001b[0m\u001b[0;34m\u001b[0m\u001b[0;34m\u001b[0m\u001b[0m\n",
      "\u001b[0;32m~/anaconda3/lib/python3.6/site-packages/pandas/core/indexes/base.py\u001b[0m in \u001b[0;36mget_value\u001b[0;34m(self, series, key)\u001b[0m\n\u001b[1;32m   4332\u001b[0m                     \u001b[0;32mraise\u001b[0m \u001b[0mInvalidIndexError\u001b[0m\u001b[0;34m(\u001b[0m\u001b[0mkey\u001b[0m\u001b[0;34m)\u001b[0m\u001b[0;34m\u001b[0m\u001b[0;34m\u001b[0m\u001b[0m\n\u001b[1;32m   4333\u001b[0m                 \u001b[0;32melse\u001b[0m\u001b[0;34m:\u001b[0m\u001b[0;34m\u001b[0m\u001b[0;34m\u001b[0m\u001b[0m\n\u001b[0;32m-> 4334\u001b[0;31m                     \u001b[0;32mraise\u001b[0m \u001b[0me1\u001b[0m\u001b[0;34m\u001b[0m\u001b[0;34m\u001b[0m\u001b[0m\n\u001b[0m\u001b[1;32m   4335\u001b[0m             \u001b[0;32mexcept\u001b[0m \u001b[0mException\u001b[0m\u001b[0;34m:\u001b[0m  \u001b[0;31m# pragma: no cover\u001b[0m\u001b[0;34m\u001b[0m\u001b[0;34m\u001b[0m\u001b[0m\n\u001b[1;32m   4336\u001b[0m                 \u001b[0;32mraise\u001b[0m \u001b[0me1\u001b[0m\u001b[0;34m\u001b[0m\u001b[0;34m\u001b[0m\u001b[0m\n",
      "\u001b[0;32m~/anaconda3/lib/python3.6/site-packages/pandas/core/indexes/base.py\u001b[0m in \u001b[0;36mget_value\u001b[0;34m(self, series, key)\u001b[0m\n\u001b[1;32m   4318\u001b[0m         \u001b[0;32mtry\u001b[0m\u001b[0;34m:\u001b[0m\u001b[0;34m\u001b[0m\u001b[0;34m\u001b[0m\u001b[0m\n\u001b[1;32m   4319\u001b[0m             return self._engine.get_value(s, k,\n\u001b[0;32m-> 4320\u001b[0;31m                                           tz=getattr(series.dtype, 'tz', None))\n\u001b[0m\u001b[1;32m   4321\u001b[0m         \u001b[0;32mexcept\u001b[0m \u001b[0mKeyError\u001b[0m \u001b[0;32mas\u001b[0m \u001b[0me1\u001b[0m\u001b[0;34m:\u001b[0m\u001b[0;34m\u001b[0m\u001b[0;34m\u001b[0m\u001b[0m\n\u001b[1;32m   4322\u001b[0m             \u001b[0;32mif\u001b[0m \u001b[0mlen\u001b[0m\u001b[0;34m(\u001b[0m\u001b[0mself\u001b[0m\u001b[0;34m)\u001b[0m \u001b[0;34m>\u001b[0m \u001b[0;36m0\u001b[0m \u001b[0;32mand\u001b[0m \u001b[0;34m(\u001b[0m\u001b[0mself\u001b[0m\u001b[0;34m.\u001b[0m\u001b[0mholds_integer\u001b[0m\u001b[0;34m(\u001b[0m\u001b[0;34m)\u001b[0m \u001b[0;32mor\u001b[0m \u001b[0mself\u001b[0m\u001b[0;34m.\u001b[0m\u001b[0mis_boolean\u001b[0m\u001b[0;34m(\u001b[0m\u001b[0;34m)\u001b[0m\u001b[0;34m)\u001b[0m\u001b[0;34m:\u001b[0m\u001b[0;34m\u001b[0m\u001b[0;34m\u001b[0m\u001b[0m\n",
      "\u001b[0;32mpandas/_libs/index.pyx\u001b[0m in \u001b[0;36mpandas._libs.index.IndexEngine.get_value\u001b[0;34m()\u001b[0m\n",
      "\u001b[0;32mpandas/_libs/index.pyx\u001b[0m in \u001b[0;36mpandas._libs.index.IndexEngine.get_value\u001b[0;34m()\u001b[0m\n",
      "\u001b[0;32mpandas/_libs/index.pyx\u001b[0m in \u001b[0;36mpandas._libs.index.IndexEngine.get_loc\u001b[0;34m()\u001b[0m\n",
      "\u001b[0;32mpandas/_libs/hashtable_class_helper.pxi\u001b[0m in \u001b[0;36mpandas._libs.hashtable.PyObjectHashTable.get_item\u001b[0;34m()\u001b[0m\n",
      "\u001b[0;32mpandas/_libs/hashtable_class_helper.pxi\u001b[0m in \u001b[0;36mpandas._libs.hashtable.PyObjectHashTable.get_item\u001b[0;34m()\u001b[0m\n",
      "\u001b[0;31mKeyError\u001b[0m: 'video_start_time'"
     ]
    }
   ],
   "source": [
    "all_videos = []\n",
    "\n",
    "# go through test_data and get all videos between timestamp_in and timestamp_out\n",
    "for index, row in test_data.iterrows():\n",
    "    \n",
    "    vids = get_videos_between(row['video_start_time'],row['video_end_time'])\n",
    "    if len(vids) < 6:\n",
    "        all_videos += vids\n",
    "    \n",
    "all_videos = sorted(list(set(all_videos)))\n",
    "all_videos"
   ]
  },
  {
   "cell_type": "markdown",
   "metadata": {},
   "source": [
    "# Tracking"
   ]
  },
  {
   "cell_type": "code",
   "execution_count": null,
   "metadata": {
    "ExecuteTime": {
     "end_time": "2019-03-12T20:09:11.880426Z",
     "start_time": "2019-03-12T20:09:11.874578Z"
    },
    "collapsed": true
   },
   "outputs": [],
   "source": [
    "# Einen Iterable speichern, der alle Videos in einem Iterable zur Verfügung stellt\n",
    "# Diesen Iterable können wir dann in der nächsten Zelle mit tqdm schön durchlaufen\n",
    "# nicht sehr performant --> O(n)\n",
    "base_directory = \"../videos/videos_tags/\"\n",
    "\n",
    "paths = []\n",
    "for video_name in all_videos:\n",
    "    paths.append(base_directory + \"e00_\" + video_name + \".h264\")"
   ]
  },
  {
   "cell_type": "code",
   "execution_count": null,
   "metadata": {
    "ExecuteTime": {
     "end_time": "2019-03-12T19:57:50.110410Z",
     "start_time": "2019-03-12T19:57:50.102842Z"
    },
    "collapsed": true
   },
   "outputs": [],
   "source": [
    "paths"
   ]
  },
  {
   "cell_type": "code",
   "execution_count": null,
   "metadata": {
    "ExecuteTime": {
     "end_time": "2019-03-12T21:17:46.778959Z",
     "start_time": "2019-03-12T20:09:11.917907Z"
    },
    "collapsed": true
   },
   "outputs": [],
   "source": [
    "# Hier passiert das eigentliche Tracken und speichern der Ergebnisse:\n",
    "num_processed_videos = 0\n",
    "video_data = dict()\n",
    "frame_info = None\n",
    "detections = None\n",
    "videos_w_no_detection = \"\"\n",
    "import glob\n",
    "\n",
    "#paths = glob.glob(os.path.join('../videos/videos_tags/', '*.h264'))[:5]\n",
    "#paths = ['../videos/videos_tags/e00_2018-08-19-02-20-55.h264']\n",
    "\n",
    "bad_paths = []\n",
    "\n",
    "#paths = ['../videos/videos_tags/e00_2018-08-19-12-34-35.h264']\n",
    "\n",
    "for path in tqdm_notebook(paths):\n",
    "    start_time = config[\"start_time\"]\n",
    "    cam_id = config[\"cam_id\"]\n",
    "    try:\n",
    "        \n",
    "        num_processed_videos += 1\n",
    "        \n",
    "        print(num_processed_videos)\n",
    "\n",
    "        frame_info, detections = detect_markers_in_video(path,\n",
    "                                                      decoder_pipeline=default_pipeline,#pipeline=pipelines(),\n",
    "                                                     tag_pixel_diameter=config[\"tag_pixel_diameter\"],\n",
    "                                                      n_frames=config[\"n_frames\"],\n",
    "                                                      fps=config[\"fps\"],\n",
    "                                                     progress=\"tqdm_notebook\",\n",
    "                                                         verbose = False\n",
    "                                            )\n",
    "        if len(detections[detections['confidence']>=config[\"confidence_filter_detections\"]]) == 0:\n",
    "            continue\n",
    "            \n",
    "        tracks = track_detections_dataframe(detections,\n",
    "                                            tracker=\"../tracker.det_score_fun.frag_score_fun.dill\",\n",
    "                                            confidence_filter_detections=config[\"confidence_filter_detections\"],\n",
    "                                           confidence_filter_tracks=config[\"confidence_filter_tracks\"],\n",
    "                                            coordinate_scale=config[\"coordinate_scale\"]\n",
    "                                            \n",
    "                                           )\n",
    "        date_string = filename_to_datestring(path)\n",
    "        tracks['video'] = date_string\n",
    "        video_data[path] = (frame_info, detections, tracks)\n",
    "    except ValueError as err: #tritt auf, wenn Video leer ist. In diesem Fall: überspringe video\n",
    "        try:\n",
    "            videos_w_no_detection = videos_w_no_detection + path + \"\\n\"\n",
    "            bad_paths.append(path)\n",
    "            # wir arbeiten später nochmal mit paths, daher müssen das leere löschen, weil sonst\n",
    "            # in video_data kein zugehöriger Value zu Key = file zu finden ist.\n",
    "        except KeyError as err:\n",
    "            print(err)\n",
    "            #continue\n",
    "            raise\n",
    "    except Exception as err:\n",
    "        print(err)\n",
    "        raise\n",
    "    # only first vid: break"
   ]
  },
  {
   "cell_type": "code",
   "execution_count": null,
   "metadata": {
    "ExecuteTime": {
     "end_time": "2019-03-12T21:17:50.136769Z",
     "start_time": "2019-03-12T21:17:50.132216Z"
    },
    "collapsed": true
   },
   "outputs": [],
   "source": [
    "for path in bad_paths:\n",
    "    paths.remove(path)"
   ]
  },
  {
   "cell_type": "code",
   "execution_count": null,
   "metadata": {
    "ExecuteTime": {
     "end_time": "2019-03-12T21:17:53.656609Z",
     "start_time": "2019-03-12T21:17:53.649483Z"
    },
    "code_folding": [
     1
    ],
    "collapsed": true
   },
   "outputs": [],
   "source": [
    "# gebe Videos aus, in denen keine Bienen gefunden wurden\n",
    "if videos_w_no_detection:\n",
    "    print(\"In the following file(s) were no bees detected:\")\n",
    "    print(videos_w_no_detection)"
   ]
  },
  {
   "cell_type": "code",
   "execution_count": null,
   "metadata": {
    "ExecuteTime": {
     "end_time": "2019-03-12T13:13:26.688585Z",
     "start_time": "2019-03-12T13:13:26.682478Z"
    },
    "collapsed": true
   },
   "outputs": [],
   "source": [
    "paths"
   ]
  },
  {
   "cell_type": "code",
   "execution_count": null,
   "metadata": {
    "ExecuteTime": {
     "end_time": "2019-03-12T13:01:41.222162Z",
     "start_time": "2019-03-12T13:01:38.224314Z"
    },
    "collapsed": true
   },
   "outputs": [],
   "source": [
    "#video_data[\"file\"][0] --> frame-info, [1] --> detections, [2] --> tracks\n",
    "for path in paths:\n",
    "    display_tracking_results(path, video_data[path][0], video_data[path][1], video_data[path][2])"
   ]
  },
  {
   "cell_type": "code",
   "execution_count": null,
   "metadata": {
    "ExecuteTime": {
     "end_time": "2019-03-12T21:17:57.132011Z",
     "start_time": "2019-03-12T21:17:56.966299Z"
    },
    "collapsed": true
   },
   "outputs": [],
   "source": [
    "tracks = [video_data[paths[x]][2] for x in range(len(paths))]\n",
    "tracks = pd.concat(tracks,ignore_index=True)\n",
    "tracks = tracks.drop(columns=[\"localizerSaliency\", \"beeID\", \"camID\", \"frameIdx\"])"
   ]
  },
  {
   "cell_type": "code",
   "execution_count": null,
   "metadata": {
    "ExecuteTime": {
     "end_time": "2019-03-12T21:18:00.538872Z",
     "start_time": "2019-03-12T21:18:00.390574Z"
    },
    "collapsed": true
   },
   "outputs": [],
   "source": [
    "with open(\"all_tracks.csv\", \"w\") as f:\n",
    "    tracks.to_csv(f)"
   ]
  },
  {
   "cell_type": "code",
   "execution_count": null,
   "metadata": {
    "ExecuteTime": {
     "end_time": "2019-03-12T13:13:41.076118Z",
     "start_time": "2019-03-12T13:13:41.041541Z"
    },
    "collapsed": true
   },
   "outputs": [],
   "source": [
    "tracks"
   ]
  },
  {
   "cell_type": "code",
   "execution_count": null,
   "metadata": {
    "ExecuteTime": {
     "end_time": "2019-03-12T21:55:57.842051Z",
     "start_time": "2019-03-12T21:55:57.837273Z"
    },
    "collapsed": true
   },
   "outputs": [],
   "source": []
  },
  {
   "cell_type": "markdown",
   "metadata": {},
   "source": [
    "# Algorithmus 1: Baseline"
   ]
  },
  {
   "cell_type": "code",
   "execution_count": null,
   "metadata": {
    "ExecuteTime": {
     "end_time": "2019-03-12T21:56:05.412279Z",
     "start_time": "2019-03-12T21:56:05.169725Z"
    },
    "collapsed": true
   },
   "outputs": [],
   "source": [
    "# ERGEBNIS-DICT, kann mit pd.DataFrame(data=bee_moves) in DataFrame gewandelt werden\n",
    "bee_moves = {\"bee_id\":[], \"time_in\":[], \"os_in\":[], \"time_out\":[], \"os_out\":[], \"in_direction\":[], \"out_direction\":[]}\n",
    "\n",
    "from math import pi\n",
    "\"\"\" Vorgehen:\n",
    "Für jedes Video\n",
    "- Prüfe, wo sich die Biene beim ersten erkannten Erscheinen aufhält\n",
    "    - Ordne die Position in left, right oder middle ein\n",
    "- Prüfe, wo sich die Biene beim letzten erkannten Erscheinen aufhält\n",
    "    - Ordne die Position in left, right oder middle ein\n",
    "Wenn sich Biene in der Mitte befindet, starte neue Routine, die links oder rechts zuordnet\n",
    "Daraus kann nun abgeleitet werden, wo die Biene reingekommen ist und wo sie rausgegangen ist.\n",
    "\"\"\"\n",
    "\n",
    "# Routine, wenn Biene in der Mitte\n",
    "# Betrachte zRotation, das ist die Richtung in die die Biene guckt (in Bogenmaß)\n",
    "# gebe diese Richtung aus\n",
    "def middle_classifier(zRotation):\n",
    "    if zRotation > abs(pi/2):\n",
    "        return \"left\"\n",
    "    else:\n",
    "        return \"right\"\n",
    "\n",
    "def baseline_alg_classify_bee():\n",
    "    video_groups = tracks.groupby([\"video\"])\n",
    "    for group_name, df_group in video_groups:\n",
    "        movement = dict()\n",
    "        recording_begin = group_name\n",
    "\n",
    "        # Finde start- und endposition\n",
    "        for row in df_group.itertuples():\n",
    "            bee_id = row[9]\n",
    "            xpos = row[2]\n",
    "            ypos = row[3]\n",
    "            zRotation = row[4]\n",
    "            timestamp = row[5]\n",
    "\n",
    "            if bee_id in movement.keys():\n",
    "                if not movement[bee_id]: #hier wird value betrachtet\n",
    "                    # Aufbau movement[bee_id] = \n",
    "                    # [(xpos_anfang, ypos_anfang), (xpos_ende, ypos_ende), time_in bzw. time_out, os_in, os_out, z_start, z_end]\n",
    "                    movement[bee_id] = [(xpos, ypos), (xpos, ypos), recording_begin, timestamp, timestamp, zRotation, zRotation]\n",
    "                else: #spätere detection in Video -> aktualisiere\n",
    "                    movement[bee_id][1] = (xpos, ypos)\n",
    "                    movement[bee_id][4] = timestamp\n",
    "                    movement[bee_id][6] = zRotation\n",
    "            else:\n",
    "                movement[bee_id] = [(xpos, ypos), (xpos, ypos), recording_begin, timestamp, timestamp, zRotation, zRotation]\n",
    "\n",
    "        def is_left(xpos):\n",
    "            return xpos <= config[\"left_leaving_area\"]*config[\"px_x_resolution_vid\"]\n",
    "        def is_right(xpos):\n",
    "            return xpos >= config[\"px_x_resolution_vid\"] - config[\"right_leaving_area\"]*config[\"px_x_resolution_vid\"]\n",
    "\n",
    "        # Setze labels, entferne andere Daten\n",
    "        for bee_id in movement.keys():\n",
    "            start_pos = movement[bee_id][0]\n",
    "            end_pos = movement[bee_id][1]\n",
    "            z_start = movement[bee_id][-2]\n",
    "            z_end = movement[bee_id][-1]\n",
    "            labels = dict()\n",
    "\n",
    "            # Eintrittsseite festlegen\n",
    "            if is_left(start_pos[0]):\n",
    "                labels[\"in_direction\"] = \"left\"\n",
    "            elif is_right(start_pos[0]):\n",
    "                labels[\"in_direction\"] = \"right\"\n",
    "            else:\n",
    "                labels[\"in_direction\"] = middle_classifier(z_start)\n",
    "\n",
    "            # Austrittsseite festlegen\n",
    "            if is_left(end_pos[0]):\n",
    "                labels[\"out_direction\"] = \"left\"\n",
    "            elif is_right(end_pos[0]):\n",
    "                labels[\"out_direction\"] = \"right\"\n",
    "            else:\n",
    "                labels[\"out_direction\"] = middle_classifier(z_end)\n",
    "\n",
    "            bee_moves[\"bee_id\"].append(bee_id)\n",
    "            bee_moves[\"in_direction\"].append(labels[\"in_direction\"])\n",
    "            bee_moves[\"out_direction\"].append(labels[\"out_direction\"])\n",
    "            bee_moves[\"time_in\"].append(movement[bee_id][2])\n",
    "            bee_moves[\"time_out\"].append(movement[bee_id][2])\n",
    "            bee_moves[\"os_in\"].append(movement[bee_id][3])\n",
    "            bee_moves[\"os_out\"].append(movement[bee_id][4])\n",
    "            \n",
    "            # write to MaschineLearnedData.csv\n",
    "            attache = 'a'\n",
    "            if not (os.path.isfile('./MaschineLearnedData.csv')):\n",
    "                attache = 'w'\n",
    "                with open('MaschineLearnedData.csv', attache) as csvfile:\n",
    "                    filewriter = csv.writer(csvfile, delimiter=',', quotechar='\\\"', quoting=csv.QUOTE_MINIMAL)\n",
    "                    filewriter.writerow([\"bee_id\", \"time_in\", \"os_in\", \"time_out\", \"os_out\", \"in_direction\", \"out_direction\"])\n",
    "            else:\n",
    "                with open('MaschineLearnedData.csv', attache) as csvfile:\n",
    "                    filewriter = csv.writer(csvfile, delimiter=',', quotechar='\\'', quoting=csv.QUOTE_MINIMAL)\n",
    "                    for i in range(0,len(bee_moves[\"bee_id\"])):\n",
    "                        filewriter.writerow([bee_moves[\"bee_id\"][i], bee_moves[\"time_in\"][i], bee_moves[\"os_in\"][i], bee_moves[\"time_out\"][i], bee_moves[\"os_out\"][i], bee_moves[\"in_direction\"][i], bee_moves[\"out_direction\"][i]])"
   ]
  },
  {
   "cell_type": "code",
   "execution_count": null,
   "metadata": {
    "ExecuteTime": {
     "end_time": "2019-03-12T21:56:12.453378Z",
     "start_time": "2019-03-12T21:56:12.026612Z"
    },
    "collapsed": true
   },
   "outputs": [],
   "source": [
    "# Ausgeben\n",
    "baseline_alg_classify_bee()\n",
    "bee_moves = pd.DataFrame(data=bee_moves)\n",
    "bee_moves"
   ]
  },
  {
   "cell_type": "code",
   "execution_count": null,
   "metadata": {
    "collapsed": true
   },
   "outputs": [],
   "source": []
  },
  {
   "cell_type": "markdown",
   "metadata": {},
   "source": [
    "# Compare-Algorithm"
   ]
  },
  {
   "cell_type": "code",
   "execution_count": null,
   "metadata": {
    "ExecuteTime": {
     "end_time": "2019-03-12T21:57:22.892621Z",
     "start_time": "2019-03-12T21:57:22.880211Z"
    },
    "collapsed": true
   },
   "outputs": [],
   "source": [
    "def formatFileName(filename):\n",
    "    return filename.split('_')[-1].split('.')[0]"
   ]
  },
  {
   "cell_type": "code",
   "execution_count": null,
   "metadata": {
    "ExecuteTime": {
     "end_time": "2019-03-12T21:58:15.766766Z",
     "start_time": "2019-03-12T21:58:15.530185Z"
    },
    "collapsed": true
   },
   "outputs": [],
   "source": [
    "\"\"\" \n",
    "Precondition:\n",
    "Fetch computed data and GroundTruthData from generated csv files and store in dictionaries.\n",
    "\"\"\"\n",
    "\n",
    "# read data from GroundTruthData.csv files\n",
    "import csv\n",
    "# use Dictionary to store data we want to compare\n",
    "dicManually = {} # key - List\n",
    "dicAutomated = {} # key - List\n",
    "\n",
    "# fetching data from MaschineLearnedData.csv file \n",
    "with open(\"MaschineLearnedData.csv\", \"r\") as testFile:\n",
    "    \"\"\" fetch all data from csv file to store in dicAutomated for better search and use \"\"\"\n",
    "    reader = csv.DictReader(testFile)\n",
    "    for row in reader:\n",
    "        # store video in dicAutomated\n",
    "        if not (row['time_in'] in dicAutomated):\n",
    "            # add video to dic with his bees\n",
    "            dicAutomated[row['time_in']] = [[str(int(float(row['bee_id']))), row['in_direction'], row['out_direction']]]\n",
    "        else:\n",
    "            #add other bees to the video key\n",
    "            dicAutomated[row['time_in']].append([str(int(float(row['bee_id']))), row['in_direction'], row['out_direction']])\n",
    "\n",
    "# fetching data from GroundTruthData.csv\n",
    "with open(\"GroundTruthData.csv\", \"r\") as testFile:\n",
    "    \"\"\" fetch all data from csv file to store in diManually for better search and use \"\"\"\n",
    "    reader = csv.DictReader(testFile)\n",
    "    for row in reader:\n",
    "        # check row has an bee_id -> if nor go to next row\n",
    "        if (row['bee_id'] != \"\"):\n",
    "            # store video in dicManually \n",
    "            if not (formatFileName(row['video']) in dicManually):\n",
    "                # add video to dic with his bees\n",
    "                dicManually[formatFileName(row['video'])] = [[row['bee_id'], row['in_direction'], row['out_direction']]]\n",
    "            else:\n",
    "                #add other bees to the video key\n",
    "                dicManually[formatFileName(row['video'])].append([row['bee_id'], row['in_direction'], row['out_direction']])\n",
    "        else:\n",
    "            continue"
   ]
  },
  {
   "cell_type": "code",
   "execution_count": null,
   "metadata": {
    "ExecuteTime": {
     "end_time": "2019-03-12T21:58:54.553552Z",
     "start_time": "2019-03-12T21:58:54.543660Z"
    },
    "collapsed": true
   },
   "outputs": [],
   "source": [
    "\"\"\" Compare input of MaschineLearnedData.csv with GroundTruthData.csv to get just compareable tracks \"\"\"\n",
    "\n",
    "# delete values which are not included in dicAutomated\n",
    "for msData in list(dicManually):\n",
    "    if not (msData in dicAutomated):\n",
    "        dicManually.pop(msData)\n",
    "        \n",
    "# delete values which are noch included in dicManually\n",
    "for msData in list(dicAutomated):\n",
    "    if not (msData in dicManually):\n",
    "        dicAutomated.pop(msData)"
   ]
  },
  {
   "cell_type": "code",
   "execution_count": null,
   "metadata": {
    "ExecuteTime": {
     "end_time": "2019-03-12T22:00:08.921906Z",
     "start_time": "2019-03-12T22:00:08.900617Z"
    },
    "collapsed": true
   },
   "outputs": [],
   "source": [
    "import os\n",
    "\n",
    "def writeToCSV(beeid, video, indirection, outdirection):\n",
    "    # write to MaschineLearnedData.csv\n",
    "            attache = 'a'\n",
    "            if not (os.path.isfile('./result.csv')):\n",
    "                attache = 'w'\n",
    "                with open('result.csv', attache) as csvfile:\n",
    "                    filewriter = csv.writer(csvfile, delimiter=',', quotechar='\\\"', quoting=csv.QUOTE_MINIMAL)\n",
    "                    filewriter.writerow([\"bee_id\", \"video\", \"in_direction\", \"out_directiomn\"])\n",
    "                    \n",
    "            with open('result.csv', attache) as csvfile:\n",
    "                filewriter = csv.writer(csvfile, delimiter=',', quotechar='\\'', quoting=csv.QUOTE_MINIMAL)\n",
    "                filewriter.writerow([beeid, video, indirection, outdirection])"
   ]
  },
  {
   "cell_type": "code",
   "execution_count": null,
   "metadata": {
    "ExecuteTime": {
     "end_time": "2019-03-12T22:00:19.794483Z",
     "start_time": "2019-03-12T22:00:16.936585Z"
    },
    "collapsed": true
   },
   "outputs": [],
   "source": [
    "\"\"\" compare data of both dictionaries \"\"\"\n",
    "# take key of dicAutomated as long as it has a value -> if empty list: delete key from dic\n",
    "# kompare key value with key value of dicManually + delete compared key-value of both dic's\n",
    "\n",
    "_correctMatches = 0\n",
    "_allMatches = 0\n",
    "\n",
    "for bee in list(dicAutomated):\n",
    "    while dicAutomated[bee] != []:       \n",
    "        # find data in dicManually and compare data before delete in dicManually\n",
    "        _allMatches += 1\n",
    "        currAutVal = dicAutomated[bee][0]\n",
    "        currManVal = []\n",
    "        \n",
    "        # loop through dicManually Value to find bee_id\n",
    "        inside = False\n",
    "        for beeid in list(dicManually[bee]):\n",
    "            if (beeid[0] == currAutVal[0]):\n",
    "                inside = True\n",
    "                currManVal = beeid\n",
    "                # start easy compare\n",
    "                if (currAutVal[1] == currManVal[1] and currAutVal[2] == currManVal[2]):\n",
    "                    _correctMatches += 1\n",
    "                    writeToCSV(beeid[0], bee, \"\", \"\")\n",
    "                elif (currAutVal[1] != currManVal[1] and currAutVal[2] != currManVal[2]):\n",
    "                    _correctMatches += 0\n",
    "                    writeToCSV(beeid[0], bee, \"x\", \"x\")\n",
    "                elif (currAutVal[1] == currManVal[1] and currAutVal[2] != currManVal[2]):\n",
    "                    _correctMatches += 0.5\n",
    "                    writeToCSV(beeid[0], bee, \"\", \"x\")\n",
    "                else:\n",
    "                    _correctMatches += 0.5\n",
    "                    writeToCSV(beeid[0], bee, \"x\", \"\")\n",
    "                \n",
    "        if (inside == False):    \n",
    "            print('Error: No matching bee found!')\n",
    "                \n",
    "        #print(currManVal, \" \\n \" , currAutVal, \"\\n\\n\") # comparable data\n",
    "        del dicAutomated[bee][0]\n",
    "    dicAutomated.pop(bee)\n",
    "    \n",
    "try:\n",
    "    print(round(_correctMatches / _allMatches, 4) * 100, \"% correctness\")\n",
    "except ZeroDivisionError:\n",
    "    print(\"Nothing to compare!\")"
   ]
  },
  {
   "cell_type": "markdown",
   "metadata": {},
   "source": [
    "# Vergleichsfunktion Algorithmus mit Labels"
   ]
  },
  {
   "cell_type": "code",
   "execution_count": null,
   "metadata": {
    "collapsed": true
   },
   "outputs": [],
   "source": []
  },
  {
   "cell_type": "code",
   "execution_count": null,
   "metadata": {
    "ExecuteTime": {
     "end_time": "2019-03-07T16:56:31.597175Z",
     "start_time": "2019-03-07T16:56:31.580421Z"
    },
    "collapsed": true
   },
   "outputs": [],
   "source": [
    "# gelabelted Datensatz einlesen:\n",
    "labeled_data = pd.read_csv(\"labels.csv\")\n",
    "labeled_data = labeled_data.filter([\"bee_id\", \"video\", \"in_direction\", \"out_direction\"])\n",
    "\n",
    "# nur ein Video betrachten:\n",
    "#labeled_data = labeled_data[labeled_data[\"video\"] == \"e00_2018-08-19-12-34-35.h264\"].drop(columns=[\"video\"])\n",
    "\n",
    "# Vergleichen\n",
    "\n",
    "for bee_id in results[\"bee_id\"]:\n",
    "    if results[bee_id] in labeled_data[\"bee_id\"]:\n",
    "        if results[bee_id]\n",
    "    "
   ]
  },
  {
   "cell_type": "markdown",
   "metadata": {
    "ExecuteTime": {
     "end_time": "2019-03-07T16:40:52.696458Z",
     "start_time": "2019-03-07T16:40:52.688866Z"
    }
   },
   "source": [
    "# Zwischenschritt für ML-Algorithmus"
   ]
  },
  {
   "cell_type": "code",
   "execution_count": 13,
   "metadata": {
    "ExecuteTime": {
     "end_time": "2019-03-15T13:53:30.535807Z",
     "start_time": "2019-03-15T13:53:30.499403Z"
    },
    "collapsed": true
   },
   "outputs": [],
   "source": [
    "tracks = pd.read_csv('all_tracks.csv', index_col=0)"
   ]
  },
  {
   "cell_type": "code",
   "execution_count": 14,
   "metadata": {
    "ExecuteTime": {
     "end_time": "2019-03-15T13:53:31.217747Z",
     "start_time": "2019-03-15T13:53:31.192850Z"
    }
   },
   "outputs": [
    {
     "data": {
      "text/html": [
       "<div>\n",
       "<style scoped>\n",
       "    .dataframe tbody tr th:only-of-type {\n",
       "        vertical-align: middle;\n",
       "    }\n",
       "\n",
       "    .dataframe tbody tr th {\n",
       "        vertical-align: top;\n",
       "    }\n",
       "\n",
       "    .dataframe thead th {\n",
       "        text-align: right;\n",
       "    }\n",
       "</style>\n",
       "<table border=\"1\" class=\"dataframe\">\n",
       "  <thead>\n",
       "    <tr style=\"text-align: right;\">\n",
       "      <th></th>\n",
       "      <th>id</th>\n",
       "      <th>xpos</th>\n",
       "      <th>ypos</th>\n",
       "      <th>zrotation</th>\n",
       "      <th>timestamp</th>\n",
       "      <th>confidence</th>\n",
       "      <th>track_id</th>\n",
       "      <th>track_confidence</th>\n",
       "      <th>bee_id</th>\n",
       "      <th>video</th>\n",
       "    </tr>\n",
       "  </thead>\n",
       "  <tbody>\n",
       "    <tr>\n",
       "      <th>0</th>\n",
       "      <td>f16454994143232751227d0c0</td>\n",
       "      <td>477.180838</td>\n",
       "      <td>164.151279</td>\n",
       "      <td>0.270257</td>\n",
       "      <td>8.1</td>\n",
       "      <td>0.183379</td>\n",
       "      <td>0.0</td>\n",
       "      <td>0.831785</td>\n",
       "      <td>433.0</td>\n",
       "      <td>2018-08-19-08-21-08</td>\n",
       "    </tr>\n",
       "    <tr>\n",
       "      <th>1</th>\n",
       "      <td>f16578218940730512316d0c0</td>\n",
       "      <td>564.704552</td>\n",
       "      <td>151.617500</td>\n",
       "      <td>0.245167</td>\n",
       "      <td>8.2</td>\n",
       "      <td>0.964998</td>\n",
       "      <td>0.0</td>\n",
       "      <td>0.831785</td>\n",
       "      <td>433.0</td>\n",
       "      <td>2018-08-19-08-21-08</td>\n",
       "    </tr>\n",
       "    <tr>\n",
       "      <th>2</th>\n",
       "      <td>f17333786135254116214d0c0</td>\n",
       "      <td>640.170750</td>\n",
       "      <td>163.932972</td>\n",
       "      <td>0.335837</td>\n",
       "      <td>8.3</td>\n",
       "      <td>0.325308</td>\n",
       "      <td>0.0</td>\n",
       "      <td>0.831785</td>\n",
       "      <td>433.0</td>\n",
       "      <td>2018-08-19-08-21-08</td>\n",
       "    </tr>\n",
       "    <tr>\n",
       "      <th>3</th>\n",
       "      <td>f17914062438408532176d0c0</td>\n",
       "      <td>712.797358</td>\n",
       "      <td>189.150818</td>\n",
       "      <td>0.458709</td>\n",
       "      <td>8.4</td>\n",
       "      <td>0.994973</td>\n",
       "      <td>0.0</td>\n",
       "      <td>0.831785</td>\n",
       "      <td>433.0</td>\n",
       "      <td>2018-08-19-08-21-08</td>\n",
       "    </tr>\n",
       "    <tr>\n",
       "      <th>4</th>\n",
       "      <td>f12965964851209682910d0c0</td>\n",
       "      <td>788.526833</td>\n",
       "      <td>201.583246</td>\n",
       "      <td>0.462691</td>\n",
       "      <td>8.5</td>\n",
       "      <td>0.980744</td>\n",
       "      <td>0.0</td>\n",
       "      <td>0.831785</td>\n",
       "      <td>433.0</td>\n",
       "      <td>2018-08-19-08-21-08</td>\n",
       "    </tr>\n",
       "  </tbody>\n",
       "</table>\n",
       "</div>"
      ],
      "text/plain": [
       "                          id        xpos        ypos  zrotation  timestamp  \\\n",
       "0  f16454994143232751227d0c0  477.180838  164.151279   0.270257        8.1   \n",
       "1  f16578218940730512316d0c0  564.704552  151.617500   0.245167        8.2   \n",
       "2  f17333786135254116214d0c0  640.170750  163.932972   0.335837        8.3   \n",
       "3  f17914062438408532176d0c0  712.797358  189.150818   0.458709        8.4   \n",
       "4  f12965964851209682910d0c0  788.526833  201.583246   0.462691        8.5   \n",
       "\n",
       "   confidence  track_id  track_confidence  bee_id                video  \n",
       "0    0.183379       0.0          0.831785   433.0  2018-08-19-08-21-08  \n",
       "1    0.964998       0.0          0.831785   433.0  2018-08-19-08-21-08  \n",
       "2    0.325308       0.0          0.831785   433.0  2018-08-19-08-21-08  \n",
       "3    0.994973       0.0          0.831785   433.0  2018-08-19-08-21-08  \n",
       "4    0.980744       0.0          0.831785   433.0  2018-08-19-08-21-08  "
      ]
     },
     "execution_count": 14,
     "metadata": {},
     "output_type": "execute_result"
    }
   ],
   "source": [
    "tracks.head()"
   ]
  },
  {
   "cell_type": "code",
   "execution_count": 15,
   "metadata": {
    "ExecuteTime": {
     "end_time": "2019-03-15T13:53:32.888435Z",
     "start_time": "2019-03-15T13:53:32.883913Z"
    }
   },
   "outputs": [
    {
     "data": {
      "text/plain": [
       "8811"
      ]
     },
     "execution_count": 15,
     "metadata": {},
     "output_type": "execute_result"
    }
   ],
   "source": [
    "len(tracks)"
   ]
  },
  {
   "cell_type": "code",
   "execution_count": null,
   "metadata": {
    "collapsed": true
   },
   "outputs": [],
   "source": [
    "# label the tracks df by merging with test data"
   ]
  },
  {
   "cell_type": "code",
   "execution_count": null,
   "metadata": {
    "ExecuteTime": {
     "end_time": "2019-03-14T09:59:50.896942Z",
     "start_time": "2019-03-14T09:59:50.891504Z"
    },
    "collapsed": true
   },
   "outputs": [],
   "source": []
  },
  {
   "cell_type": "code",
   "execution_count": null,
   "metadata": {
    "collapsed": true
   },
   "outputs": [],
   "source": []
  },
  {
   "cell_type": "code",
   "execution_count": 16,
   "metadata": {
    "ExecuteTime": {
     "end_time": "2019-03-15T13:53:43.366012Z",
     "start_time": "2019-03-15T13:53:43.070873Z"
    },
    "collapsed": true
   },
   "outputs": [],
   "source": [
    "def gather_tracks(tracks):\n",
    "    \"\"\"\n",
    "    transform the tracks df to : bee_id, [list of positions (x,y)], [list of timestamps], timestamp_of video\n",
    "    \"\"\"\n",
    "\n",
    "    #  transform tracks df to : bee_id, [list of positions (x,y)], [list of timestamps], timestamp_of video\n",
    "    grouped = tracks.groupby(['bee_id','track_id','video'],  as_index=False)['xpos','ypos','timestamp','zrotation']\n",
    "\n",
    "    tracks_ml = grouped.aggregate(lambda x: list(x))\n",
    "\n",
    "    # we don't need track_id anymore\n",
    "    tracks_ml = tracks_ml.drop('track_id', 1)\n",
    "\n",
    "    # add a column: convert video name to timestamp\n",
    "    tracks_ml['video_start_time'] = tracks_ml['video'].apply(lambda x: string_to_timestamp(x))\n",
    "    \n",
    "    # we don't need video anymore\n",
    "    tracks_ml = tracks_ml.drop('video', 1)\n",
    "\n",
    "    # because aggregated: now multiple timestamps per row: --> rename\n",
    "    tracks_ml = tracks_ml.rename(columns={'timestamp': 'timestamps'})\n",
    "\n",
    "    # calculate start time of track by adding timestamp of track (seconds since start of video)\n",
    "    # to timestamp of video (date)\n",
    "    tracks_ml['track_start_time'] = tracks_ml['video_start_time'] + tracks_ml['timestamps'].apply(lambda x: x[0])\n",
    "    tracks_ml['track_end_time'] = tracks_ml['video_start_time'] + tracks_ml['timestamps'].apply(lambda x: x[-1])\n",
    "    \n",
    "    # convert back to string\n",
    "    tracks_ml['video_start_time'] = tracks_ml['video_start_time'].apply(lambda x: timestamp_to_string(x))\n",
    "    \n",
    "    # get end video\n",
    "    tracks_ml['video_end_time'] =  tracks_ml['track_end_time'].apply(lambda x: timestamp_to_string(x))\n",
    "    tracks_ml['video_end_time'] =  tracks_ml[['video_start_time','video_end_time']].apply(lambda x: get_videos_between(x[0],x[1])[-1], axis=1)\n",
    "        \n",
    "    return tracks_ml\n",
    "\n",
    "def merge_tracks(tracks_ml, verbose = False):\n",
    "    \"\"\"\n",
    "    in: \n",
    "        tracks_ml: output from gather_tracks(tracks)\n",
    "    out:\n",
    "        same df as in, with merged rows\n",
    "        \n",
    "    merge tracks of same bee where start and end timestamps are close together\n",
    "    assume there can not be overlapping tracks\n",
    "    \"\"\"\n",
    "    \n",
    "    \n",
    "    # 1. sort: bee_id, start_time\n",
    "    tracks_ml = tracks_ml.sort_values(['bee_id', 'track_start_time'])\n",
    "\n",
    "    \n",
    "    # first convert to timestamp\n",
    "    tracks_ml['video_start_time'] = tracks_ml['video_start_time'].apply(lambda x: string_to_timestamp(x))\n",
    "    \n",
    "    index = 0\n",
    "    while(True):\n",
    "        row = tracks_ml.iloc[index]\n",
    "        next_row = tracks_ml.iloc[index+1]\n",
    "\n",
    "        # if the tracks are from same bee and the start time of next row is closer then 10s -> merge the rows\n",
    "        # merge rows means, next_row is deleted\n",
    "        if (row['bee_id'] == next_row['bee_id']) and ((next_row['track_start_time'] - row['track_end_time']) < 10):\n",
    "            \n",
    "            if verbose:\n",
    "                print(timestamp_to_string(row['video_start_time']), row['bee_id'], next_row['track_start_time'] - row['track_end_time'])\n",
    "                print(next_row['video_start_time'] - row['video_start_time'])\n",
    "                print(timestamp_to_string(row['track_start_time']),timestamp_to_string(row['track_end_time']),timestamp_to_string(row['video_start_time']),row['video_end_time'])\n",
    "                print(row['timestamps'])\n",
    "                print(row.name)\n",
    "                print(timestamp_to_string(next_row['track_start_time']))\n",
    "                print('----------------------------------')\n",
    "           \n",
    "            # update the timestamps of nextrow\n",
    "            t = next_row['video_start_time'] - row['video_start_time']\n",
    "            timestamps = list( np.array(next_row['timestamps']) + t)\n",
    "\n",
    "            # merge xpos, ypos, timestamps lists\n",
    "            tracks_ml.at[row.name,'xpos'] = row['xpos']+next_row['xpos']\n",
    "            tracks_ml.at[row.name,'ypos'] = row['ypos']+next_row['ypos']\n",
    "            tracks_ml.at[row.name,'timestamps'] = row['timestamps']+timestamps\n",
    "\n",
    "            # update end_time\n",
    "            tracks_ml.at[row.name,'track_end_time'] = next_row['track_end_time']\n",
    "            tracks_ml.at[row.name,'video_end_time'] = next_row['video_end_time']\n",
    "\n",
    "            # delete the merged row (next_row)\n",
    "            tracks_ml = tracks_ml.drop(next_row.name).copy()\n",
    "\n",
    "        else:\n",
    "            index += 1\n",
    "        \n",
    "        if index == len(tracks_ml) - 1:\n",
    "            break\n",
    "            \n",
    "    # convert back to string\n",
    "    tracks_ml['video_start_time'] = tracks_ml['video_start_time'].apply(lambda x: timestamp_to_string(x))\n",
    "            \n",
    "    return tracks_ml"
   ]
  },
  {
   "cell_type": "code",
   "execution_count": 8,
   "metadata": {
    "ExecuteTime": {
     "end_time": "2019-03-18T10:20:19.398354Z",
     "start_time": "2019-03-18T10:20:19.374749Z"
    }
   },
   "outputs": [
    {
     "ename": "NameError",
     "evalue": "name 'gather_tracks' is not defined",
     "output_type": "error",
     "traceback": [
      "\u001b[0;31m---------------------------------------------------------------------------\u001b[0m",
      "\u001b[0;31mNameError\u001b[0m                                 Traceback (most recent call last)",
      "\u001b[0;32m<ipython-input-8-f08cb07a15d3>\u001b[0m in \u001b[0;36m<module>\u001b[0;34m()\u001b[0m\n\u001b[0;32m----> 1\u001b[0;31m \u001b[0mtracks_ml\u001b[0m \u001b[0;34m=\u001b[0m \u001b[0mgather_tracks\u001b[0m\u001b[0;34m(\u001b[0m\u001b[0mtracks\u001b[0m\u001b[0;34m)\u001b[0m\u001b[0;34m\u001b[0m\u001b[0;34m\u001b[0m\u001b[0m\n\u001b[0m\u001b[1;32m      2\u001b[0m \u001b[0mtracks_ml\u001b[0m \u001b[0;34m=\u001b[0m \u001b[0mtracks_ml\u001b[0m\u001b[0;34m.\u001b[0m\u001b[0msort_values\u001b[0m\u001b[0;34m(\u001b[0m\u001b[0;34m[\u001b[0m\u001b[0;34m'video_start_time'\u001b[0m\u001b[0;34m]\u001b[0m\u001b[0;34m)\u001b[0m\u001b[0;34m\u001b[0m\u001b[0;34m\u001b[0m\u001b[0m\n\u001b[1;32m      3\u001b[0m \u001b[0mtracks_ml\u001b[0m\u001b[0;34m.\u001b[0m\u001b[0mhead\u001b[0m\u001b[0;34m(\u001b[0m\u001b[0mn\u001b[0m\u001b[0;34m=\u001b[0m\u001b[0;36m20\u001b[0m\u001b[0;34m)\u001b[0m\u001b[0;34m\u001b[0m\u001b[0;34m\u001b[0m\u001b[0m\n",
      "\u001b[0;31mNameError\u001b[0m: name 'gather_tracks' is not defined"
     ]
    }
   ],
   "source": [
    "tracks_ml = gather_tracks(tracks)\n",
    "tracks_ml = tracks_ml.sort_values(['video_start_time'])\n",
    "tracks_ml.head(n=20)"
   ]
  },
  {
   "cell_type": "code",
   "execution_count": 94,
   "metadata": {
    "ExecuteTime": {
     "end_time": "2019-03-15T16:12:13.399403Z",
     "start_time": "2019-03-15T16:12:12.987906Z"
    }
   },
   "outputs": [
    {
     "name": "stdout",
     "output_type": "stream",
     "text": [
      "2018-08-19-13-05-40 303.0 0.09999990463256836\n",
      "21.0\n",
      "2018-08-19-13-05-54 2018-08-19-13-06-00 2018-08-19-13-05-40 2018-08-19-13-05-40\n",
      "[14.4, 14.5, 14.7, 14.8, 14.9, 15.0, 15.1, 15.2, 15.3, 15.4, 15.5, 15.6, 15.7, 15.8, 15.9, 16.0, 16.1, 16.2, 16.3, 16.4, 16.5, 16.6, 16.7, 16.8, 16.9, 17.0, 17.1, 17.3, 17.4, 17.7, 17.8, 17.9, 18.0, 18.3, 18.6, 18.7, 18.8, 19.2, 19.3, 19.4, 19.5, 19.6, 19.7, 19.8, 19.9, 20.0, 20.1, 20.2, 20.3, 20.4, 20.5, 20.6, 20.7, 20.8, 20.9]\n",
      "14\n",
      "2018-08-19-13-06-01\n",
      "----------------------------------\n",
      "2018-08-19-13-05-40 303.0 7.400000095367432\n",
      "21.0\n",
      "2018-08-19-13-05-54 2018-08-19-13-06-04 2018-08-19-13-05-40 2018-08-19-13-06-01\n",
      "[14.4, 14.5, 14.7, 14.8, 14.9, 15.0, 15.1, 15.2, 15.3, 15.4, 15.5, 15.6, 15.7, 15.8, 15.9, 16.0, 16.1, 16.2, 16.3, 16.4, 16.5, 16.6, 16.7, 16.8, 16.9, 17.0, 17.1, 17.3, 17.4, 17.7, 17.8, 17.9, 18.0, 18.3, 18.6, 18.7, 18.8, 19.2, 19.3, 19.4, 19.5, 19.6, 19.7, 19.8, 19.9, 20.0, 20.1, 20.2, 20.3, 20.4, 20.5, 20.6, 20.7, 20.8, 20.9, 21.0, 21.1, 21.2, 21.3, 21.4, 21.5, 21.6, 21.7, 21.8, 21.9, 22.0, 22.1, 22.2, 22.3, 22.4, 22.5, 22.6, 22.7, 22.8, 22.9, 23.0, 23.1, 23.2, 23.3, 23.4, 23.5, 23.6, 23.7, 23.8, 23.9, 24.0, 24.2, 24.3]\n",
      "14\n",
      "2018-08-19-13-06-11\n",
      "----------------------------------\n",
      "2018-08-19-13-05-40 303.0 0.09999990463256836\n",
      "42.0\n",
      "2018-08-19-13-05-54 2018-08-19-13-06-21 2018-08-19-13-05-40 2018-08-19-13-06-01\n",
      "[14.4, 14.5, 14.7, 14.8, 14.9, 15.0, 15.1, 15.2, 15.3, 15.4, 15.5, 15.6, 15.7, 15.8, 15.9, 16.0, 16.1, 16.2, 16.3, 16.4, 16.5, 16.6, 16.7, 16.8, 16.9, 17.0, 17.1, 17.3, 17.4, 17.7, 17.8, 17.9, 18.0, 18.3, 18.6, 18.7, 18.8, 19.2, 19.3, 19.4, 19.5, 19.6, 19.7, 19.8, 19.9, 20.0, 20.1, 20.2, 20.3, 20.4, 20.5, 20.6, 20.7, 20.8, 20.9, 21.0, 21.1, 21.2, 21.3, 21.4, 21.5, 21.6, 21.7, 21.8, 21.9, 22.0, 22.1, 22.2, 22.3, 22.4, 22.5, 22.6, 22.7, 22.8, 22.9, 23.0, 23.1, 23.2, 23.3, 23.4, 23.5, 23.6, 23.7, 23.8, 23.9, 24.0, 24.2, 24.3, 31.7, 31.9, 32.0, 32.1, 32.2, 32.3, 32.5, 32.6, 32.7, 32.8, 32.9, 33.0, 33.1, 33.2, 33.3, 33.4, 33.5, 33.6, 33.7, 33.8, 34.0, 34.1, 34.2, 34.3, 34.4, 34.7, 34.8, 34.9, 35.0, 35.1, 35.2, 35.5, 35.7, 35.8, 35.9, 36.0, 36.1, 36.2, 36.3, 36.4, 36.5, 36.6, 37.0, 37.1, 37.2, 37.3, 37.4, 37.5, 37.6, 37.7, 37.8, 37.9, 38.0, 38.1, 38.2, 38.3, 38.4, 38.5, 38.6, 38.7, 38.8, 38.9, 39.0, 39.1, 39.2, 39.3, 39.4, 39.5, 39.6, 39.7, 39.8, 39.9, 40.0, 40.1, 40.2, 40.3, 40.4, 40.5, 40.6, 40.7, 40.8, 40.9, 41.0, 41.1, 41.2, 41.3, 41.4, 41.5, 41.6, 41.7, 41.8, 41.9]\n",
      "14\n",
      "2018-08-19-13-06-22\n",
      "----------------------------------\n",
      "2018-08-19-09-47-39 446.0 0.09999990463256836\n",
      "21.0\n",
      "2018-08-19-09-47-59 2018-08-19-09-47-59 2018-08-19-09-47-39 2018-08-19-09-47-39\n",
      "[20.6, 20.7, 20.9]\n",
      "26\n",
      "2018-08-19-09-48-00\n",
      "----------------------------------\n",
      "2018-08-19-14-50-30 476.0 9.599999904632568\n",
      "0.0\n",
      "2018-08-19-14-50-31 2018-08-19-14-50-40 2018-08-19-14-50-30 2018-08-19-14-50-30\n",
      "[1.6, 1.7, 1.8, 1.9, 2.0, 2.1, 2.3, 2.4, 2.5, 2.6, 2.7, 2.8, 2.9, 3.0, 3.1, 3.2, 3.3, 3.4, 3.5, 7.8, 8.0, 8.1, 8.2, 8.3, 8.4, 8.5, 8.6, 8.7, 8.8, 8.9, 9.0, 9.1, 9.2, 9.4, 9.5, 9.6, 9.7, 9.8, 9.9, 10.0, 10.1, 10.3, 10.4]\n",
      "30\n",
      "2018-08-19-14-50-50\n",
      "----------------------------------\n",
      "2018-08-19-14-50-30 476.0 0.09999990463256836\n",
      "21.0\n",
      "2018-08-19-14-50-31 2018-08-19-14-50-50 2018-08-19-14-50-30 2018-08-19-14-50-30\n",
      "[1.6, 1.7, 1.8, 1.9, 2.0, 2.1, 2.3, 2.4, 2.5, 2.6, 2.7, 2.8, 2.9, 3.0, 3.1, 3.2, 3.3, 3.4, 3.5, 7.8, 8.0, 8.1, 8.2, 8.3, 8.4, 8.5, 8.6, 8.7, 8.8, 8.9, 9.0, 9.1, 9.2, 9.4, 9.5, 9.6, 9.7, 9.8, 9.9, 10.0, 10.1, 10.3, 10.4, 20.0, 20.1, 20.2, 20.4, 20.5, 20.6, 20.7, 20.8, 20.9]\n",
      "30\n",
      "2018-08-19-14-50-51\n",
      "----------------------------------\n",
      "2018-08-19-16-10-04 571.0 0.20000004768371582\n",
      "21.0\n",
      "2018-08-19-16-10-12 2018-08-19-16-10-24 2018-08-19-16-10-04 2018-08-19-16-10-04\n",
      "[8.0, 8.1, 8.2, 8.3, 8.4, 8.5, 8.6, 8.7, 8.8, 8.9, 9.0, 9.1, 9.2, 9.4, 9.5, 9.6, 9.7, 9.8, 9.9, 10.0, 10.1, 10.2, 10.3, 10.4, 10.5, 10.6, 10.7, 10.8, 10.9, 11.0, 11.1, 11.2, 11.3, 11.4, 11.5, 11.6, 11.7, 11.8, 11.9, 12.0, 12.1, 12.2, 12.3, 12.4, 12.5, 12.6, 12.7, 12.8, 12.9, 13.0, 13.1, 13.2, 17.8, 17.9, 18.0, 18.1, 18.2, 18.3, 18.4, 18.5, 18.6, 18.8, 18.9, 19.0, 19.1, 19.2, 19.4, 19.7, 19.8, 19.9, 20.0, 20.1, 20.2, 20.3, 20.4, 20.5, 20.6, 20.7, 20.8]\n",
      "38\n",
      "2018-08-19-16-10-25\n",
      "----------------------------------\n",
      "2018-08-19-16-52-31 793.0 0.09999990463256836\n",
      "21.0\n",
      "2018-08-19-16-52-50 2018-08-19-16-52-51 2018-08-19-16-52-31 2018-08-19-16-52-31\n",
      "[19.7, 19.8, 19.9, 20.0, 20.1, 20.2, 20.3, 20.4, 20.5, 20.6, 20.7, 20.8, 20.9]\n",
      "48\n",
      "2018-08-19-16-52-52\n",
      "----------------------------------\n",
      "2018-08-19-16-55-15 793.0 0.20000004768371582\n",
      "21.0\n",
      "2018-08-19-16-55-16 2018-08-19-16-55-35 2018-08-19-16-55-15 2018-08-19-16-55-15\n",
      "[1.7, 1.8, 1.9, 2.0, 2.1, 2.2, 2.3, 2.4, 2.5, 2.6, 2.7, 2.8, 2.9, 3.0, 3.1, 3.2, 3.3, 3.4, 3.5, 3.6, 3.7, 3.8, 3.9, 4.0, 4.1, 4.4, 4.5, 4.6, 4.7, 4.8, 4.9, 5.0, 5.1, 5.2, 5.3, 5.4, 5.5, 5.6, 5.7, 5.8, 5.9, 6.0, 6.1, 6.2, 6.3, 6.4, 6.5, 6.6, 6.8, 6.9, 7.0, 7.1, 7.2, 7.3, 7.4, 7.5, 7.6, 7.7, 7.8, 7.9, 8.0, 8.1, 8.2, 8.3, 8.4, 8.5, 8.6, 8.7, 8.8, 8.9, 9.0, 9.1, 9.2, 9.3, 9.4, 9.5, 9.6, 11.8, 12.8, 13.2, 13.4, 13.5, 13.6, 13.7, 13.8, 13.9, 14.0, 14.1, 14.2, 14.3, 14.4, 14.5, 14.7, 14.8, 14.9, 15.0, 15.1, 15.2, 15.3, 15.4, 15.5, 15.7, 15.8, 16.6, 17.1, 18.6, 18.7, 18.8, 18.9, 19.0, 19.2, 19.4, 19.6, 19.7, 19.8, 19.9, 20.0, 20.1, 20.2, 20.3, 20.4, 20.5, 20.6, 20.7, 20.8]\n",
      "50\n",
      "2018-08-19-16-55-36\n",
      "----------------------------------\n",
      "2018-08-19-16-55-15 793.0 6.400000095367432\n",
      "21.0\n",
      "2018-08-19-16-55-16 2018-08-19-16-55-37 2018-08-19-16-55-15 2018-08-19-16-55-36\n",
      "[1.7, 1.8, 1.9, 2.0, 2.1, 2.2, 2.3, 2.4, 2.5, 2.6, 2.7, 2.8, 2.9, 3.0, 3.1, 3.2, 3.3, 3.4, 3.5, 3.6, 3.7, 3.8, 3.9, 4.0, 4.1, 4.4, 4.5, 4.6, 4.7, 4.8, 4.9, 5.0, 5.1, 5.2, 5.3, 5.4, 5.5, 5.6, 5.7, 5.8, 5.9, 6.0, 6.1, 6.2, 6.3, 6.4, 6.5, 6.6, 6.8, 6.9, 7.0, 7.1, 7.2, 7.3, 7.4, 7.5, 7.6, 7.7, 7.8, 7.9, 8.0, 8.1, 8.2, 8.3, 8.4, 8.5, 8.6, 8.7, 8.8, 8.9, 9.0, 9.1, 9.2, 9.3, 9.4, 9.5, 9.6, 11.8, 12.8, 13.2, 13.4, 13.5, 13.6, 13.7, 13.8, 13.9, 14.0, 14.1, 14.2, 14.3, 14.4, 14.5, 14.7, 14.8, 14.9, 15.0, 15.1, 15.2, 15.3, 15.4, 15.5, 15.7, 15.8, 16.6, 17.1, 18.6, 18.7, 18.8, 18.9, 19.0, 19.2, 19.4, 19.6, 19.7, 19.8, 19.9, 20.0, 20.1, 20.2, 20.3, 20.4, 20.5, 20.6, 20.7, 20.8, 21.0, 21.1, 21.2, 21.3, 21.4, 21.5, 21.6, 21.7, 21.8, 22.1]\n",
      "50\n",
      "2018-08-19-16-55-43\n",
      "----------------------------------\n",
      "2018-08-19-16-55-15 793.0 0.09999990463256836\n",
      "42.0\n",
      "2018-08-19-16-55-16 2018-08-19-16-55-56 2018-08-19-16-55-15 2018-08-19-16-55-36\n",
      "[1.7, 1.8, 1.9, 2.0, 2.1, 2.2, 2.3, 2.4, 2.5, 2.6, 2.7, 2.8, 2.9, 3.0, 3.1, 3.2, 3.3, 3.4, 3.5, 3.6, 3.7, 3.8, 3.9, 4.0, 4.1, 4.4, 4.5, 4.6, 4.7, 4.8, 4.9, 5.0, 5.1, 5.2, 5.3, 5.4, 5.5, 5.6, 5.7, 5.8, 5.9, 6.0, 6.1, 6.2, 6.3, 6.4, 6.5, 6.6, 6.8, 6.9, 7.0, 7.1, 7.2, 7.3, 7.4, 7.5, 7.6, 7.7, 7.8, 7.9, 8.0, 8.1, 8.2, 8.3, 8.4, 8.5, 8.6, 8.7, 8.8, 8.9, 9.0, 9.1, 9.2, 9.3, 9.4, 9.5, 9.6, 11.8, 12.8, 13.2, 13.4, 13.5, 13.6, 13.7, 13.8, 13.9, 14.0, 14.1, 14.2, 14.3, 14.4, 14.5, 14.7, 14.8, 14.9, 15.0, 15.1, 15.2, 15.3, 15.4, 15.5, 15.7, 15.8, 16.6, 17.1, 18.6, 18.7, 18.8, 18.9, 19.0, 19.2, 19.4, 19.6, 19.7, 19.8, 19.9, 20.0, 20.1, 20.2, 20.3, 20.4, 20.5, 20.6, 20.7, 20.8, 21.0, 21.1, 21.2, 21.3, 21.4, 21.5, 21.6, 21.7, 21.8, 22.1, 28.5, 28.6, 28.7, 28.8, 29.0, 29.1, 29.6, 29.7, 29.8, 29.9, 30.0, 30.3, 31.0, 31.1, 31.2, 31.4, 31.5, 31.6, 31.7, 31.8, 31.9, 32.0, 32.2, 32.3, 32.4, 32.5, 32.6, 32.7, 32.8, 32.9, 33.0, 33.3, 33.4, 33.5, 33.6, 33.7, 33.8, 33.9, 34.0, 34.1, 34.2, 34.6, 34.7, 35.2, 35.3, 35.4, 35.5, 35.6, 35.7, 35.8, 35.9, 36.0, 36.1, 36.2, 36.3, 36.4, 36.5, 36.6, 36.7, 36.8, 36.9, 37.0, 37.1, 37.2, 37.3, 37.4, 37.5, 37.6, 37.7, 38.2, 38.3, 38.4, 38.5, 38.6, 38.7, 39.1, 39.5, 39.6, 39.7, 39.9, 40.0, 40.1, 40.2, 40.3, 40.4, 40.5, 40.6, 40.7, 40.8, 40.9, 41.0, 41.3, 41.4, 41.5, 41.7, 41.8, 41.9]\n",
      "50\n",
      "2018-08-19-16-55-57\n",
      "----------------------------------\n",
      "2018-08-19-16-55-15 793.0 0.5\n",
      "63.0\n",
      "2018-08-19-16-55-16 2018-08-19-16-56-17 2018-08-19-16-55-15 2018-08-19-16-55-57\n",
      "[1.7, 1.8, 1.9, 2.0, 2.1, 2.2, 2.3, 2.4, 2.5, 2.6, 2.7, 2.8, 2.9, 3.0, 3.1, 3.2, 3.3, 3.4, 3.5, 3.6, 3.7, 3.8, 3.9, 4.0, 4.1, 4.4, 4.5, 4.6, 4.7, 4.8, 4.9, 5.0, 5.1, 5.2, 5.3, 5.4, 5.5, 5.6, 5.7, 5.8, 5.9, 6.0, 6.1, 6.2, 6.3, 6.4, 6.5, 6.6, 6.8, 6.9, 7.0, 7.1, 7.2, 7.3, 7.4, 7.5, 7.6, 7.7, 7.8, 7.9, 8.0, 8.1, 8.2, 8.3, 8.4, 8.5, 8.6, 8.7, 8.8, 8.9, 9.0, 9.1, 9.2, 9.3, 9.4, 9.5, 9.6, 11.8, 12.8, 13.2, 13.4, 13.5, 13.6, 13.7, 13.8, 13.9, 14.0, 14.1, 14.2, 14.3, 14.4, 14.5, 14.7, 14.8, 14.9, 15.0, 15.1, 15.2, 15.3, 15.4, 15.5, 15.7, 15.8, 16.6, 17.1, 18.6, 18.7, 18.8, 18.9, 19.0, 19.2, 19.4, 19.6, 19.7, 19.8, 19.9, 20.0, 20.1, 20.2, 20.3, 20.4, 20.5, 20.6, 20.7, 20.8, 21.0, 21.1, 21.2, 21.3, 21.4, 21.5, 21.6, 21.7, 21.8, 22.1, 28.5, 28.6, 28.7, 28.8, 29.0, 29.1, 29.6, 29.7, 29.8, 29.9, 30.0, 30.3, 31.0, 31.1, 31.2, 31.4, 31.5, 31.6, 31.7, 31.8, 31.9, 32.0, 32.2, 32.3, 32.4, 32.5, 32.6, 32.7, 32.8, 32.9, 33.0, 33.3, 33.4, 33.5, 33.6, 33.7, 33.8, 33.9, 34.0, 34.1, 34.2, 34.6, 34.7, 35.2, 35.3, 35.4, 35.5, 35.6, 35.7, 35.8, 35.9, 36.0, 36.1, 36.2, 36.3, 36.4, 36.5, 36.6, 36.7, 36.8, 36.9, 37.0, 37.1, 37.2, 37.3, 37.4, 37.5, 37.6, 37.7, 38.2, 38.3, 38.4, 38.5, 38.6, 38.7, 39.1, 39.5, 39.6, 39.7, 39.9, 40.0, 40.1, 40.2, 40.3, 40.4, 40.5, 40.6, 40.7, 40.8, 40.9, 41.0, 41.3, 41.4, 41.5, 41.7, 41.8, 41.9, 42.0, 42.1, 42.2, 42.3, 42.4, 42.5, 42.6, 42.7, 42.8, 42.9, 43.0, 43.1, 43.2, 43.3, 43.4, 43.5, 43.6, 43.8, 43.9, 44.0, 44.1, 44.2, 44.3, 44.4, 44.5, 44.7, 44.8, 44.9, 45.0, 45.1, 45.2, 45.3, 45.4, 45.5, 45.6, 45.7, 45.8, 45.9, 46.1, 46.2, 46.5, 46.6, 46.7, 46.8, 47.1, 47.2, 47.3, 47.4, 47.5, 47.6, 47.7, 47.8, 47.9, 48.0, 48.1, 48.2, 48.3, 48.4, 48.5, 48.6, 48.7, 48.8, 48.9, 49.0, 49.1, 49.2, 49.3, 49.4, 49.5, 49.6, 49.7, 49.8, 49.9, 50.0, 50.1, 50.2, 50.3, 50.4, 50.5, 50.8, 51.0, 51.1, 51.2, 51.3, 51.4, 51.5, 51.6, 51.7, 51.8, 51.9, 52.0, 52.1, 52.2, 52.3, 52.4, 52.5, 52.6, 52.7, 52.8, 52.9, 53.0, 53.1, 53.2, 53.3, 53.4, 53.5, 53.6, 53.7, 53.8, 53.9, 54.0, 54.1, 54.2, 54.3, 54.4, 54.5, 54.6, 54.7, 54.8, 54.9, 55.0, 55.1, 55.2, 55.5, 55.6, 55.7, 55.9, 56.0, 56.1, 56.2, 56.3, 56.4, 56.5, 56.6, 56.7, 56.8, 56.9, 57.0, 57.1, 57.2, 57.3, 57.4, 57.5, 57.6, 57.7, 57.8, 57.9, 58.0, 58.1, 58.2, 58.3, 58.4, 58.5, 58.6, 58.7, 58.8, 58.9, 59.0, 59.1, 59.2, 59.5, 59.6, 59.9, 60.0, 60.1, 60.2, 60.3, 60.4, 60.5, 60.6, 60.7, 60.8, 60.9, 61.0, 61.1, 61.2, 61.3, 61.4, 61.5, 61.6, 61.7, 61.8, 62.0, 62.3, 62.4, 62.5, 62.6]\n",
      "50\n",
      "2018-08-19-16-56-18\n",
      "----------------------------------\n",
      "2018-08-19-16-58-45 793.0 0.09999990463256836\n",
      "21.0\n",
      "2018-08-19-16-59-02 2018-08-19-16-59-05 2018-08-19-16-58-45 2018-08-19-16-58-45\n",
      "[17.7, 17.8, 18.0, 18.1, 18.2, 18.3, 18.4, 18.5, 18.6, 18.7, 18.8, 18.9, 19.0, 19.1, 19.2, 19.3, 19.4, 19.5, 19.6, 19.7, 19.8, 19.9, 20.0, 20.1, 20.2, 20.3, 20.4, 20.5, 20.6, 20.7, 20.8, 20.9]\n",
      "58\n",
      "2018-08-19-16-59-06\n",
      "----------------------------------\n",
      "2018-08-19-16-59-27 795.0 0.7999999523162842\n",
      "21.0\n",
      "2018-08-19-16-59-42 2018-08-19-16-59-47 2018-08-19-16-59-27 2018-08-19-16-59-27\n",
      "[15.4, 15.5, 16.0, 16.4, 16.6, 16.8, 16.9, 17.2, 18.0, 19.0, 19.1, 19.2, 19.3, 19.4, 19.7, 19.8, 19.9, 20.0, 20.3, 20.5]\n",
      "60\n",
      "2018-08-19-16-59-48\n",
      "----------------------------------\n",
      "2018-08-19-13-09-52 852.0 0.09999990463256836\n",
      "21.0\n",
      "2018-08-19-13-10-12 2018-08-19-13-10-12 2018-08-19-13-09-52 2018-08-19-13-09-52\n",
      "[20.2, 20.3, 20.4, 20.5, 20.6, 20.7, 20.8, 20.9]\n",
      "66\n",
      "2018-08-19-13-10-13\n",
      "----------------------------------\n",
      "2018-08-19-13-05-40 873.0 8.5\n",
      "21.0\n",
      "2018-08-19-13-05-51 2018-08-19-13-05-54 2018-08-19-13-05-40 2018-08-19-13-05-40\n",
      "[11.8, 11.9, 12.0, 12.1, 12.2, 12.3, 12.4, 12.5, 12.7, 12.8, 12.9, 13.0, 13.1, 13.5, 13.6, 13.7, 13.8, 13.9, 14.0, 14.2, 14.3, 14.4, 14.5]\n",
      "71\n",
      "2018-08-19-13-06-03\n",
      "----------------------------------\n",
      "2018-08-19-14-51-12 887.0 8.399999856948853\n",
      "21.0\n",
      "2018-08-19-14-51-12 2018-08-19-14-51-25 2018-08-19-14-51-12 2018-08-19-14-51-12\n",
      "[0.8, 0.9, 1.0, 1.1, 1.3, 1.4, 1.5, 1.6, 1.7, 1.8, 1.9, 2.0, 2.1, 2.2, 2.3, 2.4, 2.5, 2.6, 2.7, 2.9, 3.0, 3.1, 3.2, 10.8, 10.9, 11.0, 11.3, 11.4, 11.5, 11.6, 11.7, 11.9, 12.0, 12.1, 12.2, 12.7, 12.8, 12.9, 13.0, 13.1, 13.2]\n",
      "72\n",
      "2018-08-19-14-51-33\n",
      "----------------------------------\n",
      "2018-08-19-16-01-18 957.0 7.200000047683716\n",
      "21.0\n",
      "2018-08-19-16-01-30 2018-08-19-16-01-31 2018-08-19-16-01-18 2018-08-19-16-01-18\n",
      "[12.7, 12.8, 12.9, 13.0, 13.1, 13.2, 13.3, 13.5, 13.6, 13.7, 13.8]\n",
      "81\n",
      "2018-08-19-16-01-39\n",
      "----------------------------------\n",
      "2018-08-19-13-06-01 1056.0 8.599999904632568\n",
      "0.0\n",
      "2018-08-19-13-06-01 2018-08-19-13-06-02 2018-08-19-13-06-01 2018-08-19-13-06-01\n",
      "[0.0, 0.1, 0.2, 0.3, 0.4, 0.7, 0.9, 1.0, 1.1, 1.2, 1.3, 1.7]\n",
      "89\n",
      "2018-08-19-13-06-11\n",
      "----------------------------------\n",
      "2018-08-19-16-55-15 1056.0 0.20000004768371582\n",
      "21.0\n",
      "2018-08-19-16-55-26 2018-08-19-16-55-35 2018-08-19-16-55-15 2018-08-19-16-55-15\n",
      "[11.5, 11.6, 11.7, 11.8, 11.9, 12.0, 12.1, 12.2, 12.4, 12.5, 12.6, 12.8, 12.9, 13.0, 13.2, 13.3, 13.4, 13.5, 13.7, 13.8, 14.0, 14.1, 14.2, 14.3, 14.4, 14.5, 14.6, 14.7, 14.9, 15.0, 15.1, 15.2, 15.3, 15.4, 15.5, 15.6, 15.7, 15.8, 15.9, 16.0, 16.1, 16.2, 16.4, 16.5, 16.7, 16.8, 17.6, 17.7, 17.9, 18.0, 18.1, 18.2, 18.4, 18.5, 19.7, 19.8, 19.9, 20.0, 20.1, 20.2, 20.3, 20.4, 20.5, 20.6, 20.7, 20.8]\n",
      "90\n",
      "2018-08-19-16-55-36\n",
      "----------------------------------\n",
      "2018-08-19-16-58-45 1056.0 7.800000190734863\n",
      "0.0\n",
      "2018-08-19-16-58-45 2018-08-19-16-58-46 2018-08-19-16-58-45 2018-08-19-16-58-45\n",
      "[0.0, 0.4, 0.5, 0.6, 0.7, 0.8, 0.9, 1.0, 1.1, 1.2, 1.6]\n",
      "87\n",
      "2018-08-19-16-58-54\n",
      "----------------------------------\n",
      "2018-08-19-12-34-35 1057.0 0.09999990463256836\n",
      "21.0\n",
      "2018-08-19-12-34-55 2018-08-19-12-34-55 2018-08-19-12-34-35 2018-08-19-12-34-35\n",
      "[20.3, 20.5, 20.6, 20.7, 20.8, 20.9]\n",
      "95\n",
      "2018-08-19-12-34-56\n",
      "----------------------------------\n",
      "2018-08-19-12-02-53 1149.0 1.5\n",
      "21.0\n",
      "2018-08-19-12-03-08 2018-08-19-12-03-13 2018-08-19-12-02-53 2018-08-19-12-02-53\n",
      "[15.4, 15.5, 15.6, 15.7, 15.8, 15.9, 16.0, 16.1, 16.2, 16.3, 16.4, 16.5, 16.6, 16.7, 16.9, 17.0, 17.1, 17.2, 17.3, 17.8, 17.9, 18.0, 18.1, 18.2, 18.3, 18.4, 18.7, 18.8, 18.9, 19.0, 19.1, 19.3, 19.4, 19.5, 19.6, 19.7, 19.9, 20.0, 20.1, 20.2, 20.3, 20.4, 20.6]\n",
      "105\n",
      "2018-08-19-12-03-15\n",
      "----------------------------------\n",
      "2018-08-19-12-02-53 1149.0 0.09999990463256836\n",
      "42.0\n",
      "2018-08-19-12-03-08 2018-08-19-12-03-34 2018-08-19-12-02-53 2018-08-19-12-03-14\n",
      "[15.4, 15.5, 15.6, 15.7, 15.8, 15.9, 16.0, 16.1, 16.2, 16.3, 16.4, 16.5, 16.6, 16.7, 16.9, 17.0, 17.1, 17.2, 17.3, 17.8, 17.9, 18.0, 18.1, 18.2, 18.3, 18.4, 18.7, 18.8, 18.9, 19.0, 19.1, 19.3, 19.4, 19.5, 19.6, 19.7, 19.9, 20.0, 20.1, 20.2, 20.3, 20.4, 20.6, 22.1, 22.2, 22.3, 22.4, 22.5, 22.6, 22.7, 22.8, 22.9, 23.0, 23.1, 23.2, 23.3, 23.4, 23.5, 23.6, 23.7, 23.8, 23.9, 24.0, 24.1, 24.2, 24.3, 24.4, 24.5, 24.6, 24.7, 24.8, 24.9, 25.0, 25.1, 25.2, 25.3, 25.4, 25.5, 25.6, 25.7, 25.8, 25.9, 26.0, 26.1, 26.2, 26.3, 26.4, 26.5, 26.6, 26.7, 26.8, 26.9, 27.0, 27.1, 27.2, 27.3, 27.4, 27.5, 27.6, 27.7, 28.0, 28.1, 28.2, 28.3, 28.4, 28.5, 30.4, 30.5, 30.6, 30.7, 30.8, 30.9, 31.0, 31.1, 31.2, 31.3, 31.4, 31.5, 31.6, 31.7, 31.8, 31.9, 32.0, 32.1, 32.2, 32.3, 32.4, 32.5, 32.6, 32.7, 32.8, 32.9, 33.0, 33.1, 33.2, 33.3, 33.4, 33.5, 33.6, 33.7, 39.9, 40.0, 40.2, 40.3, 40.4, 40.5, 40.6, 40.7, 40.8, 41.0, 41.1, 41.2, 41.3, 41.4, 41.5, 41.6, 41.7, 41.8, 41.9]\n",
      "105\n",
      "2018-08-19-12-03-35\n",
      "----------------------------------\n",
      "2018-08-19-12-02-53 1149.0 2.700000047683716\n",
      "42.0\n",
      "2018-08-19-12-03-08 2018-08-19-12-03-42 2018-08-19-12-02-53 2018-08-19-12-03-35\n",
      "[15.4, 15.5, 15.6, 15.7, 15.8, 15.9, 16.0, 16.1, 16.2, 16.3, 16.4, 16.5, 16.6, 16.7, 16.9, 17.0, 17.1, 17.2, 17.3, 17.8, 17.9, 18.0, 18.1, 18.2, 18.3, 18.4, 18.7, 18.8, 18.9, 19.0, 19.1, 19.3, 19.4, 19.5, 19.6, 19.7, 19.9, 20.0, 20.1, 20.2, 20.3, 20.4, 20.6, 22.1, 22.2, 22.3, 22.4, 22.5, 22.6, 22.7, 22.8, 22.9, 23.0, 23.1, 23.2, 23.3, 23.4, 23.5, 23.6, 23.7, 23.8, 23.9, 24.0, 24.1, 24.2, 24.3, 24.4, 24.5, 24.6, 24.7, 24.8, 24.9, 25.0, 25.1, 25.2, 25.3, 25.4, 25.5, 25.6, 25.7, 25.8, 25.9, 26.0, 26.1, 26.2, 26.3, 26.4, 26.5, 26.6, 26.7, 26.8, 26.9, 27.0, 27.1, 27.2, 27.3, 27.4, 27.5, 27.6, 27.7, 28.0, 28.1, 28.2, 28.3, 28.4, 28.5, 30.4, 30.5, 30.6, 30.7, 30.8, 30.9, 31.0, 31.1, 31.2, 31.3, 31.4, 31.5, 31.6, 31.7, 31.8, 31.9, 32.0, 32.1, 32.2, 32.3, 32.4, 32.5, 32.6, 32.7, 32.8, 32.9, 33.0, 33.1, 33.2, 33.3, 33.4, 33.5, 33.6, 33.7, 39.9, 40.0, 40.2, 40.3, 40.4, 40.5, 40.6, 40.7, 40.8, 41.0, 41.1, 41.2, 41.3, 41.4, 41.5, 41.6, 41.7, 41.8, 41.9, 42.0, 42.1, 42.2, 42.3, 42.4, 42.5, 42.6, 42.7, 42.8, 42.9, 43.0, 43.1, 43.2, 43.3, 43.4, 43.5, 43.6, 43.7, 43.8, 43.9, 44.0, 44.4, 44.5, 44.7, 44.8, 44.9, 45.0, 45.1, 45.2, 45.3, 45.4, 45.5, 45.6, 45.7, 45.8, 45.9, 46.0, 46.1, 46.2, 46.3, 46.4, 46.5, 46.6, 47.6, 47.7, 47.8, 47.9, 48.0, 48.1, 48.8, 48.9, 49.0]\n",
      "105\n",
      "2018-08-19-12-03-44\n",
      "----------------------------------\n",
      "2018-08-19-16-10-04 1205.0 0.7000000476837158\n",
      "0.0\n",
      "2018-08-19-16-10-15 2018-08-19-16-10-15 2018-08-19-16-10-04 2018-08-19-16-10-04\n",
      "[11.2, 11.3, 11.4, 11.5, 11.7, 11.8]\n",
      "111\n",
      "2018-08-19-16-10-16\n",
      "----------------------------------\n",
      "2018-08-19-12-03-14 1282.0 6.400000095367432\n",
      "0.0\n",
      "2018-08-19-12-03-21 2018-08-19-12-03-22 2018-08-19-12-03-14 2018-08-19-12-03-14\n",
      "[7.2, 7.4, 7.5, 7.6, 7.7, 7.8, 7.9, 8.1, 8.2, 8.4, 8.5, 8.6]\n",
      "122\n",
      "2018-08-19-12-03-29\n",
      "----------------------------------\n",
      "2018-08-19-12-03-14 1282.0 0.09999990463256836\n",
      "21.0\n",
      "2018-08-19-12-03-21 2018-08-19-12-03-34 2018-08-19-12-03-14 2018-08-19-12-03-14\n",
      "[7.2, 7.4, 7.5, 7.6, 7.7, 7.8, 7.9, 8.1, 8.2, 8.4, 8.5, 8.6, 15.0, 15.1, 15.2, 15.3, 15.4, 15.5, 15.6, 15.7, 15.9, 16.0, 16.1, 16.3, 19.3, 19.4, 19.5, 19.6, 19.7, 19.8, 19.9, 20.0, 20.1, 20.2, 20.3, 20.4, 20.5, 20.8, 20.9]\n",
      "122\n",
      "2018-08-19-12-03-35\n",
      "----------------------------------\n",
      "2018-08-19-16-10-04 1288.0 0.20000004768371582\n",
      "21.0\n",
      "2018-08-19-16-10-15 2018-08-19-16-10-24 2018-08-19-16-10-04 2018-08-19-16-10-04\n",
      "[11.6, 11.8, 17.6, 17.9, 18.0, 18.2, 18.3, 18.4, 18.6, 18.7, 18.8, 18.9, 19.0, 19.1, 19.4, 19.5, 19.6, 19.7, 19.8, 19.9, 20.0, 20.1, 20.3, 20.4, 20.6, 20.7, 20.8]\n",
      "127\n",
      "2018-08-19-16-10-25\n",
      "----------------------------------\n",
      "2018-08-19-16-55-15 1301.0 6.6000001430511475\n",
      "0.0\n",
      "2018-08-19-16-55-21 2018-08-19-16-55-24 2018-08-19-16-55-15 2018-08-19-16-55-15\n",
      "[6.7, 6.9, 7.0, 7.1, 7.2, 7.3, 7.4, 7.5, 7.6, 7.7, 7.8, 7.9, 8.0, 8.1, 8.4, 8.5, 8.6, 8.7, 8.8, 8.9, 9.0, 9.1, 9.2, 9.6]\n",
      "136\n",
      "2018-08-19-16-55-31\n",
      "----------------------------------\n",
      "2018-08-19-16-55-15 1301.0 0.20000004768371582\n",
      "21.0\n",
      "2018-08-19-16-55-21 2018-08-19-16-55-35 2018-08-19-16-55-15 2018-08-19-16-55-15\n",
      "[6.7, 6.9, 7.0, 7.1, 7.2, 7.3, 7.4, 7.5, 7.6, 7.7, 7.8, 7.9, 8.0, 8.1, 8.4, 8.5, 8.6, 8.7, 8.8, 8.9, 9.0, 9.1, 9.2, 9.6, 16.2, 16.3, 16.4, 16.6, 16.7, 16.8, 17.0, 17.1, 17.2, 17.3, 17.4, 17.5, 17.6, 17.7, 17.8, 17.9, 18.0, 18.1, 18.2, 18.3, 18.4, 18.5, 18.6, 18.7, 18.8, 18.9, 19.0, 19.1, 19.2, 19.3, 19.4, 19.5, 19.6, 19.7, 19.8, 19.9, 20.0, 20.1, 20.2, 20.3, 20.4, 20.5, 20.6, 20.7, 20.8]\n",
      "136\n",
      "2018-08-19-16-55-36\n",
      "----------------------------------\n",
      "2018-08-19-16-55-57 1301.0 0.09999990463256836\n",
      "21.0\n",
      "2018-08-19-16-56-12 2018-08-19-16-56-17 2018-08-19-16-55-57 2018-08-19-16-55-57\n",
      "[15.8, 15.9, 16.0, 16.1, 16.2, 16.3, 16.4, 16.5, 16.6, 16.7, 16.8, 16.9, 17.0, 17.1, 17.2, 17.3, 17.4, 17.5, 17.6, 17.7, 17.8, 17.9, 18.0, 18.1, 18.2, 18.3, 18.4, 18.5, 18.6, 18.7, 18.8, 18.9, 19.0, 19.1, 19.2, 19.3, 19.4, 19.5, 19.6, 19.7, 19.8, 19.9, 20.1, 20.2, 20.3, 20.4, 20.5, 20.6, 20.7, 20.8, 20.9]\n",
      "138\n",
      "2018-08-19-16-56-18\n",
      "----------------------------------\n",
      "2018-08-19-16-58-45 1301.0 0.09999990463256836\n",
      "21.0\n",
      "2018-08-19-16-58-45 2018-08-19-16-59-05 2018-08-19-16-58-45 2018-08-19-16-58-45\n",
      "[0.0, 0.1, 0.2, 0.3, 0.4, 0.5, 0.6, 0.7, 0.8, 0.9, 1.0, 1.1, 1.2, 1.3, 1.4, 1.5, 1.6, 1.7, 1.8, 1.9, 2.0, 2.1, 2.2, 2.3, 2.4, 2.5, 2.6, 2.7, 2.8, 2.9, 3.0, 3.1, 3.2, 3.3, 3.4, 3.5, 3.6, 3.7, 3.8, 3.9, 4.0, 4.1, 4.2, 4.3, 4.4, 4.5, 4.6, 4.7, 4.8, 4.9, 5.0, 5.1, 5.2, 5.3, 5.4, 5.5, 5.6, 5.7, 5.8, 5.9, 6.0, 6.1, 6.2, 6.3, 6.4, 6.5, 6.6, 6.7, 6.8, 6.9, 7.0, 7.1, 7.2, 7.3, 7.4, 7.5, 7.6, 7.7, 7.8, 7.9, 8.0, 8.1, 8.2, 8.3, 8.4, 8.5, 8.6, 8.7, 8.8, 8.9, 9.0, 9.1, 9.2, 9.3, 9.4, 9.5, 9.6, 9.7, 9.8, 9.9, 10.0, 10.1, 10.2, 10.3, 10.4, 10.5, 10.6, 10.7, 10.9, 11.0, 11.2, 11.3, 11.4, 11.5, 11.6, 11.7, 11.8, 11.9, 12.0, 12.8, 12.9, 13.0, 13.1, 13.2, 17.3, 17.4, 17.5, 17.6, 17.7, 17.8, 17.9, 18.0, 18.1, 18.2, 18.3, 18.4, 18.5, 18.6, 18.7, 18.8, 18.9, 19.0, 19.1, 19.2, 19.3, 19.4, 19.5, 19.6, 19.7, 19.8, 19.9, 20.0, 20.1, 20.2, 20.3, 20.4, 20.5, 20.6, 20.7, 20.8, 20.9]\n",
      "139\n",
      "2018-08-19-16-59-06\n",
      "----------------------------------\n",
      "2018-08-19-17-00-30 1301.0 0.09999990463256836\n",
      "21.0\n",
      "2018-08-19-17-00-35 2018-08-19-17-00-50 2018-08-19-17-00-30 2018-08-19-17-00-30\n"
     ]
    },
    {
     "name": "stdout",
     "output_type": "stream",
     "text": [
      "[5.4, 5.5, 5.6, 5.7, 5.8, 5.9, 6.0, 6.1, 6.2, 6.3, 6.4, 6.5, 6.6, 6.7, 6.8, 6.9, 7.0, 7.2, 7.3, 7.4, 7.5, 7.6, 7.7, 7.8, 7.9, 8.0, 8.6, 8.7, 8.9, 9.2, 9.3, 9.5, 9.7, 9.8, 9.9, 10.0, 10.1, 10.7, 11.0, 11.1, 11.2, 11.3, 11.4, 11.5, 11.6, 11.7, 12.0, 12.2, 12.5, 12.6, 12.7, 12.8, 15.0, 15.1, 15.2, 15.3, 17.5, 17.7, 17.8, 18.0, 18.1, 18.2, 18.3, 18.4, 18.5, 18.6, 18.7, 20.6, 20.7, 20.8, 20.9]\n",
      "130\n",
      "2018-08-19-17-00-51\n",
      "----------------------------------\n",
      "2018-08-19-17-00-30 1301.0 0.09999990463256836\n",
      "42.0\n",
      "2018-08-19-17-00-35 2018-08-19-17-01-11 2018-08-19-17-00-30 2018-08-19-17-00-51\n",
      "[5.4, 5.5, 5.6, 5.7, 5.8, 5.9, 6.0, 6.1, 6.2, 6.3, 6.4, 6.5, 6.6, 6.7, 6.8, 6.9, 7.0, 7.2, 7.3, 7.4, 7.5, 7.6, 7.7, 7.8, 7.9, 8.0, 8.6, 8.7, 8.9, 9.2, 9.3, 9.5, 9.7, 9.8, 9.9, 10.0, 10.1, 10.7, 11.0, 11.1, 11.2, 11.3, 11.4, 11.5, 11.6, 11.7, 12.0, 12.2, 12.5, 12.6, 12.7, 12.8, 15.0, 15.1, 15.2, 15.3, 17.5, 17.7, 17.8, 18.0, 18.1, 18.2, 18.3, 18.4, 18.5, 18.6, 18.7, 20.6, 20.7, 20.8, 20.9, 21.0, 21.1, 21.2, 21.3, 21.4, 21.5, 21.6, 25.5, 26.1, 26.2, 26.3, 26.4, 26.6, 26.7, 26.8, 26.9, 27.0, 27.1, 27.3, 27.4, 27.5, 27.6, 35.6, 35.7, 35.8, 36.2, 36.3, 36.4, 36.5, 36.6, 36.7, 36.8, 36.9, 37.0, 37.1, 37.2, 37.3, 37.4, 37.5, 37.6, 37.7, 37.8, 37.9, 38.0, 38.1, 38.3, 38.4, 38.5, 39.6, 39.7, 39.9, 40.0, 40.2, 40.3, 40.4, 40.6, 40.7, 40.8, 40.9, 41.0, 41.1, 41.2, 41.3, 41.4, 41.5, 41.7, 41.8, 41.9]\n",
      "130\n",
      "2018-08-19-17-01-12\n",
      "----------------------------------\n",
      "2018-08-19-17-00-30 1301.0 7.3999998569488525\n",
      "42.0\n",
      "2018-08-19-17-00-35 2018-08-19-17-01-17 2018-08-19-17-00-30 2018-08-19-17-01-12\n",
      "[5.4, 5.5, 5.6, 5.7, 5.8, 5.9, 6.0, 6.1, 6.2, 6.3, 6.4, 6.5, 6.6, 6.7, 6.8, 6.9, 7.0, 7.2, 7.3, 7.4, 7.5, 7.6, 7.7, 7.8, 7.9, 8.0, 8.6, 8.7, 8.9, 9.2, 9.3, 9.5, 9.7, 9.8, 9.9, 10.0, 10.1, 10.7, 11.0, 11.1, 11.2, 11.3, 11.4, 11.5, 11.6, 11.7, 12.0, 12.2, 12.5, 12.6, 12.7, 12.8, 15.0, 15.1, 15.2, 15.3, 17.5, 17.7, 17.8, 18.0, 18.1, 18.2, 18.3, 18.4, 18.5, 18.6, 18.7, 20.6, 20.7, 20.8, 20.9, 21.0, 21.1, 21.2, 21.3, 21.4, 21.5, 21.6, 25.5, 26.1, 26.2, 26.3, 26.4, 26.6, 26.7, 26.8, 26.9, 27.0, 27.1, 27.3, 27.4, 27.5, 27.6, 35.6, 35.7, 35.8, 36.2, 36.3, 36.4, 36.5, 36.6, 36.7, 36.8, 36.9, 37.0, 37.1, 37.2, 37.3, 37.4, 37.5, 37.6, 37.7, 37.8, 37.9, 38.0, 38.1, 38.3, 38.4, 38.5, 39.6, 39.7, 39.9, 40.0, 40.2, 40.3, 40.4, 40.6, 40.7, 40.8, 40.9, 41.0, 41.1, 41.2, 41.3, 41.4, 41.5, 41.7, 41.8, 41.9, 42.0, 42.2, 42.7, 42.8, 42.9, 43.0, 43.1, 43.2, 43.3, 43.4, 43.5, 43.6, 43.9, 45.0, 45.1, 45.2, 45.3, 45.4, 45.5, 45.8, 46.7, 47.0, 47.1, 47.2, 47.4, 47.6, 47.7, 47.8, 47.9]\n",
      "130\n",
      "2018-08-19-17-01-25\n",
      "----------------------------------\n",
      "2018-08-19-18-32-42 1301.0 8.799999952316284\n",
      "0.0\n",
      "2018-08-19-18-32-42 2018-08-19-18-32-48 2018-08-19-18-32-42 2018-08-19-18-32-42\n",
      "[0.0, 0.1, 0.2, 0.3, 0.4, 0.5, 0.6, 0.7, 0.8, 0.9, 1.0, 1.1, 1.2, 1.3, 1.5, 1.6, 1.8, 2.0, 2.1, 2.2, 2.3, 2.5, 2.6, 2.7, 2.8, 3.0, 3.1, 3.2, 3.3, 3.4, 3.5, 3.6, 3.7, 3.8, 3.9, 4.0, 4.1, 4.2, 4.3, 4.4, 4.5, 4.6, 4.7, 4.8, 4.9, 5.0, 5.1, 5.2, 5.3, 5.4, 5.5, 5.6, 5.7, 5.8, 5.9, 6.0, 6.1, 6.2, 6.3, 6.4, 6.5]\n",
      "142\n",
      "2018-08-19-18-32-57\n",
      "----------------------------------\n",
      "2018-08-19-18-32-42 1301.0 0.20000004768371582\n",
      "21.0\n",
      "2018-08-19-18-32-42 2018-08-19-18-33-02 2018-08-19-18-32-42 2018-08-19-18-32-42\n",
      "[0.0, 0.1, 0.2, 0.3, 0.4, 0.5, 0.6, 0.7, 0.8, 0.9, 1.0, 1.1, 1.2, 1.3, 1.5, 1.6, 1.8, 2.0, 2.1, 2.2, 2.3, 2.5, 2.6, 2.7, 2.8, 3.0, 3.1, 3.2, 3.3, 3.4, 3.5, 3.6, 3.7, 3.8, 3.9, 4.0, 4.1, 4.2, 4.3, 4.4, 4.5, 4.6, 4.7, 4.8, 4.9, 5.0, 5.1, 5.2, 5.3, 5.4, 5.5, 5.6, 5.7, 5.8, 5.9, 6.0, 6.1, 6.2, 6.3, 6.4, 6.5, 15.3, 15.5, 15.6, 15.7, 15.8, 15.9, 16.1, 16.2, 16.3, 16.4, 16.5, 16.6, 16.7, 16.8, 16.9, 17.0, 17.1, 17.2, 17.4, 17.5, 17.6, 17.7, 17.8, 17.9, 18.0, 18.1, 18.2, 18.3, 18.4, 18.5, 18.6, 18.7, 18.8, 19.0, 19.2, 19.3, 19.5, 19.6, 19.7, 19.8, 19.9, 20.1, 20.2, 20.3, 20.4, 20.7, 20.8]\n",
      "142\n",
      "2018-08-19-18-33-03\n",
      "----------------------------------\n",
      "2018-08-19-19-47-47 1301.0 0.09999990463256836\n",
      "21.0\n",
      "2018-08-19-19-47-49 2018-08-19-19-48-07 2018-08-19-19-47-47 2018-08-19-19-47-47\n",
      "[2.4, 2.5, 2.6, 2.7, 2.8, 2.9, 3.3, 3.4, 3.5, 3.6, 3.7, 3.8, 3.9, 4.0, 4.1, 4.2, 4.3, 4.4, 4.5, 4.6, 4.7, 4.8, 4.9, 5.0, 5.1, 5.2, 5.3, 5.4, 5.5, 5.6, 5.7, 5.8, 5.9, 6.0, 6.1, 6.2, 6.3, 6.4, 6.5, 6.7, 6.8, 6.9, 7.0, 7.1, 7.2, 7.3, 7.4, 7.5, 7.6, 7.7, 7.8, 7.9, 8.0, 8.1, 8.2, 8.3, 8.4, 8.5, 8.6, 8.7, 8.8, 8.9, 9.0, 9.1, 9.2, 9.3, 9.4, 9.5, 9.6, 9.7, 9.8, 9.9, 10.0, 10.1, 10.2, 10.3, 10.4, 10.5, 10.6, 10.7, 10.8, 10.9, 11.0, 11.1, 11.2, 11.3, 11.4, 11.5, 11.6, 11.7, 11.8, 11.9, 12.0, 12.1, 12.2, 12.3, 12.4, 12.5, 12.6, 12.7, 12.8, 12.9, 13.0, 13.1, 13.2, 13.3, 13.4, 13.5, 13.6, 13.7, 13.8, 13.9, 14.0, 14.1, 14.2, 14.3, 14.4, 14.5, 14.6, 14.7, 14.8, 14.9, 15.0, 15.1, 15.2, 15.3, 15.4, 15.5, 15.6, 15.7, 15.8, 15.9, 16.0, 16.1, 16.2, 16.3, 16.4, 16.5, 16.6, 16.7, 16.8, 16.9, 17.0, 17.1, 17.2, 17.3, 17.4, 17.5, 17.6, 17.7, 17.8, 17.9, 18.0, 18.1, 18.2, 18.3, 18.4, 18.5, 18.6, 18.7, 18.8, 18.9, 19.0, 19.1, 19.2, 19.3, 19.4, 19.5, 19.6, 19.7, 19.8, 19.9, 20.0, 20.1, 20.2, 20.3, 20.4, 20.5, 20.6, 20.7, 20.8, 20.9]\n",
      "140\n",
      "2018-08-19-19-48-08\n",
      "----------------------------------\n",
      "2018-08-19-19-49-32 1301.0 9.299999952316284\n",
      "0.0\n",
      "2018-08-19-19-49-32 2018-08-19-19-49-36 2018-08-19-19-49-32 2018-08-19-19-49-32\n",
      "[0.0, 0.1, 0.7, 0.8, 0.9, 1.0, 1.1, 1.2, 1.3, 1.4, 1.5, 1.6, 1.7, 1.8, 1.9, 2.0, 2.1, 2.2, 2.3, 2.4, 2.5, 2.6, 2.7, 2.8, 2.9, 3.0, 3.1, 3.2, 3.6, 3.8, 4.0, 4.1, 4.2, 4.3, 4.4, 4.5, 4.6, 4.7, 4.9]\n",
      "134\n",
      "2018-08-19-19-49-46\n",
      "----------------------------------\n",
      "2018-08-19-19-49-32 1301.0 7.900000095367432\n",
      "21.0\n",
      "2018-08-19-19-49-32 2018-08-19-19-49-52 2018-08-19-19-49-32 2018-08-19-19-49-32\n",
      "[0.0, 0.1, 0.7, 0.8, 0.9, 1.0, 1.1, 1.2, 1.3, 1.4, 1.5, 1.6, 1.7, 1.8, 1.9, 2.0, 2.1, 2.2, 2.3, 2.4, 2.5, 2.6, 2.7, 2.8, 2.9, 3.0, 3.1, 3.2, 3.6, 3.8, 4.0, 4.1, 4.2, 4.3, 4.4, 4.5, 4.6, 4.7, 4.9, 14.2, 14.4, 14.6, 14.7, 14.8, 14.9, 15.0, 15.1, 15.2, 15.3, 15.4, 15.5, 15.6, 15.7, 15.8, 15.9, 16.0, 16.1, 16.2, 16.3, 16.4, 16.5, 16.6, 16.7, 16.8, 16.9, 17.0, 17.2, 17.3, 17.5, 17.6, 17.7, 17.8, 17.9, 18.0, 18.1, 18.2, 18.3, 18.4, 18.5, 18.6, 18.7, 18.8, 18.9, 19.1, 19.2, 19.5, 19.6, 19.7, 19.8, 19.9, 20.0, 20.1, 20.2, 20.3, 20.4, 20.5]\n",
      "134\n",
      "2018-08-19-19-50-00\n",
      "----------------------------------\n",
      "2018-08-19-19-49-32 1301.0 0.09999990463256836\n",
      "42.0\n",
      "2018-08-19-19-49-32 2018-08-19-19-50-13 2018-08-19-19-49-32 2018-08-19-19-49-53\n",
      "[0.0, 0.1, 0.7, 0.8, 0.9, 1.0, 1.1, 1.2, 1.3, 1.4, 1.5, 1.6, 1.7, 1.8, 1.9, 2.0, 2.1, 2.2, 2.3, 2.4, 2.5, 2.6, 2.7, 2.8, 2.9, 3.0, 3.1, 3.2, 3.6, 3.8, 4.0, 4.1, 4.2, 4.3, 4.4, 4.5, 4.6, 4.7, 4.9, 14.2, 14.4, 14.6, 14.7, 14.8, 14.9, 15.0, 15.1, 15.2, 15.3, 15.4, 15.5, 15.6, 15.7, 15.8, 15.9, 16.0, 16.1, 16.2, 16.3, 16.4, 16.5, 16.6, 16.7, 16.8, 16.9, 17.0, 17.2, 17.3, 17.5, 17.6, 17.7, 17.8, 17.9, 18.0, 18.1, 18.2, 18.3, 18.4, 18.5, 18.6, 18.7, 18.8, 18.9, 19.1, 19.2, 19.5, 19.6, 19.7, 19.8, 19.9, 20.0, 20.1, 20.2, 20.3, 20.4, 20.5, 28.4, 28.6, 28.7, 28.8, 28.9, 29.1, 29.2, 29.3, 29.4, 29.5, 29.6, 29.7, 29.8, 29.9, 30.1, 30.2, 30.3, 30.4, 30.5, 30.6, 30.7, 30.8, 30.9, 31.0, 31.1, 31.2, 31.3, 31.4, 31.5, 31.6, 31.7, 31.8, 31.9, 32.0, 32.1, 32.2, 32.3, 32.4, 32.5, 32.6, 32.7, 32.8, 32.9, 33.0, 33.3, 33.4, 33.5, 33.6, 33.7, 33.8, 33.9, 34.0, 34.2, 34.3, 34.4, 34.5, 34.6, 34.7, 34.8, 34.9, 35.0, 35.1, 35.2, 35.3, 35.4, 35.5, 35.6, 35.7, 35.8, 35.9, 36.0, 36.1, 36.2, 36.3, 36.4, 36.5, 36.6, 36.7, 36.8, 36.9, 37.0, 37.1, 37.2, 37.3, 37.4, 37.5, 37.6, 37.7, 37.8, 37.9, 38.1, 38.2, 38.3, 38.4, 38.5, 38.6, 38.7, 38.8, 38.9, 39.0, 39.1, 39.2, 39.3, 39.4, 39.5, 39.6, 39.7, 39.8, 39.9, 40.0, 40.1, 40.2, 40.8, 40.9, 41.0, 41.1, 41.2, 41.3, 41.4, 41.5, 41.6, 41.7, 41.8, 41.9]\n",
      "134\n",
      "2018-08-19-19-50-14\n",
      "----------------------------------\n",
      "2018-08-19-09-55-28 1325.0 0.09999990463256836\n",
      "21.0\n",
      "2018-08-19-09-55-32 2018-08-19-09-55-48 2018-08-19-09-55-28 2018-08-19-09-55-28\n",
      "[4.2, 4.3, 4.4, 4.5, 4.6, 4.7, 4.8, 4.9, 5.0, 5.2, 5.3, 5.4, 5.5, 5.7, 5.8, 9.9, 10.0, 10.2, 10.3, 10.5, 10.6, 10.7, 10.8, 10.9, 11.0, 15.2, 15.3, 15.4, 15.5, 15.6, 15.7, 15.8, 15.9, 16.0, 16.1, 16.2, 16.3, 16.4, 16.5, 16.6, 16.7, 16.9, 17.0, 17.1, 17.2, 17.3, 17.4, 17.5, 17.7, 17.8, 20.0, 20.1, 20.2, 20.3, 20.4, 20.7, 20.9]\n",
      "150\n",
      "2018-08-19-09-55-49\n",
      "----------------------------------\n",
      "2018-08-19-12-06-44 1362.0 7.200000047683716\n",
      "0.0\n",
      "2018-08-19-12-06-44 2018-08-19-12-06-45 2018-08-19-12-06-44 2018-08-19-12-06-44\n",
      "[0.3, 0.5, 0.6, 0.7, 1.3]\n",
      "154\n",
      "2018-08-19-12-06-52\n",
      "----------------------------------\n",
      "2018-08-19-13-10-34 1408.0 9.5\n",
      "0.0\n",
      "2018-08-19-13-10-36 2018-08-19-13-10-41 2018-08-19-13-10-34 2018-08-19-13-10-34\n",
      "[2.3, 2.4, 2.5, 2.6, 2.7, 2.8, 2.9, 3.0, 3.1, 3.2, 3.3, 3.4, 3.5, 3.6, 3.7, 3.8, 4.0, 4.2, 4.3, 4.4, 4.8, 4.9, 5.0, 5.1, 5.5, 5.6, 5.7, 5.8, 5.9, 6.0, 6.1, 6.2, 6.3, 6.4, 6.6, 6.7, 6.8, 6.9, 7.0, 7.1, 7.2]\n",
      "160\n",
      "2018-08-19-13-10-50\n",
      "----------------------------------\n",
      "2018-08-19-16-32-44 1425.0 0.09999990463256836\n",
      "21.0\n",
      "2018-08-19-16-32-47 2018-08-19-16-33-04 2018-08-19-16-32-44 2018-08-19-16-32-44\n",
      "[3.5, 3.6, 3.7, 3.8, 3.9, 4.0, 4.1, 4.2, 4.3, 4.4, 4.5, 4.6, 4.7, 4.8, 5.1, 5.3, 5.4, 5.5, 5.6, 5.7, 5.8, 5.9, 6.0, 6.2, 6.3, 8.1, 8.2, 8.3, 8.4, 8.5, 8.6, 8.7, 8.8, 8.9, 9.0, 9.1, 9.2, 9.3, 9.4, 9.5, 9.6, 9.7, 9.8, 9.9, 10.0, 10.1, 10.2, 10.3, 10.4, 10.5, 10.6, 10.7, 10.8, 10.9, 11.0, 11.1, 11.2, 11.3, 11.4, 11.6, 20.2, 20.3, 20.4, 20.5, 20.6, 20.7, 20.8, 20.9]\n",
      "163\n",
      "2018-08-19-16-33-05\n",
      "----------------------------------\n",
      "2018-08-19-16-32-44 1425.0 1.0\n",
      "21.0\n",
      "2018-08-19-16-32-47 2018-08-19-16-33-07 2018-08-19-16-32-44 2018-08-19-16-33-05\n",
      "[3.5, 3.6, 3.7, 3.8, 3.9, 4.0, 4.1, 4.2, 4.3, 4.4, 4.5, 4.6, 4.7, 4.8, 5.1, 5.3, 5.4, 5.5, 5.6, 5.7, 5.8, 5.9, 6.0, 6.2, 6.3, 8.1, 8.2, 8.3, 8.4, 8.5, 8.6, 8.7, 8.8, 8.9, 9.0, 9.1, 9.2, 9.3, 9.4, 9.5, 9.6, 9.7, 9.8, 9.9, 10.0, 10.1, 10.2, 10.3, 10.4, 10.5, 10.6, 10.7, 10.8, 10.9, 11.0, 11.1, 11.2, 11.3, 11.4, 11.6, 20.2, 20.3, 20.4, 20.5, 20.6, 20.7, 20.8, 20.9, 21.0, 21.1, 21.2, 21.3, 21.4, 21.5, 21.6, 21.8, 23.1]\n",
      "163\n",
      "2018-08-19-16-33-08\n",
      "----------------------------------\n",
      "2018-08-19-16-32-44 1425.0 4.900000095367432\n",
      "21.0\n",
      "2018-08-19-16-32-47 2018-08-19-16-33-12 2018-08-19-16-32-44 2018-08-19-16-33-05\n",
      "[3.5, 3.6, 3.7, 3.8, 3.9, 4.0, 4.1, 4.2, 4.3, 4.4, 4.5, 4.6, 4.7, 4.8, 5.1, 5.3, 5.4, 5.5, 5.6, 5.7, 5.8, 5.9, 6.0, 6.2, 6.3, 8.1, 8.2, 8.3, 8.4, 8.5, 8.6, 8.7, 8.8, 8.9, 9.0, 9.1, 9.2, 9.3, 9.4, 9.5, 9.6, 9.7, 9.8, 9.9, 10.0, 10.1, 10.2, 10.3, 10.4, 10.5, 10.6, 10.7, 10.8, 10.9, 11.0, 11.1, 11.2, 11.3, 11.4, 11.6, 20.2, 20.3, 20.4, 20.5, 20.6, 20.7, 20.8, 20.9, 21.0, 21.1, 21.2, 21.3, 21.4, 21.5, 21.6, 21.8, 23.1, 24.1, 25.1, 25.2, 25.3, 25.4, 25.5, 25.6, 25.7, 25.8, 25.9, 26.1, 26.2, 26.3, 26.4, 26.5, 26.6, 26.8, 27.0, 27.2, 27.3, 27.5, 27.6, 27.7, 27.9, 28.0]\n",
      "163\n",
      "2018-08-19-16-33-16\n",
      "----------------------------------\n",
      "2018-08-19-13-10-13 1472.0 9.0\n",
      "0.0\n",
      "2018-08-19-13-10-14 2018-08-19-13-10-17 2018-08-19-13-10-13 2018-08-19-13-10-13\n",
      "[1.4, 1.5, 1.6, 1.7, 1.8, 1.9, 2.0, 2.1, 2.2, 2.3, 2.4, 2.6, 2.7, 2.8, 2.9, 3.1, 3.2, 3.3, 3.9, 4.0]\n",
      "171\n",
      "2018-08-19-13-10-26\n",
      "----------------------------------\n",
      "2018-08-19-13-10-13 1472.0 0.09999990463256836\n",
      "21.0\n",
      "2018-08-19-13-10-14 2018-08-19-13-10-33 2018-08-19-13-10-13 2018-08-19-13-10-13\n",
      "[1.4, 1.5, 1.6, 1.7, 1.8, 1.9, 2.0, 2.1, 2.2, 2.3, 2.4, 2.6, 2.7, 2.8, 2.9, 3.1, 3.2, 3.3, 3.9, 4.0, 13.0, 13.2, 13.5, 13.6, 13.7, 13.8, 13.9, 14.0, 14.1, 14.2, 14.3, 14.4, 14.5, 14.6, 14.7, 14.8, 14.9, 15.0, 15.1, 15.2, 15.3, 15.4, 15.5, 15.6, 15.7, 15.8, 15.9, 16.0, 16.1, 16.3, 16.5, 16.6, 16.8, 16.9, 17.0, 17.1, 17.2, 17.3, 17.4, 17.5, 17.6, 17.7, 17.9, 18.0, 18.1, 18.8, 19.0, 19.6, 19.8, 19.9, 20.1, 20.4, 20.5, 20.8, 20.9]\n",
      "171\n",
      "2018-08-19-13-10-34\n",
      "----------------------------------\n",
      "2018-08-19-19-47-47 1545.0 2.5\n",
      "21.0\n",
      "2018-08-19-19-48-07 2018-08-19-19-48-07 2018-08-19-19-47-47 2018-08-19-19-47-47\n",
      "[20.5, 20.6, 20.7]\n",
      "177\n",
      "2018-08-19-19-48-10\n",
      "----------------------------------\n",
      "2018-08-19-18-25-21 1554.0 3.700000047683716\n",
      "0.0\n",
      "2018-08-19-18-25-31 2018-08-19-18-25-38 2018-08-19-18-25-21 2018-08-19-18-25-21\n",
      "[10.7, 10.8, 10.9, 11.0, 11.1, 11.4, 11.5, 11.6, 11.7, 12.0, 12.4, 12.5, 12.6, 12.7, 12.8, 12.9, 13.0, 13.1, 13.2, 13.3, 13.4, 13.5, 13.6, 13.7, 13.8, 13.9, 14.0, 14.1, 14.2, 14.3, 14.4, 14.5, 14.6, 14.8, 14.9, 15.0, 15.1, 15.3, 15.4, 15.6, 15.7, 15.8, 15.9, 16.0, 16.1, 16.2, 16.3, 16.4, 16.5, 16.6, 16.7, 16.8, 16.9, 17.0, 17.1, 17.2]\n",
      "179\n",
      "2018-08-19-18-25-41\n",
      "----------------------------------\n",
      "2018-08-19-13-05-40 1557.0 0.09999990463256836\n",
      "21.0\n",
      "2018-08-19-13-05-59 2018-08-19-13-06-00 2018-08-19-13-05-40 2018-08-19-13-05-40\n",
      "[19.8, 19.9, 20.0, 20.1, 20.2, 20.3, 20.4, 20.5, 20.7, 20.8, 20.9]\n",
      "183\n",
      "2018-08-19-13-06-01\n",
      "----------------------------------\n",
      "2018-08-19-09-47-39 1568.0 0.19999980926513672\n",
      "21.0\n",
      "2018-08-19-09-47-52 2018-08-19-09-47-59 2018-08-19-09-47-39 2018-08-19-09-47-39\n",
      "[13.8, 14.0, 14.2, 14.9, 15.0, 15.1, 15.2, 15.3, 15.4, 15.5, 15.6, 15.7, 15.8, 15.9, 16.0, 16.3, 18.9, 19.0, 19.1, 19.2, 19.3, 19.4, 19.5, 19.6, 19.7, 19.8, 19.9, 20.0, 20.1, 20.2, 20.3, 20.4, 20.5, 20.6, 20.9]\n",
      "185\n",
      "2018-08-19-09-48-00\n",
      "----------------------------------\n",
      "2018-08-19-12-02-32 1596.0 0.09999990463256836\n",
      "21.0\n",
      "2018-08-19-12-02-42 2018-08-19-12-02-52 2018-08-19-12-02-32 2018-08-19-12-02-32\n",
      "[10.3, 10.4, 10.5, 10.6, 10.7, 10.8, 10.9, 11.0, 11.1, 11.2, 11.3, 11.4, 11.5, 11.6, 11.8, 11.9, 12.0, 12.1, 12.2, 12.3, 12.4, 12.5, 12.6, 12.7, 12.8, 12.9, 13.0, 13.1, 13.2, 13.3, 13.4, 13.5, 13.6, 13.7, 13.8, 13.9, 14.0, 14.1, 14.2, 14.3, 14.4, 14.5, 14.6, 14.7, 14.8, 14.9, 15.0, 15.1, 15.2, 15.3, 15.4, 15.5, 15.6, 15.7, 15.8, 15.9, 16.0, 16.1, 16.2, 16.3, 16.4, 16.5, 16.6, 16.7, 16.8, 16.9, 17.0, 17.1, 17.2, 17.4, 17.5, 17.6, 17.7, 17.8, 17.9, 18.0, 18.1, 18.2, 18.3, 18.4, 18.5, 18.6, 18.7, 18.8, 18.9, 19.0, 19.1, 19.2, 19.3, 19.4, 19.5, 19.6, 19.7, 19.8, 19.9, 20.0, 20.1, 20.2, 20.3, 20.4, 20.5, 20.6, 20.7, 20.8, 20.9]\n",
      "194\n",
      "2018-08-19-12-02-53\n",
      "----------------------------------\n",
      "2018-08-19-12-02-32 1596.0 0.09999990463256836\n",
      "42.0\n",
      "2018-08-19-12-02-42 2018-08-19-12-03-13 2018-08-19-12-02-32 2018-08-19-12-02-53\n",
      "[10.3, 10.4, 10.5, 10.6, 10.7, 10.8, 10.9, 11.0, 11.1, 11.2, 11.3, 11.4, 11.5, 11.6, 11.8, 11.9, 12.0, 12.1, 12.2, 12.3, 12.4, 12.5, 12.6, 12.7, 12.8, 12.9, 13.0, 13.1, 13.2, 13.3, 13.4, 13.5, 13.6, 13.7, 13.8, 13.9, 14.0, 14.1, 14.2, 14.3, 14.4, 14.5, 14.6, 14.7, 14.8, 14.9, 15.0, 15.1, 15.2, 15.3, 15.4, 15.5, 15.6, 15.7, 15.8, 15.9, 16.0, 16.1, 16.2, 16.3, 16.4, 16.5, 16.6, 16.7, 16.8, 16.9, 17.0, 17.1, 17.2, 17.4, 17.5, 17.6, 17.7, 17.8, 17.9, 18.0, 18.1, 18.2, 18.3, 18.4, 18.5, 18.6, 18.7, 18.8, 18.9, 19.0, 19.1, 19.2, 19.3, 19.4, 19.5, 19.6, 19.7, 19.8, 19.9, 20.0, 20.1, 20.2, 20.3, 20.4, 20.5, 20.6, 20.7, 20.8, 20.9, 21.0, 21.1, 21.2, 21.3, 21.5, 21.6, 21.7, 21.8, 21.9, 22.0, 22.1, 22.2, 22.3, 22.4, 22.5, 22.6, 22.7, 22.8, 22.9, 23.0, 23.1, 23.2, 23.3, 23.4, 23.5, 23.6, 23.7, 23.8, 23.9, 24.0, 24.1, 24.2, 24.3, 24.4, 24.5, 24.6, 24.7, 24.8, 24.9, 25.0, 25.1, 25.2, 25.3, 25.4, 25.5, 25.6, 25.7, 25.8, 25.9, 26.0, 26.1, 26.2, 26.3, 26.4, 26.5, 26.6, 26.7, 26.8, 26.9, 27.0, 27.1, 27.2, 27.3, 27.4, 27.5, 27.6, 27.7, 27.8, 27.9, 28.0, 28.1, 28.2, 28.3, 28.4, 28.5, 28.6, 28.7, 28.8, 28.9, 29.0, 29.1, 29.2, 29.3, 29.4, 29.5, 29.6, 29.7, 29.8, 29.9, 30.0, 30.1, 30.2, 30.3, 30.4, 30.5, 30.6, 30.7, 30.8, 30.9, 31.0, 31.1, 31.2, 31.3, 31.4, 31.5, 31.6, 31.7, 31.8, 31.9, 32.0, 32.1, 32.2, 32.3, 32.4, 32.5, 32.6, 32.7, 32.8, 32.9, 33.0, 33.1, 33.2, 33.3, 33.4, 33.5, 33.6, 33.7, 33.8, 33.9, 34.0, 34.1, 34.2, 34.3, 34.4, 34.5, 34.6, 34.7, 34.8, 34.9, 35.0, 35.1, 35.2, 35.3, 35.4, 35.5, 35.6, 35.7, 35.8, 35.9, 36.0, 36.1, 36.2, 36.3, 36.4, 36.5, 36.6, 36.7, 36.8, 36.9, 37.0, 37.1, 37.2, 37.3, 37.4, 37.5, 37.6, 37.7, 37.8, 37.9, 38.0, 38.1, 38.2, 38.3, 38.4, 38.5, 38.6, 38.7, 38.8, 38.9, 39.0, 39.1, 39.2, 39.3, 39.4, 39.5, 39.6, 39.7, 39.8, 39.9, 40.0, 40.1, 40.2, 40.3, 40.4, 40.5, 40.6, 40.7, 40.8, 40.9, 41.0, 41.1, 41.2, 41.3, 41.4, 41.5, 41.6, 41.7, 41.8, 41.9]\n",
      "194\n",
      "2018-08-19-12-03-14\n",
      "----------------------------------\n",
      "2018-08-19-12-03-14 1596.0 0.09999990463256836\n",
      "21.0\n",
      "2018-08-19-12-03-33 2018-08-19-12-03-34 2018-08-19-12-03-14 2018-08-19-12-03-14\n",
      "[19.8, 19.9, 20.2, 20.5, 20.6, 20.7, 20.8, 20.9]\n",
      "195\n",
      "2018-08-19-12-03-35\n",
      "----------------------------------\n",
      "2018-08-19-17-42-42 1863.0 8.100000143051147\n",
      "0.0\n",
      "2018-08-19-17-42-42 2018-08-19-17-42-50 2018-08-19-17-42-42 2018-08-19-17-42-42\n",
      "[0.1, 0.2, 0.3, 0.4, 0.5, 0.6, 0.7, 0.8, 0.9, 1.0, 1.1, 1.2, 1.3, 1.4, 1.5, 1.6, 1.7, 1.9, 2.0, 2.3, 2.5, 2.6, 2.7, 6.4, 6.5, 6.6, 6.7, 6.8, 6.9, 7.0, 7.1, 7.2, 7.3, 7.5, 7.6, 7.7, 7.8, 8.1]\n",
      "199\n",
      "2018-08-19-17-42-58\n",
      "----------------------------------\n",
      "2018-08-19-02-21-37 1970.0 0.9000000953674316\n",
      "0.0\n",
      "2018-08-19-02-21-38 2018-08-19-02-21-40 2018-08-19-02-21-37 2018-08-19-02-21-37\n",
      "[1.6, 2.3, 2.8, 3.1]\n",
      "202\n",
      "2018-08-19-02-21-41\n",
      "----------------------------------\n",
      "2018-08-19-02-21-37 1970.0 0.7999999523162842\n",
      "21.0\n",
      "2018-08-19-02-21-38 2018-08-19-02-21-57 2018-08-19-02-21-37 2018-08-19-02-21-37\n",
      "[1.6, 2.3, 2.8, 3.1, 4.0, 4.1, 4.2, 4.3, 4.6, 4.8, 10.1, 16.3, 16.5, 16.9, 17.3, 17.7, 17.8, 17.9, 18.0, 18.1, 18.2, 18.3, 18.4, 18.5, 18.6, 19.5, 19.8, 19.9, 20.0, 20.1, 20.2, 20.3, 20.7]\n",
      "202\n",
      "2018-08-19-02-21-58\n",
      "----------------------------------\n",
      "2018-08-19-02-21-37 1970.0 -11.5\n",
      "21.0\n",
      "2018-08-19-02-21-38 2018-08-19-02-22-17 2018-08-19-02-21-37 2018-08-19-02-21-58\n",
      "[1.6, 2.3, 2.8, 3.1, 4.0, 4.1, 4.2, 4.3, 4.6, 4.8, 10.1, 16.3, 16.5, 16.9, 17.3, 17.7, 17.8, 17.9, 18.0, 18.1, 18.2, 18.3, 18.4, 18.5, 18.6, 19.5, 19.8, 19.9, 20.0, 20.1, 20.2, 20.3, 20.7, 21.5, 21.7, 21.8, 21.9, 22.2, 22.3, 22.4, 22.5, 22.6, 22.7, 22.8, 22.9, 23.5, 23.6, 33.9, 34.0, 34.1, 34.2, 34.3, 34.4, 34.6, 34.7, 34.8, 34.9, 35.0, 35.1, 35.2, 35.3, 36.4, 36.5, 37.6, 37.7, 37.9, 38.0, 38.2, 39.3, 39.4, 39.5, 40.9]\n",
      "202\n",
      "2018-08-19-02-22-06\n",
      "----------------------------------\n",
      "2018-08-19-02-21-37 1970.0 9.299999952316284\n",
      "42.0\n",
      "2018-08-19-02-21-38 2018-08-19-02-22-09 2018-08-19-02-21-37 2018-08-19-02-21-58\n",
      "[1.6, 2.3, 2.8, 3.1, 4.0, 4.1, 4.2, 4.3, 4.6, 4.8, 10.1, 16.3, 16.5, 16.9, 17.3, 17.7, 17.8, 17.9, 18.0, 18.1, 18.2, 18.3, 18.4, 18.5, 18.6, 19.5, 19.8, 19.9, 20.0, 20.1, 20.2, 20.3, 20.7, 21.5, 21.7, 21.8, 21.9, 22.2, 22.3, 22.4, 22.5, 22.6, 22.7, 22.8, 22.9, 23.5, 23.6, 33.9, 34.0, 34.1, 34.2, 34.3, 34.4, 34.6, 34.7, 34.8, 34.9, 35.0, 35.1, 35.2, 35.3, 36.4, 36.5, 37.6, 37.7, 37.9, 38.0, 38.2, 39.3, 39.4, 39.5, 40.9, 29.4, 31.3, 31.7, 32.0, 32.2, 32.3, 32.4, 32.5, 32.6, 32.7]\n",
      "202\n",
      "2018-08-19-02-22-19\n",
      "----------------------------------\n",
      "2018-08-19-02-21-37 1970.0 2.0\n",
      "42.0\n",
      "2018-08-19-02-21-38 2018-08-19-02-22-35 2018-08-19-02-21-37 2018-08-19-02-22-19\n",
      "[1.6, 2.3, 2.8, 3.1, 4.0, 4.1, 4.2, 4.3, 4.6, 4.8, 10.1, 16.3, 16.5, 16.9, 17.3, 17.7, 17.8, 17.9, 18.0, 18.1, 18.2, 18.3, 18.4, 18.5, 18.6, 19.5, 19.8, 19.9, 20.0, 20.1, 20.2, 20.3, 20.7, 21.5, 21.7, 21.8, 21.9, 22.2, 22.3, 22.4, 22.5, 22.6, 22.7, 22.8, 22.9, 23.5, 23.6, 33.9, 34.0, 34.1, 34.2, 34.3, 34.4, 34.6, 34.7, 34.8, 34.9, 35.0, 35.1, 35.2, 35.3, 36.4, 36.5, 37.6, 37.7, 37.9, 38.0, 38.2, 39.3, 39.4, 39.5, 40.9, 29.4, 31.3, 31.7, 32.0, 32.2, 32.3, 32.4, 32.5, 32.6, 32.7, 42.0, 42.1, 42.2, 42.3, 42.4, 42.5, 42.6, 42.7, 42.8, 43.0, 43.1, 43.2, 43.3, 43.5, 43.8, 43.9, 52.1, 52.2, 52.3, 52.4, 52.5, 52.6, 52.7, 53.1, 53.4, 53.5, 53.6, 53.7, 53.8, 55.4, 55.5, 55.6, 56.5, 56.7, 56.8, 56.9, 58.4]\n",
      "202\n",
      "2018-08-19-02-22-37\n",
      "----------------------------------\n",
      "2018-08-19-02-21-37 1970.0 2.5\n",
      "63.0\n",
      "2018-08-19-02-21-38 2018-08-19-02-22-37 2018-08-19-02-21-37 2018-08-19-02-22-19\n",
      "[1.6, 2.3, 2.8, 3.1, 4.0, 4.1, 4.2, 4.3, 4.6, 4.8, 10.1, 16.3, 16.5, 16.9, 17.3, 17.7, 17.8, 17.9, 18.0, 18.1, 18.2, 18.3, 18.4, 18.5, 18.6, 19.5, 19.8, 19.9, 20.0, 20.1, 20.2, 20.3, 20.7, 21.5, 21.7, 21.8, 21.9, 22.2, 22.3, 22.4, 22.5, 22.6, 22.7, 22.8, 22.9, 23.5, 23.6, 33.9, 34.0, 34.1, 34.2, 34.3, 34.4, 34.6, 34.7, 34.8, 34.9, 35.0, 35.1, 35.2, 35.3, 36.4, 36.5, 37.6, 37.7, 37.9, 38.0, 38.2, 39.3, 39.4, 39.5, 40.9, 29.4, 31.3, 31.7, 32.0, 32.2, 32.3, 32.4, 32.5, 32.6, 32.7, 42.0, 42.1, 42.2, 42.3, 42.4, 42.5, 42.6, 42.7, 42.8, 43.0, 43.1, 43.2, 43.3, 43.5, 43.8, 43.9, 52.1, 52.2, 52.3, 52.4, 52.5, 52.6, 52.7, 53.1, 53.4, 53.5, 53.6, 53.7, 53.8, 55.4, 55.5, 55.6, 56.5, 56.7, 56.8, 56.9, 58.4, 60.4, 60.5, 60.6, 60.7, 60.8, 60.9]\n",
      "202\n",
      "2018-08-19-02-22-40\n",
      "----------------------------------\n",
      "2018-08-19-19-50-14 2477.0 0.09999990463256836\n",
      "21.0\n",
      "2018-08-19-19-50-14 2018-08-19-19-50-34 2018-08-19-19-50-14 2018-08-19-19-50-14\n",
      "[0.0, 0.1, 0.2, 0.3, 0.4, 0.5, 0.7, 0.8, 0.9, 1.0, 1.1, 1.2, 1.3, 1.4, 1.5, 1.6, 1.7, 1.8, 1.9, 2.0, 2.1, 2.2, 2.3, 2.4, 2.5, 2.6, 2.7, 2.8, 2.9, 3.0, 3.1, 3.2, 3.3, 3.4, 3.5, 3.6, 3.7, 3.8, 3.9, 4.0, 4.1, 4.2, 4.3, 4.4, 4.5, 4.6, 4.7, 4.8, 4.9, 5.0, 5.1, 5.2, 5.3, 5.4, 5.5, 5.6, 5.7, 5.8, 5.9, 6.0, 6.1, 6.2, 6.3, 6.4, 6.5, 6.6, 6.7, 6.8, 6.9, 7.0, 7.1, 7.2, 7.3, 7.4, 7.5, 7.6, 7.7, 7.8, 7.9, 8.0, 8.1, 8.2, 8.3, 8.4, 8.5, 8.6, 8.7, 8.8, 8.9, 9.0, 9.1, 9.2, 9.3, 9.4, 9.5, 9.6, 9.7, 9.8, 9.9, 10.0, 10.1, 10.2, 10.3, 10.4, 10.5, 10.6, 10.7, 10.8, 10.9, 11.0, 11.1, 11.2, 11.3, 11.4, 11.5, 11.6, 11.7, 11.8, 11.9, 12.0, 12.1, 12.2, 12.3, 12.4, 12.5, 12.6, 12.7, 12.8, 12.9, 13.0, 13.1, 13.2, 13.3, 13.4, 13.5, 13.6, 13.7, 13.8, 13.9, 14.0, 14.1, 14.2, 14.3, 14.4, 14.5, 14.6, 14.7, 14.8, 14.9, 15.0, 15.1, 15.2, 15.3, 15.4, 15.5, 15.6, 15.7, 15.8, 15.9, 16.0, 16.1, 16.2, 16.3, 16.4, 16.5, 16.6, 16.7, 16.8, 16.9, 17.0, 17.1, 17.2, 17.3, 17.4, 17.5, 17.6, 17.7, 17.8, 17.9, 18.0, 18.1, 18.2, 18.3, 18.4, 18.5, 18.6, 18.7, 18.8, 18.9, 19.0, 19.1, 19.2, 19.3, 19.4, 19.5, 19.6, 19.7, 19.8, 19.9, 20.0, 20.1, 20.2, 20.3, 20.4, 20.5, 20.6, 20.7, 20.8, 20.9]\n",
      "219\n",
      "2018-08-19-19-50-35\n",
      "----------------------------------\n",
      "2018-08-19-19-50-14 2477.0 0.09999990463256836\n",
      "42.0\n",
      "2018-08-19-19-50-14 2018-08-19-19-50-55 2018-08-19-19-50-14 2018-08-19-19-50-35\n",
      "[0.0, 0.1, 0.2, 0.3, 0.4, 0.5, 0.7, 0.8, 0.9, 1.0, 1.1, 1.2, 1.3, 1.4, 1.5, 1.6, 1.7, 1.8, 1.9, 2.0, 2.1, 2.2, 2.3, 2.4, 2.5, 2.6, 2.7, 2.8, 2.9, 3.0, 3.1, 3.2, 3.3, 3.4, 3.5, 3.6, 3.7, 3.8, 3.9, 4.0, 4.1, 4.2, 4.3, 4.4, 4.5, 4.6, 4.7, 4.8, 4.9, 5.0, 5.1, 5.2, 5.3, 5.4, 5.5, 5.6, 5.7, 5.8, 5.9, 6.0, 6.1, 6.2, 6.3, 6.4, 6.5, 6.6, 6.7, 6.8, 6.9, 7.0, 7.1, 7.2, 7.3, 7.4, 7.5, 7.6, 7.7, 7.8, 7.9, 8.0, 8.1, 8.2, 8.3, 8.4, 8.5, 8.6, 8.7, 8.8, 8.9, 9.0, 9.1, 9.2, 9.3, 9.4, 9.5, 9.6, 9.7, 9.8, 9.9, 10.0, 10.1, 10.2, 10.3, 10.4, 10.5, 10.6, 10.7, 10.8, 10.9, 11.0, 11.1, 11.2, 11.3, 11.4, 11.5, 11.6, 11.7, 11.8, 11.9, 12.0, 12.1, 12.2, 12.3, 12.4, 12.5, 12.6, 12.7, 12.8, 12.9, 13.0, 13.1, 13.2, 13.3, 13.4, 13.5, 13.6, 13.7, 13.8, 13.9, 14.0, 14.1, 14.2, 14.3, 14.4, 14.5, 14.6, 14.7, 14.8, 14.9, 15.0, 15.1, 15.2, 15.3, 15.4, 15.5, 15.6, 15.7, 15.8, 15.9, 16.0, 16.1, 16.2, 16.3, 16.4, 16.5, 16.6, 16.7, 16.8, 16.9, 17.0, 17.1, 17.2, 17.3, 17.4, 17.5, 17.6, 17.7, 17.8, 17.9, 18.0, 18.1, 18.2, 18.3, 18.4, 18.5, 18.6, 18.7, 18.8, 18.9, 19.0, 19.1, 19.2, 19.3, 19.4, 19.5, 19.6, 19.7, 19.8, 19.9, 20.0, 20.1, 20.2, 20.3, 20.4, 20.5, 20.6, 20.7, 20.8, 20.9, 21.0, 21.1, 21.2, 21.3, 21.4, 21.5, 21.6, 21.7, 21.8, 21.9, 22.0, 22.1, 22.2, 22.3, 22.4, 22.5, 22.6, 22.7, 22.8, 22.9, 23.0, 23.1, 23.2, 23.3, 23.4, 23.5, 23.6, 23.7, 23.8, 23.9, 24.0, 24.1, 24.2, 24.3, 24.4, 24.5, 24.6, 24.7, 24.8, 24.9, 25.0, 25.1, 25.2, 25.3, 25.4, 25.5, 25.6, 25.7, 25.8, 25.9, 26.0, 26.1, 26.2, 26.3, 26.4, 26.5, 26.6, 26.7, 26.8, 26.9, 27.0, 27.1, 27.2, 27.3, 27.4, 27.5, 27.6, 27.7, 27.8, 27.9, 28.0, 28.1, 28.2, 28.3, 28.4, 28.5, 28.6, 28.7, 28.8, 28.9, 29.0, 29.1, 29.2, 29.3, 29.4, 29.5, 29.6, 29.7, 29.8, 29.9, 30.0, 30.1, 30.2, 30.3, 30.4, 30.5, 30.6, 30.7, 30.8, 30.9, 31.0, 31.1, 31.2, 31.3, 31.4, 31.5, 31.6, 31.7, 31.8, 31.9, 32.0, 32.1, 32.2, 32.3, 32.4, 32.5, 32.6, 32.7, 32.8, 32.9, 33.0, 33.1, 33.2, 33.3, 33.4, 33.5, 33.6, 33.7, 33.8, 33.9, 34.0, 34.1, 34.2, 34.3, 34.4, 34.5, 34.6, 34.7, 34.8, 34.9, 35.0, 35.1, 35.2, 35.3, 35.4, 35.5, 35.6, 35.7, 35.8, 35.9, 36.0, 36.1, 36.2, 36.3, 36.4, 36.5, 36.6, 36.7, 36.8, 36.9, 37.0, 37.1, 37.2, 37.3, 37.4, 37.5, 37.6, 37.7, 37.8, 37.9, 38.0, 38.1, 38.2, 38.3, 38.4, 38.5, 38.6, 38.7, 38.8, 38.9, 39.0, 39.1, 39.2, 39.3, 39.4, 39.5, 39.6, 39.7, 39.8, 39.9, 40.0, 40.1, 40.2, 40.3, 40.4, 40.5, 40.6, 40.7, 40.8, 40.9, 41.0, 41.1, 41.2, 41.3, 41.4, 41.5, 41.6, 41.7, 41.8, 41.9]\n",
      "219\n",
      "2018-08-19-19-50-56\n",
      "----------------------------------\n"
     ]
    }
   ],
   "source": [
    "tracks_ml = merge_tracks(tracks_ml, verbose=True)"
   ]
  },
  {
   "cell_type": "code",
   "execution_count": 7,
   "metadata": {
    "ExecuteTime": {
     "end_time": "2019-03-18T10:02:03.172942Z",
     "start_time": "2019-03-18T10:02:03.146040Z"
    }
   },
   "outputs": [
    {
     "ename": "NameError",
     "evalue": "name 'tracks_ml' is not defined",
     "output_type": "error",
     "traceback": [
      "\u001b[0;31m---------------------------------------------------------------------------\u001b[0m",
      "\u001b[0;31mNameError\u001b[0m                                 Traceback (most recent call last)",
      "\u001b[0;32m<ipython-input-7-b80ea30f4eb8>\u001b[0m in \u001b[0;36m<module>\u001b[0;34m()\u001b[0m\n\u001b[0;32m----> 1\u001b[0;31m \u001b[0mlen\u001b[0m\u001b[0;34m(\u001b[0m\u001b[0mtracks_ml\u001b[0m\u001b[0;34m)\u001b[0m\u001b[0;34m\u001b[0m\u001b[0;34m\u001b[0m\u001b[0m\n\u001b[0m",
      "\u001b[0;31mNameError\u001b[0m: name 'tracks_ml' is not defined"
     ]
    }
   ],
   "source": [
    "len(tracks_ml)"
   ]
  },
  {
   "cell_type": "code",
   "execution_count": 84,
   "metadata": {
    "ExecuteTime": {
     "end_time": "2019-03-15T16:05:59.296748Z",
     "start_time": "2019-03-15T16:05:59.286193Z"
    },
    "collapsed": true
   },
   "outputs": [],
   "source": [
    "# get all tracks where bee_id and videostart_time or bee_id and video_endtime is the same\n",
    "\n",
    "# first merge only by video_start time for in direction,\n",
    "t = pd.merge(tracks_ml,test_data[['bee_id','in_direction','video_start_time']], on=['bee_id','video_start_time'], how='inner')"
   ]
  },
  {
   "cell_type": "code",
   "execution_count": 85,
   "metadata": {
    "ExecuteTime": {
     "end_time": "2019-03-15T16:06:00.314186Z",
     "start_time": "2019-03-15T16:06:00.308636Z"
    }
   },
   "outputs": [
    {
     "data": {
      "text/plain": [
       "70"
      ]
     },
     "execution_count": 85,
     "metadata": {},
     "output_type": "execute_result"
    }
   ],
   "source": [
    "len(t)"
   ]
  },
  {
   "cell_type": "code",
   "execution_count": 86,
   "metadata": {
    "ExecuteTime": {
     "end_time": "2019-03-15T16:06:41.679934Z",
     "start_time": "2019-03-15T16:06:41.657210Z"
    }
   },
   "outputs": [
    {
     "data": {
      "text/plain": [
       "69"
      ]
     },
     "execution_count": 86,
     "metadata": {},
     "output_type": "execute_result"
    }
   ],
   "source": [
    "t2 = pd.merge(tracks_ml,test_data[['bee_id','out_direction','video_end_time']], on=['bee_id','video_end_time'], how='inner')\n",
    "len(t2)"
   ]
  },
  {
   "cell_type": "code",
   "execution_count": 24,
   "metadata": {
    "ExecuteTime": {
     "end_time": "2019-03-15T13:56:04.197803Z",
     "start_time": "2019-03-15T13:56:04.161950Z"
    }
   },
   "outputs": [
    {
     "data": {
      "text/plain": [
       "64"
      ]
     },
     "execution_count": 24,
     "metadata": {},
     "output_type": "execute_result"
    }
   ],
   "source": [
    "# then merge by video end time for out direction\n",
    "t2 = pd.merge(t,test_data[['bee_id','out_direction','video_end_time']], on=['bee_id','video_end_time'], how='inner')\n",
    "len(t2)"
   ]
  },
  {
   "cell_type": "code",
   "execution_count": 97,
   "metadata": {
    "ExecuteTime": {
     "end_time": "2019-03-15T16:12:52.007396Z",
     "start_time": "2019-03-15T16:12:52.001833Z"
    }
   },
   "outputs": [
    {
     "data": {
      "text/plain": [
       "0.4011627906976744"
      ]
     },
     "execution_count": 97,
     "metadata": {},
     "output_type": "execute_result"
    }
   ],
   "source": [
    "69/172"
   ]
  },
  {
   "cell_type": "markdown",
   "metadata": {},
   "source": [
    "# Get labels from test_set"
   ]
  },
  {
   "cell_type": "code",
   "execution_count": 67,
   "metadata": {
    "ExecuteTime": {
     "end_time": "2019-03-15T14:33:31.228524Z",
     "start_time": "2019-03-15T14:33:30.843310Z"
    },
    "collapsed": true
   },
   "outputs": [],
   "source": [
    "# read in the test data csv\n",
    "test_data = pd.read_csv('bees_test.csv')\n",
    "\n",
    "# convert the full filenames to string timestamps, and sort by timestamp_in\n",
    "test_data['video'] = test_data['video'].apply(lambda x: filename_to_datestring(x))\n",
    "test_data['video_start_time'] = test_data['timestamp_in'].apply(lambda x: filename_to_datestring(x))\n",
    "test_data['video_end_time'] = test_data['timestamp_out'].apply(lambda x: filename_to_datestring(x))\n",
    "test_data.sort_values(['video_start_time'], inplace=True)\n",
    "\n",
    "test_data.drop('timestamp_in', 1, inplace=True)\n",
    "test_data.drop('timestamp_out', 1, inplace=True)\n",
    "test_data.drop('video', 1, inplace=True)\n",
    "\n",
    "# get all tracks where bee_id, videio_start_time and video_end_time are the same\n",
    "tracks_ml = pd.merge(tracks_ml,test_data,how='inner',on=['bee_id','video_start_time','video_end_time'])\n",
    "\n",
    "# we only look at tracks where  in_direction and out_direction are different\n",
    "tracks_ml = tracks_ml[(tracks_ml['in_direction'] != tracks_ml['out_direction'])]\n",
    "\n",
    "# we assing movement based on in_ and out_directoin\n",
    "tracks_ml.loc[(tracks_ml['in_direction'] == 'left') & (tracks_ml['out_direction'] == 'right'),'movement'] = 1\n",
    "tracks_ml.loc[(tracks_ml['in_direction'] == 'right') & (tracks_ml['out_direction'] == 'left'),'movement'] = 0\n",
    "\n",
    "tracks_ml.drop('in_direction', 1, inplace=True)\n",
    "tracks_ml.drop('out_direction', 1, inplace=True)\n",
    "\n",
    "tracks_ml = tracks_ml['bee_id', 'xpos', 'ypos', 'zrotation', 'timestamps', 'video_start_time', 'video_end_time', 'track_start_time', 'track_end_time', 'video',\n",
    "       'movement']"
   ]
  },
  {
   "cell_type": "code",
   "execution_count": 70,
   "metadata": {
    "ExecuteTime": {
     "end_time": "2019-03-15T14:56:55.711799Z",
     "start_time": "2019-03-15T14:56:55.706176Z"
    }
   },
   "outputs": [
    {
     "data": {
      "text/plain": [
       "Index(['bee_id', 'xpos', 'ypos', 'timestamps', 'zrotation', 'video_start_time',\n",
       "       'track_start_time', 'track_end_time', 'video_end_time', 'video',\n",
       "       'movement'],\n",
       "      dtype='object')"
      ]
     },
     "execution_count": 70,
     "metadata": {},
     "output_type": "execute_result"
    }
   ],
   "source": [
    "tracks_ml.columns"
   ]
  },
  {
   "cell_type": "code",
   "execution_count": 69,
   "metadata": {
    "ExecuteTime": {
     "end_time": "2019-03-15T14:33:33.742270Z",
     "start_time": "2019-03-15T14:33:33.719271Z"
    }
   },
   "outputs": [
    {
     "data": {
      "text/html": [
       "<div>\n",
       "<style scoped>\n",
       "    .dataframe tbody tr th:only-of-type {\n",
       "        vertical-align: middle;\n",
       "    }\n",
       "\n",
       "    .dataframe tbody tr th {\n",
       "        vertical-align: top;\n",
       "    }\n",
       "\n",
       "    .dataframe thead th {\n",
       "        text-align: right;\n",
       "    }\n",
       "</style>\n",
       "<table border=\"1\" class=\"dataframe\">\n",
       "  <thead>\n",
       "    <tr style=\"text-align: right;\">\n",
       "      <th></th>\n",
       "      <th>bee_id</th>\n",
       "      <th>xpos</th>\n",
       "      <th>ypos</th>\n",
       "      <th>timestamps</th>\n",
       "      <th>zrotation</th>\n",
       "      <th>video_start_time</th>\n",
       "      <th>track_start_time</th>\n",
       "      <th>track_end_time</th>\n",
       "      <th>video_end_time</th>\n",
       "      <th>video</th>\n",
       "      <th>movement</th>\n",
       "    </tr>\n",
       "  </thead>\n",
       "  <tbody>\n",
       "    <tr>\n",
       "      <th>0</th>\n",
       "      <td>220.0</td>\n",
       "      <td>[587.6349468231201, 577.2753982543945, 589.496...</td>\n",
       "      <td>[123.45260810852051, 125.9588794708252, 138.67...</td>\n",
       "      <td>[0.4, 14.0, 14.1, 14.2, 14.3, 14.4, 14.5, 14.6...</td>\n",
       "      <td>[-2.787043, 0.020939333, -0.15247042, 0.053603...</td>\n",
       "      <td>2018-08-19-05-25-51</td>\n",
       "      <td>1.534649e+09</td>\n",
       "      <td>1.534649e+09</td>\n",
       "      <td>2018-08-19-05-25-51</td>\n",
       "      <td>2018-08-19-05-25-51</td>\n",
       "      <td>1.0</td>\n",
       "    </tr>\n",
       "    <tr>\n",
       "      <th>4</th>\n",
       "      <td>388.0</td>\n",
       "      <td>[1375.2675552368164, 1313.4858207702634, 1225....</td>\n",
       "      <td>[239.0948257446289, 238.7294406890869, 237.849...</td>\n",
       "      <td>[0.3, 0.4, 0.5, 0.6, 0.7, 0.8, 0.9, 1.0, 1.1]</td>\n",
       "      <td>[2.9390156000000003, 2.9522842999999996, -2.97...</td>\n",
       "      <td>2018-08-19-08-29-06</td>\n",
       "      <td>1.534660e+09</td>\n",
       "      <td>1.534660e+09</td>\n",
       "      <td>2018-08-19-08-29-06</td>\n",
       "      <td>2018-08-19-08-29-06</td>\n",
       "      <td>0.0</td>\n",
       "    </tr>\n",
       "    <tr>\n",
       "      <th>5</th>\n",
       "      <td>420.0</td>\n",
       "      <td>[1075.0250930786133, 637.5782222747803, 538.01...</td>\n",
       "      <td>[187.6749038696289, 211.6030120849609, 210.762...</td>\n",
       "      <td>[13.6, 14.0, 14.1, 14.2]</td>\n",
       "      <td>[2.9731865, 2.9255147, 2.7518196, 2.5865266]</td>\n",
       "      <td>2018-08-19-09-48-00</td>\n",
       "      <td>1.534665e+09</td>\n",
       "      <td>1.534665e+09</td>\n",
       "      <td>2018-08-19-09-48-00</td>\n",
       "      <td>2018-08-19-09-48-00</td>\n",
       "      <td>0.0</td>\n",
       "    </tr>\n",
       "    <tr>\n",
       "      <th>6</th>\n",
       "      <td>446.0</td>\n",
       "      <td>[477.1684074401856, 526.4452629089354, 601.512...</td>\n",
       "      <td>[151.28521347045896, 152.16980743408203, 138.8...</td>\n",
       "      <td>[20.6, 20.7, 20.9, 21.0, 21.1, 21.2, 21.3, 21....</td>\n",
       "      <td>[0.029027572, 0.03262988, 0.072178215]</td>\n",
       "      <td>2018-08-19-09-47-39</td>\n",
       "      <td>1.534665e+09</td>\n",
       "      <td>1.534665e+09</td>\n",
       "      <td>2018-08-19-09-48-00</td>\n",
       "      <td>2018-08-19-09-48-00</td>\n",
       "      <td>1.0</td>\n",
       "    </tr>\n",
       "    <tr>\n",
       "      <th>7</th>\n",
       "      <td>475.0</td>\n",
       "      <td>[526.7946376800537, 563.8891906738281, 638.246...</td>\n",
       "      <td>[139.16316413879395, 139.3912754058838, 139.43...</td>\n",
       "      <td>[4.2, 4.3, 4.4, 4.5, 4.6, 4.7, 4.8, 4.9, 5.0, ...</td>\n",
       "      <td>[0.056613013, 0.28731626, 0.3744915, 0.1337887...</td>\n",
       "      <td>2018-08-19-14-45-46</td>\n",
       "      <td>1.534683e+09</td>\n",
       "      <td>1.534683e+09</td>\n",
       "      <td>2018-08-19-14-45-46</td>\n",
       "      <td>2018-08-19-14-45-46</td>\n",
       "      <td>1.0</td>\n",
       "    </tr>\n",
       "  </tbody>\n",
       "</table>\n",
       "</div>"
      ],
      "text/plain": [
       "   bee_id                                               xpos  \\\n",
       "0   220.0  [587.6349468231201, 577.2753982543945, 589.496...   \n",
       "4   388.0  [1375.2675552368164, 1313.4858207702634, 1225....   \n",
       "5   420.0  [1075.0250930786133, 637.5782222747803, 538.01...   \n",
       "6   446.0  [477.1684074401856, 526.4452629089354, 601.512...   \n",
       "7   475.0  [526.7946376800537, 563.8891906738281, 638.246...   \n",
       "\n",
       "                                                ypos  \\\n",
       "0  [123.45260810852051, 125.9588794708252, 138.67...   \n",
       "4  [239.0948257446289, 238.7294406890869, 237.849...   \n",
       "5  [187.6749038696289, 211.6030120849609, 210.762...   \n",
       "6  [151.28521347045896, 152.16980743408203, 138.8...   \n",
       "7  [139.16316413879395, 139.3912754058838, 139.43...   \n",
       "\n",
       "                                          timestamps  \\\n",
       "0  [0.4, 14.0, 14.1, 14.2, 14.3, 14.4, 14.5, 14.6...   \n",
       "4      [0.3, 0.4, 0.5, 0.6, 0.7, 0.8, 0.9, 1.0, 1.1]   \n",
       "5                           [13.6, 14.0, 14.1, 14.2]   \n",
       "6  [20.6, 20.7, 20.9, 21.0, 21.1, 21.2, 21.3, 21....   \n",
       "7  [4.2, 4.3, 4.4, 4.5, 4.6, 4.7, 4.8, 4.9, 5.0, ...   \n",
       "\n",
       "                                           zrotation     video_start_time  \\\n",
       "0  [-2.787043, 0.020939333, -0.15247042, 0.053603...  2018-08-19-05-25-51   \n",
       "4  [2.9390156000000003, 2.9522842999999996, -2.97...  2018-08-19-08-29-06   \n",
       "5       [2.9731865, 2.9255147, 2.7518196, 2.5865266]  2018-08-19-09-48-00   \n",
       "6             [0.029027572, 0.03262988, 0.072178215]  2018-08-19-09-47-39   \n",
       "7  [0.056613013, 0.28731626, 0.3744915, 0.1337887...  2018-08-19-14-45-46   \n",
       "\n",
       "   track_start_time  track_end_time       video_end_time                video  \\\n",
       "0      1.534649e+09    1.534649e+09  2018-08-19-05-25-51  2018-08-19-05-25-51   \n",
       "4      1.534660e+09    1.534660e+09  2018-08-19-08-29-06  2018-08-19-08-29-06   \n",
       "5      1.534665e+09    1.534665e+09  2018-08-19-09-48-00  2018-08-19-09-48-00   \n",
       "6      1.534665e+09    1.534665e+09  2018-08-19-09-48-00  2018-08-19-09-48-00   \n",
       "7      1.534683e+09    1.534683e+09  2018-08-19-14-45-46  2018-08-19-14-45-46   \n",
       "\n",
       "   movement  \n",
       "0       1.0  \n",
       "4       0.0  \n",
       "5       0.0  \n",
       "6       1.0  \n",
       "7       1.0  "
      ]
     },
     "execution_count": 69,
     "metadata": {},
     "output_type": "execute_result"
    }
   ],
   "source": [
    "tracks_ml.head()"
   ]
  },
  {
   "cell_type": "code",
   "execution_count": 59,
   "metadata": {
    "ExecuteTime": {
     "end_time": "2019-03-15T14:26:38.625757Z",
     "start_time": "2019-03-15T14:26:38.605904Z"
    }
   },
   "outputs": [
    {
     "ename": "TypeError",
     "evalue": "'str' object does not support item assignment",
     "output_type": "error",
     "traceback": [
      "\u001b[0;31m---------------------------------------------------------------------------\u001b[0m",
      "\u001b[0;31mTypeError\u001b[0m                                 Traceback (most recent call last)",
      "\u001b[0;32m<ipython-input-59-adec12f59a81>\u001b[0m in \u001b[0;36m<module>\u001b[0;34m()\u001b[0m\n\u001b[1;32m      4\u001b[0m \u001b[0;34m\u001b[0m\u001b[0m\n\u001b[1;32m      5\u001b[0m \u001b[0;34m\u001b[0m\u001b[0m\n\u001b[0;32m----> 6\u001b[0;31m \u001b[0mx\u001b[0m\u001b[0;34m[\u001b[0m\u001b[0;36m1\u001b[0m\u001b[0;34m]\u001b[0m \u001b[0;34m=\u001b[0m \u001b[0;36m0\u001b[0m\u001b[0;34m\u001b[0m\u001b[0;34m\u001b[0m\u001b[0m\n\u001b[0m\u001b[1;32m      7\u001b[0m \u001b[0mprint\u001b[0m\u001b[0;34m(\u001b[0m\u001b[0my\u001b[0m\u001b[0;34m)\u001b[0m\u001b[0;34m\u001b[0m\u001b[0;34m\u001b[0m\u001b[0m\n",
      "\u001b[0;31mTypeError\u001b[0m: 'str' object does not support item assignment"
     ]
    }
   ],
   "source": [
    "\n",
    "x = \"left\"\n",
    "y = \"left\"\n",
    "\n",
    "\n",
    "x[1] = 0\n",
    "print(y)"
   ]
  },
  {
   "cell_type": "code",
   "execution_count": 48,
   "metadata": {
    "ExecuteTime": {
     "end_time": "2019-03-15T14:18:45.204889Z",
     "start_time": "2019-03-15T14:18:45.199022Z"
    }
   },
   "outputs": [
    {
     "data": {
      "text/plain": [
       "62"
      ]
     },
     "execution_count": 48,
     "metadata": {},
     "output_type": "execute_result"
    }
   ],
   "source": [
    "len(tracks_ml)"
   ]
  },
  {
   "cell_type": "code",
   "execution_count": null,
   "metadata": {
    "ExecuteTime": {
     "end_time": "2019-03-12T16:40:24.088431Z",
     "start_time": "2019-03-12T16:40:24.076516Z"
    },
    "collapsed": true
   },
   "outputs": [],
   "source": [
    "# create a featur vector for ML\n",
    "# columns for output: bee_id, time_in, time_out, os_in, os_out, in_direction, out_direction\n",
    "# feature_columns: timestamp_in, duration, in_z_rotation, out_z_rotation, in_coordinate, out_coordinate, n_detections\n",
    "\n",
    "# get time_in and time_out\n",
    "t = tracks_ml.iloc[0]"
   ]
  },
  {
   "cell_type": "code",
   "execution_count": null,
   "metadata": {
    "ExecuteTime": {
     "end_time": "2019-03-12T16:40:21.315140Z",
     "start_time": "2019-03-12T16:40:21.302170Z"
    },
    "collapsed": true
   },
   "outputs": [],
   "source": [
    "tracks_ml['video_start'] = tracks_ml['video_start_time'].apply(lambda x: timestamp_to_string(round(x)))\n",
    "tracks_ml['start_time'] = tracks_ml['start_time'].apply(lambda x: timestamp_to_string(round(x)))\n",
    "tracks_ml['end_time'] = tracks_ml['end_time'].apply(lambda x: timestamp_to_string(round(x)))"
   ]
  },
  {
   "cell_type": "code",
   "execution_count": null,
   "metadata": {
    "ExecuteTime": {
     "end_time": "2019-03-12T16:41:46.663357Z",
     "start_time": "2019-03-12T16:41:46.656531Z"
    },
    "collapsed": true
   },
   "outputs": [],
   "source": [
    "t['video_start_time'], t['start_time']"
   ]
  },
  {
   "cell_type": "code",
   "execution_count": null,
   "metadata": {
    "ExecuteTime": {
     "end_time": "2019-03-12T16:41:09.285799Z",
     "start_time": "2019-03-12T16:41:09.276572Z"
    },
    "collapsed": true
   },
   "outputs": [],
   "source": [
    "get_videos_between(t['video_start_time'], t['end_time'])"
   ]
  },
  {
   "cell_type": "code",
   "execution_count": null,
   "metadata": {
    "collapsed": true
   },
   "outputs": [],
   "source": []
  },
  {
   "cell_type": "markdown",
   "metadata": {},
   "source": [
    "there is a problem in bb_behaviour: the timestamps always start at 00, this means it is possible that timestamps are not monotonic ascending\n",
    "\n",
    "TODO: first clamp timestamps: so that last timestamps are floored\n",
    "```   \n",
    "timestamps = timestamps + time_start_video\n",
    "timestamps = clamp(timestamps,0,floor(timestamps))\n",
    "timestamps = timestamps - time_start_video\n",
    "```\n",
    "then some timestamps are double, but this is not a problem?"
   ]
  },
  {
   "cell_type": "code",
   "execution_count": null,
   "metadata": {
    "ExecuteTime": {
     "end_time": "2019-03-12T14:16:27.608843Z",
     "start_time": "2019-03-12T14:16:27.598551Z"
    },
    "collapsed": true
   },
   "outputs": [],
   "source": [
    "len(all_videos)"
   ]
  },
  {
   "cell_type": "code",
   "execution_count": 73,
   "metadata": {
    "ExecuteTime": {
     "end_time": "2019-03-15T15:29:58.268972Z",
     "start_time": "2019-03-15T15:29:58.261017Z"
    },
    "collapsed": true
   },
   "outputs": [],
   "source": [
    "import random"
   ]
  },
  {
   "cell_type": "code",
   "execution_count": 78,
   "metadata": {
    "ExecuteTime": {
     "end_time": "2019-03-15T15:30:44.694045Z",
     "start_time": "2019-03-15T15:30:44.688749Z"
    }
   },
   "outputs": [
    {
     "data": {
      "text/plain": [
       "0"
      ]
     },
     "execution_count": 78,
     "metadata": {},
     "output_type": "execute_result"
    }
   ],
   "source": [
    "random.randint(0,1)"
   ]
  },
  {
   "cell_type": "code",
   "execution_count": null,
   "metadata": {
    "collapsed": true
   },
   "outputs": [],
   "source": []
  }
 ],
 "metadata": {
  "kernelspec": {
   "display_name": "Python 3",
   "language": "python",
   "name": "python3"
  },
  "language_info": {
   "codemirror_mode": {
    "name": "ipython",
    "version": 3
   },
   "file_extension": ".py",
   "mimetype": "text/x-python",
   "name": "python",
   "nbconvert_exporter": "python",
   "pygments_lexer": "ipython3",
   "version": "3.6.8"
  },
  "toc": {
   "nav_menu": {},
   "number_sections": true,
   "sideBar": true,
   "skip_h1_title": false,
   "title_cell": "Table of Contents",
   "title_sidebar": "Contents",
   "toc_cell": false,
   "toc_position": {},
   "toc_section_display": true,
   "toc_window_display": true
  },
  "varInspector": {
   "cols": {
    "lenName": 16,
    "lenType": 16,
    "lenVar": 40
   },
   "kernels_config": {
    "python": {
     "delete_cmd_postfix": "",
     "delete_cmd_prefix": "del ",
     "library": "var_list.py",
     "varRefreshCmd": "print(var_dic_list())"
    },
    "r": {
     "delete_cmd_postfix": ") ",
     "delete_cmd_prefix": "rm(",
     "library": "var_list.r",
     "varRefreshCmd": "cat(var_dic_list()) "
    }
   },
   "types_to_exclude": [
    "module",
    "function",
    "builtin_function_or_method",
    "instance",
    "_Feature"
   ],
   "window_display": false
  }
 },
 "nbformat": 4,
 "nbformat_minor": 2
}
