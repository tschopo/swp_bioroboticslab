{
 "cells": [
  {
   "cell_type": "markdown",
   "metadata": {
    "ExecuteTime": {
     "end_time": "2019-03-07T16:40:52.696458Z",
     "start_time": "2019-03-07T16:40:52.688866Z"
    }
   },
   "source": [
    "# Compare-Algorithm"
   ]
  },
  {
   "cell_type": "code",
   "execution_count": 1,
   "metadata": {},
   "outputs": [],
   "source": [
    "\"\"\" \n",
    "Precondition:\n",
    "Fetch computed data and GroundTruthData from generated csv files and store in dictionaries.\n",
    "\"\"\"\n",
    "\n",
    "# read data from GroundTruthData.csv files\n",
    "import csv\n",
    "# use Dictionary to store data we want to compare\n",
    "dicManually = {} # key - List\n",
    "dicAutomated = {} # key - List\n",
    "\n",
    "# fetching data from MaschineLearnedData.csv file \n",
    "with open(\"MaschineLearnedData.csv\", \"r\") as testFile:\n",
    "    \"\"\" fetch all data from csv file to store in dicAutomated for better search and use \"\"\"\n",
    "    reader = csv.DictReader(testFile)\n",
    "    for row in reader:\n",
    "        # store video in dicAutomated\n",
    "        if not (row['video'] in dicAutomated):\n",
    "            # add video to dic with his bees\n",
    "            dicAutomated[row['video']] = [[row['bee_id'], row['in_direction'], row['out_direction'], row['timestamp_in'], row['timestamp_out']]]\n",
    "        else:\n",
    "            #add other bees to the video key\n",
    "            dicAutomated[row['video']].append([row['bee_id'], row['in_direction'], row['out_direction'], row['timestamp_in'], row['timestamp_out']])\n",
    "\n",
    "# fetching data from GroundTruthData.csv\n",
    "with open(\"GroundTruthData.csv\", \"r\") as testFile:\n",
    "    \"\"\" fetch all data from csv file to store in diManually for better search and use \"\"\"\n",
    "    reader = csv.DictReader(testFile)\n",
    "    for row in reader:\n",
    "        # check row has an bee_id -> if nor go to next row\n",
    "        if (row['bee_id'] != \"\"):\n",
    "            # store video in dicManually \n",
    "            if not (row['video'] in dicManually):\n",
    "                # add video to dic with his bees\n",
    "                dicManually[row['video']] = [[row['bee_id'], row['in_direction'], row['out_direction'], row['timestamp_in'], row['timestamp_out']]]\n",
    "            else:\n",
    "                #add other bees to the video key\n",
    "                dicManually[row['video']].append([row['bee_id'], row['in_direction'], row['out_direction'], row['timestamp_in'], row['timestamp_out']])\n",
    "        else:\n",
    "            continue\n",
    "            "
   ]
  },
  {
   "cell_type": "code",
   "execution_count": 2,
   "metadata": {},
   "outputs": [],
   "source": [
    "\"\"\" Compare input of MaschineLearnedData.csv with GroundTruthData.csv to get just compareable tracks \"\"\"\n",
    "\n",
    "# delete values which are not included in dicAutomated\n",
    "for msData in list(dicManually):\n",
    "    if not (msData in dicAutomated):\n",
    "        dicManually.pop(msData)\n",
    "        \n",
    "# delete values which are noch included in dicManually\n",
    "for msData in list(dicAutomated):\n",
    "    if not (msData in dicManually):\n",
    "        dicAutomated.pop(msData)"
   ]
  },
  {
   "cell_type": "markdown",
   "metadata": {},
   "source": [
    "\"\"\" print video-match \"\"\" \n",
    "print(len(dicManually))\n",
    "print(len(dicAutomated))\n"
   ]
  },
  {
   "cell_type": "code",
   "execution_count": 3,
   "metadata": {},
   "outputs": [],
   "source": [
    "# method to print result to csv\n",
    "def insertCSV(video, bee, mboolean):\n",
    "    attache = 'a'\n",
    "    if not (os.path.isfile('./result.csv')):\n",
    "        attache = 'w'\n",
    "        \n",
    "    with open('result.csv', attache) as csvfile:\n",
    "        filewriter = csv.writer(csvfile, delimiter=',',\n",
    "                                quotechar='|', quoting=csv.QUOTE_MINIMAL)\n",
    "        filewriter.writerow([bee_moves['video'], bee_moves['bee_id'], mboolean])"
   ]
  },
  {
   "cell_type": "code",
   "execution_count": 4,
   "metadata": {},
   "outputs": [
    {
     "name": "stdout",
     "output_type": "stream",
     "text": [
      "96.15 % correctness\n"
     ]
    }
   ],
   "source": [
    "\"\"\" compare data of both dictionaries \"\"\"\n",
    "# take key of dicAutomated as long as it has a value -> if empty list: delete key from dic\n",
    "# kompare key value with key value of dicManually + delete compared key-value of both dic's\n",
    "\n",
    "_correctMatches = 0\n",
    "_allMatches = 0\n",
    "\n",
    "for bee in list(dicAutomated):\n",
    "    while dicAutomated[bee] != []:       \n",
    "        # find data in dicManually and compare data before delete in dicManually\n",
    "        _allMatches += 1\n",
    "        currAutVal = dicAutomated[bee][0]\n",
    "        currManVal = []\n",
    "        \n",
    "        # loop through dicManually Value to find bee_id\n",
    "        inside = False\n",
    "        for beeid in list(dicManually[bee]):\n",
    "            if (beeid[0] == currAutVal[0]):\n",
    "                inside = True\n",
    "                currManVal = beeid\n",
    "                # start easy compare\n",
    "                if (currAutVal[1] == currManVal[1] and currAutVal[2] == currManVal[2]):\n",
    "                        _correctMatches += 1\n",
    "                \n",
    "                \n",
    "        if (inside == False):    \n",
    "            print('Error: No matching bee found!')\n",
    "                \n",
    "        #print(currManVal, \" \\n \" , currAutVal, \"\\n\\n\") # comparable data\n",
    "        del dicAutomated[bee][0]\n",
    "    dicAutomated.pop(bee)\n",
    "    \n",
    "try:\n",
    "    print(round(_correctMatches / _allMatches, 4) * 100, \"% correctness\")\n",
    "except ZeroDivisionError:\n",
    "    print(\"Nothing to compare!\")\n",
    "    "
   ]
  }
 ],
 "metadata": {
  "kernelspec": {
   "display_name": "Python 3",
   "language": "python",
   "name": "python3"
  },
  "language_info": {
   "codemirror_mode": {
    "name": "ipython",
    "version": 3
   },
   "file_extension": ".py",
   "mimetype": "text/x-python",
   "name": "python",
   "nbconvert_exporter": "python",
   "pygments_lexer": "ipython3",
   "version": "3.7.1"
  },
  "toc": {
   "nav_menu": {},
   "number_sections": true,
   "sideBar": true,
   "skip_h1_title": false,
   "title_cell": "Table of Contents",
   "title_sidebar": "Contents",
   "toc_cell": false,
   "toc_position": {},
   "toc_section_display": true,
   "toc_window_display": true
  },
  "varInspector": {
   "cols": {
    "lenName": 16,
    "lenType": 16,
    "lenVar": 40
   },
   "kernels_config": {
    "python": {
     "delete_cmd_postfix": "",
     "delete_cmd_prefix": "del ",
     "library": "var_list.py",
     "varRefreshCmd": "print(var_dic_list())"
    },
    "r": {
     "delete_cmd_postfix": ") ",
     "delete_cmd_prefix": "rm(",
     "library": "var_list.r",
     "varRefreshCmd": "cat(var_dic_list()) "
    }
   },
   "types_to_exclude": [
    "module",
    "function",
    "builtin_function_or_method",
    "instance",
    "_Feature"
   ],
   "window_display": false
  }
 },
 "nbformat": 4,
 "nbformat_minor": 2
}
