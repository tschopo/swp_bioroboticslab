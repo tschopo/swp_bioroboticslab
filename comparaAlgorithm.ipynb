{
 "cells": [
  {
   "cell_type": "markdown",
   "metadata": {
    "ExecuteTime": {
     "end_time": "2019-03-07T16:40:52.696458Z",
     "start_time": "2019-03-07T16:40:52.688866Z"
    }
   },
   "source": [
    "# Compare-Algorithm"
   ]
  },
  {
   "cell_type": "code",
   "execution_count": 401,
   "metadata": {},
   "outputs": [
    {
     "name": "stdout",
     "output_type": "stream",
     "text": [
      "Delete dublication from input.\n",
      "103 entries in GroundTruthData. 44 entries found to compare in MaschineLearnedData.\n",
      "70.0 % total correctness\n",
      "77.0 % Ingoing correctness\n",
      "89.0 % Outgoing correctness\n",
      "78.67 % Average correctness\n",
      "\n",
      "Please check result.csv file or hit 'result' for more details.\n",
      "Check also DataFrames for deeper information: 'mergeTotalCorrect','mergeInCorrect','mergeOutCorrect','mergeableBees' \n"
     ]
    }
   ],
   "source": [
    "import pandas as pd\n",
    "\"\"\" \n",
    "Read in two csv files and store in DataFrames. Merge DataFrames to get get correctnes of \n",
    "total-, in- and out_direction of bees regarding their in_videos and out_videos  \n",
    "\"\"\"\n",
    "\n",
    "# delete existing result.csv file to prevent errors\n",
    "if (os.path.isfile('./result.csv')):\n",
    "    os.remove(\"result.csv\")\n",
    "\n",
    "# store data in dataFrame\n",
    "gtd = pd.read_csv('GroundTruthData.csv')\n",
    "mld = pd.read_csv('MaschineLearnedData.csv')\n",
    "\n",
    "# delete dublications\n",
    "print('Delete dublication from input.')\n",
    "mld = mld.drop_duplicates(['bee_id', 'time_in', 'time_out'], keep='first')\n",
    "gtd = gtd.drop_duplicates(['bee_id', 'time_in', 'time_out'], keep='first')\n",
    "\n",
    "# change DT from float to int to have the same DT like gtd\n",
    "mld.bee_id = mld.bee_id.astype('int32')\n",
    "\n",
    "# merge to get 100% correct matches\n",
    "mergeTotalCorrect = pd.merge(gtd, mld, on=['bee_id', 'time_in', 'time_out', 'in_direction', 'out_direction'], how='inner')\n",
    "#merge to get in_direction correct\n",
    "mergeInDirection = pd.merge(gtd, mld, on=['bee_id', 'time_in', 'in_direction'], how='inner')\n",
    "#merge to get out_direction correct\n",
    "mergeOutDirection = pd.merge(gtd, mld, on=['bee_id', 'time_out', 'out_direction'], how='inner')\n",
    "# merge to get comparable bees to get all found bees\n",
    "mergeableBees = pd.merge(gtd, mld, on=['bee_id', 'time_in', 'time_out'], how='inner')\n",
    "\n",
    "# iterate mergeableBees for visualization\n",
    "result = pd.DataFrame()\n",
    "result['bee_id'] = mergeableBees['bee_id'] \n",
    "result['in_equals'] = mergeableBees['in_direction_x'] == mergeableBees['in_direction_y']\n",
    "result['out_equals'] = mergeableBees['out_direction_x'] == mergeableBees['out_direction_y']\n",
    "\n",
    "# store to result.csv\n",
    "result.to_csv('result.csv', encoding='utf-8', index=False)\n",
    "\n",
    "# calculate statitics\n",
    "inCorrect = round(result['in_equals'].sum()/len(result) * 100)\n",
    "outCorrect = round(result['out_equals'].sum()/len(result) * 100)\n",
    "allCorrect = round((result['in_equals'] == result['out_equals']).sum()/len(result) * 100)\n",
    "\n",
    "# print statistics\n",
    "try:\n",
    "    print(len(gtd), 'entries in GroundTruthData.', len(mergeableBees), 'entries found to compare in MaschineLearnedData.' )\n",
    "    print(allCorrect, \"% total correctness\")\n",
    "    print(inCorrect, \"% Ingoing correctness\")\n",
    "    print(outCorrect, \"% Outgoing correctness\")\n",
    "    print(round(((allCorrect + inCorrect + outCorrect) / 3), 2), \"% Average correctness\")\n",
    "except ZeroDivisionError:\n",
    "    print(\"Nothing to compare!\")\n",
    "\n",
    "# end compare algorithm\n",
    "print('\\nPlease check result.csv file or hit \\'result\\' for more details.')\n",
    "print('Check also DataFrames for deeper information: \\'mergeTotalCorrect\\',\\'mergeInCorrect\\',\\'mergeOutCorrect\\',\\'mergeableBees\\' ')\n"
   ]
  },
  {
   "cell_type": "code",
   "execution_count": null,
   "metadata": {},
   "outputs": [],
   "source": []
  }
 ],
 "metadata": {
  "kernelspec": {
   "display_name": "Python 3",
   "language": "python",
   "name": "python3"
  },
  "language_info": {
   "codemirror_mode": {
    "name": "ipython",
    "version": 3
   },
   "file_extension": ".py",
   "mimetype": "text/x-python",
   "name": "python",
   "nbconvert_exporter": "python",
   "pygments_lexer": "ipython3",
   "version": "3.7.1"
  },
  "toc": {
   "nav_menu": {},
   "number_sections": true,
   "sideBar": true,
   "skip_h1_title": false,
   "title_cell": "Table of Contents",
   "title_sidebar": "Contents",
   "toc_cell": false,
   "toc_position": {},
   "toc_section_display": true,
   "toc_window_display": true
  },
  "varInspector": {
   "cols": {
    "lenName": 16,
    "lenType": 16,
    "lenVar": 40
   },
   "kernels_config": {
    "python": {
     "delete_cmd_postfix": "",
     "delete_cmd_prefix": "del ",
     "library": "var_list.py",
     "varRefreshCmd": "print(var_dic_list())"
    },
    "r": {
     "delete_cmd_postfix": ") ",
     "delete_cmd_prefix": "rm(",
     "library": "var_list.r",
     "varRefreshCmd": "cat(var_dic_list()) "
    }
   },
   "types_to_exclude": [
    "module",
    "function",
    "builtin_function_or_method",
    "instance",
    "_Feature"
   ],
   "window_display": false
  }
 },
 "nbformat": 4,
 "nbformat_minor": 2
}
