{
 "cells": [
  {
   "cell_type": "markdown",
   "metadata": {
    "ExecuteTime": {
     "end_time": "2019-03-07T16:40:52.696458Z",
     "start_time": "2019-03-07T16:40:52.688866Z"
    }
   },
   "source": [
    "# Compare-Algorithm"
   ]
  },
  {
   "cell_type": "code",
   "execution_count": 90,
   "metadata": {},
   "outputs": [],
   "source": [
    "import os\n",
    "\n",
    "def writeToCSV(beeid, indirection, outdirection):\n",
    "    # write to MaschineLearnedData.csv\n",
    "    #print(\"Error: File does not exist!\")\n",
    "    attache = 'a'\n",
    "    if not (os.path.isfile('./result.csv')):\n",
    "        attache = 'w'\n",
    "        with open('result.csv', attache) as csvfile:\n",
    "            filewriter = csv.writer(csvfile, delimiter=',', quotechar='\\\"', quoting=csv.QUOTE_MINIMAL)\n",
    "            filewriter.writerow([\"bee_id\", \"in_direction\", \"out_direction\"])\n",
    "        attache = 'a'\n",
    "                    \n",
    "    with open('result.csv', attache) as csvfile:\n",
    "        filewriter = csv.writer(csvfile, delimiter=',', quotechar='\\'', quoting=csv.QUOTE_MINIMAL)\n",
    "        filewriter.writerow([beeid, indirection, outdirection]) \n",
    "        \n",
    "def formatFileName(filename):\n",
    "    return filename.split('_')[-1].split('.')[0]"
   ]
  },
  {
   "cell_type": "code",
   "execution_count": 111,
   "metadata": {},
   "outputs": [
    {
     "name": "stdout",
     "output_type": "stream",
     "text": [
      "Delete dublication from input.\n",
      "Start compare algorithm: \n",
      "....................................................................................................................................................................................................................\n",
      "\n",
      "For  212 Bees with  96  comparable bees:  45.28 correct bees found.\n",
      "15.62 % total correctness\n",
      "32.29 % Ingoing correctness\n",
      "63.54 % Outgoing correctness\n",
      "37.15 % Average correctness\n",
      "Done. Please check result.csv file or hit 'result' for more details.\n"
     ]
    }
   ],
   "source": [
    "\"\"\" filder dublicates from csv \"\"\"\n",
    "import pandas as pd\n",
    "\n",
    "# delete existing result.csv file to prevent errors\n",
    "if (os.path.isfile('./result.csv')):\n",
    "    os.remove(\"result.csv\")\n",
    "\n",
    "# store data in pandas\n",
    "gtd = pd.read_csv('GroundTruthData.csv')\n",
    "gtd = pd.DataFrame(data=gtd)\n",
    "\n",
    "mld = pd.read_csv('MaschineLearnedData.csv')\n",
    "mld = pd.DataFrame(data=mld)\n",
    "\n",
    "# delete dublications\n",
    "print('Delete dublication from input.')\n",
    "mld = mld.drop_duplicates(['bee_id', 'time_in', 'time_out'], keep='first',)\n",
    "mld.to_csv('MaschineLearnedData.csv', encoding='utf-8', index=False)\n",
    "\n",
    "print('Start compare algorithm: ')\n",
    "for indexMLD, rowMLD in mld.iterrows():\n",
    "    print('.', end='')\n",
    "    for indexGTD, rowGTD in gtd.iterrows():\n",
    "        boolIn, boolOut, boolBoth, boolBothFalse = False, False, False, False\n",
    "        \n",
    "        if (rowMLD['time_in'] == rowGTD['timestamp_in'] and rowMLD['bee_id'] == rowGTD['bee_id']):\n",
    "            boolBothFalse = True\n",
    "            if (rowMLD['in_direction'] == rowGTD['out_direction']):\n",
    "                boolIn = True\n",
    "                      \n",
    "        if (rowMLD['time_out'] == rowGTD['timestamp_out'] and rowMLD['bee_id'] == rowGTD['bee_id']):\n",
    "            boolBothFalse = True\n",
    "            if (rowMLD['out_direction'] == rowGTD['out_direction']):\n",
    "                boolOut = True\n",
    "        \n",
    "        if (boolIn and boolOut):\n",
    "            boolBoth = True\n",
    "            writeToCSV(int(rowMLD['bee_id']), \"OK\", \"OK\")\n",
    "        \n",
    "        if ((boolIn or boolOut) and not boolBoth):\n",
    "            if (boolIn):\n",
    "                writeToCSV(int(rowMLD['bee_id']), \"OK\", \"mismatch\")\n",
    "            else:\n",
    "                writeToCSV(int(rowMLD['bee_id']), \"mismatch\", \"OK\")\n",
    "        \n",
    "        if ((boolBothFalse == True and boolIn == False) and (boolBothFalse == True and boolOut == False)):\n",
    "            writeToCSV(int(rowMLD['bee_id']), \"mismatch\", \"mismatch\")\n",
    "    \n",
    "result = pd.read_csv('result.csv')\n",
    "result = pd.DataFrame(data=result)\n",
    "\n",
    "lenResult = len(result)\n",
    "iterateIn, iterateOut, iterateAll = 0, 0, 0\n",
    "\n",
    "for index, row in result.iterrows():\n",
    "    if (row['in_direction'] == \"OK\" and row['out_direction'] == \"OK\"):\n",
    "        iterateAll += 1\n",
    "    if (row['in_direction'] == \"OK\"):\n",
    "        iterateIn += 1\n",
    "    if (row['out_direction'] == \"OK\"):\n",
    "        iterateOut += 1\n",
    "\n",
    "try:\n",
    "    print(\"\\n\")\n",
    "    print('For ',len(mld), 'Bees with ', len(result), ' comparable bees: ',round(((len(result)/len(mld))*100),2), 'correct bees found.' )\n",
    "    print(round(((iterateAll / lenResult) * 100),2), \"% total correctness\")\n",
    "    print(round(((iterateIn / lenResult) * 100), 2), \"% Ingoing correctness\")\n",
    "    print(round(((iterateOut / lenResult) * 100), 2), \"% Outgoing correctness\")\n",
    "    print(round((((iterateAll + iterateIn + iterateOut) / (3*lenResult)) * 100), 2), \"% Average correctness\")\n",
    "\n",
    "except ZeroDivisionError:\n",
    "    print(\"Nothing to compare!\")\n",
    "\n",
    "print('Done. Please check result.csv file or hit \\'result\\' for more details.')"
   ]
  },
  {
   "cell_type": "code",
   "execution_count": null,
   "metadata": {},
   "outputs": [],
   "source": []
  }
 ],
 "metadata": {
  "kernelspec": {
   "display_name": "Python 3",
   "language": "python",
   "name": "python3"
  },
  "language_info": {
   "codemirror_mode": {
    "name": "ipython",
    "version": 3
   },
   "file_extension": ".py",
   "mimetype": "text/x-python",
   "name": "python",
   "nbconvert_exporter": "python",
   "pygments_lexer": "ipython3",
   "version": "3.7.1"
  },
  "toc": {
   "nav_menu": {},
   "number_sections": true,
   "sideBar": true,
   "skip_h1_title": false,
   "title_cell": "Table of Contents",
   "title_sidebar": "Contents",
   "toc_cell": false,
   "toc_position": {},
   "toc_section_display": true,
   "toc_window_display": true
  },
  "varInspector": {
   "cols": {
    "lenName": 16,
    "lenType": 16,
    "lenVar": 40
   },
   "kernels_config": {
    "python": {
     "delete_cmd_postfix": "",
     "delete_cmd_prefix": "del ",
     "library": "var_list.py",
     "varRefreshCmd": "print(var_dic_list())"
    },
    "r": {
     "delete_cmd_postfix": ") ",
     "delete_cmd_prefix": "rm(",
     "library": "var_list.r",
     "varRefreshCmd": "cat(var_dic_list()) "
    }
   },
   "types_to_exclude": [
    "module",
    "function",
    "builtin_function_or_method",
    "instance",
    "_Feature"
   ],
   "window_display": false
  }
 },
 "nbformat": 4,
 "nbformat_minor": 2
}
