{
 "cells": [
  {
   "cell_type": "code",
   "execution_count": 1,
   "metadata": {
    "ExecuteTime": {
     "end_time": "2019-03-11T10:59:10.526276Z",
     "start_time": "2019-03-11T10:59:07.073562Z"
    }
   },
   "outputs": [
    {
     "name": "stderr",
     "output_type": "stream",
     "text": [
      "Using Theano backend.\n"
     ]
    }
   ],
   "source": [
    "import glob\n",
    "import os\n",
    "import subprocess\n",
    "import numpy as np\n",
    "import pandas as pd\n",
    "\n",
    "\n",
    "%load_ext autoreload\n",
    "%autoreload 1\n",
    "%aimport bb_behavior\n",
    "%aimport bb_behavior.plot\n",
    "%aimport bb_behavior.tracking\n",
    "%aimport bb_behavior.tracking.pipeline\n",
    "\n",
    "import bb_behavior\n",
    "import bb_behavior.plot\n",
    "import bb_behavior.tracking\n",
    "import bb_behavior.tracking.pipeline\n",
    "\n",
    "from bb_behavior.tracking.pipeline import get_default_pipeline\n",
    "from tqdm import tqdm_notebook # progress bar\n",
    "import math\n",
    "from bb_tracking.data.constants import DETKEY\n",
    "#from bb_tracking.tracking import score_id_sim_v\n",
    "from bb_tracking.tracking import distance_orientations_v, distance_positions_v\n",
    "\n",
    "from bb_behavior.tracking.pipeline import detect_markers_in_video\n",
    "from bb_behavior.tracking.pipeline import track_detections_dataframe\n",
    "from bb_behavior.tracking.pipeline import display_tracking_results"
   ]
  },
  {
   "cell_type": "code",
   "execution_count": null,
   "metadata": {
    "collapsed": true
   },
   "outputs": [],
   "source": []
  },
  {
   "cell_type": "code",
   "execution_count": null,
   "metadata": {
    "ExecuteTime": {
     "start_time": "2019-03-11T13:46:01.822Z"
    },
    "collapsed": true
   },
   "outputs": [],
   "source": [
    "import time\n",
    "import os\n",
    "\n",
    "def filename_to_datestring(filname):\n",
    "    \"\"\"\n",
    "    filename can be path\n",
    "    \"\"\"\n",
    "    return os.path.split(path)[-1].split('.')[0].split('_')[1]\n",
    "\n",
    "\n",
    "def string_to_timestamp(datestring):\n",
    "    \"\"\" \n",
    "    params\n",
    "        string: format 2018-08-19-01-08-13 (timzone UTC+0100)\n",
    "    output\n",
    "        unix timestamp (float)\n",
    "    \"\"\"\n",
    "    \n",
    "    return time.mktime(time.strptime(date_string+\" +0200\", \"%Y-%m-%d-%H-%M-%S %z\"))\n",
    "\n",
    "def timestamp_to_string(timestamp):\n",
    "    return time.strftime(\"%Y-%m-%d-%H-%M-%S %z\", time.localtime(timestamp))    "
   ]
  },
  {
   "cell_type": "code",
   "execution_count": null,
   "metadata": {
    "ExecuteTime": {
     "start_time": "2019-03-11T13:46:02.523Z"
    }
   },
   "outputs": [],
   "source": [
    "paths = glob.glob(os.path.join('../videos/videos_tags/', '*.h264'))\n",
    "datestring = filename_to_datestring(paths[0])\n",
    "timestamp = string_to_timestamp(datestring)\n",
    "string =  timestamp_to_string(timestamp)\n",
    "\n",
    "print(paths[0])\n",
    "print(datestring)\n",
    "print(timestamp)\n",
    "print(string)"
   ]
  },
  {
   "cell_type": "code",
   "execution_count": 72,
   "metadata": {
    "ExecuteTime": {
     "end_time": "2019-03-11T13:44:46.247413Z",
     "start_time": "2019-03-11T13:44:46.242406Z"
    }
   },
   "outputs": [
    {
     "data": {
      "text/plain": [
       "1534633693.0"
      ]
     },
     "execution_count": 72,
     "metadata": {},
     "output_type": "execute_result"
    }
   ],
   "source": [
    "time.mktime(time.strptime(datestring, \"%Y-%m-%d-%H-%M-%S\"))"
   ]
  },
  {
   "cell_type": "code",
   "execution_count": 73,
   "metadata": {
    "ExecuteTime": {
     "end_time": "2019-03-11T13:44:46.869944Z",
     "start_time": "2019-03-11T13:44:46.864597Z"
    }
   },
   "outputs": [
    {
     "data": {
      "text/plain": [
       "time.struct_time(tm_year=2018, tm_mon=8, tm_mday=19, tm_hour=2, tm_min=21, tm_sec=37, tm_wday=6, tm_yday=231, tm_isdst=1)"
      ]
     },
     "execution_count": 73,
     "metadata": {},
     "output_type": "execute_result"
    }
   ],
   "source": [
    "time.localtime(timestamp)"
   ]
  },
  {
   "cell_type": "code",
   "execution_count": 2,
   "metadata": {
    "ExecuteTime": {
     "end_time": "2019-03-11T11:03:14.763453Z",
     "start_time": "2019-03-11T10:59:50.653136Z"
    }
   },
   "outputs": [
    {
     "name": "stderr",
     "output_type": "stream",
     "text": [
      "/home/tscho/.local/lib/python3.6/site-packages/keras/backend/theano_backend.py:1032: UserWarning: DEPRECATION: the 'ds' parameter is not going to exist anymore as it is going to be replaced by the parameter 'ws'.\n",
      "  mode='max')\n",
      "/home/tscho/.local/lib/python3.6/site-packages/keras/backend/theano_backend.py:1032: UserWarning: DEPRECATION: the 'st' parameter is not going to exist anymore as it is going to be replaced by the parameter 'stride'.\n",
      "  mode='max')\n",
      "/home/tscho/.local/lib/python3.6/site-packages/keras/backend/theano_backend.py:1032: UserWarning: DEPRECATION: the 'padding' parameter is not going to exist anymore as it is going to be replaced by the parameter 'pad'.\n",
      "  mode='max')\n"
     ]
    },
    {
     "name": "stdout",
     "output_type": "stream",
     "text": [
      "0 :  ../videos/videos_tags/e00_2018-08-19-01-08-13.h264\n"
     ]
    },
    {
     "name": "stderr",
     "output_type": "stream",
     "text": [
      "Widget Javascript not detected.  It may not be installed or enabled properly.\n"
     ]
    },
    {
     "data": {
      "application/vnd.jupyter.widget-view+json": {
       "model_id": "55ac8bf605f94086a673d7708399529a"
      }
     },
     "metadata": {},
     "output_type": "display_data"
    },
    {
     "name": "stdout",
     "output_type": "stream",
     "text": [
      "122\n"
     ]
    },
    {
     "name": "stderr",
     "output_type": "stream",
     "text": [
      "/home/tscho/anaconda3/lib/python3.6/site-packages/sklearn/base.py:312: UserWarning: Trying to unpickle estimator StandardScaler from version 0.20.0 when using version 0.19.0. This might lead to breaking code or invalid results. Use at your own risk.\n",
      "  UserWarning)\n",
      "/home/tscho/anaconda3/lib/python3.6/site-packages/sklearn/base.py:312: UserWarning: Trying to unpickle estimator LinearSVC from version 0.20.0 when using version 0.19.0. This might lead to breaking code or invalid results. Use at your own risk.\n",
      "  UserWarning)\n",
      "/home/tscho/anaconda3/lib/python3.6/site-packages/sklearn/base.py:312: UserWarning: Trying to unpickle estimator Pipeline from version 0.20.0 when using version 0.19.0. This might lead to breaking code or invalid results. Use at your own risk.\n",
      "  UserWarning)\n",
      "/home/tscho/anaconda3/lib/python3.6/site-packages/sklearn/ensemble/weight_boosting.py:29: DeprecationWarning: numpy.core.umath_tests is an internal NumPy module and should not be imported. It will be removed in a future NumPy release.\n",
      "  from numpy.core.umath_tests import inner1d\n",
      "/home/tscho/anaconda3/lib/python3.6/site-packages/sklearn/base.py:312: UserWarning: Trying to unpickle estimator DecisionTreeClassifier from version 0.20.0 when using version 0.19.0. This might lead to breaking code or invalid results. Use at your own risk.\n",
      "  UserWarning)\n",
      "/home/tscho/anaconda3/lib/python3.6/site-packages/sklearn/base.py:312: UserWarning: Trying to unpickle estimator RandomForestClassifier from version 0.20.0 when using version 0.19.0. This might lead to breaking code or invalid results. Use at your own risk.\n",
      "  UserWarning)\n"
     ]
    },
    {
     "name": "stdout",
     "output_type": "stream",
     "text": [
      "1 :  ../videos/videos_tags/e00_2018-08-19-01-08-33.h264\n"
     ]
    },
    {
     "name": "stderr",
     "output_type": "stream",
     "text": [
      "Widget Javascript not detected.  It may not be installed or enabled properly.\n"
     ]
    },
    {
     "data": {
      "application/vnd.jupyter.widget-view+json": {
       "model_id": "061674ce0d4e4668b744721cb1072f36"
      }
     },
     "metadata": {},
     "output_type": "display_data"
    },
    {
     "name": "stdout",
     "output_type": "stream",
     "text": [
      "12\n",
      "2 :  ../videos/videos_tags/e00_2018-08-19-01-08-54.h264\n"
     ]
    },
    {
     "name": "stderr",
     "output_type": "stream",
     "text": [
      "/home/tscho/anaconda3/lib/python3.6/site-packages/sklearn/base.py:312: UserWarning: Trying to unpickle estimator StandardScaler from version 0.20.0 when using version 0.19.0. This might lead to breaking code or invalid results. Use at your own risk.\n",
      "  UserWarning)\n",
      "/home/tscho/anaconda3/lib/python3.6/site-packages/sklearn/base.py:312: UserWarning: Trying to unpickle estimator LinearSVC from version 0.20.0 when using version 0.19.0. This might lead to breaking code or invalid results. Use at your own risk.\n",
      "  UserWarning)\n",
      "/home/tscho/anaconda3/lib/python3.6/site-packages/sklearn/base.py:312: UserWarning: Trying to unpickle estimator Pipeline from version 0.20.0 when using version 0.19.0. This might lead to breaking code or invalid results. Use at your own risk.\n",
      "  UserWarning)\n",
      "/home/tscho/anaconda3/lib/python3.6/site-packages/sklearn/base.py:312: UserWarning: Trying to unpickle estimator DecisionTreeClassifier from version 0.20.0 when using version 0.19.0. This might lead to breaking code or invalid results. Use at your own risk.\n",
      "  UserWarning)\n",
      "/home/tscho/anaconda3/lib/python3.6/site-packages/sklearn/base.py:312: UserWarning: Trying to unpickle estimator RandomForestClassifier from version 0.20.0 when using version 0.19.0. This might lead to breaking code or invalid results. Use at your own risk.\n",
      "  UserWarning)\n",
      "Widget Javascript not detected.  It may not be installed or enabled properly.\n"
     ]
    },
    {
     "data": {
      "application/vnd.jupyter.widget-view+json": {
       "model_id": "6b5df52c20cb47009a7da8ec7875fe6c"
      }
     },
     "metadata": {},
     "output_type": "display_data"
    },
    {
     "name": "stdout",
     "output_type": "stream",
     "text": [
      "No objects to concatenate\n",
      "2 :  ../videos/videos_tags/e00_2018-08-19-02-20-55.h264\n"
     ]
    },
    {
     "name": "stderr",
     "output_type": "stream",
     "text": [
      "Widget Javascript not detected.  It may not be installed or enabled properly.\n"
     ]
    },
    {
     "data": {
      "application/vnd.jupyter.widget-view+json": {
       "model_id": "1b617428f08044a791d17b2ed57d2374"
      }
     },
     "metadata": {},
     "output_type": "display_data"
    },
    {
     "name": "stdout",
     "output_type": "stream",
     "text": [
      "22\n",
      "3 :  ../videos/videos_tags/e00_2018-08-19-02-21-16.h264\n"
     ]
    },
    {
     "name": "stderr",
     "output_type": "stream",
     "text": [
      "/home/tscho/anaconda3/lib/python3.6/site-packages/sklearn/base.py:312: UserWarning: Trying to unpickle estimator StandardScaler from version 0.20.0 when using version 0.19.0. This might lead to breaking code or invalid results. Use at your own risk.\n",
      "  UserWarning)\n",
      "/home/tscho/anaconda3/lib/python3.6/site-packages/sklearn/base.py:312: UserWarning: Trying to unpickle estimator LinearSVC from version 0.20.0 when using version 0.19.0. This might lead to breaking code or invalid results. Use at your own risk.\n",
      "  UserWarning)\n",
      "/home/tscho/anaconda3/lib/python3.6/site-packages/sklearn/base.py:312: UserWarning: Trying to unpickle estimator Pipeline from version 0.20.0 when using version 0.19.0. This might lead to breaking code or invalid results. Use at your own risk.\n",
      "  UserWarning)\n",
      "/home/tscho/anaconda3/lib/python3.6/site-packages/sklearn/base.py:312: UserWarning: Trying to unpickle estimator DecisionTreeClassifier from version 0.20.0 when using version 0.19.0. This might lead to breaking code or invalid results. Use at your own risk.\n",
      "  UserWarning)\n",
      "/home/tscho/anaconda3/lib/python3.6/site-packages/sklearn/base.py:312: UserWarning: Trying to unpickle estimator RandomForestClassifier from version 0.20.0 when using version 0.19.0. This might lead to breaking code or invalid results. Use at your own risk.\n",
      "  UserWarning)\n",
      "Widget Javascript not detected.  It may not be installed or enabled properly.\n"
     ]
    },
    {
     "data": {
      "application/vnd.jupyter.widget-view+json": {
       "model_id": "4b3acff3956044f58d547243026464b6"
      }
     },
     "metadata": {},
     "output_type": "display_data"
    },
    {
     "name": "stdout",
     "output_type": "stream",
     "text": [
      "32\n",
      "4 :  ../videos/videos_tags/e00_2018-08-19-02-21-37.h264\n"
     ]
    },
    {
     "name": "stderr",
     "output_type": "stream",
     "text": [
      "/home/tscho/anaconda3/lib/python3.6/site-packages/sklearn/base.py:312: UserWarning: Trying to unpickle estimator StandardScaler from version 0.20.0 when using version 0.19.0. This might lead to breaking code or invalid results. Use at your own risk.\n",
      "  UserWarning)\n",
      "/home/tscho/anaconda3/lib/python3.6/site-packages/sklearn/base.py:312: UserWarning: Trying to unpickle estimator LinearSVC from version 0.20.0 when using version 0.19.0. This might lead to breaking code or invalid results. Use at your own risk.\n",
      "  UserWarning)\n",
      "/home/tscho/anaconda3/lib/python3.6/site-packages/sklearn/base.py:312: UserWarning: Trying to unpickle estimator Pipeline from version 0.20.0 when using version 0.19.0. This might lead to breaking code or invalid results. Use at your own risk.\n",
      "  UserWarning)\n",
      "/home/tscho/anaconda3/lib/python3.6/site-packages/sklearn/base.py:312: UserWarning: Trying to unpickle estimator DecisionTreeClassifier from version 0.20.0 when using version 0.19.0. This might lead to breaking code or invalid results. Use at your own risk.\n",
      "  UserWarning)\n",
      "/home/tscho/anaconda3/lib/python3.6/site-packages/sklearn/base.py:312: UserWarning: Trying to unpickle estimator RandomForestClassifier from version 0.20.0 when using version 0.19.0. This might lead to breaking code or invalid results. Use at your own risk.\n",
      "  UserWarning)\n",
      "Widget Javascript not detected.  It may not be installed or enabled properly.\n"
     ]
    },
    {
     "data": {
      "application/vnd.jupyter.widget-view+json": {
       "model_id": "27c15f864adb49a3bfbb69f9b88a9415"
      }
     },
     "metadata": {},
     "output_type": "display_data"
    },
    {
     "name": "stdout",
     "output_type": "stream",
     "text": [
      "94\n"
     ]
    },
    {
     "name": "stderr",
     "output_type": "stream",
     "text": [
      "/home/tscho/anaconda3/lib/python3.6/site-packages/sklearn/base.py:312: UserWarning: Trying to unpickle estimator StandardScaler from version 0.20.0 when using version 0.19.0. This might lead to breaking code or invalid results. Use at your own risk.\n",
      "  UserWarning)\n",
      "/home/tscho/anaconda3/lib/python3.6/site-packages/sklearn/base.py:312: UserWarning: Trying to unpickle estimator LinearSVC from version 0.20.0 when using version 0.19.0. This might lead to breaking code or invalid results. Use at your own risk.\n",
      "  UserWarning)\n",
      "/home/tscho/anaconda3/lib/python3.6/site-packages/sklearn/base.py:312: UserWarning: Trying to unpickle estimator Pipeline from version 0.20.0 when using version 0.19.0. This might lead to breaking code or invalid results. Use at your own risk.\n",
      "  UserWarning)\n",
      "/home/tscho/anaconda3/lib/python3.6/site-packages/sklearn/base.py:312: UserWarning: Trying to unpickle estimator DecisionTreeClassifier from version 0.20.0 when using version 0.19.0. This might lead to breaking code or invalid results. Use at your own risk.\n",
      "  UserWarning)\n",
      "/home/tscho/anaconda3/lib/python3.6/site-packages/sklearn/base.py:312: UserWarning: Trying to unpickle estimator RandomForestClassifier from version 0.20.0 when using version 0.19.0. This might lead to breaking code or invalid results. Use at your own risk.\n",
      "  UserWarning)\n"
     ]
    }
   ],
   "source": [
    "# hyperparameters\n",
    "\n",
    "tag_pixel_diameter = 50\n",
    "n_frames = None\n",
    "fps = 10.0\n",
    "progress = \"tqdm_notebook\"\n",
    "tracker = \"../tracker.det_score_fun.frag_score_fun.dill\"\n",
    "confidence_filter_detections = 0.08\n",
    "confidence_filter_tracks = 0.2\n",
    "coordinate_scale = 1.0\n",
    "localizer_threshold=\"0.55\"\n",
    "\n",
    "#1944\n",
    "\n",
    "default_pipeline = get_default_pipeline(localizer_threshold=localizer_threshold)\n",
    "\n",
    "track_dfs = []\n",
    "\n",
    "counter = 0\n",
    "for path in glob.glob(os.path.join('../videos/videos_tags/', '*.h264')):  \n",
    "\n",
    "    print(counter, \": \", path)\n",
    "    \n",
    "    try:\n",
    "\n",
    "        # get the detections\n",
    "        frame_info, detections = detect_markers_in_video(path,\n",
    "                                                decoder_pipeline=default_pipeline,\n",
    "                                                tag_pixel_diameter=tag_pixel_diameter,\n",
    "                                                n_frames=n_frames,\n",
    "                                                fps=fps,\n",
    "                                                progress=progress)\n",
    "\n",
    "        print(len(detections))\n",
    "        # get the tracks                                           \n",
    "        tracks = track_detections_dataframe(detections,\n",
    "                                            tracker=tracker,\n",
    "                                            confidence_filter_detections=confidence_filter_detections,\n",
    "                                            confidence_filter_tracks=confidence_filter_tracks,\n",
    "                                            coordinate_scale=coordinate_scale)\n",
    "        # get date from filename\n",
    "        date_string = os.path.split(path)[-1].split('.')[0].split('_')[1]\n",
    "        timestamp = time.mktime(datetime.datetime.strptime(date_string, \"%Y-%m-%d-%H-%M-%S\").timetuple())\n",
    "\n",
    "        #  transform tracks df to : bee_id, [list of positions (x,y)], [list of timestamps], timestamp_of video\n",
    "        grouped = tracks.groupby('track_id',  as_index=False)['bee_id','xpos','ypos','timestamp']\n",
    "        df = grouped.aggregate(lambda x: list(x))\n",
    "        df = df.drop('track_id', 1)\n",
    "\n",
    "        df['timestamp_video'] = timestamp\n",
    "        df = df.rename(columns={'timestamp': 'timestamps'})\n",
    "\n",
    "        # convert bee_id list to single value\n",
    "        df['bee_id'] = df['bee_id'].apply(lambda x: x[0])\n",
    "\n",
    "        # only appen if note detections?\n",
    "        track_dfs.append(df)\n",
    "\n",
    "        if counter == 4: \n",
    "            break\n",
    "        counter += 1\n",
    "    \n",
    "    except ValueError as err: #tritt auf, wenn Video leer ist. In diesem Fall: überspringe video\n",
    "        print(err)\n",
    "    except Exception as err:\n",
    "        print(err)\n",
    "        raise\n",
    "    \n",
    "# bind dataframes together\n",
    "tracks = pd.concat(track_dfs,ignore_index=True)"
   ]
  },
  {
   "cell_type": "code",
   "execution_count": 3,
   "metadata": {
    "ExecuteTime": {
     "end_time": "2019-03-11T12:12:37.154199Z",
     "start_time": "2019-03-11T12:12:37.126537Z"
    },
    "collapsed": true
   },
   "outputs": [],
   "source": [
    "# merge tracks of same bee where start and end timestamps are close together\n",
    "# assume there can not be overlapping tracks\n",
    "# 1. sort: bee_id, start_time\n",
    "\n",
    "# calculate start time of track by adding timestamp of track (seconds since start of video)\n",
    "# to timestamp of video (date)\n",
    "tracks['start_time'] = tracks['timestamp_video'] + tracks['timestamps'].apply(lambda x: x[0])\n",
    "tracks['end_time'] = tracks['timestamp_video'] + tracks['timestamps'].apply(lambda x: x[-1])"
   ]
  },
  {
   "cell_type": "code",
   "execution_count": 4,
   "metadata": {
    "ExecuteTime": {
     "end_time": "2019-03-11T12:12:38.068681Z",
     "start_time": "2019-03-11T12:12:38.063940Z"
    },
    "collapsed": true
   },
   "outputs": [],
   "source": [
    "tracks3 = tracks.copy()"
   ]
  },
  {
   "cell_type": "code",
   "execution_count": 10,
   "metadata": {
    "ExecuteTime": {
     "end_time": "2019-03-11T12:21:10.354029Z",
     "start_time": "2019-03-11T12:21:10.343389Z"
    }
   },
   "outputs": [
    {
     "data": {
      "text/plain": [
       "0    13.8\n",
       "1     2.8\n",
       "2     1.7\n",
       "3     2.8\n",
       "4     1.5\n",
       "5    14.6\n",
       "6     0.9\n",
       "Name: timestamps, dtype: float64"
      ]
     },
     "execution_count": 10,
     "metadata": {},
     "output_type": "execute_result"
    }
   ],
   "source": [
    "tracks['timestamps'].apply(lambda x: x[-1]) - tracks['timestamps'].apply(lambda x: x[0])"
   ]
  },
  {
   "cell_type": "code",
   "execution_count": 11,
   "metadata": {
    "ExecuteTime": {
     "end_time": "2019-03-11T12:21:37.404493Z",
     "start_time": "2019-03-11T12:21:37.391823Z"
    }
   },
   "outputs": [
    {
     "data": {
      "text/plain": [
       "0    13.8\n",
       "1     2.8\n",
       "2     1.7\n",
       "3     2.8\n",
       "4     1.5\n",
       "5    14.6\n",
       "6     0.9\n",
       "dtype: float64"
      ]
     },
     "execution_count": 11,
     "metadata": {},
     "output_type": "execute_result"
    }
   ],
   "source": [
    "tracks['end_time'] - tracks['start_time']"
   ]
  },
  {
   "cell_type": "code",
   "execution_count": 9,
   "metadata": {
    "ExecuteTime": {
     "end_time": "2019-03-11T12:20:48.375346Z",
     "start_time": "2019-03-11T12:20:48.346235Z"
    }
   },
   "outputs": [
    {
     "data": {
      "text/html": [
       "<div>\n",
       "<style scoped>\n",
       "    .dataframe tbody tr th:only-of-type {\n",
       "        vertical-align: middle;\n",
       "    }\n",
       "\n",
       "    .dataframe tbody tr th {\n",
       "        vertical-align: top;\n",
       "    }\n",
       "\n",
       "    .dataframe thead th {\n",
       "        text-align: right;\n",
       "    }\n",
       "</style>\n",
       "<table border=\"1\" class=\"dataframe\">\n",
       "  <thead>\n",
       "    <tr style=\"text-align: right;\">\n",
       "      <th></th>\n",
       "      <th>bee_id</th>\n",
       "      <th>xpos</th>\n",
       "      <th>ypos</th>\n",
       "      <th>timestamps</th>\n",
       "      <th>timestamp_video</th>\n",
       "      <th>start_time</th>\n",
       "      <th>end_time</th>\n",
       "    </tr>\n",
       "  </thead>\n",
       "  <tbody>\n",
       "    <tr>\n",
       "      <th>0</th>\n",
       "      <td>1926.0</td>\n",
       "      <td>[912.4305286407471, 974.5363636016846, 1037.02...</td>\n",
       "      <td>[126.9986743927002, 126.95895576477051, 101.19...</td>\n",
       "      <td>[0.0, 0.1, 0.2, 0.3, 0.8, 0.9, 1.2, 1.3, 1.4, ...</td>\n",
       "      <td>1.534634e+09</td>\n",
       "      <td>1.534634e+09</td>\n",
       "      <td>1.534634e+09</td>\n",
       "    </tr>\n",
       "    <tr>\n",
       "      <th>1</th>\n",
       "      <td>1926.0</td>\n",
       "      <td>[463.6847324371338, 513.7263240814209, 576.042...</td>\n",
       "      <td>[151.41355323791504, 151.84414291381836, 139.2...</td>\n",
       "      <td>[17.8, 17.9, 18.0, 18.1, 18.2, 18.3, 18.4, 18....</td>\n",
       "      <td>1.534634e+09</td>\n",
       "      <td>1.534634e+09</td>\n",
       "      <td>1.534634e+09</td>\n",
       "    </tr>\n",
       "    <tr>\n",
       "      <th>2</th>\n",
       "      <td>1926.0</td>\n",
       "      <td>[1200.4261093139648, 1012.0221309661865, 961.8...</td>\n",
       "      <td>[262.57673835754395, 136.45391273498535, 112.3...</td>\n",
       "      <td>[0.0, 0.4, 0.5, 0.9, 1.0, 1.1, 1.2, 1.7]</td>\n",
       "      <td>1.534634e+09</td>\n",
       "      <td>1.534634e+09</td>\n",
       "      <td>1.534634e+09</td>\n",
       "    </tr>\n",
       "    <tr>\n",
       "      <th>3</th>\n",
       "      <td>1970.0</td>\n",
       "      <td>[574.7958679199219, 611.9921283721924, 636.866...</td>\n",
       "      <td>[201.45031547546387, 213.5040740966797, 201.48...</td>\n",
       "      <td>[18.1, 18.2, 18.3, 18.4, 18.5, 18.6, 18.7, 18....</td>\n",
       "      <td>1.534638e+09</td>\n",
       "      <td>1.534638e+09</td>\n",
       "      <td>1.534638e+09</td>\n",
       "    </tr>\n",
       "    <tr>\n",
       "      <th>4</th>\n",
       "      <td>1970.0</td>\n",
       "      <td>[1175.1580028533936, 1275.0042209625244, 1199....</td>\n",
       "      <td>[100.45368194580078, 252.97906684875488, 264.9...</td>\n",
       "      <td>[1.6, 2.3, 2.8, 3.1]</td>\n",
       "      <td>1.534638e+09</td>\n",
       "      <td>1.534638e+09</td>\n",
       "      <td>1.534638e+09</td>\n",
       "    </tr>\n",
       "    <tr>\n",
       "      <th>5</th>\n",
       "      <td>1970.0</td>\n",
       "      <td>[812.58274269104, 762.6650428771973, 738.07292...</td>\n",
       "      <td>[111.47340106964111, 175.45004081726074, 224.9...</td>\n",
       "      <td>[4.0, 4.1, 4.2, 4.3, 4.6, 4.8, 5.7, 9.7, 10.1,...</td>\n",
       "      <td>1.534638e+09</td>\n",
       "      <td>1.534638e+09</td>\n",
       "      <td>1.534638e+09</td>\n",
       "    </tr>\n",
       "    <tr>\n",
       "      <th>6</th>\n",
       "      <td>1970.0</td>\n",
       "      <td>[1186.8357887268066, 1236.4013862609863, 1273....</td>\n",
       "      <td>[139.63128471374512, 113.99038124084473, 127.3...</td>\n",
       "      <td>[19.8, 19.9, 20.0, 20.1, 20.2, 20.7]</td>\n",
       "      <td>1.534638e+09</td>\n",
       "      <td>1.534638e+09</td>\n",
       "      <td>1.534638e+09</td>\n",
       "    </tr>\n",
       "  </tbody>\n",
       "</table>\n",
       "</div>"
      ],
      "text/plain": [
       "   bee_id                                               xpos  \\\n",
       "0  1926.0  [912.4305286407471, 974.5363636016846, 1037.02...   \n",
       "1  1926.0  [463.6847324371338, 513.7263240814209, 576.042...   \n",
       "2  1926.0  [1200.4261093139648, 1012.0221309661865, 961.8...   \n",
       "3  1970.0  [574.7958679199219, 611.9921283721924, 636.866...   \n",
       "4  1970.0  [1175.1580028533936, 1275.0042209625244, 1199....   \n",
       "5  1970.0  [812.58274269104, 762.6650428771973, 738.07292...   \n",
       "6  1970.0  [1186.8357887268066, 1236.4013862609863, 1273....   \n",
       "\n",
       "                                                ypos  \\\n",
       "0  [126.9986743927002, 126.95895576477051, 101.19...   \n",
       "1  [151.41355323791504, 151.84414291381836, 139.2...   \n",
       "2  [262.57673835754395, 136.45391273498535, 112.3...   \n",
       "3  [201.45031547546387, 213.5040740966797, 201.48...   \n",
       "4  [100.45368194580078, 252.97906684875488, 264.9...   \n",
       "5  [111.47340106964111, 175.45004081726074, 224.9...   \n",
       "6  [139.63128471374512, 113.99038124084473, 127.3...   \n",
       "\n",
       "                                          timestamps  timestamp_video  \\\n",
       "0  [0.0, 0.1, 0.2, 0.3, 0.8, 0.9, 1.2, 1.3, 1.4, ...     1.534634e+09   \n",
       "1  [17.8, 17.9, 18.0, 18.1, 18.2, 18.3, 18.4, 18....     1.534634e+09   \n",
       "2           [0.0, 0.4, 0.5, 0.9, 1.0, 1.1, 1.2, 1.7]     1.534634e+09   \n",
       "3  [18.1, 18.2, 18.3, 18.4, 18.5, 18.6, 18.7, 18....     1.534638e+09   \n",
       "4                               [1.6, 2.3, 2.8, 3.1]     1.534638e+09   \n",
       "5  [4.0, 4.1, 4.2, 4.3, 4.6, 4.8, 5.7, 9.7, 10.1,...     1.534638e+09   \n",
       "6               [19.8, 19.9, 20.0, 20.1, 20.2, 20.7]     1.534638e+09   \n",
       "\n",
       "     start_time      end_time  \n",
       "0  1.534634e+09  1.534634e+09  \n",
       "1  1.534634e+09  1.534634e+09  \n",
       "2  1.534634e+09  1.534634e+09  \n",
       "3  1.534638e+09  1.534638e+09  \n",
       "4  1.534638e+09  1.534638e+09  \n",
       "5  1.534638e+09  1.534638e+09  \n",
       "6  1.534638e+09  1.534638e+09  "
      ]
     },
     "execution_count": 9,
     "metadata": {},
     "output_type": "execute_result"
    }
   ],
   "source": [
    "tracks"
   ]
  },
  {
   "cell_type": "code",
   "execution_count": null,
   "metadata": {
    "ExecuteTime": {
     "end_time": "2019-03-07T16:56:49.012836Z",
     "start_time": "2019-03-07T16:56:48.948221Z"
    }
   },
   "outputs": [],
   "source": [
    "tracks = tracks3.copy()\n",
    "tracks = tracks.sort_values(['bee_id', 'start_time'])\n",
    "\n",
    "index = 0\n",
    "tracks2 = tracks.copy()\n",
    "while(True):\n",
    "    row = tracks.iloc[index]\n",
    "    next_row = tracks.iloc[index+1]\n",
    "    \n",
    "    # if the tracks are from same bee and the start time of next row is closer then 10s -> merge the rows\n",
    "    # merge rows means, next_row is deleted\n",
    "    if row['bee_id'] == next_row['bee_id'] and next_row['start_time'] - row['end_time'] < 10:\n",
    "        print(next_row['start_time'] - row['end_time'], row['bee_id'], next_row['bee_id'])\n",
    "\n",
    "        # update the timestamps of nextrow\n",
    "        t = next_row['start_time'] - row['start_time']\n",
    "        timestamps = list(np.array(next_row['timestamps']) + t)\n",
    "        \n",
    "        tracks.at[row.name,'xpos'] = row['xpos']+next_row['xpos']\n",
    "        tracks.at[row.name,'ypos'] = row['ypos']+next_row['ypos']\n",
    "        tracks.at[row.name,'timestamps'] = row['timestamps']+timestamps\n",
    "        tracks.at[row.name,'end_time'] = next_row['end_time']\n",
    "        \n",
    "        tracks.drop(tracks.index[index+1], inplace=True)\n",
    "\n",
    "    else:\n",
    "        index += 1\n",
    "    \n",
    "    if index == len(tracks) - 1:\n",
    "        break"
   ]
  },
  {
   "cell_type": "code",
   "execution_count": null,
   "metadata": {
    "ExecuteTime": {
     "end_time": "2019-03-07T16:57:16.392268Z",
     "start_time": "2019-03-07T16:57:16.381530Z"
    }
   },
   "outputs": [],
   "source": [
    "tracks.iloc[0][\"timestamps\"]"
   ]
  },
  {
   "cell_type": "code",
   "execution_count": null,
   "metadata": {
    "ExecuteTime": {
     "end_time": "2019-03-07T16:57:51.814496Z",
     "start_time": "2019-03-07T16:57:51.772192Z"
    }
   },
   "outputs": [],
   "source": [
    "tracks = tracks3.copy()\n",
    "tracks = tracks.sort_values(['bee_id', 'start_time'])\n",
    "for index, rows in tracks.iterrows():\n",
    "    row = tracks.iloc[index]\n",
    "    next_row = tracks.iloc[index+1]\n",
    "    print(next_row['start_time'] - row['end_time'], row['bee_id'], next_row['bee_id'])"
   ]
  },
  {
   "cell_type": "code",
   "execution_count": null,
   "metadata": {
    "ExecuteTime": {
     "end_time": "2019-03-07T16:02:11.305591Z",
     "start_time": "2019-03-07T16:02:11.264647Z"
    }
   },
   "outputs": [],
   "source": [
    "tracks3"
   ]
  },
  {
   "cell_type": "code",
   "execution_count": null,
   "metadata": {
    "ExecuteTime": {
     "end_time": "2019-03-07T15:54:36.859111Z",
     "start_time": "2019-03-07T15:54:36.808602Z"
    }
   },
   "outputs": [],
   "source": [
    "tracks2"
   ]
  },
  {
   "cell_type": "code",
   "execution_count": null,
   "metadata": {
    "ExecuteTime": {
     "end_time": "2019-03-07T15:38:01.102291Z",
     "start_time": "2019-03-07T15:38:01.053333Z"
    }
   },
   "outputs": [],
   "source": [
    "tracks2"
   ]
  },
  {
   "cell_type": "code",
   "execution_count": null,
   "metadata": {
    "ExecuteTime": {
     "end_time": "2019-03-07T14:04:06.280776Z",
     "start_time": "2019-03-07T14:04:06.272034Z"
    }
   },
   "outputs": [],
   "source": [
    "list(np.array([1,2,3,4,5]))"
   ]
  },
  {
   "cell_type": "code",
   "execution_count": null,
   "metadata": {
    "ExecuteTime": {
     "end_time": "2019-03-07T14:07:03.665652Z",
     "start_time": "2019-03-07T14:07:03.654029Z"
    }
   },
   "outputs": [],
   "source": [
    "tracks.iloc[0]"
   ]
  },
  {
   "cell_type": "code",
   "execution_count": null,
   "metadata": {
    "ExecuteTime": {
     "end_time": "2019-03-07T13:47:14.112413Z",
     "start_time": "2019-03-07T13:47:14.099296Z"
    },
    "collapsed": true
   },
   "outputs": [],
   "source": []
  },
  {
   "cell_type": "code",
   "execution_count": null,
   "metadata": {
    "ExecuteTime": {
     "end_time": "2019-03-07T13:47:23.088561Z",
     "start_time": "2019-03-07T13:47:23.057232Z"
    }
   },
   "outputs": [],
   "source": []
  },
  {
   "cell_type": "code",
   "execution_count": null,
   "metadata": {
    "ExecuteTime": {
     "end_time": "2019-03-07T16:47:45.182494Z",
     "start_time": "2019-03-07T16:46:43.768889Z"
    }
   },
   "outputs": [],
   "source": [
    "# hyperparameters\n",
    "\n",
    "#e00_2018-08-19-02-20-55\n",
    "\n",
    "tag_pixel_diameter = 50\n",
    "n_frames = None\n",
    "fps = 10.0\n",
    "progress = \"tqdm_notebook\"\n",
    "tracker = \"../tracker.det_score_fun.frag_score_fun.dill\"\n",
    "confidence_filter_detections = 0.08 # 0.08\n",
    "confidence_filter_tracks = 0.2 #.2\n",
    "coordinate_scale = 1.0\n",
    "localizer_threshold=\"0.50\" # 50\n",
    "\n",
    "#1944\n",
    "\n",
    "\n",
    "default_pipeline = get_default_pipeline(localizer_threshold=localizer_threshold)\n",
    "\n",
    "track_dfs = []\n",
    "counter = 0\n",
    "for path in ['../videos/videos_tags/e00_2018-08-19-01-08-13.h264']:  \n",
    "\n",
    "    print(counter, \": \", path)\n",
    "    \n",
    "    try:\n",
    "\n",
    "        # get the detections\n",
    "        frame_info, detections = detect_markers_in_video(path,\n",
    "                                                decoder_pipeline=default_pipeline,\n",
    "                                                tag_pixel_diameter=tag_pixel_diameter,\n",
    "                                                n_frames=n_frames,\n",
    "                                                fps=fps,\n",
    "                                                progress=progress)\n",
    "\n",
    "        print(len(detections))\n",
    "        # get the tracks                                           \n",
    "        tracks = track_detections_dataframe(detections,\n",
    "                                            tracker=tracker,\n",
    "                                            confidence_filter_detections=confidence_filter_detections,\n",
    "                                            confidence_filter_tracks=confidence_filter_tracks,\n",
    "                                            coordinate_scale=coordinate_scale)\n",
    "        \n",
    "        display_tracking_results(path, frame_info, detections, tracks)\n",
    "\n",
    "    \n",
    "    except ValueError as err: #tritt auf, wenn Video leer ist. In diesem Fall: überspringe video\n",
    "        print(err)\n",
    "    except Exception as err:\n",
    "        print(err)\n",
    "        raise"
   ]
  },
  {
   "cell_type": "code",
   "execution_count": null,
   "metadata": {
    "collapsed": true
   },
   "outputs": [],
   "source": []
  }
 ],
 "metadata": {
  "kernelspec": {
   "display_name": "Python 3",
   "language": "python",
   "name": "python3"
  },
  "language_info": {
   "codemirror_mode": {
    "name": "ipython",
    "version": 3
   },
   "file_extension": ".py",
   "mimetype": "text/x-python",
   "name": "python",
   "nbconvert_exporter": "python",
   "pygments_lexer": "ipython3",
   "version": "3.6.8"
  },
  "varInspector": {
   "cols": {
    "lenName": 16,
    "lenType": 16,
    "lenVar": 40
   },
   "kernels_config": {
    "python": {
     "delete_cmd_postfix": "",
     "delete_cmd_prefix": "del ",
     "library": "var_list.py",
     "varRefreshCmd": "print(var_dic_list())"
    },
    "r": {
     "delete_cmd_postfix": ") ",
     "delete_cmd_prefix": "rm(",
     "library": "var_list.r",
     "varRefreshCmd": "cat(var_dic_list()) "
    }
   },
   "types_to_exclude": [
    "module",
    "function",
    "builtin_function_or_method",
    "instance",
    "_Feature"
   ],
   "window_display": false
  }
 },
 "nbformat": 4,
 "nbformat_minor": 2
}
