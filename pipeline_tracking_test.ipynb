{
 "cells": [
  {
   "cell_type": "markdown",
   "metadata": {},
   "source": [
    "# Vorbereitung"
   ]
  },
  {
   "cell_type": "code",
   "execution_count": 1,
   "metadata": {
    "ExecuteTime": {
     "end_time": "2019-03-11T15:15:03.398224Z",
     "start_time": "2019-03-11T15:15:03.393242Z"
    }
   },
   "outputs": [
    {
     "name": "stdout",
     "output_type": "stream",
     "text": [
      "env: KERAS_BACKEND=theano\n",
      "env: THEANO_FLAGS=floatX=float32,device=cpu\n"
     ]
    }
   ],
   "source": [
    "%env KERAS_BACKEND=theano\n",
    "%env THEANO_FLAGS=floatX=float32,device=cpu"
   ]
  },
  {
   "cell_type": "code",
   "execution_count": 2,
   "metadata": {
    "ExecuteTime": {
     "end_time": "2019-03-11T15:15:08.792517Z",
     "start_time": "2019-03-11T15:15:03.557506Z"
    }
   },
   "outputs": [
    {
     "name": "stderr",
     "output_type": "stream",
     "text": [
      "Using Theano backend.\n"
     ]
    }
   ],
   "source": [
    "%load_ext autoreload\n",
    "%autoreload 1\n",
    "%aimport bb_behavior\n",
    "%aimport bb_behavior.plot\n",
    "%aimport bb_behavior.tracking\n",
    "%aimport bb_behavior.tracking.pipeline\n",
    "\n",
    "import bb_behavior\n",
    "import bb_behavior.plot\n",
    "import bb_behavior.tracking\n",
    "import bb_behavior.tracking.pipeline\n",
    "\n",
    "import pandas as pd\n",
    "import time\n",
    "import datetime"
   ]
  },
  {
   "cell_type": "markdown",
   "metadata": {},
   "source": [
    "# Preprocessing"
   ]
  },
  {
   "cell_type": "markdown",
   "metadata": {},
   "source": [
    "## Preprocessing step 1: convert the h264 to mp4"
   ]
  },
  {
   "cell_type": "raw",
   "metadata": {
    "ExecuteTime": {
     "end_time": "2019-03-05T11:35:18.876868Z",
     "start_time": "2019-03-05T11:35:18.867601Z"
    }
   },
   "source": [
    "import glob\n",
    "import os\n",
    "import subprocess\n",
    "\n",
    "videos = \"../videos/videos_tags/videos_tags_mp4\"\n",
    "\n",
    "if not os.path.exists(videos):\n",
    "    os.mkdir(videos)"
   ]
  },
  {
   "cell_type": "raw",
   "metadata": {
    "ExecuteTime": {
     "end_time": "2019-03-05T11:36:36.214043Z",
     "start_time": "2019-03-05T11:36:36.028355Z"
    }
   },
   "source": [
    "for video in glob.glob(os.path.join('../videos/videos_tags/', '*.h264')):  \n",
    "    path = os.path.split(video)   \n",
    "    video_mp4 = os.path.join(path[0],\"videos_tags_mp4\",os.path.splitext(path[1])[0] + '.mp4')\n",
    "\n",
    "    print(video_mp4)\n",
    "    subprocess.call(['ffmpeg', '-framerate', '2', '-fflags', '+genpts', '-i', video, '-c', 'copy', video_mp4])\n",
    "    break"
   ]
  },
  {
   "cell_type": "markdown",
   "metadata": {},
   "source": [
    "## Run"
   ]
  },
  {
   "cell_type": "code",
   "execution_count": 3,
   "metadata": {
    "ExecuteTime": {
     "end_time": "2019-03-11T15:15:26.790651Z",
     "start_time": "2019-03-11T15:15:08.796181Z"
    }
   },
   "outputs": [
    {
     "name": "stderr",
     "output_type": "stream",
     "text": [
      "/Users/ronnyruhe/.local/lib/python3.7/site-packages/keras/backend/theano_backend.py:1032: UserWarning: DEPRECATION: the 'ds' parameter is not going to exist anymore as it is going to be replaced by the parameter 'ws'.\n",
      "  mode='max')\n",
      "/Users/ronnyruhe/.local/lib/python3.7/site-packages/keras/backend/theano_backend.py:1032: UserWarning: DEPRECATION: the 'st' parameter is not going to exist anymore as it is going to be replaced by the parameter 'stride'.\n",
      "  mode='max')\n",
      "/Users/ronnyruhe/.local/lib/python3.7/site-packages/keras/backend/theano_backend.py:1032: UserWarning: DEPRECATION: the 'padding' parameter is not going to exist anymore as it is going to be replaced by the parameter 'pad'.\n",
      "  mode='max')\n"
     ]
    }
   ],
   "source": [
    "from bb_behavior.tracking.pipeline import get_default_pipeline\n",
    "default_pipeline = None\n",
    "default_pipeline = get_default_pipeline(localizer_threshold=\"0.50\")"
   ]
  },
  {
   "cell_type": "code",
   "execution_count": 4,
   "metadata": {
    "ExecuteTime": {
     "end_time": "2019-03-11T15:15:26.811202Z",
     "start_time": "2019-03-11T15:15:26.792873Z"
    }
   },
   "outputs": [],
   "source": [
    "from tqdm import tqdm_notebook # progress bar\n",
    "\n",
    "import math\n",
    "import numpy as np\n",
    "from bb_tracking.data.constants import DETKEY\n",
    "#from bb_tracking.tracking import score_id_sim_v\n",
    "from bb_tracking.tracking import distance_orientations_v, distance_positions_v\n",
    "\n",
    "from bb_behavior.tracking.pipeline import detect_markers_in_video\n",
    "from bb_behavior.tracking.pipeline import track_detections_dataframe\n",
    "from bb_behavior.tracking.pipeline import display_tracking_results"
   ]
  },
  {
   "cell_type": "code",
   "execution_count": 5,
   "metadata": {
    "ExecuteTime": {
     "end_time": "2019-03-11T15:15:26.828717Z",
     "start_time": "2019-03-11T15:15:26.820638Z"
    }
   },
   "outputs": [],
   "source": [
    "config = dict(tag_pixel_diameter=50,\n",
    "              n_frames=None,\n",
    "              confidence_filter_detections=0.08,\n",
    "              confidence_filter_tracks=0.20,\n",
    "              coordinate_scale=1.0,\n",
    "              start_time=None,\n",
    "              fps=10.0,\n",
    "              cam_id=0,\n",
    "              left_leaving_area = 0.30, # Prozente vom Bildschirmrand, zB. bei 1000px und 0.15 -> 0-150px\n",
    "              right_leaving_area = 0.30,\n",
    "              px_x_resolution_vid = 1944)\n"
   ]
  },
  {
   "cell_type": "code",
   "execution_count": 6,
   "metadata": {
    "ExecuteTime": {
     "end_time": "2019-03-11T15:15:26.837880Z",
     "start_time": "2019-03-11T15:15:26.831685Z"
    }
   },
   "outputs": [],
   "source": [
    "import time\n",
    "import os\n",
    "\n",
    "def filename_to_datestring(filname):\n",
    "    \"\"\"\n",
    "    filename can be path\n",
    "    \"\"\"\n",
    "    return os.path.split(filname)[-1].split('.')[0].split('_')[1]\n",
    "\n",
    "\n",
    "def string_to_timestamp(datestring):\n",
    "    \"\"\" \n",
    "    params\n",
    "        string: format 2018-08-19-01-08-13\n",
    "    output\n",
    "        unix timestamp (float)\n",
    "    \"\"\"\n",
    "    \n",
    "    return time.mktime(time.strptime(datestring, \"%Y-%m-%d-%H-%M-%S\"))\n",
    "\n",
    "def timestamp_to_string(timestamp):\n",
    "    return time.strftime(\"%Y-%m-%d-%H-%M-%S\", time.localtime(timestamp))"
   ]
  },
  {
   "cell_type": "code",
   "execution_count": 7,
   "metadata": {
    "ExecuteTime": {
     "end_time": "2019-03-11T15:15:26.845325Z",
     "start_time": "2019-03-11T15:15:26.839822Z"
    }
   },
   "outputs": [],
   "source": [
    "# Einen Iterable speichern, der alle Videos in einem Iterable zur Verfügung stellt\n",
    "# Diesen Iterable können wir dann in der nächsten Zelle mit tqdm schön durchlaufen\n",
    "# nicht sehr performant --> O(n)\n",
    "import os\n",
    "base_directory = \"../videos/\"\n",
    "paths = [i for i in os.listdir(base_directory) if i.endswith(\".h264\")]\n",
    "for i in range(len(paths)):\n",
    "    paths[i] = base_directory + paths[i]"
   ]
  },
  {
   "cell_type": "code",
   "execution_count": 8,
   "metadata": {
    "ExecuteTime": {
     "end_time": "2019-03-11T15:16:54.187996Z",
     "start_time": "2019-03-11T15:15:26.847504Z"
    },
    "scrolled": false
   },
   "outputs": [
    {
     "data": {
      "application/vnd.jupyter.widget-view+json": {
       "model_id": "3494ec057dea47b59f951305d5b6ecfb",
       "version_major": 2,
       "version_minor": 0
      },
      "text/plain": [
       "HBox(children=(IntProgress(value=0, max=1), HTML(value='')))"
      ]
     },
     "metadata": {},
     "output_type": "display_data"
    },
    {
     "data": {
      "application/vnd.jupyter.widget-view+json": {
       "model_id": "a0479a4b87714026b599c464ca2f6661",
       "version_major": 2,
       "version_minor": 0
      },
      "text/plain": [
       "HBox(children=(IntProgress(value=1, bar_style='info', max=1), HTML(value='')))"
      ]
     },
     "metadata": {},
     "output_type": "display_data"
    },
    {
     "name": "stderr",
     "output_type": "stream",
     "text": [
      "/Users/ronnyruhe/anaconda3/lib/python3.7/site-packages/sklearn/base.py:251: UserWarning: Trying to unpickle estimator StandardScaler from version 0.20.0 when using version 0.20.1. This might lead to breaking code or invalid results. Use at your own risk.\n",
      "  UserWarning)\n",
      "/Users/ronnyruhe/anaconda3/lib/python3.7/site-packages/sklearn/base.py:251: UserWarning: Trying to unpickle estimator LinearSVC from version 0.20.0 when using version 0.20.1. This might lead to breaking code or invalid results. Use at your own risk.\n",
      "  UserWarning)\n",
      "/Users/ronnyruhe/anaconda3/lib/python3.7/site-packages/sklearn/base.py:251: UserWarning: Trying to unpickle estimator Pipeline from version 0.20.0 when using version 0.20.1. This might lead to breaking code or invalid results. Use at your own risk.\n",
      "  UserWarning)\n",
      "/Users/ronnyruhe/anaconda3/lib/python3.7/site-packages/sklearn/base.py:251: UserWarning: Trying to unpickle estimator DecisionTreeClassifier from version 0.20.0 when using version 0.20.1. This might lead to breaking code or invalid results. Use at your own risk.\n",
      "  UserWarning)\n",
      "/Users/ronnyruhe/anaconda3/lib/python3.7/site-packages/sklearn/base.py:251: UserWarning: Trying to unpickle estimator RandomForestClassifier from version 0.20.0 when using version 0.20.1. This might lead to breaking code or invalid results. Use at your own risk.\n",
      "  UserWarning)\n"
     ]
    }
   ],
   "source": [
    "# Hier passiert das eigentliche Tracken und speichern der Ergebnisse:\n",
    "num_processed_videos = 0\n",
    "video_data = dict()\n",
    "frame_info = None\n",
    "detections = None\n",
    "videos_w_no_detection = \"\"\n",
    "\n",
    "\n",
    "for path in tqdm_notebook(paths):\n",
    "    start_time = config[\"start_time\"]\n",
    "    cam_id = config[\"cam_id\"]\n",
    "    try:\n",
    "        num_processed_videos += 1\n",
    "\n",
    "        frame_info, detections = detect_markers_in_video(path,\n",
    "                                                      decoder_pipeline=default_pipeline,#pipeline=pipelines(),\n",
    "                                                     tag_pixel_diameter=config[\"tag_pixel_diameter\"],\n",
    "                                                      n_frames=config[\"n_frames\"],\n",
    "                                                      fps=config[\"fps\"],\n",
    "                                                     progress=\"tqdm_notebook\"\n",
    "                                            )\n",
    "        tracks = track_detections_dataframe(detections,\n",
    "                                            tracker=\"tracker.det_score_fun.frag_score_fun.dill\",\n",
    "                                            confidence_filter_detections=config[\"confidence_filter_detections\"],\n",
    "                                           confidence_filter_tracks=config[\"confidence_filter_tracks\"],\n",
    "                                            coordinate_scale=config[\"coordinate_scale\"]\n",
    "                                           )\n",
    "        date_string = filename_to_datestring(path)\n",
    "        tracks['video'] = date_string\n",
    "        video_data[path] = (frame_info, detections, tracks)\n",
    "    except ValueError as err: #tritt auf, wenn Video leer ist. In diesem Fall: überspringe video\n",
    "        try:\n",
    "            videos_w_no_detection = videos_w_no_detection + path + \"\\n\"\n",
    "            paths.remove(path)\n",
    "            # wir arbeiten später nochmal mit paths, daher müssen das leere löschen, weil sonst\n",
    "            # in video_data kein zugehöriger Value zu Key = file zu finden ist.\n",
    "        except KeyError as err:\n",
    "            continue\n",
    "    except Exception as err:\n",
    "        print(err)\n",
    "        raise\n",
    "    # only first vid: break"
   ]
  },
  {
   "cell_type": "code",
   "execution_count": 9,
   "metadata": {
    "ExecuteTime": {
     "end_time": "2019-03-11T15:17:04.504985Z",
     "start_time": "2019-03-11T15:17:04.499459Z"
    },
    "code_folding": []
   },
   "outputs": [],
   "source": [
    "#gebe Videos aus, in denen keine Bienen gefunden wurden\n",
    "if videos_w_no_detection:\n",
    "    print(\"In the following file(s) were no bees detected:\")\n",
    "    print(videos_w_no_detection)"
   ]
  },
  {
   "cell_type": "code",
   "execution_count": 10,
   "metadata": {
    "ExecuteTime": {
     "end_time": "2019-03-11T17:40:24.559631Z",
     "start_time": "2019-03-11T17:40:16.434004Z"
    },
    "scrolled": true
   },
   "outputs": [
    {
     "name": "stdout",
     "output_type": "stream",
     "text": [
      "Found 77 detections belonging to 2 unique tracks and 2 individuals.\n"
     ]
    },
    {
     "name": "stderr",
     "output_type": "stream",
     "text": [
      "/Users/ronnyruhe/.local/lib/python3.7/site-packages/psycopg2/__init__.py:144: UserWarning: The psycopg2 wheel package will be renamed from release 2.8; in order to keep installing from binary please use \"pip install psycopg2-binary\" instead. For details see: <http://initd.org/psycopg/docs/install.html#binary-install-from-pypi>.\n",
      "  \"\"\")\n",
      "'c' argument looks like a single numeric RGB or RGBA sequence, which should be avoided as value-mapping will have precedence in case its length matches with 'x' & 'y'.  Please use a 2-D array with a single row if you really want to specify the same RGB or RGBA value for all points.\n",
      "'c' argument looks like a single numeric RGB or RGBA sequence, which should be avoided as value-mapping will have precedence in case its length matches with 'x' & 'y'.  Please use a 2-D array with a single row if you really want to specify the same RGB or RGBA value for all points.\n"
     ]
    },
    {
     "data": {
      "image/png": "[encoded data removed]",
      "text/plain": [
       "<Figure size 864x864 with 1 Axes>"
      ]
     },
     "metadata": {
      "needs_background": "light"
     },
     "output_type": "display_data"
    },
    {
     "name": "stdout",
     "output_type": "stream",
     "text": [
      "Detection/track statistics:\n"
     ]
    },
    {
     "data": {
      "image/png": "[encoded data removed]",
      "text/plain": [
       "<Figure size 864x144 with 1 Axes>"
      ]
     },
     "metadata": {
      "needs_background": "light"
     },
     "output_type": "display_data"
    },
    {
     "data": {
      "image/png": "[encoded data removed]",
      "text/plain": [
       "<Figure size 864x144 with 1 Axes>"
      ]
     },
     "metadata": {
      "needs_background": "light"
     },
     "output_type": "display_data"
    },
    {
     "data": {
      "image/png": "[encoded data removed]",
      "text/plain": [
       "<Figure size 864x144 with 1 Axes>"
      ]
     },
     "metadata": {
      "needs_background": "light"
     },
     "output_type": "display_data"
    },
    {
     "data": {
      "image/png": "[encoded data removed]",
      "text/plain": [
       "<Figure size 864x144 with 2 Axes>"
      ]
     },
     "metadata": {
      "needs_background": "light"
     },
     "output_type": "display_data"
    },
    {
     "name": "stdout",
     "output_type": "stream",
     "text": [
      "Individual statistics:\n"
     ]
    },
    {
     "ename": "ModuleNotFoundError",
     "evalue": "No module named 'cairocffi'",
     "output_type": "error",
     "traceback": [
      "\u001b[0;31m---------------------------------------------------------------------------\u001b[0m",
      "\u001b[0;31mModuleNotFoundError\u001b[0m                       Traceback (most recent call last)",
      "\u001b[0;32m<ipython-input-10-245056d33a8f>\u001b[0m in \u001b[0;36m<module>\u001b[0;34m\u001b[0m\n\u001b[1;32m      1\u001b[0m \u001b[0;31m#video_data[\"file\"][0] --> frame-info, [1] --> detections, [2] --> tracks\u001b[0m\u001b[0;34m\u001b[0m\u001b[0;34m\u001b[0m\u001b[0;34m\u001b[0m\u001b[0m\n\u001b[1;32m      2\u001b[0m \u001b[0;32mfor\u001b[0m \u001b[0mpath\u001b[0m \u001b[0;32min\u001b[0m \u001b[0mpaths\u001b[0m\u001b[0;34m:\u001b[0m\u001b[0;34m\u001b[0m\u001b[0;34m\u001b[0m\u001b[0m\n\u001b[0;32m----> 3\u001b[0;31m     \u001b[0mdisplay_tracking_results\u001b[0m\u001b[0;34m(\u001b[0m\u001b[0mpath\u001b[0m\u001b[0;34m,\u001b[0m \u001b[0mvideo_data\u001b[0m\u001b[0;34m[\u001b[0m\u001b[0mpath\u001b[0m\u001b[0;34m]\u001b[0m\u001b[0;34m[\u001b[0m\u001b[0;36m0\u001b[0m\u001b[0;34m]\u001b[0m\u001b[0;34m,\u001b[0m \u001b[0mvideo_data\u001b[0m\u001b[0;34m[\u001b[0m\u001b[0mpath\u001b[0m\u001b[0;34m]\u001b[0m\u001b[0;34m[\u001b[0m\u001b[0;36m1\u001b[0m\u001b[0;34m]\u001b[0m\u001b[0;34m,\u001b[0m \u001b[0mvideo_data\u001b[0m\u001b[0;34m[\u001b[0m\u001b[0mpath\u001b[0m\u001b[0;34m]\u001b[0m\u001b[0;34m[\u001b[0m\u001b[0;36m2\u001b[0m\u001b[0;34m]\u001b[0m\u001b[0;34m)\u001b[0m\u001b[0;34m\u001b[0m\u001b[0;34m\u001b[0m\u001b[0m\n\u001b[0m",
      "\u001b[0;32m~/.local/lib/python3.7/site-packages/bb_behavior/tracking/pipeline.py\u001b[0m in \u001b[0;36mdisplay_tracking_results\u001b[0;34m(path, frame_info, detections, tracks, image, fig_width)\u001b[0m\n\u001b[1;32m    592\u001b[0m         \u001b[0max\u001b[0m\u001b[0;34m.\u001b[0m\u001b[0mset_xlim\u001b[0m\u001b[0;34m(\u001b[0m\u001b[0;36m0\u001b[0m\u001b[0;34m,\u001b[0m \u001b[0mtracks\u001b[0m\u001b[0;34m.\u001b[0m\u001b[0mframeIdx\u001b[0m\u001b[0;34m.\u001b[0m\u001b[0mmax\u001b[0m\u001b[0;34m(\u001b[0m\u001b[0;34m)\u001b[0m\u001b[0;34m)\u001b[0m\u001b[0;34m\u001b[0m\u001b[0;34m\u001b[0m\u001b[0m\n\u001b[1;32m    593\u001b[0m         \u001b[0mplt\u001b[0m\u001b[0;34m.\u001b[0m\u001b[0mtitle\u001b[0m\u001b[0;34m(\u001b[0m\u001b[0;34m\"Individual {} ({} different tracks)\"\u001b[0m\u001b[0;34m.\u001b[0m\u001b[0mformat\u001b[0m\u001b[0;34m(\u001b[0m\u001b[0mbee_id\u001b[0m\u001b[0;34m,\u001b[0m \u001b[0mtrack_count\u001b[0m\u001b[0;34m)\u001b[0m\u001b[0;34m)\u001b[0m\u001b[0;34m\u001b[0m\u001b[0;34m\u001b[0m\u001b[0m\n\u001b[0;32m--> 594\u001b[0;31m         \u001b[0mdraw_ferwar_id_on_axis\u001b[0m\u001b[0;34m(\u001b[0m\u001b[0mbee_id\u001b[0m\u001b[0;34m,\u001b[0m \u001b[0max2\u001b[0m\u001b[0;34m)\u001b[0m\u001b[0;34m\u001b[0m\u001b[0;34m\u001b[0m\u001b[0m\n\u001b[0m\u001b[1;32m    595\u001b[0m         \u001b[0mplt\u001b[0m\u001b[0;34m.\u001b[0m\u001b[0mtight_layout\u001b[0m\u001b[0;34m(\u001b[0m\u001b[0;34m)\u001b[0m\u001b[0;34m\u001b[0m\u001b[0;34m\u001b[0m\u001b[0m\n\u001b[1;32m    596\u001b[0m         \u001b[0mplt\u001b[0m\u001b[0;34m.\u001b[0m\u001b[0mshow\u001b[0m\u001b[0;34m(\u001b[0m\u001b[0;34m)\u001b[0m\u001b[0;34m\u001b[0m\u001b[0;34m\u001b[0m\u001b[0m\n",
      "\u001b[0;32m~/.local/lib/python3.7/site-packages/bb_behavior/plot/misc.py\u001b[0m in \u001b[0;36mdraw_ferwar_id_on_axis\u001b[0;34m(ID, ax)\u001b[0m\n\u001b[1;32m      7\u001b[0m \u001b[0;34m\u001b[0m\u001b[0m\n\u001b[1;32m      8\u001b[0m     \u001b[0mID\u001b[0m \u001b[0;34m=\u001b[0m \u001b[0mbb_utils\u001b[0m\u001b[0;34m.\u001b[0m\u001b[0mids\u001b[0m\u001b[0;34m.\u001b[0m\u001b[0mBeesbookID\u001b[0m\u001b[0;34m.\u001b[0m\u001b[0mfrom_ferwar\u001b[0m\u001b[0;34m(\u001b[0m\u001b[0mID\u001b[0m\u001b[0;34m)\u001b[0m\u001b[0;34m\u001b[0m\u001b[0;34m\u001b[0m\u001b[0m\n\u001b[0;32m----> 9\u001b[0;31m     \u001b[0mpng\u001b[0m \u001b[0;34m=\u001b[0m \u001b[0mbb_utils\u001b[0m\u001b[0;34m.\u001b[0m\u001b[0mvisualization\u001b[0m\u001b[0;34m.\u001b[0m\u001b[0mTagArtist\u001b[0m\u001b[0;34m(\u001b[0m\u001b[0;34m)\u001b[0m\u001b[0;34m.\u001b[0m\u001b[0mdraw\u001b[0m\u001b[0;34m(\u001b[0m\u001b[0mID\u001b[0m\u001b[0;34m.\u001b[0m\u001b[0mas_bb_binary\u001b[0m\u001b[0;34m(\u001b[0m\u001b[0;34m)\u001b[0m\u001b[0;34m)\u001b[0m\u001b[0;34m\u001b[0m\u001b[0;34m\u001b[0m\u001b[0m\n\u001b[0m\u001b[1;32m     10\u001b[0m     \u001b[0mpng\u001b[0m \u001b[0;34m=\u001b[0m \u001b[0mio\u001b[0m\u001b[0;34m.\u001b[0m\u001b[0mBytesIO\u001b[0m\u001b[0;34m(\u001b[0m\u001b[0mpng\u001b[0m\u001b[0;34m)\u001b[0m\u001b[0;34m\u001b[0m\u001b[0;34m\u001b[0m\u001b[0m\n\u001b[1;32m     11\u001b[0m     \u001b[0mim\u001b[0m \u001b[0;34m=\u001b[0m \u001b[0mskimage\u001b[0m\u001b[0;34m.\u001b[0m\u001b[0mio\u001b[0m\u001b[0;34m.\u001b[0m\u001b[0mimread\u001b[0m\u001b[0;34m(\u001b[0m\u001b[0mpng\u001b[0m\u001b[0;34m)\u001b[0m\u001b[0;34m\u001b[0m\u001b[0;34m\u001b[0m\u001b[0m\n",
      "\u001b[0;32m~/.local/lib/python3.7/site-packages/bb_utils/visualization.py\u001b[0m in \u001b[0;36mdraw\u001b[0;34m(self, bits_12)\u001b[0m\n\u001b[1;32m     20\u001b[0m \u001b[0;34m\u001b[0m\u001b[0m\n\u001b[1;32m     21\u001b[0m     \u001b[0;32mdef\u001b[0m \u001b[0mdraw\u001b[0m\u001b[0;34m(\u001b[0m\u001b[0mself\u001b[0m\u001b[0;34m,\u001b[0m \u001b[0mbits_12\u001b[0m\u001b[0;34m)\u001b[0m\u001b[0;34m:\u001b[0m\u001b[0;34m\u001b[0m\u001b[0;34m\u001b[0m\u001b[0m\n\u001b[0;32m---> 22\u001b[0;31m         \u001b[0;32mimport\u001b[0m \u001b[0mcairocffi\u001b[0m \u001b[0;32mas\u001b[0m \u001b[0mcairo\u001b[0m\u001b[0;34m\u001b[0m\u001b[0;34m\u001b[0m\u001b[0m\n\u001b[0m\u001b[1;32m     23\u001b[0m \u001b[0;34m\u001b[0m\u001b[0m\n\u001b[1;32m     24\u001b[0m         \u001b[0mbits\u001b[0m \u001b[0;34m=\u001b[0m \u001b[0mnp\u001b[0m\u001b[0;34m.\u001b[0m\u001b[0mroll\u001b[0m\u001b[0;34m(\u001b[0m\u001b[0mbits_12\u001b[0m\u001b[0;34m,\u001b[0m \u001b[0;34m-\u001b[0m\u001b[0;36m3\u001b[0m\u001b[0;34m)\u001b[0m\u001b[0;34m\u001b[0m\u001b[0;34m\u001b[0m\u001b[0m\n",
      "\u001b[0;31mModuleNotFoundError\u001b[0m: No module named 'cairocffi'"
     ]
    },
    {
     "data": {
      "image/png": "[encoded data removed]",
      "text/plain": [
       "<Figure size 864x144 with 3 Axes>"
      ]
     },
     "metadata": {
      "needs_background": "light"
     },
     "output_type": "display_data"
    }
   ],
   "source": [
    "#video_data[\"file\"][0] --> frame-info, [1] --> detections, [2] --> tracks\n",
    "for path in paths:\n",
    "    display_tracking_results(path, video_data[path][0], video_data[path][1], video_data[path][2])"
   ]
  },
  {
   "cell_type": "markdown",
   "metadata": {},
   "source": [
    "# Modify data to default for all Algorithms / Save detection to .csv"
   ]
  },
  {
   "cell_type": "code",
   "execution_count": 11,
   "metadata": {
    "ExecuteTime": {
     "end_time": "2019-03-11T15:17:49.820687Z",
     "start_time": "2019-03-11T15:17:49.799126Z"
    }
   },
   "outputs": [],
   "source": [
    "tracks = [video_data[paths[x]][2] for x in range(len(paths))]\n",
    "tracks = pd.concat(tracks,ignore_index=True)\n",
    "tracks = tracks.drop(columns=[\"localizerSaliency\", \"beeID\", \"camID\", \"frameIdx\"])"
   ]
  },
  {
   "cell_type": "code",
   "execution_count": 12,
   "metadata": {
    "ExecuteTime": {
     "end_time": "2019-03-11T15:17:50.600781Z",
     "start_time": "2019-03-11T15:17:50.590040Z"
    }
   },
   "outputs": [],
   "source": [
    "with open(\"tracks.csv\", \"w\") as f:\n",
    "    tracks.to_csv(f)"
   ]
  },
  {
   "cell_type": "code",
   "execution_count": 13,
   "metadata": {
    "ExecuteTime": {
     "end_time": "2019-03-11T15:17:51.239668Z",
     "start_time": "2019-03-11T15:17:51.193035Z"
    }
   },
   "outputs": [
    {
     "data": {
      "text/html": [
       "<div>\n",
       "<style scoped>\n",
       "    .dataframe tbody tr th:only-of-type {\n",
       "        vertical-align: middle;\n",
       "    }\n",
       "\n",
       "    .dataframe tbody tr th {\n",
       "        vertical-align: top;\n",
       "    }\n",
       "\n",
       "    .dataframe thead th {\n",
       "        text-align: right;\n",
       "    }\n",
       "</style>\n",
       "<table border=\"1\" class=\"dataframe\">\n",
       "  <thead>\n",
       "    <tr style=\"text-align: right;\">\n",
       "      <th></th>\n",
       "      <th>id</th>\n",
       "      <th>xpos</th>\n",
       "      <th>ypos</th>\n",
       "      <th>zrotation</th>\n",
       "      <th>timestamp</th>\n",
       "      <th>confidence</th>\n",
       "      <th>track_id</th>\n",
       "      <th>track_confidence</th>\n",
       "      <th>bee_id</th>\n",
       "      <th>video</th>\n",
       "    </tr>\n",
       "  </thead>\n",
       "  <tbody>\n",
       "    <tr>\n",
       "      <th>0</th>\n",
       "      <td>f17745262213455944850d0c0</td>\n",
       "      <td>837.337231</td>\n",
       "      <td>100.917238</td>\n",
       "      <td>-0.353094</td>\n",
       "      <td>0.0</td>\n",
       "      <td>0.761272</td>\n",
       "      <td>0.0</td>\n",
       "      <td>0.874410</td>\n",
       "      <td>793.0</td>\n",
       "      <td>2018-08-19-16-52-52</td>\n",
       "    </tr>\n",
       "    <tr>\n",
       "      <th>1</th>\n",
       "      <td>f14267357616683677421d0c0</td>\n",
       "      <td>887.020819</td>\n",
       "      <td>101.098423</td>\n",
       "      <td>-0.253130</td>\n",
       "      <td>0.1</td>\n",
       "      <td>0.997726</td>\n",
       "      <td>0.0</td>\n",
       "      <td>0.874410</td>\n",
       "      <td>793.0</td>\n",
       "      <td>2018-08-19-16-52-52</td>\n",
       "    </tr>\n",
       "    <tr>\n",
       "      <th>2</th>\n",
       "      <td>f17519573800468124328d0c0</td>\n",
       "      <td>936.745340</td>\n",
       "      <td>138.785250</td>\n",
       "      <td>-0.094255</td>\n",
       "      <td>0.4</td>\n",
       "      <td>0.977464</td>\n",
       "      <td>0.0</td>\n",
       "      <td>0.874410</td>\n",
       "      <td>793.0</td>\n",
       "      <td>2018-08-19-16-52-52</td>\n",
       "    </tr>\n",
       "    <tr>\n",
       "      <th>3</th>\n",
       "      <td>f16898132806785162608d0c0</td>\n",
       "      <td>999.533021</td>\n",
       "      <td>151.101185</td>\n",
       "      <td>-0.074583</td>\n",
       "      <td>0.5</td>\n",
       "      <td>0.992433</td>\n",
       "      <td>0.0</td>\n",
       "      <td>0.874410</td>\n",
       "      <td>793.0</td>\n",
       "      <td>2018-08-19-16-52-52</td>\n",
       "    </tr>\n",
       "    <tr>\n",
       "      <th>4</th>\n",
       "      <td>f11305406973771542514d0c0</td>\n",
       "      <td>1037.264179</td>\n",
       "      <td>139.694832</td>\n",
       "      <td>0.111126</td>\n",
       "      <td>0.6</td>\n",
       "      <td>0.962261</td>\n",
       "      <td>0.0</td>\n",
       "      <td>0.874410</td>\n",
       "      <td>793.0</td>\n",
       "      <td>2018-08-19-16-52-52</td>\n",
       "    </tr>\n",
       "    <tr>\n",
       "      <th>5</th>\n",
       "      <td>f15385388925154222279d1c0</td>\n",
       "      <td>1049.828773</td>\n",
       "      <td>139.267897</td>\n",
       "      <td>0.100314</td>\n",
       "      <td>0.7</td>\n",
       "      <td>0.996251</td>\n",
       "      <td>0.0</td>\n",
       "      <td>0.874410</td>\n",
       "      <td>793.0</td>\n",
       "      <td>2018-08-19-16-52-52</td>\n",
       "    </tr>\n",
       "    <tr>\n",
       "      <th>6</th>\n",
       "      <td>f11546775848204856048d0c0</td>\n",
       "      <td>1049.892881</td>\n",
       "      <td>164.813738</td>\n",
       "      <td>0.445942</td>\n",
       "      <td>0.8</td>\n",
       "      <td>0.968032</td>\n",
       "      <td>0.0</td>\n",
       "      <td>0.874410</td>\n",
       "      <td>793.0</td>\n",
       "      <td>2018-08-19-16-52-52</td>\n",
       "    </tr>\n",
       "    <tr>\n",
       "      <th>7</th>\n",
       "      <td>f12901894171407934499d1c0</td>\n",
       "      <td>1037.219709</td>\n",
       "      <td>189.300098</td>\n",
       "      <td>0.254706</td>\n",
       "      <td>0.9</td>\n",
       "      <td>0.947535</td>\n",
       "      <td>0.0</td>\n",
       "      <td>0.874410</td>\n",
       "      <td>793.0</td>\n",
       "      <td>2018-08-19-16-52-52</td>\n",
       "    </tr>\n",
       "    <tr>\n",
       "      <th>8</th>\n",
       "      <td>f16849697806518099865d0c0</td>\n",
       "      <td>1049.828238</td>\n",
       "      <td>189.478880</td>\n",
       "      <td>0.244945</td>\n",
       "      <td>1.0</td>\n",
       "      <td>0.992318</td>\n",
       "      <td>0.0</td>\n",
       "      <td>0.874410</td>\n",
       "      <td>793.0</td>\n",
       "      <td>2018-08-19-16-52-52</td>\n",
       "    </tr>\n",
       "    <tr>\n",
       "      <th>9</th>\n",
       "      <td>f11578931544662934728d0c0</td>\n",
       "      <td>1062.589064</td>\n",
       "      <td>176.510939</td>\n",
       "      <td>0.176081</td>\n",
       "      <td>1.1</td>\n",
       "      <td>0.975000</td>\n",
       "      <td>0.0</td>\n",
       "      <td>0.874410</td>\n",
       "      <td>793.0</td>\n",
       "      <td>2018-08-19-16-52-52</td>\n",
       "    </tr>\n",
       "    <tr>\n",
       "      <th>10</th>\n",
       "      <td>f11374915338304016383d0c0</td>\n",
       "      <td>1062.292330</td>\n",
       "      <td>164.749271</td>\n",
       "      <td>0.174115</td>\n",
       "      <td>1.2</td>\n",
       "      <td>0.990375</td>\n",
       "      <td>0.0</td>\n",
       "      <td>0.874410</td>\n",
       "      <td>793.0</td>\n",
       "      <td>2018-08-19-16-52-52</td>\n",
       "    </tr>\n",
       "    <tr>\n",
       "      <th>11</th>\n",
       "      <td>f17327963790552021665d0c0</td>\n",
       "      <td>1062.095600</td>\n",
       "      <td>164.198944</td>\n",
       "      <td>0.073834</td>\n",
       "      <td>1.3</td>\n",
       "      <td>0.998981</td>\n",
       "      <td>0.0</td>\n",
       "      <td>0.874410</td>\n",
       "      <td>793.0</td>\n",
       "      <td>2018-08-19-16-52-52</td>\n",
       "    </tr>\n",
       "    <tr>\n",
       "      <th>12</th>\n",
       "      <td>f9267991540220016605d0c0</td>\n",
       "      <td>1075.321724</td>\n",
       "      <td>140.243555</td>\n",
       "      <td>0.037041</td>\n",
       "      <td>1.4</td>\n",
       "      <td>0.963976</td>\n",
       "      <td>0.0</td>\n",
       "      <td>0.874410</td>\n",
       "      <td>793.0</td>\n",
       "      <td>2018-08-19-16-52-52</td>\n",
       "    </tr>\n",
       "    <tr>\n",
       "      <th>13</th>\n",
       "      <td>f9579602841901156234d0c0</td>\n",
       "      <td>1087.981457</td>\n",
       "      <td>126.288151</td>\n",
       "      <td>-0.060762</td>\n",
       "      <td>1.5</td>\n",
       "      <td>0.997753</td>\n",
       "      <td>0.0</td>\n",
       "      <td>0.874410</td>\n",
       "      <td>793.0</td>\n",
       "      <td>2018-08-19-16-52-52</td>\n",
       "    </tr>\n",
       "    <tr>\n",
       "      <th>14</th>\n",
       "      <td>f10885104531800896412d1c0</td>\n",
       "      <td>1112.379208</td>\n",
       "      <td>127.213659</td>\n",
       "      <td>-0.114747</td>\n",
       "      <td>1.6</td>\n",
       "      <td>0.998661</td>\n",
       "      <td>0.0</td>\n",
       "      <td>0.874410</td>\n",
       "      <td>793.0</td>\n",
       "      <td>2018-08-19-16-52-52</td>\n",
       "    </tr>\n",
       "    <tr>\n",
       "      <th>15</th>\n",
       "      <td>f13798714362416723928d1c0</td>\n",
       "      <td>1125.953766</td>\n",
       "      <td>114.922937</td>\n",
       "      <td>-0.059143</td>\n",
       "      <td>1.7</td>\n",
       "      <td>0.837027</td>\n",
       "      <td>0.0</td>\n",
       "      <td>0.874410</td>\n",
       "      <td>793.0</td>\n",
       "      <td>2018-08-19-16-52-52</td>\n",
       "    </tr>\n",
       "    <tr>\n",
       "      <th>16</th>\n",
       "      <td>f12563068141878465768d1c0</td>\n",
       "      <td>1150.001743</td>\n",
       "      <td>114.630392</td>\n",
       "      <td>-0.326904</td>\n",
       "      <td>1.8</td>\n",
       "      <td>0.985648</td>\n",
       "      <td>0.0</td>\n",
       "      <td>0.874410</td>\n",
       "      <td>793.0</td>\n",
       "      <td>2018-08-19-16-52-52</td>\n",
       "    </tr>\n",
       "    <tr>\n",
       "      <th>17</th>\n",
       "      <td>f15505322112678624269d0c0</td>\n",
       "      <td>1211.998462</td>\n",
       "      <td>139.332840</td>\n",
       "      <td>-0.199449</td>\n",
       "      <td>1.9</td>\n",
       "      <td>0.825839</td>\n",
       "      <td>0.0</td>\n",
       "      <td>0.874410</td>\n",
       "      <td>793.0</td>\n",
       "      <td>2018-08-19-16-52-52</td>\n",
       "    </tr>\n",
       "    <tr>\n",
       "      <th>18</th>\n",
       "      <td>f10124465827556951676d0c0</td>\n",
       "      <td>1274.641992</td>\n",
       "      <td>189.456394</td>\n",
       "      <td>0.103440</td>\n",
       "      <td>2.0</td>\n",
       "      <td>0.980722</td>\n",
       "      <td>0.0</td>\n",
       "      <td>0.874410</td>\n",
       "      <td>793.0</td>\n",
       "      <td>2018-08-19-16-52-52</td>\n",
       "    </tr>\n",
       "    <tr>\n",
       "      <th>19</th>\n",
       "      <td>f11271323223155947239d1c0</td>\n",
       "      <td>1337.677979</td>\n",
       "      <td>240.351971</td>\n",
       "      <td>0.273234</td>\n",
       "      <td>2.1</td>\n",
       "      <td>0.947300</td>\n",
       "      <td>0.0</td>\n",
       "      <td>0.874410</td>\n",
       "      <td>793.0</td>\n",
       "      <td>2018-08-19-16-52-52</td>\n",
       "    </tr>\n",
       "    <tr>\n",
       "      <th>20</th>\n",
       "      <td>f9543524453766632317d0c0</td>\n",
       "      <td>1387.769102</td>\n",
       "      <td>264.878345</td>\n",
       "      <td>0.168714</td>\n",
       "      <td>2.2</td>\n",
       "      <td>0.987266</td>\n",
       "      <td>0.0</td>\n",
       "      <td>0.874410</td>\n",
       "      <td>793.0</td>\n",
       "      <td>2018-08-19-16-52-52</td>\n",
       "    </tr>\n",
       "    <tr>\n",
       "      <th>21</th>\n",
       "      <td>f12878252803798603437d0c0</td>\n",
       "      <td>1424.880671</td>\n",
       "      <td>265.674850</td>\n",
       "      <td>0.286851</td>\n",
       "      <td>2.4</td>\n",
       "      <td>0.280216</td>\n",
       "      <td>0.0</td>\n",
       "      <td>0.874410</td>\n",
       "      <td>793.0</td>\n",
       "      <td>2018-08-19-16-52-52</td>\n",
       "    </tr>\n",
       "    <tr>\n",
       "      <th>22</th>\n",
       "      <td>f12744511151584731802d0c0</td>\n",
       "      <td>552.283470</td>\n",
       "      <td>176.766466</td>\n",
       "      <td>-0.303078</td>\n",
       "      <td>7.1</td>\n",
       "      <td>0.849712</td>\n",
       "      <td>1.0</td>\n",
       "      <td>0.400301</td>\n",
       "      <td>1174.0</td>\n",
       "      <td>2018-08-19-16-52-52</td>\n",
       "    </tr>\n",
       "    <tr>\n",
       "      <th>23</th>\n",
       "      <td>f10560361715025099193d0c0</td>\n",
       "      <td>576.361868</td>\n",
       "      <td>201.040096</td>\n",
       "      <td>-0.140665</td>\n",
       "      <td>7.2</td>\n",
       "      <td>0.999368</td>\n",
       "      <td>1.0</td>\n",
       "      <td>0.400301</td>\n",
       "      <td>1174.0</td>\n",
       "      <td>2018-08-19-16-52-52</td>\n",
       "    </tr>\n",
       "    <tr>\n",
       "      <th>24</th>\n",
       "      <td>f10648060533551672216d0c0</td>\n",
       "      <td>526.622108</td>\n",
       "      <td>213.787857</td>\n",
       "      <td>-0.018139</td>\n",
       "      <td>7.3</td>\n",
       "      <td>0.170168</td>\n",
       "      <td>1.0</td>\n",
       "      <td>0.400301</td>\n",
       "      <td>1174.0</td>\n",
       "      <td>2018-08-19-16-52-52</td>\n",
       "    </tr>\n",
       "    <tr>\n",
       "      <th>25</th>\n",
       "      <td>f14698340013144909309d0c0</td>\n",
       "      <td>464.495396</td>\n",
       "      <td>212.148649</td>\n",
       "      <td>1.215211</td>\n",
       "      <td>7.5</td>\n",
       "      <td>0.419437</td>\n",
       "      <td>1.0</td>\n",
       "      <td>0.400301</td>\n",
       "      <td>1174.0</td>\n",
       "      <td>2018-08-19-16-52-52</td>\n",
       "    </tr>\n",
       "    <tr>\n",
       "      <th>26</th>\n",
       "      <td>f17171566258005206087d0c0</td>\n",
       "      <td>527.164658</td>\n",
       "      <td>151.622086</td>\n",
       "      <td>-0.154414</td>\n",
       "      <td>15.4</td>\n",
       "      <td>0.929552</td>\n",
       "      <td>1.0</td>\n",
       "      <td>0.400301</td>\n",
       "      <td>1174.0</td>\n",
       "      <td>2018-08-19-16-52-52</td>\n",
       "    </tr>\n",
       "    <tr>\n",
       "      <th>27</th>\n",
       "      <td>f17525173311977404188d0c0</td>\n",
       "      <td>526.290293</td>\n",
       "      <td>189.402737</td>\n",
       "      <td>0.201338</td>\n",
       "      <td>15.5</td>\n",
       "      <td>0.998311</td>\n",
       "      <td>1.0</td>\n",
       "      <td>0.400301</td>\n",
       "      <td>1174.0</td>\n",
       "      <td>2018-08-19-16-52-52</td>\n",
       "    </tr>\n",
       "    <tr>\n",
       "      <th>28</th>\n",
       "      <td>f16014932107376153050d0c0</td>\n",
       "      <td>539.764828</td>\n",
       "      <td>251.078180</td>\n",
       "      <td>0.357268</td>\n",
       "      <td>15.7</td>\n",
       "      <td>0.083472</td>\n",
       "      <td>1.0</td>\n",
       "      <td>0.400301</td>\n",
       "      <td>1174.0</td>\n",
       "      <td>2018-08-19-16-52-52</td>\n",
       "    </tr>\n",
       "    <tr>\n",
       "      <th>29</th>\n",
       "      <td>f16972239692061886723d0c0</td>\n",
       "      <td>565.080351</td>\n",
       "      <td>250.168032</td>\n",
       "      <td>0.626406</td>\n",
       "      <td>15.8</td>\n",
       "      <td>0.276670</td>\n",
       "      <td>1.0</td>\n",
       "      <td>0.400301</td>\n",
       "      <td>1174.0</td>\n",
       "      <td>2018-08-19-16-52-52</td>\n",
       "    </tr>\n",
       "    <tr>\n",
       "      <th>30</th>\n",
       "      <td>f9656252821417195682d0c0</td>\n",
       "      <td>624.708662</td>\n",
       "      <td>239.300390</td>\n",
       "      <td>0.567320</td>\n",
       "      <td>15.9</td>\n",
       "      <td>0.995479</td>\n",
       "      <td>1.0</td>\n",
       "      <td>0.400301</td>\n",
       "      <td>1174.0</td>\n",
       "      <td>2018-08-19-16-52-52</td>\n",
       "    </tr>\n",
       "    <tr>\n",
       "      <th>31</th>\n",
       "      <td>f16850698481796563307d0c0</td>\n",
       "      <td>675.132183</td>\n",
       "      <td>251.672920</td>\n",
       "      <td>0.137373</td>\n",
       "      <td>16.0</td>\n",
       "      <td>0.997333</td>\n",
       "      <td>1.0</td>\n",
       "      <td>0.400301</td>\n",
       "      <td>1174.0</td>\n",
       "      <td>2018-08-19-16-52-52</td>\n",
       "    </tr>\n",
       "    <tr>\n",
       "      <th>32</th>\n",
       "      <td>f11399348860036281591d0c0</td>\n",
       "      <td>737.125638</td>\n",
       "      <td>239.553240</td>\n",
       "      <td>-0.027981</td>\n",
       "      <td>16.1</td>\n",
       "      <td>0.905423</td>\n",
       "      <td>1.0</td>\n",
       "      <td>0.400301</td>\n",
       "      <td>1174.0</td>\n",
       "      <td>2018-08-19-16-52-52</td>\n",
       "    </tr>\n",
       "    <tr>\n",
       "      <th>33</th>\n",
       "      <td>f15498502665705486591d0c0</td>\n",
       "      <td>774.596253</td>\n",
       "      <td>189.443848</td>\n",
       "      <td>-0.265071</td>\n",
       "      <td>16.2</td>\n",
       "      <td>0.973179</td>\n",
       "      <td>1.0</td>\n",
       "      <td>0.400301</td>\n",
       "      <td>1174.0</td>\n",
       "      <td>2018-08-19-16-52-52</td>\n",
       "    </tr>\n",
       "    <tr>\n",
       "      <th>34</th>\n",
       "      <td>f16526971515386094676d0c0</td>\n",
       "      <td>786.380424</td>\n",
       "      <td>126.248533</td>\n",
       "      <td>-0.628639</td>\n",
       "      <td>16.3</td>\n",
       "      <td>0.970390</td>\n",
       "      <td>1.0</td>\n",
       "      <td>0.400301</td>\n",
       "      <td>1174.0</td>\n",
       "      <td>2018-08-19-16-52-52</td>\n",
       "    </tr>\n",
       "    <tr>\n",
       "      <th>35</th>\n",
       "      <td>f17221946036296350030d0c0</td>\n",
       "      <td>836.434879</td>\n",
       "      <td>114.970886</td>\n",
       "      <td>-0.424019</td>\n",
       "      <td>16.4</td>\n",
       "      <td>0.882969</td>\n",
       "      <td>1.0</td>\n",
       "      <td>0.400301</td>\n",
       "      <td>1174.0</td>\n",
       "      <td>2018-08-19-16-52-52</td>\n",
       "    </tr>\n",
       "    <tr>\n",
       "      <th>36</th>\n",
       "      <td>f16998922488112330038d0c0</td>\n",
       "      <td>875.161816</td>\n",
       "      <td>138.994143</td>\n",
       "      <td>-0.327521</td>\n",
       "      <td>16.5</td>\n",
       "      <td>0.978402</td>\n",
       "      <td>1.0</td>\n",
       "      <td>0.400301</td>\n",
       "      <td>1174.0</td>\n",
       "      <td>2018-08-19-16-52-52</td>\n",
       "    </tr>\n",
       "    <tr>\n",
       "      <th>37</th>\n",
       "      <td>f14521407581671953608d0c0</td>\n",
       "      <td>887.600876</td>\n",
       "      <td>201.161228</td>\n",
       "      <td>0.136763</td>\n",
       "      <td>16.6</td>\n",
       "      <td>0.994509</td>\n",
       "      <td>1.0</td>\n",
       "      <td>0.400301</td>\n",
       "      <td>1174.0</td>\n",
       "      <td>2018-08-19-16-52-52</td>\n",
       "    </tr>\n",
       "    <tr>\n",
       "      <th>38</th>\n",
       "      <td>f12613466954515260102d0c0</td>\n",
       "      <td>765.143511</td>\n",
       "      <td>211.499795</td>\n",
       "      <td>1.345715</td>\n",
       "      <td>16.9</td>\n",
       "      <td>0.723734</td>\n",
       "      <td>1.0</td>\n",
       "      <td>0.400301</td>\n",
       "      <td>1174.0</td>\n",
       "      <td>2018-08-19-16-52-52</td>\n",
       "    </tr>\n",
       "    <tr>\n",
       "      <th>39</th>\n",
       "      <td>f9546390045258586461d0c0</td>\n",
       "      <td>713.662020</td>\n",
       "      <td>198.306220</td>\n",
       "      <td>2.182944</td>\n",
       "      <td>17.0</td>\n",
       "      <td>0.164203</td>\n",
       "      <td>1.0</td>\n",
       "      <td>0.400301</td>\n",
       "      <td>1174.0</td>\n",
       "      <td>2018-08-19-16-52-52</td>\n",
       "    </tr>\n",
       "    <tr>\n",
       "      <th>40</th>\n",
       "      <td>f15557359019639019791d0c0</td>\n",
       "      <td>663.025003</td>\n",
       "      <td>148.283064</td>\n",
       "      <td>2.648703</td>\n",
       "      <td>17.1</td>\n",
       "      <td>0.253148</td>\n",
       "      <td>1.0</td>\n",
       "      <td>0.400301</td>\n",
       "      <td>1174.0</td>\n",
       "      <td>2018-08-19-16-52-52</td>\n",
       "    </tr>\n",
       "    <tr>\n",
       "      <th>41</th>\n",
       "      <td>f9566424932996105178d0c0</td>\n",
       "      <td>612.312050</td>\n",
       "      <td>98.973229</td>\n",
       "      <td>-3.070499</td>\n",
       "      <td>17.2</td>\n",
       "      <td>0.127422</td>\n",
       "      <td>1.0</td>\n",
       "      <td>0.400301</td>\n",
       "      <td>1174.0</td>\n",
       "      <td>2018-08-19-16-52-52</td>\n",
       "    </tr>\n",
       "    <tr>\n",
       "      <th>42</th>\n",
       "      <td>f15525934779175265858d0c0</td>\n",
       "      <td>625.253429</td>\n",
       "      <td>100.879698</td>\n",
       "      <td>-2.790398</td>\n",
       "      <td>17.4</td>\n",
       "      <td>0.369605</td>\n",
       "      <td>1.0</td>\n",
       "      <td>0.400301</td>\n",
       "      <td>1174.0</td>\n",
       "      <td>2018-08-19-16-52-52</td>\n",
       "    </tr>\n",
       "    <tr>\n",
       "      <th>43</th>\n",
       "      <td>f15502341656390466817d0c0</td>\n",
       "      <td>638.046867</td>\n",
       "      <td>138.350819</td>\n",
       "      <td>-2.914556</td>\n",
       "      <td>17.5</td>\n",
       "      <td>0.253242</td>\n",
       "      <td>1.0</td>\n",
       "      <td>0.400301</td>\n",
       "      <td>1174.0</td>\n",
       "      <td>2018-08-19-16-52-52</td>\n",
       "    </tr>\n",
       "    <tr>\n",
       "      <th>44</th>\n",
       "      <td>f11436714692031720292d0c0</td>\n",
       "      <td>637.468431</td>\n",
       "      <td>100.575773</td>\n",
       "      <td>-2.485975</td>\n",
       "      <td>17.6</td>\n",
       "      <td>0.302529</td>\n",
       "      <td>1.0</td>\n",
       "      <td>0.400301</td>\n",
       "      <td>1174.0</td>\n",
       "      <td>2018-08-19-16-52-52</td>\n",
       "    </tr>\n",
       "    <tr>\n",
       "      <th>45</th>\n",
       "      <td>f11828856925326918551d0c0</td>\n",
       "      <td>624.585100</td>\n",
       "      <td>99.604052</td>\n",
       "      <td>-2.592233</td>\n",
       "      <td>17.7</td>\n",
       "      <td>0.906266</td>\n",
       "      <td>1.0</td>\n",
       "      <td>0.400301</td>\n",
       "      <td>1174.0</td>\n",
       "      <td>2018-08-19-16-52-52</td>\n",
       "    </tr>\n",
       "    <tr>\n",
       "      <th>46</th>\n",
       "      <td>f16466096039841741980d0c0</td>\n",
       "      <td>575.802359</td>\n",
       "      <td>138.061569</td>\n",
       "      <td>-2.994011</td>\n",
       "      <td>17.8</td>\n",
       "      <td>0.406464</td>\n",
       "      <td>1.0</td>\n",
       "      <td>0.400301</td>\n",
       "      <td>1174.0</td>\n",
       "      <td>2018-08-19-16-52-52</td>\n",
       "    </tr>\n",
       "    <tr>\n",
       "      <th>47</th>\n",
       "      <td>f16760209276936129321d0c0</td>\n",
       "      <td>524.992393</td>\n",
       "      <td>111.919994</td>\n",
       "      <td>-2.707248</td>\n",
       "      <td>17.9</td>\n",
       "      <td>0.919283</td>\n",
       "      <td>1.0</td>\n",
       "      <td>0.400301</td>\n",
       "      <td>1174.0</td>\n",
       "      <td>2018-08-19-16-52-52</td>\n",
       "    </tr>\n",
       "    <tr>\n",
       "      <th>48</th>\n",
       "      <td>f10812774774978276908d0c0</td>\n",
       "      <td>487.839573</td>\n",
       "      <td>136.324939</td>\n",
       "      <td>-2.813741</td>\n",
       "      <td>18.0</td>\n",
       "      <td>0.692739</td>\n",
       "      <td>1.0</td>\n",
       "      <td>0.400301</td>\n",
       "      <td>1174.0</td>\n",
       "      <td>2018-08-19-16-52-52</td>\n",
       "    </tr>\n",
       "  </tbody>\n",
       "</table>\n",
       "</div>"
      ],
      "text/plain": [
       "                           id         xpos        ypos  zrotation  timestamp  \\\n",
       "0   f17745262213455944850d0c0   837.337231  100.917238  -0.353094        0.0   \n",
       "1   f14267357616683677421d0c0   887.020819  101.098423  -0.253130        0.1   \n",
       "2   f17519573800468124328d0c0   936.745340  138.785250  -0.094255        0.4   \n",
       "3   f16898132806785162608d0c0   999.533021  151.101185  -0.074583        0.5   \n",
       "4   f11305406973771542514d0c0  1037.264179  139.694832   0.111126        0.6   \n",
       "5   f15385388925154222279d1c0  1049.828773  139.267897   0.100314        0.7   \n",
       "6   f11546775848204856048d0c0  1049.892881  164.813738   0.445942        0.8   \n",
       "7   f12901894171407934499d1c0  1037.219709  189.300098   0.254706        0.9   \n",
       "8   f16849697806518099865d0c0  1049.828238  189.478880   0.244945        1.0   \n",
       "9   f11578931544662934728d0c0  1062.589064  176.510939   0.176081        1.1   \n",
       "10  f11374915338304016383d0c0  1062.292330  164.749271   0.174115        1.2   \n",
       "11  f17327963790552021665d0c0  1062.095600  164.198944   0.073834        1.3   \n",
       "12   f9267991540220016605d0c0  1075.321724  140.243555   0.037041        1.4   \n",
       "13   f9579602841901156234d0c0  1087.981457  126.288151  -0.060762        1.5   \n",
       "14  f10885104531800896412d1c0  1112.379208  127.213659  -0.114747        1.6   \n",
       "15  f13798714362416723928d1c0  1125.953766  114.922937  -0.059143        1.7   \n",
       "16  f12563068141878465768d1c0  1150.001743  114.630392  -0.326904        1.8   \n",
       "17  f15505322112678624269d0c0  1211.998462  139.332840  -0.199449        1.9   \n",
       "18  f10124465827556951676d0c0  1274.641992  189.456394   0.103440        2.0   \n",
       "19  f11271323223155947239d1c0  1337.677979  240.351971   0.273234        2.1   \n",
       "20   f9543524453766632317d0c0  1387.769102  264.878345   0.168714        2.2   \n",
       "21  f12878252803798603437d0c0  1424.880671  265.674850   0.286851        2.4   \n",
       "22  f12744511151584731802d0c0   552.283470  176.766466  -0.303078        7.1   \n",
       "23  f10560361715025099193d0c0   576.361868  201.040096  -0.140665        7.2   \n",
       "24  f10648060533551672216d0c0   526.622108  213.787857  -0.018139        7.3   \n",
       "25  f14698340013144909309d0c0   464.495396  212.148649   1.215211        7.5   \n",
       "26  f17171566258005206087d0c0   527.164658  151.622086  -0.154414       15.4   \n",
       "27  f17525173311977404188d0c0   526.290293  189.402737   0.201338       15.5   \n",
       "28  f16014932107376153050d0c0   539.764828  251.078180   0.357268       15.7   \n",
       "29  f16972239692061886723d0c0   565.080351  250.168032   0.626406       15.8   \n",
       "30   f9656252821417195682d0c0   624.708662  239.300390   0.567320       15.9   \n",
       "31  f16850698481796563307d0c0   675.132183  251.672920   0.137373       16.0   \n",
       "32  f11399348860036281591d0c0   737.125638  239.553240  -0.027981       16.1   \n",
       "33  f15498502665705486591d0c0   774.596253  189.443848  -0.265071       16.2   \n",
       "34  f16526971515386094676d0c0   786.380424  126.248533  -0.628639       16.3   \n",
       "35  f17221946036296350030d0c0   836.434879  114.970886  -0.424019       16.4   \n",
       "36  f16998922488112330038d0c0   875.161816  138.994143  -0.327521       16.5   \n",
       "37  f14521407581671953608d0c0   887.600876  201.161228   0.136763       16.6   \n",
       "38  f12613466954515260102d0c0   765.143511  211.499795   1.345715       16.9   \n",
       "39   f9546390045258586461d0c0   713.662020  198.306220   2.182944       17.0   \n",
       "40  f15557359019639019791d0c0   663.025003  148.283064   2.648703       17.1   \n",
       "41   f9566424932996105178d0c0   612.312050   98.973229  -3.070499       17.2   \n",
       "42  f15525934779175265858d0c0   625.253429  100.879698  -2.790398       17.4   \n",
       "43  f15502341656390466817d0c0   638.046867  138.350819  -2.914556       17.5   \n",
       "44  f11436714692031720292d0c0   637.468431  100.575773  -2.485975       17.6   \n",
       "45  f11828856925326918551d0c0   624.585100   99.604052  -2.592233       17.7   \n",
       "46  f16466096039841741980d0c0   575.802359  138.061569  -2.994011       17.8   \n",
       "47  f16760209276936129321d0c0   524.992393  111.919994  -2.707248       17.9   \n",
       "48  f10812774774978276908d0c0   487.839573  136.324939  -2.813741       18.0   \n",
       "\n",
       "    confidence  track_id  track_confidence  bee_id                video  \n",
       "0     0.761272       0.0          0.874410   793.0  2018-08-19-16-52-52  \n",
       "1     0.997726       0.0          0.874410   793.0  2018-08-19-16-52-52  \n",
       "2     0.977464       0.0          0.874410   793.0  2018-08-19-16-52-52  \n",
       "3     0.992433       0.0          0.874410   793.0  2018-08-19-16-52-52  \n",
       "4     0.962261       0.0          0.874410   793.0  2018-08-19-16-52-52  \n",
       "5     0.996251       0.0          0.874410   793.0  2018-08-19-16-52-52  \n",
       "6     0.968032       0.0          0.874410   793.0  2018-08-19-16-52-52  \n",
       "7     0.947535       0.0          0.874410   793.0  2018-08-19-16-52-52  \n",
       "8     0.992318       0.0          0.874410   793.0  2018-08-19-16-52-52  \n",
       "9     0.975000       0.0          0.874410   793.0  2018-08-19-16-52-52  \n",
       "10    0.990375       0.0          0.874410   793.0  2018-08-19-16-52-52  \n",
       "11    0.998981       0.0          0.874410   793.0  2018-08-19-16-52-52  \n",
       "12    0.963976       0.0          0.874410   793.0  2018-08-19-16-52-52  \n",
       "13    0.997753       0.0          0.874410   793.0  2018-08-19-16-52-52  \n",
       "14    0.998661       0.0          0.874410   793.0  2018-08-19-16-52-52  \n",
       "15    0.837027       0.0          0.874410   793.0  2018-08-19-16-52-52  \n",
       "16    0.985648       0.0          0.874410   793.0  2018-08-19-16-52-52  \n",
       "17    0.825839       0.0          0.874410   793.0  2018-08-19-16-52-52  \n",
       "18    0.980722       0.0          0.874410   793.0  2018-08-19-16-52-52  \n",
       "19    0.947300       0.0          0.874410   793.0  2018-08-19-16-52-52  \n",
       "20    0.987266       0.0          0.874410   793.0  2018-08-19-16-52-52  \n",
       "21    0.280216       0.0          0.874410   793.0  2018-08-19-16-52-52  \n",
       "22    0.849712       1.0          0.400301  1174.0  2018-08-19-16-52-52  \n",
       "23    0.999368       1.0          0.400301  1174.0  2018-08-19-16-52-52  \n",
       "24    0.170168       1.0          0.400301  1174.0  2018-08-19-16-52-52  \n",
       "25    0.419437       1.0          0.400301  1174.0  2018-08-19-16-52-52  \n",
       "26    0.929552       1.0          0.400301  1174.0  2018-08-19-16-52-52  \n",
       "27    0.998311       1.0          0.400301  1174.0  2018-08-19-16-52-52  \n",
       "28    0.083472       1.0          0.400301  1174.0  2018-08-19-16-52-52  \n",
       "29    0.276670       1.0          0.400301  1174.0  2018-08-19-16-52-52  \n",
       "30    0.995479       1.0          0.400301  1174.0  2018-08-19-16-52-52  \n",
       "31    0.997333       1.0          0.400301  1174.0  2018-08-19-16-52-52  \n",
       "32    0.905423       1.0          0.400301  1174.0  2018-08-19-16-52-52  \n",
       "33    0.973179       1.0          0.400301  1174.0  2018-08-19-16-52-52  \n",
       "34    0.970390       1.0          0.400301  1174.0  2018-08-19-16-52-52  \n",
       "35    0.882969       1.0          0.400301  1174.0  2018-08-19-16-52-52  \n",
       "36    0.978402       1.0          0.400301  1174.0  2018-08-19-16-52-52  \n",
       "37    0.994509       1.0          0.400301  1174.0  2018-08-19-16-52-52  \n",
       "38    0.723734       1.0          0.400301  1174.0  2018-08-19-16-52-52  \n",
       "39    0.164203       1.0          0.400301  1174.0  2018-08-19-16-52-52  \n",
       "40    0.253148       1.0          0.400301  1174.0  2018-08-19-16-52-52  \n",
       "41    0.127422       1.0          0.400301  1174.0  2018-08-19-16-52-52  \n",
       "42    0.369605       1.0          0.400301  1174.0  2018-08-19-16-52-52  \n",
       "43    0.253242       1.0          0.400301  1174.0  2018-08-19-16-52-52  \n",
       "44    0.302529       1.0          0.400301  1174.0  2018-08-19-16-52-52  \n",
       "45    0.906266       1.0          0.400301  1174.0  2018-08-19-16-52-52  \n",
       "46    0.406464       1.0          0.400301  1174.0  2018-08-19-16-52-52  \n",
       "47    0.919283       1.0          0.400301  1174.0  2018-08-19-16-52-52  \n",
       "48    0.692739       1.0          0.400301  1174.0  2018-08-19-16-52-52  "
      ]
     },
     "execution_count": 13,
     "metadata": {},
     "output_type": "execute_result"
    }
   ],
   "source": [
    "tracks"
   ]
  },
  {
   "cell_type": "code",
   "execution_count": 14,
   "metadata": {
    "ExecuteTime": {
     "end_time": "2019-03-11T17:47:41.151445Z",
     "start_time": "2019-03-11T17:47:41.144410Z"
    }
   },
   "outputs": [],
   "source": [
    "# ERGEBNIS-DICT, kann mit pd.DataFrame(data=bee_moves) in DataFrame gewandelt werden\n",
    "bee_moves = {\"bee_id\":[], \"time_in\":[], \"os_in\":[], \"time_out\":[], \"os_out\":[], \"in_direction\":[], \"out_direction\":[]}"
   ]
  },
  {
   "cell_type": "markdown",
   "metadata": {},
   "source": [
    "# Algorithmus 1: Baseline"
   ]
  },
  {
   "cell_type": "code",
   "execution_count": 190,
   "metadata": {
    "ExecuteTime": {
     "end_time": "2019-03-11T17:47:42.739954Z",
     "start_time": "2019-03-11T17:47:42.723377Z"
    },
    "code_folding": []
   },
   "outputs": [],
   "source": [
    "\"\"\" Vorgehen:\n",
    "Für jedes Video\n",
    "- Prüfe, wo sich die Biene beim ersten erkannten Erscheinen aufhält\n",
    "    - Ordne die Position in left, right oder middle ein\n",
    "- Prüfe, wo sich die Biene beim letzten erkannten Erscheinen aufhält\n",
    "    - Ordne die Position in left, right oder middle ein\n",
    "Daraus kann nun abgeleitet werden, wo die Biene reingekommen ist und wo sie rausgegangen ist\n",
    "\"\"\"\n",
    "\n",
    "def baseline_alg_classify_bee():\n",
    "    video_groups = tracks.groupby([\"video\"])\n",
    "    for group_name, df_group in video_groups:\n",
    "        movement = dict()\n",
    "        recording_begin = group_name\n",
    "\n",
    "        # Finde start- und endposition\n",
    "        for row in df_group.itertuples():\n",
    "            bee_id = row[9]\n",
    "            xpos = row[2]\n",
    "            ypos = row[3]\n",
    "            timestamp = row[5]\n",
    "\n",
    "            if bee_id in movement.keys():\n",
    "                if not movement[bee_id]: #hier wird value betrachtet\n",
    "                    # Aufbau movement[bee_id] = \n",
    "                    # [(xpos_anfang, ypos_anfang), (xpos_ende, ypos_ende), time_in bzw. time_out, os_in, os_out]\n",
    "                    movement[bee_id] = [(xpos, ypos), (xpos, ypos), recording_begin, timestamp, timestamp]\n",
    "                else: #spätere detection in Video -> aktualisiere\n",
    "                    movement[bee_id][1] = (xpos, ypos)\n",
    "                    movement[bee_id][-1] = timestamp\n",
    "            else:\n",
    "                movement[bee_id] = [(xpos, ypos), (xpos, ypos), recording_begin, timestamp, timestamp]\n",
    "\n",
    "        def is_left(xpos):\n",
    "            return xpos <= config[\"left_leaving_area\"]*config[\"px_x_resolution_vid\"]\n",
    "        def is_right(xpos):\n",
    "            return xpos >= config[\"px_x_resolution_vid\"] - config[\"right_leaving_area\"]*config[\"px_x_resolution_vid\"]\n",
    "\n",
    "        # Setze labels, entferne andere Daten\n",
    "        for bee_id in movement.keys():\n",
    "            start_pos = movement[bee_id][0]\n",
    "            end_pos = movement[bee_id][1]\n",
    "            labels = dict()\n",
    "\n",
    "            # Eintrittsseite festlegen\n",
    "            if is_left(start_pos[0]):\n",
    "                labels[\"in_direction\"] = \"left\"\n",
    "            elif is_right(start_pos[0]):\n",
    "                labels[\"in_direction\"] = \"right\"\n",
    "            else:\n",
    "                labels[\"in_direction\"] = \"middle\"\n",
    "\n",
    "            # Austrittsseite festlegen\n",
    "            if is_left(end_pos[0]):\n",
    "                labels[\"out_direction\"] = \"left\"\n",
    "            elif is_right(end_pos[0]):\n",
    "                labels[\"out_direction\"] = \"right\"\n",
    "            else:\n",
    "                labels[\"out_direction\"] = \"middle\"\n",
    "\n",
    "            bee_moves[\"bee_id\"].append(bee_id)\n",
    "            bee_moves[\"in_direction\"].append(labels[\"in_direction\"])\n",
    "            bee_moves[\"out_direction\"].append(labels[\"out_direction\"])\n",
    "            bee_moves[\"time_in\"].append(movement[bee_id][2])\n",
    "            bee_moves[\"time_out\"].append(movement[bee_id][2])\n",
    "            bee_moves[\"os_in\"].append(movement[bee_id][3])\n",
    "            bee_moves[\"os_out\"].append(movement[bee_id][4])"
   ]
  },
  {
   "cell_type": "code",
   "execution_count": 127,
   "metadata": {
    "ExecuteTime": {
     "end_time": "2019-03-11T17:47:43.966820Z",
     "start_time": "2019-03-11T17:47:43.927564Z"
    }
   },
   "outputs": [
    {
     "ename": "TypeError",
     "evalue": "cannot concatenate object of type \"<class 'float'>\"; only pd.Series, pd.DataFrame, and pd.Panel (deprecated) objs are valid",
     "output_type": "error",
     "traceback": [
      "\u001b[0;31m---------------------------------------------------------------------------\u001b[0m",
      "\u001b[0;31mTypeError\u001b[0m                                 Traceback (most recent call last)",
      "\u001b[0;32m<ipython-input-127-10c25e893841>\u001b[0m in \u001b[0;36m<module>\u001b[0;34m\u001b[0m\n\u001b[1;32m      1\u001b[0m \u001b[0;31m# Ausgeben\u001b[0m\u001b[0;34m\u001b[0m\u001b[0;34m\u001b[0m\u001b[0;34m\u001b[0m\u001b[0m\n\u001b[0;32m----> 2\u001b[0;31m \u001b[0mbaseline_alg_classify_bee\u001b[0m\u001b[0;34m(\u001b[0m\u001b[0;34m)\u001b[0m\u001b[0;34m\u001b[0m\u001b[0;34m\u001b[0m\u001b[0m\n\u001b[0m\u001b[1;32m      3\u001b[0m \u001b[0mbee_moves\u001b[0m \u001b[0;34m=\u001b[0m \u001b[0mpd\u001b[0m\u001b[0;34m.\u001b[0m\u001b[0mDataFrame\u001b[0m\u001b[0;34m(\u001b[0m\u001b[0mdata\u001b[0m\u001b[0;34m=\u001b[0m\u001b[0mbee_moves\u001b[0m\u001b[0;34m)\u001b[0m\u001b[0;34m\u001b[0m\u001b[0;34m\u001b[0m\u001b[0m\n\u001b[1;32m      4\u001b[0m \u001b[0mbee_moves\u001b[0m\u001b[0;34m\u001b[0m\u001b[0;34m\u001b[0m\u001b[0m\n",
      "\u001b[0;32m<ipython-input-126-bf3ae995832e>\u001b[0m in \u001b[0;36mbaseline_alg_classify_bee\u001b[0;34m()\u001b[0m\n\u001b[1;32m     59\u001b[0m                 \u001b[0mlabels\u001b[0m\u001b[0;34m[\u001b[0m\u001b[0;34m\"out_direction\"\u001b[0m\u001b[0;34m]\u001b[0m \u001b[0;34m=\u001b[0m \u001b[0;34m\"middle\"\u001b[0m\u001b[0;34m\u001b[0m\u001b[0;34m\u001b[0m\u001b[0m\n\u001b[1;32m     60\u001b[0m \u001b[0;34m\u001b[0m\u001b[0m\n\u001b[0;32m---> 61\u001b[0;31m             \u001b[0mbee_moves\u001b[0m\u001b[0;34m[\u001b[0m\u001b[0;34m\"bee_id\"\u001b[0m\u001b[0;34m]\u001b[0m\u001b[0;34m.\u001b[0m\u001b[0mappend\u001b[0m\u001b[0;34m(\u001b[0m\u001b[0mbee_id\u001b[0m\u001b[0;34m)\u001b[0m\u001b[0;34m\u001b[0m\u001b[0;34m\u001b[0m\u001b[0m\n\u001b[0m\u001b[1;32m     62\u001b[0m             \u001b[0mbee_moves\u001b[0m\u001b[0;34m[\u001b[0m\u001b[0;34m\"in_direction\"\u001b[0m\u001b[0;34m]\u001b[0m\u001b[0;34m.\u001b[0m\u001b[0mappend\u001b[0m\u001b[0;34m(\u001b[0m\u001b[0mlabels\u001b[0m\u001b[0;34m[\u001b[0m\u001b[0;34m\"in_direction\"\u001b[0m\u001b[0;34m]\u001b[0m\u001b[0;34m)\u001b[0m\u001b[0;34m\u001b[0m\u001b[0;34m\u001b[0m\u001b[0m\n\u001b[1;32m     63\u001b[0m             \u001b[0mbee_moves\u001b[0m\u001b[0;34m[\u001b[0m\u001b[0;34m\"out_direction\"\u001b[0m\u001b[0;34m]\u001b[0m\u001b[0;34m.\u001b[0m\u001b[0mappend\u001b[0m\u001b[0;34m(\u001b[0m\u001b[0mlabels\u001b[0m\u001b[0;34m[\u001b[0m\u001b[0;34m\"out_direction\"\u001b[0m\u001b[0;34m]\u001b[0m\u001b[0;34m)\u001b[0m\u001b[0;34m\u001b[0m\u001b[0;34m\u001b[0m\u001b[0m\n",
      "\u001b[0;32m~/anaconda3/lib/python3.7/site-packages/pandas/core/series.py\u001b[0m in \u001b[0;36mappend\u001b[0;34m(self, to_append, ignore_index, verify_integrity)\u001b[0m\n\u001b[1;32m   2154\u001b[0m             \u001b[0mto_concat\u001b[0m \u001b[0;34m=\u001b[0m \u001b[0;34m[\u001b[0m\u001b[0mself\u001b[0m\u001b[0;34m,\u001b[0m \u001b[0mto_append\u001b[0m\u001b[0;34m]\u001b[0m\u001b[0;34m\u001b[0m\u001b[0;34m\u001b[0m\u001b[0m\n\u001b[1;32m   2155\u001b[0m         return concat(to_concat, ignore_index=ignore_index,\n\u001b[0;32m-> 2156\u001b[0;31m                       verify_integrity=verify_integrity)\n\u001b[0m\u001b[1;32m   2157\u001b[0m \u001b[0;34m\u001b[0m\u001b[0m\n\u001b[1;32m   2158\u001b[0m     \u001b[0;32mdef\u001b[0m \u001b[0m_binop\u001b[0m\u001b[0;34m(\u001b[0m\u001b[0mself\u001b[0m\u001b[0;34m,\u001b[0m \u001b[0mother\u001b[0m\u001b[0;34m,\u001b[0m \u001b[0mfunc\u001b[0m\u001b[0;34m,\u001b[0m \u001b[0mlevel\u001b[0m\u001b[0;34m=\u001b[0m\u001b[0;32mNone\u001b[0m\u001b[0;34m,\u001b[0m \u001b[0mfill_value\u001b[0m\u001b[0;34m=\u001b[0m\u001b[0;32mNone\u001b[0m\u001b[0;34m)\u001b[0m\u001b[0;34m:\u001b[0m\u001b[0;34m\u001b[0m\u001b[0;34m\u001b[0m\u001b[0m\n",
      "\u001b[0;32m~/anaconda3/lib/python3.7/site-packages/pandas/core/reshape/concat.py\u001b[0m in \u001b[0;36mconcat\u001b[0;34m(objs, axis, join, join_axes, ignore_index, keys, levels, names, verify_integrity, sort, copy)\u001b[0m\n\u001b[1;32m    223\u001b[0m                        \u001b[0mkeys\u001b[0m\u001b[0;34m=\u001b[0m\u001b[0mkeys\u001b[0m\u001b[0;34m,\u001b[0m \u001b[0mlevels\u001b[0m\u001b[0;34m=\u001b[0m\u001b[0mlevels\u001b[0m\u001b[0;34m,\u001b[0m \u001b[0mnames\u001b[0m\u001b[0;34m=\u001b[0m\u001b[0mnames\u001b[0m\u001b[0;34m,\u001b[0m\u001b[0;34m\u001b[0m\u001b[0;34m\u001b[0m\u001b[0m\n\u001b[1;32m    224\u001b[0m                        \u001b[0mverify_integrity\u001b[0m\u001b[0;34m=\u001b[0m\u001b[0mverify_integrity\u001b[0m\u001b[0;34m,\u001b[0m\u001b[0;34m\u001b[0m\u001b[0;34m\u001b[0m\u001b[0m\n\u001b[0;32m--> 225\u001b[0;31m                        copy=copy, sort=sort)\n\u001b[0m\u001b[1;32m    226\u001b[0m     \u001b[0;32mreturn\u001b[0m \u001b[0mop\u001b[0m\u001b[0;34m.\u001b[0m\u001b[0mget_result\u001b[0m\u001b[0;34m(\u001b[0m\u001b[0;34m)\u001b[0m\u001b[0;34m\u001b[0m\u001b[0;34m\u001b[0m\u001b[0m\n\u001b[1;32m    227\u001b[0m \u001b[0;34m\u001b[0m\u001b[0m\n",
      "\u001b[0;32m~/anaconda3/lib/python3.7/site-packages/pandas/core/reshape/concat.py\u001b[0m in \u001b[0;36m__init__\u001b[0;34m(self, objs, axis, join, join_axes, keys, levels, names, ignore_index, verify_integrity, copy, sort)\u001b[0m\n\u001b[1;32m    284\u001b[0m                        \u001b[0;34m' only pd.Series, pd.DataFrame, and pd.Panel'\u001b[0m\u001b[0;34m\u001b[0m\u001b[0;34m\u001b[0m\u001b[0m\n\u001b[1;32m    285\u001b[0m                        ' (deprecated) objs are valid'.format(type(obj)))\n\u001b[0;32m--> 286\u001b[0;31m                 \u001b[0;32mraise\u001b[0m \u001b[0mTypeError\u001b[0m\u001b[0;34m(\u001b[0m\u001b[0mmsg\u001b[0m\u001b[0;34m)\u001b[0m\u001b[0;34m\u001b[0m\u001b[0;34m\u001b[0m\u001b[0m\n\u001b[0m\u001b[1;32m    287\u001b[0m \u001b[0;34m\u001b[0m\u001b[0m\n\u001b[1;32m    288\u001b[0m             \u001b[0;31m# consolidate\u001b[0m\u001b[0;34m\u001b[0m\u001b[0;34m\u001b[0m\u001b[0;34m\u001b[0m\u001b[0m\n",
      "\u001b[0;31mTypeError\u001b[0m: cannot concatenate object of type \"<class 'float'>\"; only pd.Series, pd.DataFrame, and pd.Panel (deprecated) objs are valid"
     ]
    }
   ],
   "source": [
    "# Ausgeben\n",
    "baseline_alg_classify_bee()\n",
    "bee_moves = pd.DataFrame(data=bee_moves)\n",
    "bee_moves"
   ]
  },
  {
   "cell_type": "markdown",
   "metadata": {},
   "source": [
    "# Vergleichsfunktion Algorithmus mit Labels"
   ]
  },
  {
   "cell_type": "code",
   "execution_count": null,
   "metadata": {
    "ExecuteTime": {
     "end_time": "2019-03-07T16:56:31.597175Z",
     "start_time": "2019-03-07T16:56:31.580421Z"
    }
   },
   "outputs": [],
   "source": [
    "# gelabelted Datensatz einlesen:\n",
    "labeled_data = pd.read_csv(\"labels.csv\")\n",
    "labeled_data = labeled_data.filter([\"bee_id\", \"video\", \"in_direction\", \"out_direction\"])\n",
    "\n",
    "# nur ein Video betrachten:\n",
    "#labeled_data = labeled_data[labeled_data[\"video\"] == \"e00_2018-08-19-12-34-35.h264\"].drop(columns=[\"video\"])\n",
    "\n",
    "# Vergleichen\n",
    "\n",
    "for bee_id in results[\"bee_id\"]:\n",
    "    if results[bee_id] in labeled_data[\"bee_id\"]:\n",
    "        if results[bee_id]\n",
    "    "
   ]
  },
  {
   "cell_type": "markdown",
   "metadata": {
    "ExecuteTime": {
     "end_time": "2019-03-07T16:40:52.696458Z",
     "start_time": "2019-03-07T16:40:52.688866Z"
    }
   },
   "source": [
    "# Compare-Algorithm"
   ]
  },
  {
   "cell_type": "code",
   "execution_count": 191,
   "metadata": {},
   "outputs": [],
   "source": [
    "\"\"\" \n",
    "Precondition:\n",
    "Fetch computed data and GroundTruthData from generated csv files and store in dictionaries.\n",
    "\"\"\"\n",
    "\n",
    "# read data from GroundTruthData.csv files\n",
    "import csv\n",
    "# use Dictionary to store data we want to compare\n",
    "dicManually = {} # key - List\n",
    "dicAutomated = {} # key - List\n",
    "\n",
    "# fetching data from MaschineLearnedData.csv file \n",
    "with open(\"MaschineLearnedData.csv\", \"r\") as testFile:\n",
    "    \"\"\" fetch all data from csv file to store in dicAutomated for better search and use \"\"\"\n",
    "    reader = csv.DictReader(testFile)\n",
    "    for row in reader:\n",
    "        # store video in dicAutomated\n",
    "        if not (row['video'] in dicAutomated):\n",
    "            # add video to dic with his bees\n",
    "            dicAutomated[row['video']] = [[row['bee_id'], row['in_direction'], row['out_direction'], row['timestamp_in'], row['timestamp_out']]]\n",
    "        else:\n",
    "            #add other bees to the video key\n",
    "            dicAutomated[row['video']].append([row['bee_id'], row['in_direction'], row['out_direction'], row['timestamp_in'], row['timestamp_out']])\n",
    "\n",
    "# fetching data from GroundTruthData.csv\n",
    "with open(\"GroundTruthData.csv\", \"r\") as testFile:\n",
    "    \"\"\" fetch all data from csv file to store in diManually for better search and use \"\"\"\n",
    "    reader = csv.DictReader(testFile)\n",
    "    for row in reader:\n",
    "        # check row has an bee_id -> if nor go to next row\n",
    "        if (row['bee_id'] != \"\"):\n",
    "            # store video in dicManually \n",
    "            if not (row['video'] in dicManually):\n",
    "                # add video to dic with his bees\n",
    "                dicManually[row['video']] = [[row['bee_id'], row['in_direction'], row['out_direction'], row['timestamp_in'], row['timestamp_out']]]\n",
    "            else:\n",
    "                #add other bees to the video key\n",
    "                dicManually[row['video']].append([row['bee_id'], row['in_direction'], row['out_direction'], row['timestamp_in'], row['timestamp_out']])\n",
    "        else:\n",
    "            continue\n",
    "            "
   ]
  },
  {
   "cell_type": "code",
   "execution_count": 192,
   "metadata": {},
   "outputs": [],
   "source": [
    "\"\"\" Compare input of MaschineLearnedData.csv with GroundTruthData.csv to get just compareable tracks \"\"\"\n",
    "\n",
    "# delete values which are not included in dicAutomated\n",
    "for msData in list(dicManually):\n",
    "    if not (msData in dicAutomated):\n",
    "        dicManually.pop(msData)\n",
    "        \n",
    "# delete values which are noch included in dicManually\n",
    "for msData in list(dicAutomated):\n",
    "    if not (msData in dicManually):\n",
    "        dicAutomated.pop(msData)"
   ]
  },
  {
   "cell_type": "markdown",
   "metadata": {},
   "source": [
    "\"\"\" print video-match \"\"\" \n",
    "print(len(dicManually))\n",
    "print(len(dicAutomated))\n"
   ]
  },
  {
   "cell_type": "code",
   "execution_count": 178,
   "metadata": {},
   "outputs": [],
   "source": [
    "# method to print result to csv\n",
    "def insertCSV(video, bee, mboolean):\n",
    "    attache = 'a'\n",
    "    if not (os.path.isfile('./result.csv')):\n",
    "        attache = 'w'\n",
    "        \n",
    "    with open('result.csv', attache) as csvfile:\n",
    "        filewriter = csv.writer(csvfile, delimiter=',',\n",
    "                                quotechar='|', quoting=csv.QUOTE_MINIMAL)\n",
    "        filewriter.writerow([bee_moves['video'], bee_moves['bee_id'], mboolean])"
   ]
  },
  {
   "cell_type": "code",
   "execution_count": 193,
   "metadata": {},
   "outputs": [
    {
     "name": "stdout",
     "output_type": "stream",
     "text": [
      "100.0 % correctness\n"
     ]
    }
   ],
   "source": [
    "\"\"\" compare data of both dictionaries \"\"\"\n",
    "# take key of dicAutomated as long as it has a value -> if empty list: delete key from dic\n",
    "# kompare key value with key value of dicManually + delete compared key-value of both dic's\n",
    "\n",
    "_correctMatches = 0\n",
    "_allMatches = 0\n",
    "\n",
    "for bee in list(dicAutomated):\n",
    "    while dicAutomated[bee] != []:       \n",
    "        # find data in dicManually and compare data before delete in dicManually\n",
    "        _allMatches += 1\n",
    "        currAutVal = dicAutomated[bee][0]\n",
    "        currManVal = []\n",
    "        \n",
    "        # loop through dicManually Value to find bee_id\n",
    "        inside = False\n",
    "        for beeid in list(dicManually[bee]):\n",
    "            if (beeid[0] == currAutVal[0]):\n",
    "                inside = True\n",
    "                currManVal = beeid\n",
    "                # start to compare\n",
    "                if (currAutVal[1] == currManVal[1] and currAutVal[2] == currManVal[2]):\n",
    "                        _correctMatches += 1\n",
    "                \n",
    "                \n",
    "        if (inside == False):    \n",
    "            print('Error: No matching bee found!')\n",
    "                \n",
    "        #print(currManVal, \" \\n \" , currAutVal, \"\\n\\n\") # comparable data\n",
    "        del dicAutomated[bee][0]\n",
    "    dicAutomated.pop(bee)\n",
    "    \n",
    "try:\n",
    "    print(_correctMatches / _allMatches * 100, \"% correctness\")\n",
    "except ZeroDivisionError:\n",
    "    print(\"nothing to comp\")\n",
    "    "
   ]
  },
  {
   "cell_type": "code",
   "execution_count": null,
   "metadata": {},
   "outputs": [],
   "source": []
  }
 ],
 "metadata": {
  "kernelspec": {
   "display_name": "Python 3",
   "language": "python",
   "name": "python3"
  },
  "language_info": {
   "codemirror_mode": {
    "name": "ipython",
    "version": 3
   },
   "file_extension": ".py",
   "mimetype": "text/x-python",
   "name": "python",
   "nbconvert_exporter": "python",
   "pygments_lexer": "ipython3",
   "version": "3.7.1"
  },
  "toc": {
   "nav_menu": {},
   "number_sections": true,
   "sideBar": true,
   "skip_h1_title": false,
   "title_cell": "Table of Contents",
   "title_sidebar": "Contents",
   "toc_cell": false,
   "toc_position": {},
   "toc_section_display": true,
   "toc_window_display": true
  },
  "varInspector": {
   "cols": {
    "lenName": 16,
    "lenType": 16,
    "lenVar": 40
   },
   "kernels_config": {
    "python": {
     "delete_cmd_postfix": "",
     "delete_cmd_prefix": "del ",
     "library": "var_list.py",
     "varRefreshCmd": "print(var_dic_list())"
    },
    "r": {
     "delete_cmd_postfix": ") ",
     "delete_cmd_prefix": "rm(",
     "library": "var_list.r",
     "varRefreshCmd": "cat(var_dic_list()) "
    }
   },
   "types_to_exclude": [
    "module",
    "function",
    "builtin_function_or_method",
    "instance",
    "_Feature"
   ],
   "window_display": false
  }
 },
 "nbformat": 4,
 "nbformat_minor": 2
}
