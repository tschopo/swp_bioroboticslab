{
 "cells": [
  {
   "cell_type": "markdown",
   "metadata": {},
   "source": [
    "# Vorbereitung"
   ]
  },
  {
   "cell_type": "code",
   "execution_count": 26,
   "metadata": {
    "ExecuteTime": {
     "end_time": "2019-03-12T12:55:51.699984Z",
     "start_time": "2019-03-12T12:55:51.694339Z"
    }
   },
   "outputs": [
    {
     "name": "stdout",
     "output_type": "stream",
     "text": [
      "env: KERAS_BACKEND=theano\n",
      "env: THEANO_FLAGS=floatX=float32,device=cpu\n"
     ]
    }
   ],
   "source": [
    "%env KERAS_BACKEND=theano\n",
    "%env THEANO_FLAGS=floatX=float32,device=cpu"
   ]
  },
  {
   "cell_type": "code",
   "execution_count": 27,
   "metadata": {
    "ExecuteTime": {
     "end_time": "2019-03-12T12:55:57.840698Z",
     "start_time": "2019-03-12T12:55:52.119567Z"
    }
   },
   "outputs": [
    {
     "name": "stdout",
     "output_type": "stream",
     "text": [
      "The autoreload extension is already loaded. To reload it, use:\n",
      "  %reload_ext autoreload\n"
     ]
    }
   ],
   "source": [
    "%load_ext autoreload\n",
    "%autoreload 1\n",
    "%aimport bb_behavior\n",
    "%aimport bb_behavior.plot\n",
    "%aimport bb_behavior.tracking\n",
    "%aimport bb_behavior.tracking.pipeline\n",
    "\n",
    "import bb_behavior\n",
    "import bb_behavior.plot\n",
    "import bb_behavior.tracking\n",
    "import bb_behavior.tracking.pipeline\n",
    "\n",
    "import pandas as pd\n",
    "import time\n",
    "import datetime"
   ]
  },
  {
   "cell_type": "markdown",
   "metadata": {},
   "source": [
    "# Preprocessing"
   ]
  },
  {
   "cell_type": "markdown",
   "metadata": {},
   "source": [
    "## Preprocessing step 1: convert the h264 to mp4"
   ]
  },
  {
   "cell_type": "raw",
   "metadata": {
    "ExecuteTime": {
     "end_time": "2019-03-05T11:35:18.876868Z",
     "start_time": "2019-03-05T11:35:18.867601Z"
    }
   },
   "source": [
    "import glob\n",
    "import os\n",
    "import subprocess\n",
    "\n",
    "videos = \"../videos/videos_tags/videos_tags_mp4\"\n",
    "\n",
    "if not os.path.exists(videos):\n",
    "    os.mkdir(videos)"
   ]
  },
  {
   "cell_type": "raw",
   "metadata": {
    "ExecuteTime": {
     "end_time": "2019-03-05T11:36:36.214043Z",
     "start_time": "2019-03-05T11:36:36.028355Z"
    }
   },
   "source": [
    "for video in glob.glob(os.path.join('../videos/videos_tags/', '*.h264')):  \n",
    "    path = os.path.split(video)   \n",
    "    video_mp4 = os.path.join(path[0],\"videos_tags_mp4\",os.path.splitext(path[1])[0] + '.mp4')\n",
    "\n",
    "    print(video_mp4)\n",
    "    subprocess.call(['ffmpeg', '-framerate', '2', '-fflags', '+genpts', '-i', video, '-c', 'copy', video_mp4])\n",
    "    break"
   ]
  },
  {
   "cell_type": "markdown",
   "metadata": {},
   "source": [
    "## Run"
   ]
  },
  {
   "cell_type": "code",
   "execution_count": 28,
   "metadata": {
    "ExecuteTime": {
     "end_time": "2019-03-12T12:56:14.847034Z",
     "start_time": "2019-03-12T12:55:57.843950Z"
    }
   },
   "outputs": [
    {
     "name": "stderr",
     "output_type": "stream",
     "text": [
      "/Users/ronnyruhe/.local/lib/python3.7/site-packages/keras/backend/theano_backend.py:1032: UserWarning: DEPRECATION: the 'ds' parameter is not going to exist anymore as it is going to be replaced by the parameter 'ws'.\n",
      "  mode='max')\n",
      "/Users/ronnyruhe/.local/lib/python3.7/site-packages/keras/backend/theano_backend.py:1032: UserWarning: DEPRECATION: the 'st' parameter is not going to exist anymore as it is going to be replaced by the parameter 'stride'.\n",
      "  mode='max')\n",
      "/Users/ronnyruhe/.local/lib/python3.7/site-packages/keras/backend/theano_backend.py:1032: UserWarning: DEPRECATION: the 'padding' parameter is not going to exist anymore as it is going to be replaced by the parameter 'pad'.\n",
      "  mode='max')\n"
     ]
    }
   ],
   "source": [
    "from bb_behavior.tracking.pipeline import get_default_pipeline\n",
    "default_pipeline = None\n",
    "default_pipeline = get_default_pipeline(localizer_threshold=\"0.50\")"
   ]
  },
  {
   "cell_type": "code",
   "execution_count": 29,
   "metadata": {
    "ExecuteTime": {
     "end_time": "2019-03-12T12:56:14.875416Z",
     "start_time": "2019-03-12T12:56:14.851197Z"
    }
   },
   "outputs": [],
   "source": [
    "from tqdm import tqdm_notebook # progress bar\n",
    "\n",
    "import math\n",
    "import numpy as np\n",
    "from bb_tracking.data.constants import DETKEY\n",
    "#from bb_tracking.tracking import score_id_sim_v\n",
    "from bb_tracking.tracking import distance_orientations_v, distance_positions_v\n",
    "\n",
    "from bb_behavior.tracking.pipeline import detect_markers_in_video\n",
    "from bb_behavior.tracking.pipeline import track_detections_dataframe\n",
    "from bb_behavior.tracking.pipeline import display_tracking_results"
   ]
  },
  {
   "cell_type": "code",
   "execution_count": 30,
   "metadata": {
    "ExecuteTime": {
     "end_time": "2019-03-12T12:56:14.887993Z",
     "start_time": "2019-03-12T12:56:14.877693Z"
    }
   },
   "outputs": [],
   "source": [
    "config = dict(tag_pixel_diameter=50,\n",
    "              n_frames=None,\n",
    "              confidence_filter_detections=0.08,\n",
    "              confidence_filter_tracks=0.20,\n",
    "              coordinate_scale=1.0,\n",
    "              start_time=None,\n",
    "              fps=10.0,\n",
    "              cam_id=0,\n",
    "              left_leaving_area = 0.30, # Prozente vom Bildschirmrand, zB. bei 1000px und 0.15 -> 0-150px\n",
    "              right_leaving_area = 0.30,\n",
    "              px_x_resolution_vid = 1944)\n"
   ]
  },
  {
   "cell_type": "code",
   "execution_count": 31,
   "metadata": {
    "ExecuteTime": {
     "end_time": "2019-03-12T12:56:14.895799Z",
     "start_time": "2019-03-12T12:56:14.890025Z"
    }
   },
   "outputs": [],
   "source": [
    "import time\n",
    "import os\n",
    "\n",
    "def filename_to_datestring(filname):\n",
    "    \"\"\"\n",
    "    filename can be path\n",
    "    \"\"\"\n",
    "    return os.path.split(filname)[-1].split('.')[0].split('_')[1]\n",
    "\n",
    "\n",
    "def string_to_timestamp(datestring):\n",
    "    \"\"\" \n",
    "    params\n",
    "        string: format 2018-08-19-01-08-13\n",
    "    output\n",
    "        unix timestamp (float)\n",
    "    \"\"\"\n",
    "    \n",
    "    return time.mktime(time.strptime(datestring, \"%Y-%m-%d-%H-%M-%S\"))\n",
    "\n",
    "def timestamp_to_string(timestamp):\n",
    "    return time.strftime(\"%Y-%m-%d-%H-%M-%S\", time.localtime(timestamp))"
   ]
  },
  {
   "cell_type": "code",
   "execution_count": 32,
   "metadata": {
    "ExecuteTime": {
     "end_time": "2019-03-12T12:56:35.162492Z",
     "start_time": "2019-03-12T12:56:35.154848Z"
    }
   },
   "outputs": [],
   "source": [
    "# Einen Iterable speichern, der alle Videos in einem Iterable zur Verfügung stellt\n",
    "# Diesen Iterable können wir dann in der nächsten Zelle mit tqdm schön durchlaufen\n",
    "# nicht sehr performant --> O(n)\n",
    "import os\n",
    "base_directory = \"../videos/\"\n",
    "paths = [i for i in os.listdir(base_directory) if i.endswith(\".h264\")]\n",
    "for i in range(len(paths)):\n",
    "    paths[i] = base_directory + paths[i]"
   ]
  },
  {
   "cell_type": "code",
   "execution_count": 33,
   "metadata": {
    "ExecuteTime": {
     "end_time": "2019-03-12T12:57:03.454375Z",
     "start_time": "2019-03-12T12:56:35.410004Z"
    },
    "scrolled": false
   },
   "outputs": [
    {
     "data": {
      "application/vnd.jupyter.widget-view+json": {
       "model_id": "08b9af4b836a407eb2d432f405a7cddb",
       "version_major": 2,
       "version_minor": 0
      },
      "text/plain": [
       "HBox(children=(IntProgress(value=0, max=1), HTML(value='')))"
      ]
     },
     "metadata": {},
     "output_type": "display_data"
    },
    {
     "data": {
      "application/vnd.jupyter.widget-view+json": {
       "model_id": "6313298733354950a50a7b2bd682b7f8",
       "version_major": 2,
       "version_minor": 0
      },
      "text/plain": [
       "HBox(children=(IntProgress(value=1, bar_style='info', max=1), HTML(value='')))"
      ]
     },
     "metadata": {},
     "output_type": "display_data"
    },
    {
     "name": "stderr",
     "output_type": "stream",
     "text": [
      "/Users/ronnyruhe/anaconda3/lib/python3.7/site-packages/sklearn/base.py:251: UserWarning: Trying to unpickle estimator StandardScaler from version 0.20.0 when using version 0.20.1. This might lead to breaking code or invalid results. Use at your own risk.\n",
      "  UserWarning)\n",
      "/Users/ronnyruhe/anaconda3/lib/python3.7/site-packages/sklearn/base.py:251: UserWarning: Trying to unpickle estimator LinearSVC from version 0.20.0 when using version 0.20.1. This might lead to breaking code or invalid results. Use at your own risk.\n",
      "  UserWarning)\n",
      "/Users/ronnyruhe/anaconda3/lib/python3.7/site-packages/sklearn/base.py:251: UserWarning: Trying to unpickle estimator Pipeline from version 0.20.0 when using version 0.20.1. This might lead to breaking code or invalid results. Use at your own risk.\n",
      "  UserWarning)\n",
      "/Users/ronnyruhe/anaconda3/lib/python3.7/site-packages/sklearn/base.py:251: UserWarning: Trying to unpickle estimator DecisionTreeClassifier from version 0.20.0 when using version 0.20.1. This might lead to breaking code or invalid results. Use at your own risk.\n",
      "  UserWarning)\n",
      "/Users/ronnyruhe/anaconda3/lib/python3.7/site-packages/sklearn/base.py:251: UserWarning: Trying to unpickle estimator RandomForestClassifier from version 0.20.0 when using version 0.20.1. This might lead to breaking code or invalid results. Use at your own risk.\n",
      "  UserWarning)\n"
     ]
    }
   ],
   "source": [
    "# Hier passiert das eigentliche Tracken und speichern der Ergebnisse:\n",
    "num_processed_videos = 0\n",
    "video_data = dict()\n",
    "frame_info = None\n",
    "detections = None\n",
    "bad_paths = []\n",
    "videos_w_no_detection = \"\"\n",
    "\n",
    "\n",
    "for path in tqdm_notebook(paths):\n",
    "    start_time = config[\"start_time\"]\n",
    "    cam_id = config[\"cam_id\"]\n",
    "    try:\n",
    "        num_processed_videos += 1\n",
    "\n",
    "        frame_info, detections = detect_markers_in_video(path,\n",
    "                                                      decoder_pipeline=default_pipeline,#pipeline=pipelines(),\n",
    "                                                     tag_pixel_diameter=config[\"tag_pixel_diameter\"],\n",
    "                                                      n_frames=config[\"n_frames\"],\n",
    "                                                      fps=config[\"fps\"],\n",
    "                                                     progress=\"tqdm_notebook\"\n",
    "                                            )\n",
    "        tracks = track_detections_dataframe(detections,\n",
    "                                            tracker=\"tracker.det_score_fun.frag_score_fun.dill\",\n",
    "                                            confidence_filter_detections=config[\"confidence_filter_detections\"],\n",
    "                                           confidence_filter_tracks=config[\"confidence_filter_tracks\"],\n",
    "                                            coordinate_scale=config[\"coordinate_scale\"]\n",
    "                                           )\n",
    "        date_string = filename_to_datestring(path)\n",
    "        tracks['video'] = date_string\n",
    "        video_data[path] = (frame_info, detections, tracks)\n",
    "    except ValueError as err: #tritt auf, wenn Video leer ist. In diesem Fall: überspringe video\n",
    "        try:\n",
    "            videos_w_no_detection = videos_w_no_detection + path + \"\\n\"\n",
    "            bad_paths.append(path)\n",
    "            # wir arbeiten später nochmal mit paths, daher müssen das leere löschen, weil sonst\n",
    "            # in video_data kein zugehöriger Value zu Key = file zu finden ist.\n",
    "        except KeyError as err:\n",
    "            continue\n",
    "    except Exception as err:\n",
    "        print(err)\n",
    "        raise\n",
    "    # only first vid: break\n",
    "\n",
    "for bad_path in bad_paths:\n",
    "    paths.remove(bad_path)"
   ]
  },
  {
   "cell_type": "code",
   "execution_count": 34,
   "metadata": {
    "ExecuteTime": {
     "end_time": "2019-03-11T15:17:04.504985Z",
     "start_time": "2019-03-11T15:17:04.499459Z"
    },
    "code_folding": []
   },
   "outputs": [],
   "source": [
    "#gebe Videos aus, in denen keine Bienen gefunden wurden\n",
    "if videos_w_no_detection:\n",
    "    print(\"In the following file(s) were no bees detected:\")\n",
    "    print(videos_w_no_detection)"
   ]
  },
  {
   "cell_type": "code",
   "execution_count": 35,
   "metadata": {
    "ExecuteTime": {
     "end_time": "2019-03-12T10:15:41.612570Z",
     "start_time": "2019-03-12T10:15:37.134171Z"
    },
    "scrolled": true
   },
   "outputs": [
    {
     "name": "stderr",
     "output_type": "stream",
     "text": [
      "'c' argument looks like a single numeric RGB or RGBA sequence, which should be avoided as value-mapping will have precedence in case its length matches with 'x' & 'y'.  Please use a 2-D array with a single row if you really want to specify the same RGB or RGBA value for all points.\n"
     ]
    },
    {
     "name": "stdout",
     "output_type": "stream",
     "text": [
      "Found 40 detections belonging to 1 unique tracks and 1 individuals.\n"
     ]
    },
    {
     "data": {
      "image/png": "[encoded data removed]",
      "text/plain": [
       "<Figure size 864x864 with 1 Axes>"
      ]
     },
     "metadata": {
      "needs_background": "light"
     },
     "output_type": "display_data"
    },
    {
     "name": "stdout",
     "output_type": "stream",
     "text": [
      "Detection/track statistics:\n"
     ]
    },
    {
     "data": {
      "image/png": "[encoded data removed]",
      "text/plain": [
       "<Figure size 864x144 with 1 Axes>"
      ]
     },
     "metadata": {
      "needs_background": "light"
     },
     "output_type": "display_data"
    },
    {
     "data": {
      "image/png": "[encoded data removed]",
      "text/plain": [
       "<Figure size 864x144 with 1 Axes>"
      ]
     },
     "metadata": {
      "needs_background": "light"
     },
     "output_type": "display_data"
    },
    {
     "data": {
      "image/png": "[encoded data removed]",
      "text/plain": [
       "<Figure size 864x144 with 1 Axes>"
      ]
     },
     "metadata": {
      "needs_background": "light"
     },
     "output_type": "display_data"
    },
    {
     "data": {
      "image/png": "[encoded data removed]",
      "text/plain": [
       "<Figure size 864x144 with 2 Axes>"
      ]
     },
     "metadata": {
      "needs_background": "light"
     },
     "output_type": "display_data"
    },
    {
     "name": "stdout",
     "output_type": "stream",
     "text": [
      "Individual statistics:\n"
     ]
    },
    {
     "ename": "ModuleNotFoundError",
     "evalue": "No module named 'cairocffi'",
     "output_type": "error",
     "traceback": [
      "\u001b[0;31m---------------------------------------------------------------------------\u001b[0m",
      "\u001b[0;31mModuleNotFoundError\u001b[0m                       Traceback (most recent call last)",
      "\u001b[0;32m<ipython-input-35-245056d33a8f>\u001b[0m in \u001b[0;36m<module>\u001b[0;34m\u001b[0m\n\u001b[1;32m      1\u001b[0m \u001b[0;31m#video_data[\"file\"][0] --> frame-info, [1] --> detections, [2] --> tracks\u001b[0m\u001b[0;34m\u001b[0m\u001b[0;34m\u001b[0m\u001b[0;34m\u001b[0m\u001b[0m\n\u001b[1;32m      2\u001b[0m \u001b[0;32mfor\u001b[0m \u001b[0mpath\u001b[0m \u001b[0;32min\u001b[0m \u001b[0mpaths\u001b[0m\u001b[0;34m:\u001b[0m\u001b[0;34m\u001b[0m\u001b[0;34m\u001b[0m\u001b[0m\n\u001b[0;32m----> 3\u001b[0;31m     \u001b[0mdisplay_tracking_results\u001b[0m\u001b[0;34m(\u001b[0m\u001b[0mpath\u001b[0m\u001b[0;34m,\u001b[0m \u001b[0mvideo_data\u001b[0m\u001b[0;34m[\u001b[0m\u001b[0mpath\u001b[0m\u001b[0;34m]\u001b[0m\u001b[0;34m[\u001b[0m\u001b[0;36m0\u001b[0m\u001b[0;34m]\u001b[0m\u001b[0;34m,\u001b[0m \u001b[0mvideo_data\u001b[0m\u001b[0;34m[\u001b[0m\u001b[0mpath\u001b[0m\u001b[0;34m]\u001b[0m\u001b[0;34m[\u001b[0m\u001b[0;36m1\u001b[0m\u001b[0;34m]\u001b[0m\u001b[0;34m,\u001b[0m \u001b[0mvideo_data\u001b[0m\u001b[0;34m[\u001b[0m\u001b[0mpath\u001b[0m\u001b[0;34m]\u001b[0m\u001b[0;34m[\u001b[0m\u001b[0;36m2\u001b[0m\u001b[0;34m]\u001b[0m\u001b[0;34m)\u001b[0m\u001b[0;34m\u001b[0m\u001b[0;34m\u001b[0m\u001b[0m\n\u001b[0m",
      "\u001b[0;32m~/.local/lib/python3.7/site-packages/bb_behavior/tracking/pipeline.py\u001b[0m in \u001b[0;36mdisplay_tracking_results\u001b[0;34m(path, frame_info, detections, tracks, image, fig_width)\u001b[0m\n\u001b[1;32m    592\u001b[0m         \u001b[0max\u001b[0m\u001b[0;34m.\u001b[0m\u001b[0mset_xlim\u001b[0m\u001b[0;34m(\u001b[0m\u001b[0;36m0\u001b[0m\u001b[0;34m,\u001b[0m \u001b[0mtracks\u001b[0m\u001b[0;34m.\u001b[0m\u001b[0mframeIdx\u001b[0m\u001b[0;34m.\u001b[0m\u001b[0mmax\u001b[0m\u001b[0;34m(\u001b[0m\u001b[0;34m)\u001b[0m\u001b[0;34m)\u001b[0m\u001b[0;34m\u001b[0m\u001b[0;34m\u001b[0m\u001b[0m\n\u001b[1;32m    593\u001b[0m         \u001b[0mplt\u001b[0m\u001b[0;34m.\u001b[0m\u001b[0mtitle\u001b[0m\u001b[0;34m(\u001b[0m\u001b[0;34m\"Individual {} ({} different tracks)\"\u001b[0m\u001b[0;34m.\u001b[0m\u001b[0mformat\u001b[0m\u001b[0;34m(\u001b[0m\u001b[0mbee_id\u001b[0m\u001b[0;34m,\u001b[0m \u001b[0mtrack_count\u001b[0m\u001b[0;34m)\u001b[0m\u001b[0;34m)\u001b[0m\u001b[0;34m\u001b[0m\u001b[0;34m\u001b[0m\u001b[0m\n\u001b[0;32m--> 594\u001b[0;31m         \u001b[0mdraw_ferwar_id_on_axis\u001b[0m\u001b[0;34m(\u001b[0m\u001b[0mbee_id\u001b[0m\u001b[0;34m,\u001b[0m \u001b[0max2\u001b[0m\u001b[0;34m)\u001b[0m\u001b[0;34m\u001b[0m\u001b[0;34m\u001b[0m\u001b[0m\n\u001b[0m\u001b[1;32m    595\u001b[0m         \u001b[0mplt\u001b[0m\u001b[0;34m.\u001b[0m\u001b[0mtight_layout\u001b[0m\u001b[0;34m(\u001b[0m\u001b[0;34m)\u001b[0m\u001b[0;34m\u001b[0m\u001b[0;34m\u001b[0m\u001b[0m\n\u001b[1;32m    596\u001b[0m         \u001b[0mplt\u001b[0m\u001b[0;34m.\u001b[0m\u001b[0mshow\u001b[0m\u001b[0;34m(\u001b[0m\u001b[0;34m)\u001b[0m\u001b[0;34m\u001b[0m\u001b[0;34m\u001b[0m\u001b[0m\n",
      "\u001b[0;32m~/.local/lib/python3.7/site-packages/bb_behavior/plot/misc.py\u001b[0m in \u001b[0;36mdraw_ferwar_id_on_axis\u001b[0;34m(ID, ax)\u001b[0m\n\u001b[1;32m      7\u001b[0m \u001b[0;34m\u001b[0m\u001b[0m\n\u001b[1;32m      8\u001b[0m     \u001b[0mID\u001b[0m \u001b[0;34m=\u001b[0m \u001b[0mbb_utils\u001b[0m\u001b[0;34m.\u001b[0m\u001b[0mids\u001b[0m\u001b[0;34m.\u001b[0m\u001b[0mBeesbookID\u001b[0m\u001b[0;34m.\u001b[0m\u001b[0mfrom_ferwar\u001b[0m\u001b[0;34m(\u001b[0m\u001b[0mID\u001b[0m\u001b[0;34m)\u001b[0m\u001b[0;34m\u001b[0m\u001b[0;34m\u001b[0m\u001b[0m\n\u001b[0;32m----> 9\u001b[0;31m     \u001b[0mpng\u001b[0m \u001b[0;34m=\u001b[0m \u001b[0mbb_utils\u001b[0m\u001b[0;34m.\u001b[0m\u001b[0mvisualization\u001b[0m\u001b[0;34m.\u001b[0m\u001b[0mTagArtist\u001b[0m\u001b[0;34m(\u001b[0m\u001b[0;34m)\u001b[0m\u001b[0;34m.\u001b[0m\u001b[0mdraw\u001b[0m\u001b[0;34m(\u001b[0m\u001b[0mID\u001b[0m\u001b[0;34m.\u001b[0m\u001b[0mas_bb_binary\u001b[0m\u001b[0;34m(\u001b[0m\u001b[0;34m)\u001b[0m\u001b[0;34m)\u001b[0m\u001b[0;34m\u001b[0m\u001b[0;34m\u001b[0m\u001b[0m\n\u001b[0m\u001b[1;32m     10\u001b[0m     \u001b[0mpng\u001b[0m \u001b[0;34m=\u001b[0m \u001b[0mio\u001b[0m\u001b[0;34m.\u001b[0m\u001b[0mBytesIO\u001b[0m\u001b[0;34m(\u001b[0m\u001b[0mpng\u001b[0m\u001b[0;34m)\u001b[0m\u001b[0;34m\u001b[0m\u001b[0;34m\u001b[0m\u001b[0m\n\u001b[1;32m     11\u001b[0m     \u001b[0mim\u001b[0m \u001b[0;34m=\u001b[0m \u001b[0mskimage\u001b[0m\u001b[0;34m.\u001b[0m\u001b[0mio\u001b[0m\u001b[0;34m.\u001b[0m\u001b[0mimread\u001b[0m\u001b[0;34m(\u001b[0m\u001b[0mpng\u001b[0m\u001b[0;34m)\u001b[0m\u001b[0;34m\u001b[0m\u001b[0;34m\u001b[0m\u001b[0m\n",
      "\u001b[0;32m~/.local/lib/python3.7/site-packages/bb_utils/visualization.py\u001b[0m in \u001b[0;36mdraw\u001b[0;34m(self, bits_12)\u001b[0m\n\u001b[1;32m     20\u001b[0m \u001b[0;34m\u001b[0m\u001b[0m\n\u001b[1;32m     21\u001b[0m     \u001b[0;32mdef\u001b[0m \u001b[0mdraw\u001b[0m\u001b[0;34m(\u001b[0m\u001b[0mself\u001b[0m\u001b[0;34m,\u001b[0m \u001b[0mbits_12\u001b[0m\u001b[0;34m)\u001b[0m\u001b[0;34m:\u001b[0m\u001b[0;34m\u001b[0m\u001b[0;34m\u001b[0m\u001b[0m\n\u001b[0;32m---> 22\u001b[0;31m         \u001b[0;32mimport\u001b[0m \u001b[0mcairocffi\u001b[0m \u001b[0;32mas\u001b[0m \u001b[0mcairo\u001b[0m\u001b[0;34m\u001b[0m\u001b[0;34m\u001b[0m\u001b[0m\n\u001b[0m\u001b[1;32m     23\u001b[0m \u001b[0;34m\u001b[0m\u001b[0m\n\u001b[1;32m     24\u001b[0m         \u001b[0mbits\u001b[0m \u001b[0;34m=\u001b[0m \u001b[0mnp\u001b[0m\u001b[0;34m.\u001b[0m\u001b[0mroll\u001b[0m\u001b[0;34m(\u001b[0m\u001b[0mbits_12\u001b[0m\u001b[0;34m,\u001b[0m \u001b[0;34m-\u001b[0m\u001b[0;36m3\u001b[0m\u001b[0;34m)\u001b[0m\u001b[0;34m\u001b[0m\u001b[0;34m\u001b[0m\u001b[0m\n",
      "\u001b[0;31mModuleNotFoundError\u001b[0m: No module named 'cairocffi'"
     ]
    },
    {
     "data": {
      "image/png": "[encoded data removed]",
      "text/plain": [
       "<Figure size 864x144 with 3 Axes>"
      ]
     },
     "metadata": {
      "needs_background": "light"
     },
     "output_type": "display_data"
    }
   ],
   "source": [
    "#video_data[\"file\"][0] --> frame-info, [1] --> detections, [2] --> tracks\n",
    "for path in paths:\n",
    "    display_tracking_results(path, video_data[path][0], video_data[path][1], video_data[path][2])"
   ]
  },
  {
   "cell_type": "code",
   "execution_count": null,
   "metadata": {
    "ExecuteTime": {
     "end_time": "2019-03-12T10:18:19.349392Z",
     "start_time": "2019-03-12T10:18:19.283158Z"
    }
   },
   "outputs": [],
   "source": [
    "video_data[paths[0]][2]"
   ]
  },
  {
   "cell_type": "markdown",
   "metadata": {},
   "source": [
    "# Modify data to default for all Algorithms / Save detection to .csv"
   ]
  },
  {
   "cell_type": "code",
   "execution_count": 36,
   "metadata": {
    "ExecuteTime": {
     "end_time": "2019-03-12T12:57:29.922421Z",
     "start_time": "2019-03-12T12:57:29.911512Z"
    }
   },
   "outputs": [],
   "source": [
    "tracks = [video_data[paths[x]][2] for x in range(len(paths))]\n",
    "tracks = pd.concat(tracks,ignore_index=True)\n",
    "tracks = tracks.drop(columns=[\"localizerSaliency\", \"beeID\", \"camID\", \"frameIdx\"])"
   ]
  },
  {
   "cell_type": "code",
   "execution_count": 37,
   "metadata": {
    "ExecuteTime": {
     "end_time": "2019-03-12T12:57:30.678426Z",
     "start_time": "2019-03-12T12:57:30.669257Z"
    }
   },
   "outputs": [],
   "source": [
    "with open(\"tracks.csv\", \"w\") as f:\n",
    "    tracks.to_csv(f)"
   ]
  },
  {
   "cell_type": "code",
   "execution_count": null,
   "metadata": {
    "ExecuteTime": {
     "end_time": "2019-03-12T12:57:31.261331Z",
     "start_time": "2019-03-12T12:57:31.224668Z"
    }
   },
   "outputs": [],
   "source": [
    "tracks"
   ]
  },
  {
   "cell_type": "code",
   "execution_count": 72,
   "metadata": {
    "ExecuteTime": {
     "end_time": "2019-03-12T12:57:47.115982Z",
     "start_time": "2019-03-12T12:57:47.110163Z"
    }
   },
   "outputs": [],
   "source": [
    "# ERGEBNIS-DICT, kann mit pd.DataFrame(data=bee_moves) in DataFrame gewandelt werden\n",
    "# \"bee_id\":[int], \"time_in\":[String], \"os_in\":[Float], \"time_out\":[String],\n",
    "# \"os_out\":[Float], \"in_direction\":[{\"left\", \"right\"}], \"out_direction\":[{\"left\", \"right\"}]\n",
    "bee_moves = {\"bee_id\":[], \"time_in\":[], \"os_in\":[], \"time_out\":[], \"os_out\":[], \"in_direction\":[], \"out_direction\":[]}"
   ]
  },
  {
   "cell_type": "markdown",
   "metadata": {},
   "source": [
    "# Algorithmus 1: Baseline"
   ]
  },
  {
   "cell_type": "code",
   "execution_count": 73,
   "metadata": {
    "ExecuteTime": {
     "end_time": "2019-03-12T12:57:50.095605Z",
     "start_time": "2019-03-12T12:57:50.065523Z"
    },
    "code_folding": []
   },
   "outputs": [],
   "source": [
    "from math import pi\n",
    "import csv\n",
    "\"\"\" Vorgehen:\n",
    "Für jedes Video\n",
    "- Prüfe, wo sich die Biene beim ersten erkannten Erscheinen aufhält\n",
    "    - Ordne die Position in left, right oder middle ein\n",
    "- Prüfe, wo sich die Biene beim letzten erkannten Erscheinen aufhält\n",
    "    - Ordne die Position in left, right oder middle ein\n",
    "Wenn sich Biene in der Mitte befindet, starte neue Routine, die links oder rechts zuordnet\n",
    "Daraus kann nun abgeleitet werden, wo die Biene reingekommen ist und wo sie rausgegangen ist.\n",
    "\"\"\"\n",
    "\n",
    "# Routine, wenn Biene in der Mitte\n",
    "# Betrachte zRotation, das ist die Richtung in die die Biene guckt (in Bogenmaß)\n",
    "# gebe diese Richtung aus\n",
    "def middle_classifier(zRotation):\n",
    "    if zRotation > abs(pi/2):\n",
    "        return \"left\"\n",
    "    else:\n",
    "        return \"right\"\n",
    "\n",
    "def baseline_alg_classify_bee():\n",
    "    video_groups = tracks.groupby([\"video\"])\n",
    "    for group_name, df_group in video_groups:\n",
    "        movement = dict()\n",
    "        recording_begin = group_name\n",
    "\n",
    "        # Finde start- und endposition\n",
    "        for row in df_group.itertuples():\n",
    "            bee_id = row[9]\n",
    "            xpos = row[2]\n",
    "            ypos = row[3]\n",
    "            zRotation = row[4]\n",
    "            timestamp = row[5]\n",
    "\n",
    "            if bee_id in movement.keys():\n",
    "                if not movement[bee_id]: #hier wird value betrachtet\n",
    "                    # Aufbau movement[bee_id] = \n",
    "                    # [(xpos_anfang, ypos_anfang), (xpos_ende, ypos_ende), time_in bzw. time_out, os_in, os_out, z_start, z_end]\n",
    "                    movement[bee_id] = [(xpos, ypos), (xpos, ypos), recording_begin, timestamp, timestamp, zRotation, zRotation]\n",
    "                else: #spätere detection in Video -> aktualisiere\n",
    "                    movement[bee_id][1] = (xpos, ypos)\n",
    "                    movement[bee_id][4] = timestamp\n",
    "                    movement[bee_id][6] = zRotation\n",
    "            else:\n",
    "                movement[bee_id] = [(xpos, ypos), (xpos, ypos), recording_begin, timestamp, timestamp, zRotation, zRotation]\n",
    "\n",
    "        def is_left(xpos):\n",
    "            return xpos <= config[\"left_leaving_area\"]*config[\"px_x_resolution_vid\"]\n",
    "        def is_right(xpos):\n",
    "            return xpos >= config[\"px_x_resolution_vid\"] - config[\"right_leaving_area\"]*config[\"px_x_resolution_vid\"]\n",
    "\n",
    "        # Setze labels, entferne andere Daten\n",
    "        for bee_id in movement.keys():\n",
    "            start_pos = movement[bee_id][0]\n",
    "            end_pos = movement[bee_id][1]\n",
    "            z_start = movement[bee_id][-2]\n",
    "            z_end = movement[bee_id][-1]\n",
    "            labels = dict()\n",
    "\n",
    "            # Eintrittsseite festlegen\n",
    "            if is_left(start_pos[0]):\n",
    "                labels[\"in_direction\"] = \"left\"\n",
    "            elif is_right(start_pos[0]):\n",
    "                labels[\"in_direction\"] = \"right\"\n",
    "            else:\n",
    "                labels[\"in_direction\"] = middle_classifier(z_start)\n",
    "\n",
    "            # Austrittsseite festlegen\n",
    "            if is_left(end_pos[0]):\n",
    "                labels[\"out_direction\"] = \"left\"\n",
    "            elif is_right(end_pos[0]):\n",
    "                labels[\"out_direction\"] = \"right\"\n",
    "            else:\n",
    "                labels[\"out_direction\"] = middle_classifier(z_end)\n",
    "\n",
    "            bee_moves[\"bee_id\"].append(bee_id)\n",
    "            bee_moves[\"in_direction\"].append(labels[\"in_direction\"])\n",
    "            bee_moves[\"out_direction\"].append(labels[\"out_direction\"])\n",
    "            bee_moves[\"time_in\"].append(movement[bee_id][2])\n",
    "            bee_moves[\"time_out\"].append(movement[bee_id][2])\n",
    "            bee_moves[\"os_in\"].append(movement[bee_id][3])\n",
    "            bee_moves[\"os_out\"].append(movement[bee_id][4])\n",
    "                        "
   ]
  },
  {
   "cell_type": "code",
   "execution_count": 67,
   "metadata": {},
   "outputs": [],
   "source": []
  },
  {
   "cell_type": "code",
   "execution_count": 74,
   "metadata": {
    "ExecuteTime": {
     "end_time": "2019-03-12T12:57:50.909426Z",
     "start_time": "2019-03-12T12:57:50.886143Z"
    }
   },
   "outputs": [
    {
     "data": {
      "text/html": [
       "<div>\n",
       "<style scoped>\n",
       "    .dataframe tbody tr th:only-of-type {\n",
       "        vertical-align: middle;\n",
       "    }\n",
       "\n",
       "    .dataframe tbody tr th {\n",
       "        vertical-align: top;\n",
       "    }\n",
       "\n",
       "    .dataframe thead th {\n",
       "        text-align: right;\n",
       "    }\n",
       "</style>\n",
       "<table border=\"1\" class=\"dataframe\">\n",
       "  <thead>\n",
       "    <tr style=\"text-align: right;\">\n",
       "      <th></th>\n",
       "      <th>bee_id</th>\n",
       "      <th>time_in</th>\n",
       "      <th>os_in</th>\n",
       "      <th>time_out</th>\n",
       "      <th>os_out</th>\n",
       "      <th>in_direction</th>\n",
       "      <th>out_direction</th>\n",
       "    </tr>\n",
       "  </thead>\n",
       "  <tbody>\n",
       "    <tr>\n",
       "      <th>0</th>\n",
       "      <td>1337.0</td>\n",
       "      <td>2018-08-19-17-42-21</td>\n",
       "      <td>0.4</td>\n",
       "      <td>2018-08-19-17-42-21</td>\n",
       "      <td>2.1</td>\n",
       "      <td>right</td>\n",
       "      <td>left</td>\n",
       "    </tr>\n",
       "  </tbody>\n",
       "</table>\n",
       "</div>"
      ],
      "text/plain": [
       "   bee_id              time_in  os_in             time_out  os_out  \\\n",
       "0  1337.0  2018-08-19-17-42-21    0.4  2018-08-19-17-42-21     2.1   \n",
       "\n",
       "  in_direction out_direction  \n",
       "0        right          left  "
      ]
     },
     "execution_count": 74,
     "metadata": {},
     "output_type": "execute_result"
    }
   ],
   "source": [
    "# Ausgeben\n",
    "baseline_alg_classify_bee()\n",
    "bee_moves = pd.DataFrame(data=bee_moves)\n",
    "# write to MaschineLearnedData.csv\n",
    "bee_moves.to_csv('MaschineLearnedData.csv', encoding='utf-8', index=False)\n",
    "bee_moves\n",
    " "
   ]
  },
  {
   "cell_type": "markdown",
   "metadata": {},
   "source": [
    "# Vergleichsfunktion Algorithmus mit Labels"
   ]
  },
  {
   "cell_type": "code",
   "execution_count": null,
   "metadata": {
    "ExecuteTime": {
     "end_time": "2019-03-07T16:56:31.597175Z",
     "start_time": "2019-03-07T16:56:31.580421Z"
    }
   },
   "outputs": [],
   "source": [
    "# gelabelted Datensatz einlesen:\n",
    "labeled_data = pd.read_csv(\"labels.csv\")\n",
    "labeled_data = labeled_data.filter([\"bee_id\", \"video\", \"in_direction\", \"out_direction\"])\n",
    "\n",
    "# nur ein Video betrachten:\n",
    "#labeled_data = labeled_data[labeled_data[\"video\"] == \"e00_2018-08-19-12-34-35.h264\"].drop(columns=[\"video\"])\n",
    "\n",
    "# Vergleichen\n",
    "\n",
    "for bee_id in results[\"bee_id\"]:\n",
    "    if results[bee_id] in labeled_data[\"bee_id\"]:\n",
    "        if results[bee_id]\n",
    "    "
   ]
  },
  {
   "cell_type": "code",
   "execution_count": null,
   "metadata": {
    "ExecuteTime": {
     "end_time": "2019-03-07T16:40:52.696458Z",
     "start_time": "2019-03-07T16:40:52.688866Z"
    }
   },
   "outputs": [],
   "source": []
  },
  {
   "cell_type": "code",
   "execution_count": null,
   "metadata": {},
   "outputs": [],
   "source": []
  }
 ],
 "metadata": {
  "kernelspec": {
   "display_name": "Python 3",
   "language": "python",
   "name": "python3"
  },
  "language_info": {
   "codemirror_mode": {
    "name": "ipython",
    "version": 3
   },
   "file_extension": ".py",
   "mimetype": "text/x-python",
   "name": "python",
   "nbconvert_exporter": "python",
   "pygments_lexer": "ipython3",
   "version": "3.7.1"
  },
  "toc": {
   "nav_menu": {},
   "number_sections": true,
   "sideBar": true,
   "skip_h1_title": false,
   "title_cell": "Table of Contents",
   "title_sidebar": "Contents",
   "toc_cell": false,
   "toc_position": {},
   "toc_section_display": true,
   "toc_window_display": true
  },
  "varInspector": {
   "cols": {
    "lenName": 16,
    "lenType": 16,
    "lenVar": 40
   },
   "kernels_config": {
    "python": {
     "delete_cmd_postfix": "",
     "delete_cmd_prefix": "del ",
     "library": "var_list.py",
     "varRefreshCmd": "print(var_dic_list())"
    },
    "r": {
     "delete_cmd_postfix": ") ",
     "delete_cmd_prefix": "rm(",
     "library": "var_list.r",
     "varRefreshCmd": "cat(var_dic_list()) "
    }
   },
   "types_to_exclude": [
    "module",
    "function",
    "builtin_function_or_method",
    "instance",
    "_Feature"
   ],
   "window_display": false
  }
 },
 "nbformat": 4,
 "nbformat_minor": 2
}
