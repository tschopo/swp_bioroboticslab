{
 "cells": [
  {
   "cell_type": "markdown",
   "metadata": {},
   "source": [
    "# Vorbereitung"
   ]
  },
  {
   "cell_type": "code",
   "execution_count": null,
   "metadata": {
    "ExecuteTime": {
     "end_time": "2019-03-11T15:15:03.398224Z",
     "start_time": "2019-03-11T15:15:03.393242Z"
    }
   },
   "outputs": [],
   "source": [
    "%env KERAS_BACKEND=theano\n",
    "%env THEANO_FLAGS=floatX=float32,device=cpu"
   ]
  },
  {
   "cell_type": "code",
   "execution_count": null,
   "metadata": {
    "ExecuteTime": {
     "end_time": "2019-03-11T15:15:08.792517Z",
     "start_time": "2019-03-11T15:15:03.557506Z"
    }
   },
   "outputs": [],
   "source": [
    "%load_ext autoreload\n",
    "%autoreload 1\n",
    "%aimport bb_behavior\n",
    "%aimport bb_behavior.plot\n",
    "%aimport bb_behavior.tracking\n",
    "%aimport bb_behavior.tracking.pipeline\n",
    "\n",
    "import bb_behavior\n",
    "import bb_behavior.plot\n",
    "import bb_behavior.tracking\n",
    "import bb_behavior.tracking.pipeline\n",
    "\n",
    "import pandas as pd\n",
    "import time\n",
    "import datetime"
   ]
  },
  {
   "cell_type": "markdown",
   "metadata": {},
   "source": [
    "# Preprocessing"
   ]
  },
  {
   "cell_type": "markdown",
   "metadata": {},
   "source": [
    "## Preprocessing step 1: convert the h264 to mp4"
   ]
  },
  {
   "cell_type": "raw",
   "metadata": {
    "ExecuteTime": {
     "end_time": "2019-03-05T11:35:18.876868Z",
     "start_time": "2019-03-05T11:35:18.867601Z"
    }
   },
   "source": [
    "import glob\n",
    "import os\n",
    "import subprocess\n",
    "\n",
    "videos = \"../videos/videos_tags/videos_tags_mp4\"\n",
    "\n",
    "if not os.path.exists(videos):\n",
    "    os.mkdir(videos)"
   ]
  },
  {
   "cell_type": "raw",
   "metadata": {
    "ExecuteTime": {
     "end_time": "2019-03-05T11:36:36.214043Z",
     "start_time": "2019-03-05T11:36:36.028355Z"
    }
   },
   "source": [
    "for video in glob.glob(os.path.join('../videos/videos_tags/', '*.h264')):  \n",
    "    path = os.path.split(video)   \n",
    "    video_mp4 = os.path.join(path[0],\"videos_tags_mp4\",os.path.splitext(path[1])[0] + '.mp4')\n",
    "\n",
    "    print(video_mp4)\n",
    "    subprocess.call(['ffmpeg', '-framerate', '2', '-fflags', '+genpts', '-i', video, '-c', 'copy', video_mp4])\n",
    "    break"
   ]
  },
  {
   "cell_type": "markdown",
   "metadata": {},
   "source": [
    "## Run"
   ]
  },
  {
   "cell_type": "code",
   "execution_count": null,
   "metadata": {
    "ExecuteTime": {
     "end_time": "2019-03-11T15:15:26.790651Z",
     "start_time": "2019-03-11T15:15:08.796181Z"
    }
   },
   "outputs": [],
   "source": [
    "from bb_behavior.tracking.pipeline import get_default_pipeline\n",
    "default_pipeline = None\n",
    "default_pipeline = get_default_pipeline(localizer_threshold=\"0.50\")"
   ]
  },
  {
   "cell_type": "code",
   "execution_count": null,
   "metadata": {
    "ExecuteTime": {
     "end_time": "2019-03-11T15:15:26.811202Z",
     "start_time": "2019-03-11T15:15:26.792873Z"
    }
   },
   "outputs": [],
   "source": [
    "from tqdm import tqdm_notebook # progress bar\n",
    "\n",
    "import math\n",
    "import numpy as np\n",
    "from bb_tracking.data.constants import DETKEY\n",
    "#from bb_tracking.tracking import score_id_sim_v\n",
    "from bb_tracking.tracking import distance_orientations_v, distance_positions_v\n",
    "\n",
    "from bb_behavior.tracking.pipeline import detect_markers_in_video\n",
    "from bb_behavior.tracking.pipeline import track_detections_dataframe\n",
    "from bb_behavior.tracking.pipeline import display_tracking_results"
   ]
  },
  {
   "cell_type": "code",
   "execution_count": null,
   "metadata": {
    "ExecuteTime": {
     "end_time": "2019-03-11T15:15:26.828717Z",
     "start_time": "2019-03-11T15:15:26.820638Z"
    }
   },
   "outputs": [],
   "source": [
    "config = dict(tag_pixel_diameter=50,\n",
    "              n_frames=None,\n",
    "              confidence_filter_detections=0.08,\n",
    "              confidence_filter_tracks=0.20,\n",
    "              coordinate_scale=1.0,\n",
    "              start_time=None,\n",
    "              fps=10.0,\n",
    "              cam_id=0,\n",
    "              left_leaving_area = 0.30, # Prozente vom Bildschirmrand, zB. bei 1000px und 0.15 -> 0-150px\n",
    "              right_leaving_area = 0.30,\n",
    "              px_x_resolution_vid = 1944)\n"
   ]
  },
  {
   "cell_type": "code",
   "execution_count": null,
   "metadata": {
    "ExecuteTime": {
     "end_time": "2019-03-11T15:15:26.837880Z",
     "start_time": "2019-03-11T15:15:26.831685Z"
    }
   },
   "outputs": [],
   "source": [
    "import time\n",
    "import os\n",
    "\n",
    "def filename_to_datestring(filname):\n",
    "    \"\"\"\n",
    "    filename can be path\n",
    "    \"\"\"\n",
    "    return os.path.split(filname)[-1].split('.')[0].split('_')[1]\n",
    "\n",
    "\n",
    "def string_to_timestamp(datestring):\n",
    "    \"\"\" \n",
    "    params\n",
    "        string: format 2018-08-19-01-08-13\n",
    "    output\n",
    "        unix timestamp (float)\n",
    "    \"\"\"\n",
    "    \n",
    "    return time.mktime(time.strptime(datestring, \"%Y-%m-%d-%H-%M-%S\"))\n",
    "\n",
    "def timestamp_to_string(timestamp):\n",
    "    return time.strftime(\"%Y-%m-%d-%H-%M-%S\", time.localtime(timestamp))"
   ]
  },
  {
   "cell_type": "code",
   "execution_count": null,
   "metadata": {
    "ExecuteTime": {
     "end_time": "2019-03-11T15:15:26.845325Z",
     "start_time": "2019-03-11T15:15:26.839822Z"
    }
   },
   "outputs": [],
   "source": [
    "# Einen Iterable speichern, der alle Videos in einem Iterable zur Verfügung stellt\n",
    "# Diesen Iterable können wir dann in der nächsten Zelle mit tqdm schön durchlaufen\n",
    "# nicht sehr performant --> O(n)\n",
    "import os\n",
    "base_directory = \"../videos/\"\n",
    "paths = [i for i in os.listdir(base_directory) if i.endswith(\".h264\")]\n",
    "for i in range(len(paths)):\n",
    "    paths[i] = base_directory + paths[i]"
   ]
  },
  {
   "cell_type": "code",
   "execution_count": null,
   "metadata": {
    "ExecuteTime": {
     "end_time": "2019-03-11T15:16:54.187996Z",
     "start_time": "2019-03-11T15:15:26.847504Z"
    },
    "scrolled": false
   },
   "outputs": [],
   "source": [
    "# Hier passiert das eigentliche Tracken und speichern der Ergebnisse:\n",
    "num_processed_videos = 0\n",
    "video_data = dict()\n",
    "frame_info = None\n",
    "detections = None\n",
    "videos_w_no_detection = \"\"\n",
    "\n",
    "\n",
    "for path in tqdm_notebook(paths):\n",
    "    start_time = config[\"start_time\"]\n",
    "    cam_id = config[\"cam_id\"]\n",
    "    try:\n",
    "        num_processed_videos += 1\n",
    "\n",
    "        frame_info, detections = detect_markers_in_video(path,\n",
    "                                                      decoder_pipeline=default_pipeline,#pipeline=pipelines(),\n",
    "                                                     tag_pixel_diameter=config[\"tag_pixel_diameter\"],\n",
    "                                                      n_frames=config[\"n_frames\"],\n",
    "                                                      fps=config[\"fps\"],\n",
    "                                                     progress=\"tqdm_notebook\"\n",
    "                                            )\n",
    "        tracks = track_detections_dataframe(detections,\n",
    "                                            tracker=\"tracker.det_score_fun.frag_score_fun.dill\",\n",
    "                                            confidence_filter_detections=config[\"confidence_filter_detections\"],\n",
    "                                           confidence_filter_tracks=config[\"confidence_filter_tracks\"],\n",
    "                                            coordinate_scale=config[\"coordinate_scale\"]\n",
    "                                           )\n",
    "        date_string = filename_to_datestring(path)\n",
    "        tracks['video'] = date_string\n",
    "        video_data[path] = (frame_info, detections, tracks)\n",
    "    except ValueError as err: #tritt auf, wenn Video leer ist. In diesem Fall: überspringe video\n",
    "        try:\n",
    "            videos_w_no_detection = videos_w_no_detection + path + \"\\n\"\n",
    "            paths.remove(path)\n",
    "            # wir arbeiten später nochmal mit paths, daher müssen das leere löschen, weil sonst\n",
    "            # in video_data kein zugehöriger Value zu Key = file zu finden ist.\n",
    "        except KeyError as err:\n",
    "            continue\n",
    "    except Exception as err:\n",
    "        print(err)\n",
    "        raise\n",
    "    # only first vid: break"
   ]
  },
  {
   "cell_type": "code",
   "execution_count": null,
   "metadata": {
    "ExecuteTime": {
     "end_time": "2019-03-11T15:17:04.504985Z",
     "start_time": "2019-03-11T15:17:04.499459Z"
    },
    "code_folding": []
   },
   "outputs": [],
   "source": [
    "#gebe Videos aus, in denen keine Bienen gefunden wurden\n",
    "if videos_w_no_detection:\n",
    "    print(\"In the following file(s) were no bees detected:\")\n",
    "    print(videos_w_no_detection)"
   ]
  },
  {
   "cell_type": "code",
   "execution_count": null,
   "metadata": {
    "ExecuteTime": {
     "end_time": "2019-03-11T17:40:24.559631Z",
     "start_time": "2019-03-11T17:40:16.434004Z"
    },
    "scrolled": true
   },
   "outputs": [],
   "source": [
    "#video_data[\"file\"][0] --> frame-info, [1] --> detections, [2] --> tracks\n",
    "for path in paths:\n",
    "    display_tracking_results(path, video_data[path][0], video_data[path][1], video_data[path][2])"
   ]
  },
  {
   "cell_type": "markdown",
   "metadata": {},
   "source": [
    "# Modify data to default for all Algorithms / Save detection to .csv"
   ]
  },
  {
   "cell_type": "code",
   "execution_count": null,
   "metadata": {
    "ExecuteTime": {
     "end_time": "2019-03-11T15:17:49.820687Z",
     "start_time": "2019-03-11T15:17:49.799126Z"
    }
   },
   "outputs": [],
   "source": [
    "tracks = [video_data[paths[x]][2] for x in range(len(paths))]\n",
    "tracks = pd.concat(tracks,ignore_index=True)\n",
    "tracks = tracks.drop(columns=[\"localizerSaliency\", \"beeID\", \"camID\", \"frameIdx\"])"
   ]
  },
  {
   "cell_type": "code",
   "execution_count": null,
   "metadata": {
    "ExecuteTime": {
     "end_time": "2019-03-11T15:17:50.600781Z",
     "start_time": "2019-03-11T15:17:50.590040Z"
    }
   },
   "outputs": [],
   "source": [
    "with open(\"tracks.csv\", \"w\") as f:\n",
    "    tracks.to_csv(f)"
   ]
  },
  {
   "cell_type": "code",
   "execution_count": null,
   "metadata": {
    "ExecuteTime": {
     "end_time": "2019-03-11T15:17:51.239668Z",
     "start_time": "2019-03-11T15:17:51.193035Z"
    }
   },
   "outputs": [],
   "source": [
    "tracks"
   ]
  },
  {
   "cell_type": "code",
   "execution_count": null,
   "metadata": {
    "ExecuteTime": {
     "end_time": "2019-03-11T17:47:41.151445Z",
     "start_time": "2019-03-11T17:47:41.144410Z"
    }
   },
   "outputs": [],
   "source": [
    "# ERGEBNIS-DICT, kann mit pd.DataFrame(data=bee_moves) in DataFrame gewandelt werden\n",
    "bee_moves = {\"bee_id\":[], \"time_in\":[], \"os_in\":[], \"time_out\":[], \"os_out\":[], \"in_direction\":[], \"out_direction\":[]}"
   ]
  },
  {
   "cell_type": "markdown",
   "metadata": {},
   "source": [
    "# Algorithmus 1: Baseline"
   ]
  },
  {
   "cell_type": "code",
   "execution_count": null,
   "metadata": {
    "ExecuteTime": {
     "end_time": "2019-03-11T17:47:42.739954Z",
     "start_time": "2019-03-11T17:47:42.723377Z"
    },
    "code_folding": []
   },
   "outputs": [],
   "source": [
    "\"\"\" Vorgehen:\n",
    "Für jedes Video\n",
    "- Prüfe, wo sich die Biene beim ersten erkannten Erscheinen aufhält\n",
    "    - Ordne die Position in left, right oder middle ein\n",
    "- Prüfe, wo sich die Biene beim letzten erkannten Erscheinen aufhält\n",
    "    - Ordne die Position in left, right oder middle ein\n",
    "Daraus kann nun abgeleitet werden, wo die Biene reingekommen ist und wo sie rausgegangen ist\n",
    "\"\"\"\n",
    "\n",
    "def baseline_alg_classify_bee():\n",
    "    video_groups = tracks.groupby([\"video\"])\n",
    "    for group_name, df_group in video_groups:\n",
    "        movement = dict()\n",
    "        recording_begin = group_name\n",
    "\n",
    "        # Finde start- und endposition\n",
    "        for row in df_group.itertuples():\n",
    "            bee_id = row[9]\n",
    "            xpos = row[2]\n",
    "            ypos = row[3]\n",
    "            timestamp = row[5]\n",
    "\n",
    "            if bee_id in movement.keys():\n",
    "                if not movement[bee_id]: #hier wird value betrachtet\n",
    "                    # Aufbau movement[bee_id] = \n",
    "                    # [(xpos_anfang, ypos_anfang), (xpos_ende, ypos_ende), time_in bzw. time_out, os_in, os_out]\n",
    "                    movement[bee_id] = [(xpos, ypos), (xpos, ypos), recording_begin, timestamp, timestamp]\n",
    "                else: #spätere detection in Video -> aktualisiere\n",
    "                    movement[bee_id][1] = (xpos, ypos)\n",
    "                    movement[bee_id][-1] = timestamp\n",
    "            else:\n",
    "                movement[bee_id] = [(xpos, ypos), (xpos, ypos), recording_begin, timestamp, timestamp]\n",
    "\n",
    "        def is_left(xpos):\n",
    "            return xpos <= config[\"left_leaving_area\"]*config[\"px_x_resolution_vid\"]\n",
    "        def is_right(xpos):\n",
    "            return xpos >= config[\"px_x_resolution_vid\"] - config[\"right_leaving_area\"]*config[\"px_x_resolution_vid\"]\n",
    "\n",
    "        # Setze labels, entferne andere Daten\n",
    "        for bee_id in movement.keys():\n",
    "            start_pos = movement[bee_id][0]\n",
    "            end_pos = movement[bee_id][1]\n",
    "            labels = dict()\n",
    "\n",
    "            # Eintrittsseite festlegen\n",
    "            if is_left(start_pos[0]):\n",
    "                labels[\"in_direction\"] = \"left\"\n",
    "            elif is_right(start_pos[0]):\n",
    "                labels[\"in_direction\"] = \"right\"\n",
    "            else:\n",
    "                labels[\"in_direction\"] = \"middle\"\n",
    "\n",
    "            # Austrittsseite festlegen\n",
    "            if is_left(end_pos[0]):\n",
    "                labels[\"out_direction\"] = \"left\"\n",
    "            elif is_right(end_pos[0]):\n",
    "                labels[\"out_direction\"] = \"right\"\n",
    "            else:\n",
    "                labels[\"out_direction\"] = \"middle\"\n",
    "\n",
    "            bee_moves[\"bee_id\"].append(bee_id)\n",
    "            bee_moves[\"in_direction\"].append(labels[\"in_direction\"])\n",
    "            bee_moves[\"out_direction\"].append(labels[\"out_direction\"])\n",
    "            bee_moves[\"time_in\"].append(movement[bee_id][2])\n",
    "            bee_moves[\"time_out\"].append(movement[bee_id][2])\n",
    "            bee_moves[\"os_in\"].append(movement[bee_id][3])\n",
    "            bee_moves[\"os_out\"].append(movement[bee_id][4])"
   ]
  },
  {
   "cell_type": "code",
   "execution_count": null,
   "metadata": {
    "ExecuteTime": {
     "end_time": "2019-03-11T17:47:43.966820Z",
     "start_time": "2019-03-11T17:47:43.927564Z"
    }
   },
   "outputs": [],
   "source": [
    "# Ausgeben\n",
    "baseline_alg_classify_bee()\n",
    "bee_moves = pd.DataFrame(data=bee_moves)\n",
    "bee_moves"
   ]
  },
  {
   "cell_type": "markdown",
   "metadata": {},
   "source": [
    "# Vergleichsfunktion Algorithmus mit Labels"
   ]
  },
  {
   "cell_type": "code",
   "execution_count": null,
   "metadata": {
    "ExecuteTime": {
     "end_time": "2019-03-07T16:56:31.597175Z",
     "start_time": "2019-03-07T16:56:31.580421Z"
    }
   },
   "outputs": [],
   "source": [
    "# gelabelted Datensatz einlesen:\n",
    "labeled_data = pd.read_csv(\"labels.csv\")\n",
    "labeled_data = labeled_data.filter([\"bee_id\", \"video\", \"in_direction\", \"out_direction\"])\n",
    "\n",
    "# nur ein Video betrachten:\n",
    "#labeled_data = labeled_data[labeled_data[\"video\"] == \"e00_2018-08-19-12-34-35.h264\"].drop(columns=[\"video\"])\n",
    "\n",
    "# Vergleichen\n",
    "\n",
    "for bee_id in results[\"bee_id\"]:\n",
    "    if results[bee_id] in labeled_data[\"bee_id\"]:\n",
    "        if results[bee_id]\n",
    "    "
   ]
  },
  {
   "cell_type": "code",
   "execution_count": null,
   "metadata": {
    "ExecuteTime": {
     "end_time": "2019-03-07T16:40:52.696458Z",
     "start_time": "2019-03-07T16:40:52.688866Z"
    }
   },
   "outputs": [],
   "source": []
  },
  {
   "cell_type": "code",
   "execution_count": null,
   "metadata": {},
   "outputs": [],
   "source": []
  }
 ],
 "metadata": {
  "kernelspec": {
   "display_name": "Python 3",
   "language": "python",
   "name": "python3"
  },
  "language_info": {
   "codemirror_mode": {
    "name": "ipython",
    "version": 3
   },
   "file_extension": ".py",
   "mimetype": "text/x-python",
   "name": "python",
   "nbconvert_exporter": "python",
   "pygments_lexer": "ipython3",
   "version": "3.7.1"
  },
  "toc": {
   "nav_menu": {},
   "number_sections": true,
   "sideBar": true,
   "skip_h1_title": false,
   "title_cell": "Table of Contents",
   "title_sidebar": "Contents",
   "toc_cell": false,
   "toc_position": {},
   "toc_section_display": true,
   "toc_window_display": true
  },
  "varInspector": {
   "cols": {
    "lenName": 16,
    "lenType": 16,
    "lenVar": 40
   },
   "kernels_config": {
    "python": {
     "delete_cmd_postfix": "",
     "delete_cmd_prefix": "del ",
     "library": "var_list.py",
     "varRefreshCmd": "print(var_dic_list())"
    },
    "r": {
     "delete_cmd_postfix": ") ",
     "delete_cmd_prefix": "rm(",
     "library": "var_list.r",
     "varRefreshCmd": "cat(var_dic_list()) "
    }
   },
   "types_to_exclude": [
    "module",
    "function",
    "builtin_function_or_method",
    "instance",
    "_Feature"
   ],
   "window_display": false
  }
 },
 "nbformat": 4,
 "nbformat_minor": 2
}
